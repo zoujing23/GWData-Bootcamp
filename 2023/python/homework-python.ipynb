{
 "cells": [
  {
   "cell_type": "markdown",
   "id": "d74c7688-c4ba-4f3c-bc5c-0bdd74c49f74",
   "metadata": {},
   "source": [
    "# Python 练习作业\n",
    "\n",
    "\n",
    "这份练习作业旨在帮助初学者熟悉Python编程，并包含了涵盖函数、字符串、运算符、集合、列表等基础技能的多项选择题。\n",
    "\n",
    "通过这个练习，你可以提高对Python变量赋值、类型转换、运算符和表达式、输入输出、函数、流程控制、字符串、列表、字典等方面的理解。这将有助于夯实你在Python编程中的基础知识，并为进一步的学习奠定基础。"
   ]
  },
  {
   "cell_type": "markdown",
   "id": "f4137dfe-a136-41c7-b309-fb4c4a9afd89",
   "metadata": {},
   "source": [
    "## 1. \n",
    "\n",
    "```python\n",
    "sampleSet = {\"Jodi\", \"Eric\", \"Garry\"}\n",
    "sampleSet.add(1, \"Vicki\")\n",
    "print(sampleSet)\n",
    "```\n",
    "\n",
    "上面的代码会打印出来什么？\n",
    "\n",
    "```text\n",
    "A:  {‘Vicki’, ‘Jodi’, ‘Garry’, ‘Eric’}\n",
    "B:  {‘Jodi’, ‘Vicki’, ‘Garry’, ‘Eric’}\n",
    "C:  会报错。\n",
    "```"
   ]
  },
  {
   "cell_type": "markdown",
   "id": "e13527ec-0647-4d1b-a02d-81377b4f3df4",
   "metadata": {
    "tags": []
   },
   "source": [
    "## 2.\n",
    "\n",
    "```python\n",
    "for i in range(1, 5):\n",
    "    print(i)\n",
    "else:\n",
    "    print(\"这是else块的语句\")\n",
    "```\n",
    "\n",
    "上面的for循环中\"else\"块内的代码会执行吗？\n",
    "\n",
    "\n",
    "```text\n",
    "A: 否\n",
    "B: 是\n",
    "```"
   ]
  },
  {
   "cell_type": "markdown",
   "id": "eec7b717-7559-4e39-98ee-f7cb92aee711",
   "metadata": {},
   "source": [
    "## 3.\n",
    "\n",
    "```python\n",
    "def calculate (num1, num2=4):\n",
    "    res = num1 * num2\n",
    "    print(res)\n",
    "\n",
    "calculate(5, 6)\n",
    "```\n",
    "\n",
    "上面函数的输出结果是？\n",
    "```text\n",
    "A: 20\n",
    "B: 会报错。\n",
    "C: 30\n",
    "```"
   ]
  },
  {
   "cell_type": "markdown",
   "id": "46fd034f-3f82-463a-b1ed-24ec3c1d413a",
   "metadata": {},
   "source": [
    "## 4.\n",
    "\n",
    "在以下选项中，哪个运算符具有更高的优先级？\n",
    "\n",
    "```text\n",
    "A: %（取模运算）\n",
    "B: &（位与运算）\n",
    "C: **（指数运算）\n",
    "D: >（比较运算）\n",
    "```"
   ]
  },
  {
   "cell_type": "markdown",
   "id": "7827cbe6-d141-48ee-99bd-88f0e0889a43",
   "metadata": {},
   "source": [
    "## 5.\n",
    "\n",
    "```python\n",
    "for x in range(0.5, 5.5, 0.5):\n",
    "    print(x)\n",
    "```\n",
    "\n",
    "上面代码的输出结果是？\n",
    "\n",
    "```text\n",
    "A: [0.5, 1, 1.5, 2, 2.5, 3, 3.5, 4, 4.5, 5, 5.5]\n",
    "B: [0.5, 1, 1.5, 2, 2.5, 3, 3.5, 4, 4.5, 5]\n",
    "C: 会报错\n",
    "```"
   ]
  },
  {
   "cell_type": "markdown",
   "id": "8f447309-32d0-4ac0-8576-0580ef4471c8",
   "metadata": {
    "tags": []
   },
   "source": [
    "## 6. \n",
    "\n",
    "```python\n",
    "salary = 8000\n",
    "\n",
    "def printSalary():\n",
    "    salary = 12000\n",
    "    print(\"Salary:\", salary)\n",
    "\n",
    "printSalary()\n",
    "print(\"Salary:\", salary)\n",
    "```\n",
    "\n",
    "上面代码的输出结果是？\n",
    "\n",
    "```text\n",
    "A: \n",
    "Salary: 12000 \n",
    "Salary: 8000\n",
    "\n",
    "B: \n",
    "Salary: 8000 \n",
    "Salary: 12000\n",
    "\n",
    "C: \n",
    "会报错\n",
    "```"
   ]
  },
  {
   "cell_type": "markdown",
   "id": "0460dc4b-c2fa-489f-8254-9f91b525b401",
   "metadata": {},
   "source": [
    "## 7.\n",
    "\n",
    "```python\n",
    "var = \"James\" * 2  * 3\n",
    "print(var)\n",
    "```\n",
    "\n",
    "上面代码的输出结果是？\n",
    "\n",
    "```text\n",
    "A: JamesJamesJamesJamesJamesJames\n",
    "B: JamesJamesJamesJamesJames\n",
    "C: 会报错\n",
    "```"
   ]
  },
  {
   "cell_type": "markdown",
   "id": "fcc5c225-c9b7-4a70-a674-8619ffb6d3a5",
   "metadata": {},
   "source": [
    "## 8.\n",
    "\n",
    "```python\n",
    "valueOne = 5 ** 2\n",
    "valueTwo = 5 ** 3\n",
    "\n",
    "print(valueOne)\n",
    "print(valueTwo)\n",
    "```\n",
    "\n",
    "上面代码的输出结果是？\n",
    "\n",
    "```text\n",
    "A: 10\n",
    "   15\n",
    "B: 25\n",
    "   125\n",
    "C: Error: invalid syntax\n",
    "```"
   ]
  },
  {
   "cell_type": "markdown",
   "id": "c324d841-07ee-41b5-9186-5597f1630dc8",
   "metadata": {
    "tags": []
   },
   "source": [
    "9. \n",
    "\n",
    "```python\n",
    "listOne = [20, 40, 60, 80]\n",
    "listTwo = [20, 40, 60, 80]\n",
    "\n",
    "print(listOne == listTwo)\n",
    "print(listOne is listTwo)\n",
    "```\n",
    "\n",
    "上面代码的输出结果是？\n",
    "\n",
    "```text\n",
    "A: True\n",
    "   True\n",
    "B: True\n",
    "   False\n",
    "C: False\n",
    "   True\n",
    "```"
   ]
  },
  {
   "cell_type": "markdown",
   "id": "6dea52a8-3619-4208-8417-763ebcb7550f",
   "metadata": {
    "tags": []
   },
   "source": [
    "## 10. \n",
    "\n",
    "```python\n",
    "str = \"pynative\"\n",
    "print (str[1:3])\n",
    "```\n",
    "\n",
    "上面代码的输出结果是？\n",
    "\n",
    "```text\n",
    "A: py\n",
    "B: yn\n",
    "C: pyn\n",
    "D: yna\n",
    "```"
   ]
  },
  {
   "cell_type": "markdown",
   "id": "590ef676-ac2d-4a6c-8611-e065d2695fbf",
   "metadata": {
    "tags": []
   },
   "source": [
    "## 11.\n",
    "\n",
    "```python\n",
    "p, q, r = 10, 20 ,30\n",
    "print(p, q, r)\n",
    "```\n",
    "\n",
    "上面代码的输出结果是？\n",
    "\n",
    "```text\n",
    "A: 10 20\n",
    "B: 10 20 30\n",
    "C: Error: invalid syntax\n",
    "```"
   ]
  },
  {
   "cell_type": "markdown",
   "id": "e8292382-fa4e-42a1-98e2-615825adfaa1",
   "metadata": {},
   "source": [
    "## 12.\n",
    "\n",
    "```python\n",
    "var= \"James Bond\"\n",
    "print(var[2::-1])\n",
    "```\n",
    "\n",
    "上面代码的输出结果是？\n",
    "\n",
    "```text\n",
    "A: Jam\n",
    "B: dno\n",
    "C: maJ\n",
    "D: dnoB semaJ\n",
    "```"
   ]
  },
  {
   "cell_type": "markdown",
   "id": "9dcc9421-8373-4b18-be11-74930eba9d37",
   "metadata": {
    "tags": []
   },
   "source": [
    "## 13.\n",
    "\n",
    "```python\n",
    "for i in range(10, 15, 1):\n",
    "    print( i, end=', ')\n",
    "```\n",
    "\n",
    "上面代码的输出结果是？\n",
    "\n",
    "```text\n",
    "A: 10, 11, 12, 13, 14,\n",
    "B: 10, 11, 12, 13, 14, 15,\n",
    "```\n"
   ]
  },
  {
   "cell_type": "markdown",
   "id": "741f91da-fc5c-4d8b-b774-baa0c182e9f1",
   "metadata": {},
   "source": [
    "## 14.\n",
    "\n",
    "```python\n",
    "var1 = 1\n",
    "var2 = 2\n",
    "var3 = \"3\"\n",
    "\n",
    "print(var1 + var2 + var3)\n",
    "```\n",
    "\n",
    "上面代码的输出结果是？\n",
    "\n",
    "\n",
    "```text\n",
    "A: 6\n",
    "B: 33\n",
    "C: 123\n",
    "D: Error\n",
    "```"
   ]
  },
  {
   "cell_type": "markdown",
   "id": "ae70192d-1ef3-490a-bad5-4009a3a9e0eb",
   "metadata": {},
   "source": [
    "## 15.\n",
    "\n",
    "```python\n",
    "x = 36 / 4 * (3 +  2) * 4 + 2\n",
    "print(x)\n",
    "```\n",
    "\n",
    "上面代码的输出结果是？\n",
    "\n",
    "```text\n",
    "A: 182.0\n",
    "B: 37\n",
    "C: 117\n",
    "D: The Program executed with errors\n",
    "```"
   ]
  },
  {
   "cell_type": "markdown",
   "id": "2911fa22-606d-423e-9056-83d36bb5170b",
   "metadata": {
    "tags": []
   },
   "source": [
    "## 16. \n",
    "\n",
    "```python\n",
    "sampleList = [\"Jon\", \"Kelly\", \"Jessa\"]\n",
    "sampleList.append(2, \"Scott\")\n",
    "print(sampleList)\n",
    "```\n",
    "\n",
    "上面代码的输出结果是？\n",
    "\n",
    "```text\n",
    "A: The program executed with errors\n",
    "B: [‘Jon’, ‘Kelly’, ‘Scott’, ‘Jessa’]\n",
    "C: [‘Jon’, ‘Kelly’, ‘Jessa’, ‘Scott’]\n",
    "D: [‘Jon’, ‘Scott’, ‘Kelly’, ‘Jessa’]\n",
    "```"
   ]
  },
  {
   "cell_type": "markdown",
   "id": "5ab1b060-5c9b-4dd2-bec8-6d54bf26ff24",
   "metadata": {},
   "source": [
    "## 17.\n",
    "\n",
    "每次修改字符串时，Python总是会创建一个新的字符串并将新字符串分配给该变量。\n",
    "\n",
    "```text\n",
    "A: 对\n",
    "B: 错\n",
    "```"
   ]
  },
  {
   "cell_type": "markdown",
   "id": "97b7774e-9034-4bcd-b0dd-3a16afbe7ee2",
   "metadata": {},
   "source": [
    "## 18.\n",
    "\n",
    "```python\n",
    "aTuple = (1, 'Jhon', 1+3j)\n",
    "print(type(aTuple[2:3]))\n",
    "```\n",
    "\n",
    "上面代码判断的数据类型是？\n",
    "\n",
    "```text\n",
    "A: list\n",
    "B: complex\n",
    "C: tuple\n",
    "```"
   ]
  },
  {
   "cell_type": "markdown",
   "id": "d4c305e5-f501-42ca-965d-0079494c20c8",
   "metadata": {
    "tags": []
   },
   "source": [
    "## 19.\n",
    "\n",
    "`print(type(0xFF))` 的数据类型是？\n",
    "\n",
    "```text\n",
    "A: number\n",
    "B: hexint\n",
    "C: hex\n",
    "D: int\n",
    "```"
   ]
  },
  {
   "cell_type": "markdown",
   "id": "4d0fd175-db81-48ad-ba63-ca15d9c10fca",
   "metadata": {
    "tags": []
   },
   "source": [
    "## 20.\n",
    "\n",
    "`print(type([]) is list)` 的输出结果是？\n",
    "\n",
    "```text\n",
    "A: False\n",
    "B: True\n",
    "```"
   ]
  },
  {
   "cell_type": "markdown",
   "id": "ff57519f-ca20-40aa-ae8c-3271cac2661e",
   "metadata": {},
   "source": [
    "## 21.\n",
    "\n",
    "以下合法的字符串初始化是？\n",
    "\n",
    "```text\n",
    "A: str1 = 'str1'\n",
    "   str1 = \"str1\"\n",
    "   str1 = '''str'''\n",
    "\n",
    "B: str1 = 'str1'\n",
    "   str1 = \"str1\"\"\n",
    "   str1 = '''str1''\n",
    "\n",
    "C: str1 = str(Jessa)\n",
    "```"
   ]
  },
  {
   "cell_type": "markdown",
   "id": "bb96bbc5-d729-4f3c-a465-f53632ecbdd5",
   "metadata": {},
   "source": [
    "## 22.\n",
    "\n",
    "```python\n",
    "print(bool(0), bool(3.14159), bool(-3), bool(1.0+1j))\n",
    "```\n",
    "\n",
    "上面代码的输出结果是？\n",
    "\n",
    "```text\n",
    "A: False True False True\n",
    "B: True True False True\n",
    "C: True True False True\n",
    "D: False True True True\n",
    "```"
   ]
  },
  {
   "cell_type": "markdown",
   "id": "3df3f870-1c40-4e7c-8963-ff0959281c48",
   "metadata": {},
   "source": [
    "## 23.\n",
    "\n",
    "```python\n",
    "x = 50\n",
    "def fun1():\n",
    "    x = 25\n",
    "    print(x)\n",
    "    \n",
    "fun1()\n",
    "print(x)\n",
    "```\n",
    "\n",
    "上面代码的输出结果是？\n",
    "\n",
    "```text\n",
    "A: NameError\n",
    "B: 25\n",
    "   25\n",
    "C: 25\n",
    "   50\n",
    "```"
   ]
  },
  {
   "cell_type": "markdown",
   "id": "c123f79e-eb09-477f-87ea-ff9514a214c6",
   "metadata": {},
   "source": [
    "## 24.\n",
    "\n",
    "```python\n",
    "x = 75\n",
    "def myfunc():\n",
    "    x = x + 1\n",
    "    print(x)\n",
    "\n",
    "myfunc()\n",
    "print(x)\n",
    "```\n",
    "\n",
    "上面代码的输出结果是？\n",
    "\n",
    "```text\n",
    "A: Error\n",
    "B: 76\n",
    "C: 1\n",
    "D: None\n",
    "```"
   ]
  },
  {
   "cell_type": "markdown",
   "id": "67d3700f-6b3f-4240-9090-a4b0e1bc51b8",
   "metadata": {
    "tags": []
   },
   "source": [
    "## 25.\n",
    "\n",
    "```python\n",
    "x = 50\n",
    "def fun1():\n",
    "    # your code to assign global x = 20\n",
    "fun1()\n",
    "print(x) # it should print 20\n",
    "```\n",
    "\n",
    "请选择正确的表达式，在函数 `fun1()` 中将全局变量 \"x\" 重新赋值为 20。\n",
    "\n",
    "```text\n",
    "A: global x =20\n",
    " \n",
    "B: global var x\n",
    "   x = 20\n",
    "\n",
    "C: global.x = 20\n",
    " \n",
    "D: global x\n",
    "   x = 20\n",
    "```"
   ]
  },
  {
   "cell_type": "markdown",
   "id": "1a745182-a248-429d-a7cc-604f4991dfe1",
   "metadata": {},
   "source": [
    "## 26.\n",
    "\n",
    "```python\n",
    "def func1():\n",
    "    x = 50\n",
    "    return x\n",
    "func1()\n",
    "print(x)\n",
    "```\n",
    "\n",
    "上面代码的输出结果是？\n",
    "\n",
    "```text\n",
    "A: 50\n",
    "B: NameError\n",
    "C: None\n",
    "D: 20\n",
    "```"
   ]
  },
  {
   "cell_type": "markdown",
   "id": "b1453bdc-8b7d-4e4e-9f20-78c3d19e4ed8",
   "metadata": {
    "tags": []
   },
   "source": [
    "## 27.\n",
    "\n",
    "以下哪一个可以初始化这样的字符串： `Ault'Kelly`\n",
    "\n",
    "```text\n",
    "A: str1 = 'Ault\\\\'Kelly'\n",
    "B: str1 = 'Ault\\'Kelly'\n",
    "C: str1 = \"\"\"Ault'Kelly\"\"\"\n",
    "```"
   ]
  },
  {
   "cell_type": "markdown",
   "id": "d0e2dd4c-ce8f-476c-be84-8d6e5d4e5247",
   "metadata": {
    "tags": []
   },
   "source": [
    "## 28.\n",
    "\n",
    "```python\n",
    "print(type({}) is set)\n",
    "```\n",
    "\n",
    "上面代码的输出结果是？\n",
    "\n",
    "```text\n",
    "A: True\n",
    "B: False\n",
    "```"
   ]
  },
  {
   "cell_type": "markdown",
   "id": "801899e0-a9af-4bce-8fd8-5701763cd481",
   "metadata": {},
   "source": [
    "## 29.\n",
    "\n",
    "```python\n",
    "print(2 * 3 ** 3 * 4)\n",
    "```\n",
    "\n",
    "上面代码的输出结果是？\n",
    "\n",
    "```text\n",
    "A: 216\n",
    "B: 864\n",
    "```"
   ]
  },
  {
   "cell_type": "markdown",
   "id": "46f96f51-eaa1-4fd0-8d42-af2016fe0841",
   "metadata": {
    "tags": []
   },
   "source": [
    "## 30.\n",
    "\n",
    "```python\n",
    "y = 10\n",
    "x = y += 2\n",
    "print(x)\n",
    "```\n",
    "\n",
    "上面代码的输出结果是？\n",
    "\n",
    "```text\n",
    "A: 12\n",
    "B: 10\n",
    "C: SynatxError\n",
    "```"
   ]
  },
  {
   "cell_type": "markdown",
   "id": "a1f3c33d-a742-4f13-8802-1d271e8b836d",
   "metadata": {
    "tags": []
   },
   "source": [
    "## 31.\n",
    "\n",
    "```python\n",
    "print(2%6)\n",
    "```\n",
    "\n",
    "上面代码的输出结果是？\n",
    "\n",
    "```text\n",
    "A: ValueError\n",
    "B: 0.33\n",
    "C: 2\n",
    "```"
   ]
  },
  {
   "cell_type": "markdown",
   "id": "0604843f-a97a-494e-9261-4d0eb43c7bb4",
   "metadata": {
    "tags": []
   },
   "source": [
    "## 32.\n",
    "\n",
    "```python\n",
    "print(-18 // 4)\n",
    "```\n",
    "\n",
    "上面代码的输出结果是？\n",
    "\n",
    "```text\n",
    "A: -4\n",
    "B: 4\n",
    "C: -5\n",
    "D: 5\n",
    "```"
   ]
  },
  {
   "cell_type": "markdown",
   "id": "dbec5027-f90c-4275-8d61-9310a3524c82",
   "metadata": {
    "tags": []
   },
   "source": [
    "## 33.\n",
    "\n",
    "```python\n",
    "print(2 ** 3 ** 2)\n",
    "```\n",
    "\n",
    "上面代码的输出结果是？\n",
    "\n",
    "```text\n",
    "A: 64\n",
    "B: 512\n",
    "```"
   ]
  },
  {
   "cell_type": "markdown",
   "id": "5b946d9d-ce64-41a0-8977-02ee1fef00b7",
   "metadata": {
    "tags": []
   },
   "source": [
    "## 34.\n",
    "\n",
    "```python\n",
    "x = 10\n",
    "y = 50\n",
    "if x ** 2 > 100 and y < 100:\n",
    "    print(x, y)\n",
    "```\n",
    "\n",
    "上面代码的输出结果是？\n",
    "\n",
    "\n",
    "```text\n",
    "A: 100 500\n",
    "B: 10 50\n",
    "C: None\n",
    "```"
   ]
  },
  {
   "cell_type": "markdown",
   "id": "120cc2d4-2a9f-432b-b9f1-23972d6cc077",
   "metadata": {},
   "source": [
    "## 35.\n",
    "\n",
    "```python\n",
    "x = 100\n",
    "y = 50\n",
    "print(x and y)\n",
    "```\n",
    "\n",
    "上面代码的输出结果是？\n",
    "\n",
    "```text\n",
    "A: True\n",
    "B: 100\n",
    "C: False\n",
    "D: 50\n",
    "```"
   ]
  },
  {
   "cell_type": "markdown",
   "id": "6339ceb6-1833-444e-84e9-6990faee7329",
   "metadata": {
    "tags": []
   },
   "source": [
    "## 36.\n",
    "\n",
    "Bitwise shift operators (<<, >>) has higher precedence than Bitwise And(&) operator\n",
    "\n",
    "```text\n",
    "A: False\n",
    "B: True\n",
    "```"
   ]
  },
  {
   "cell_type": "markdown",
   "id": "f20051c8-085a-409f-8ea1-edf481773242",
   "metadata": {},
   "source": [
    "## 37.\n",
    "\n",
    "```python\n",
    "a = 4\n",
    "b = 11\n",
    "print(a | b)\n",
    "print(a >> 2)\n",
    "```\n",
    "\n",
    "上面代码的输出结果是？\n",
    "\n",
    "```text\n",
    "A: 15\n",
    "   1\n",
    "B: 14\n",
    "   1\n",
    "```"
   ]
  },
  {
   "cell_type": "markdown",
   "id": "98ee0eba-8d27-4b38-96d5-82c6bcf964e1",
   "metadata": {
    "tags": []
   },
   "source": [
    "## 38.\n",
    "\n",
    "Which of the following operators has the highest precedence?\n",
    "\n",
    "```text\n",
    "A: not\n",
    "B: &\n",
    "C: *\n",
    "D: +\n",
    "```"
   ]
  },
  {
   "cell_type": "markdown",
   "id": "48b6f1fc-070a-41d8-86d5-cd03f107ab24",
   "metadata": {},
   "source": [
    "## 39.\n",
    "\n",
    "```python\n",
    "x = 6\n",
    "y = 2\n",
    "print(x ** y)\n",
    "print(x // y)\n",
    "```\n",
    "\n",
    "上面代码的输出结果是？\n",
    "\n",
    "```text\n",
    "A: 66\n",
    "   0\n",
    "B: 36\n",
    "   0\n",
    "C: 66\n",
    "   3\n",
    "D: 36\n",
    "   3\n",
    "```"
   ]
  },
  {
   "cell_type": "markdown",
   "id": "a9883cb7-2624-48c1-8c38-8743379ca598",
   "metadata": {
    "tags": []
   },
   "source": [
    "## 40.\n",
    "\n",
    "```python\n",
    "a = [10, 20]\n",
    "b = a\n",
    "b += [30, 40]\n",
    "print(a)\n",
    "print(b)\n",
    "```\n",
    "\n",
    "上面代码的输出结果是？\n",
    "\n",
    "```text\n",
    "A: [10, 20, 30, 40]\n",
    "   [10, 20, 30, 40]\n",
    "B: [10, 20]\n",
    "   [10, 20, 30, 40]\n",
    "```"
   ]
  },
  {
   "cell_type": "markdown",
   "id": "fc1b446a-5905-4085-83fd-51983d29338e",
   "metadata": {
    "tags": []
   },
   "source": [
    "## 41.\n",
    "\n",
    "```python\n",
    "print(bool(0), bool(3.14159), bool(-3), bool(1.0+1j))\n",
    "```\n",
    "\n",
    "上面代码的输出结果是？\n",
    "\n",
    "```text\n",
    "A: True True False True\n",
    "B: False True True True\n",
    "C: True True False True\n",
    "D: False True False True\n",
    "```"
   ]
  },
  {
   "cell_type": "markdown",
   "id": "8da9359f-78e3-4620-a7d1-4c5580de247e",
   "metadata": {
    "tags": []
   },
   "source": [
    "## 42.\n",
    "\n",
    "```python\n",
    "print(36 / 4)\n",
    "```\n",
    "\n",
    "上面代码的输出结果是？\n",
    "\n",
    "```text\n",
    "A: 9.0\n",
    "B: 9\n",
    "```"
   ]
  },
  {
   "cell_type": "markdown",
   "id": "dee239f8-5e78-4d17-9170-d7e23f20807c",
   "metadata": {},
   "source": [
    "## 43.\n",
    "\n",
    "```python\n",
    "print('[%c]' % 65)\n",
    "```\n",
    "\n",
    "上面代码的输出结果是？\n",
    "\n",
    "```text\n",
    "A: 65\n",
    "B: A\n",
    "C: [A]\n",
    "D: Syntax Error\n",
    "```"
   ]
  },
  {
   "cell_type": "markdown",
   "id": "ec54e8d8-3aa7-4de1-8c21-6e84de3fdec7",
   "metadata": {},
   "source": [
    "## 44.\n",
    "\n",
    "```python\n",
    "x = float('NaN')\n",
    "print('%f, %e, %F, %E' % (x, x, x, x))\n",
    "```\n",
    "\n",
    "上面代码的输出结果是？\n",
    "\n",
    "```text\n",
    "A: nan, nan, NAN, NAN\n",
    "B: nan, NaN, nan, NaN\n",
    "C: NaN, NaN, NaN, NaN,\n",
    "```"
   ]
  },
  {
   "cell_type": "markdown",
   "id": "fe4815e0-7d5a-4008-b43c-cc8827842447",
   "metadata": {
    "tags": []
   },
   "source": [
    "## 45.\n",
    "\n",
    "```python\n",
    "print('PYnative ', end='//')\n",
    "print(' is for ', end='//')\n",
    "print(' Python Lovers', end='//')\n",
    "```\n",
    "\n",
    "上面代码的输出结果是？\n",
    "\n",
    "```text\n",
    "A:\n",
    "PYnative /\n",
    "is for /\n",
    "Python Lovers /\n",
    "\n",
    "B:\n",
    "PYnative //\n",
    "is for //\n",
    "Python Lovers //\n",
    "\n",
    "C:\n",
    "PYnative // is for // Python Lovers//\n",
    "\n",
    "D:\n",
    "PYnative / is for / Python Lovers/\n",
    "```"
   ]
  },
  {
   "cell_type": "markdown",
   "id": "3b6dd6df-a6d7-42cd-b321-ed86e7f6aeac",
   "metadata": {
    "tags": []
   },
   "source": [
    "## 46.\n",
    "\n",
    "```python\n",
    "print('%x, %X' % (15, 15))\n",
    "```\n",
    "\n",
    "上面代码的输出结果是？\n",
    "\n",
    "```text\n",
    "A: 15 15\n",
    "B: F F\n",
    "C: f f\n",
    "D: f F\n",
    "```"
   ]
  },
  {
   "cell_type": "markdown",
   "id": "9ec7cfb4-4e69-4b50-a80a-c4be43bef5c5",
   "metadata": {
    "tags": []
   },
   "source": [
    "## 47.\n",
    "\n",
    "In Python3, Whatever you enter as input, the `input()` function converts it into a string\n",
    "\n",
    "```text\n",
    "A: False\n",
    "B: True\n",
    "```"
   ]
  },
  {
   "cell_type": "markdown",
   "id": "b60013b5-8627-4daf-9f53-2187adaa320b",
   "metadata": {},
   "source": [
    "## 48.\n",
    "\n",
    "```python\n",
    "print(sep='--', 'Ben', 25, 'California')\n",
    "```\n",
    "\n",
    "上面代码的输出结果是？\n",
    "\n",
    "```text\n",
    "A: Syntax Error\n",
    "B: Ben–25–California\n",
    "C: Ben 25 California\n",
    "D: Ben–25 California\n",
    "```"
   ]
  },
  {
   "cell_type": "markdown",
   "id": "0566af36-d739-48f0-8d74-a7b078fb2589",
   "metadata": {
    "tags": []
   },
   "source": [
    "## 49.\n",
    "\n",
    "```python\n",
    "print('%d %d %.2f' % (11, '22', 11.22))\n",
    "```\n",
    "\n",
    "上面代码的输出结果是？\n",
    "\n",
    "```text\n",
    "A: 11 22 11.22\n",
    "B: TypeError\n",
    "C: 11 ’22’ 11.22\n",
    "```"
   ]
  },
  {
   "cell_type": "markdown",
   "id": "c76a49a2-63a1-4801-b9d1-77fc6e0199ca",
   "metadata": {
    "tags": []
   },
   "source": [
    "## 50.\n",
    "\n",
    "```python\n",
    "def fun1(name, age=20):\n",
    "    print(name, age)\n",
    "\n",
    "fun1('Emma', 25)\n",
    "```\n",
    "\n",
    "上面代码的输出结果是？\n",
    "\n",
    "```text\n",
    "A: Emma 25\n",
    "B: Emma 20\n",
    "```"
   ]
  },
  {
   "cell_type": "markdown",
   "id": "501ebf1b-c243-4743-9069-cbc54a2d387e",
   "metadata": {
    "tags": []
   },
   "source": [
    "## 51.\n",
    "\n",
    "```python\n",
    "def display_person(*args):\n",
    "    for i in args:\n",
    "        print(i)\n",
    "\n",
    "display_person(name=\"Emma\", age=\"25\")\n",
    "```\n",
    "\n",
    "上面代码的输出结果是？\n",
    "\n",
    "```text\n",
    "A: TypeError\n",
    "B: Emma\n",
    "   25\n",
    "C: name\n",
    "   age\n",
    "```"
   ]
  },
  {
   "cell_type": "markdown",
   "id": "094ddd2f-7a1f-4c93-8dd9-29fafd707783",
   "metadata": {
    "tags": []
   },
   "source": [
    "## 52.\n",
    "\n",
    "```python\n",
    "def outer_fun(a, b):\n",
    "    def inner_fun(c, d):\n",
    "        return c + d\n",
    "    return inner_fun(a, b)\n",
    "\n",
    "res = outer_fun(5, 10)\n",
    "print(res)\n",
    "```\n",
    "\n",
    "上面代码的输出结果是？\n",
    "\n",
    "```text\n",
    "A: 15\n",
    "B: Syntax Error\n",
    "C: (5, 10)\n",
    "```"
   ]
  },
  {
   "cell_type": "markdown",
   "id": "c88372c6-3012-4533-8cdc-8437fee07da4",
   "metadata": {
    "tags": []
   },
   "source": [
    "## 53.\n",
    "\n",
    "```python\n",
    "def outer_fun(a, b):\n",
    "    def inner_fun(c, d):\n",
    "        return c + d\n",
    "\n",
    "    return inner_fun(a, b)\n",
    "    return a\n",
    "\n",
    "result = outer_fun(5, 10)\n",
    "print(result)\n",
    "```\n",
    "\n",
    "上面代码的输出结果是？\n",
    "\n",
    "```text\n",
    "A: 5\n",
    "B: 15\n",
    "C: (15, 5)\n",
    "D: Syntax Error\n",
    "```"
   ]
  },
  {
   "cell_type": "markdown",
   "id": "75feeee5-bb4b-45b2-b819-5d57b66821cc",
   "metadata": {
    "tags": []
   },
   "source": [
    "## 54.\n",
    "\n",
    "```python\n",
    "def display(**kwargs):\n",
    "    for i in kwargs:\n",
    "        print(i)\n",
    "\n",
    "display(emp=\"Kelly\", salary=9000)\n",
    "```\n",
    "\n",
    "上面代码的输出结果是？\n",
    "\n",
    "```text\n",
    "A: TypeError\n",
    "B: Kelly\n",
    "   9000\n",
    "C: (’emp’, ‘Kelly’)\n",
    "   (‘salary’, 9000)\n",
    "D: emp\n",
    "   salary\n",
    "```"
   ]
  },
  {
   "cell_type": "markdown",
   "id": "95590db8-cc9c-4f08-b1ab-338d9b81408f",
   "metadata": {
    "tags": []
   },
   "source": [
    "## 55.\n",
    "\n",
    "Choose the correct function declaration of `fun1()` so that we can execute the following function call successfully\n",
    "\n",
    "```python\n",
    "fun1(25, 75, 55)\n",
    "fun1(10, 20)\n",
    "```\n",
    "\n",
    "```text\n",
    "A: def fun1(**kwargs)\n",
    "B: No, it is not possible in Python\n",
    "C: def fun1(args*)\n",
    "D: def fun1(*data)\n",
    "```"
   ]
  },
  {
   "cell_type": "markdown",
   "id": "dd480bae-8b4c-4059-8903-e8c51b87e2de",
   "metadata": {},
   "source": [
    "## 56.\n",
    "\n",
    "Python function always returns a value.\n",
    "\n",
    "```text\n",
    "A: False\n",
    "B: True\n",
    "```"
   ]
  },
  {
   "cell_type": "markdown",
   "id": "9c08108d-cc34-4bb8-81f0-ab4357eac722",
   "metadata": {},
   "source": [
    "## 57.\n",
    "\n",
    "```python\n",
    "for num in range(10, 14):\n",
    "    for i in range(2, num):\n",
    "        if num%i == 1:\n",
    "            print(num)\n",
    "            break\n",
    "```\n",
    "\n",
    "上面代码的输出结果是？\n",
    "\n",
    "```text\n",
    "A: 10\n",
    "   11\n",
    "   12\n",
    "   13\n",
    "B: 11\n",
    "   13\n",
    "```"
   ]
  },
  {
   "cell_type": "markdown",
   "id": "c41ddd17-9718-4f16-abce-f812b32507cd",
   "metadata": {
    "tags": []
   },
   "source": [
    "## 58.\n",
    "\n",
    "```python\n",
    "x = 0\n",
    "while (x < 100):\n",
    "    x+=2\n",
    "print(x)\n",
    "```\n",
    "\n",
    "上面代码的输出结果是？\n",
    "\n",
    "```text\n",
    "A: 101\n",
    "B: 99\n",
    "C: None of the above, this is an infinite loop\n",
    "D: 100\n",
    "```"
   ]
  },
  {
   "cell_type": "markdown",
   "id": "ba5686a6-067e-4c89-b2bb-0670937011e8",
   "metadata": {
    "tags": []
   },
   "source": [
    "## 59.\n",
    "\n",
    "```python\n",
    "for l in 'Jhon':\n",
    "    if l == 'o':\n",
    "        pass\n",
    "    print(l, end=\", \")\n",
    "```\n",
    "\n",
    "上面代码的输出结果是？\n",
    "\n",
    "```text\n",
    "A: J, h, n,\n",
    "B: J, h, o, n,\n",
    "```"
   ]
  },
  {
   "cell_type": "markdown",
   "id": "b3daead1-5548-4804-9b2d-beeffacc6aae",
   "metadata": {},
   "source": [
    "## 60.\n",
    "\n",
    "```python\n",
    "for num in range(2,-5,-1):\n",
    "    print(num, end=\", \")\n",
    "```\n",
    "\n",
    "上面代码的输出结果是？\n",
    "\n",
    "\n",
    "```text\n",
    "A: 2, 1, 0\n",
    "B: 2, 1, 0, -1, -2, -3, -4, -5\n",
    "C: 2, 1, 0, -1, -2, -3, -4\n",
    "```"
   ]
  },
  {
   "cell_type": "markdown",
   "id": "5b923ea7-65ce-4829-9a32-8f66158e7c1c",
   "metadata": {
    "tags": []
   },
   "source": [
    "## 61.\n",
    "\n",
    "```python\n",
    "x = 0\n",
    "for i in range(10):\n",
    "    for j in range(-1, -10, -1):\n",
    "        x += 1\n",
    "        print(x)\n",
    "```\n",
    "\n",
    "上面代码的输出结果是？\n",
    "\n",
    "\n",
    "```text\n",
    "A: 99\n",
    "B: 90\n",
    "C: 100\n",
    "```"
   ]
  },
  {
   "cell_type": "markdown",
   "id": "a6bd9307-8517-48ce-9484-1ab51c65713d",
   "metadata": {
    "tags": []
   },
   "source": [
    "## 62.\n",
    "\n",
    "```python\n",
    "a, b = 12, 5\n",
    "if a + b:\n",
    "    print('True')\n",
    "else:\n",
    "    print('False')\n",
    "```\n",
    "\n",
    "上面代码的输出结果是？\n",
    "\n",
    "```text\n",
    "A: False\n",
    "B: True\n",
    "```"
   ]
  },
  {
   "cell_type": "markdown",
   "id": "b9eecbe3-bd35-43f7-98a4-4cf22440c121",
   "metadata": {
    "tags": []
   },
   "source": [
    "## 63.\n",
    "\n",
    "```python\n",
    "x = 0\n",
    "a = 0\n",
    "b = -5\n",
    "if a > 0:\n",
    "    if b < 0: \n",
    "        x = x + 5 \n",
    "    elif a > 5:\n",
    "        x = x + 4\n",
    "    else:\n",
    "        x = x + 3\n",
    "else:\n",
    "    x = x + 2\n",
    "print(x)\n",
    "```\n",
    "\n",
    "上面代码的输出结果是？\n",
    "\n",
    "```text\n",
    "A: 2\n",
    "B: 0\n",
    "C: 3\n",
    "D: 4\n",
    "```"
   ]
  },
  {
   "cell_type": "markdown",
   "id": "7cf4153e-f776-4129-ace1-b3f736612e40",
   "metadata": {
    "tags": []
   },
   "source": [
    "## 64.\n",
    "\n",
    "```python\n",
    "x = 0\n",
    "a = 5\n",
    "b = 5\n",
    "if a > 0:\n",
    "    if b < 0: \n",
    "        x = x + 5 \n",
    "    elif a > 5:\n",
    "        x = x + 4\n",
    "    else:\n",
    "        x = x + 3\n",
    "else:\n",
    "    x = x + 2\n",
    "print(x)\n",
    "```\n",
    "\n",
    "上面代码的输出结果是？\n",
    "\n",
    "\n",
    "```text\n",
    "A: 0\n",
    "B: 4\n",
    "C: 2\n",
    "D: 3\n",
    "```"
   ]
  },
  {
   "cell_type": "markdown",
   "id": "70fab526-56ca-45dc-8a31-a7961d2188e9",
   "metadata": {},
   "source": [
    "## 65.\n",
    "\n",
    "`if -3` will evaluate to True.\n",
    "\n",
    "```text\n",
    "A: True\n",
    "B: False\n",
    "```"
   ]
  },
  {
   "cell_type": "markdown",
   "id": "c8963223-6115-4d6f-9ed5-ccbb757f9f8c",
   "metadata": {
    "tags": []
   },
   "source": [
    "## 66.\n",
    "\n",
    "```python\n",
    "for num in range(-2,-5,-1):\n",
    "    print(num, end=\", \")\n",
    "```\n",
    "\n",
    "上面代码的输出结果是？\n",
    "\n",
    "```text\n",
    "A: -2, -1, -3, -4\n",
    "B: -2, -1, 0, 1, 2, 3,\n",
    "C: -2, -1, 0\n",
    "D: -2, -3, -4,\n",
    "```"
   ]
  },
  {
   "cell_type": "markdown",
   "id": "b9b47169-563b-465b-b52f-0664672c91e4",
   "metadata": {},
   "source": [
    "## 67.\n",
    "\n",
    "```python\n",
    "numbers = [10, 20]\n",
    "items = [\"Chair\", \"Table\"]\n",
    "\n",
    "for x in numbers:\n",
    "    for y in items:\n",
    "        print(x, y)\n",
    "```\n",
    "\n",
    "上面代码的输出结果是？\n",
    "\n",
    "```text\n",
    "A: 10 Chair\n",
    "   10 Table\n",
    "   20 Chair\n",
    "   20 Table\n",
    "B: 10 Chair\n",
    "   10 Table\n",
    "```"
   ]
  },
  {
   "cell_type": "markdown",
   "id": "78d11809-8cd7-4a4e-ae93-031a46eb09e4",
   "metadata": {
    "tags": []
   },
   "source": [
    "## 68.\n",
    "\n",
    "```python\n",
    "var = 10\n",
    "for i in range(10):\n",
    "    for j in range(2, 10, 1):\n",
    "        if var % 2 == 0:\n",
    "            continue\n",
    "            var += 1\n",
    "    var+=1\n",
    "else:\n",
    "    var+=1\n",
    "print(var)\n",
    "```\n",
    "\n",
    "上面代码的输出结果是？\n",
    "\n",
    "```text\n",
    "A: 20\n",
    "B: 21\n",
    "C: 10\n",
    "D: 30\n",
    "```"
   ]
  },
  {
   "cell_type": "markdown",
   "id": "3023f923-219c-4933-8044-7db09172a266",
   "metadata": {},
   "source": [
    "## 69.\n",
    "\n",
    "```python\n",
    "complex(1.25)\n",
    "```\n",
    "\n",
    "上面代码的输出结果是？\n",
    "\n",
    "```text\n",
    "A: (1.25+0j)\n",
    "B: Value Error: Missing an imaginary part of a complex number\n",
    "```"
   ]
  },
  {
   "cell_type": "markdown",
   "id": "e5a5f279-a346-49e0-b349-c1c65523ae11",
   "metadata": {},
   "source": [
    "## 70.\n",
    "\n",
    "In Python 3, the integer ranges from -2,147,483,648 to +2,147,483,647.\n",
    "\n",
    "```text\n",
    "A:  False\n",
    "B:  True\n",
    "```"
   ]
  },
  {
   "cell_type": "markdown",
   "id": "1a8fbef3-eba5-465d-89c5-b47845d0e529",
   "metadata": {
    "tags": []
   },
   "source": [
    "## 71\n",
    "\n",
    "```python\n",
    "from numbers import Number\n",
    "from decimal import Decimal\n",
    "from fractions import Fraction\n",
    "\n",
    "print(isinstance(2.0, Number))\n",
    "print(isinstance(Decimal('2.0'), Number))\n",
    "print(isinstance(Fraction(2, 1), Number))\n",
    "print(isinstance(\"2\", Number))\n",
    "```\n",
    "\n",
    "上面代码的输出结果是？\n",
    "\n",
    "\n",
    "```text\n",
    "A: True\n",
    "   False\n",
    "   True\n",
    "   True\n",
    "   \n",
    "B: True\n",
    "   True\n",
    "   True\n",
    "   True\n",
    "   \n",
    "C: True\n",
    "   False\n",
    "   True\n",
    "   False\n",
    "   \n",
    "D: True\n",
    "   True\n",
    "   True\n",
    "   False\n",
    "```"
   ]
  },
  {
   "cell_type": "markdown",
   "id": "0728a437-60f9-4ba8-a0f4-e7d4ca93c5f2",
   "metadata": {},
   "source": [
    "## 72. \n",
    "\n",
    "```python\n",
    "print( (1.1 + 2.2) == 3.3 )\n",
    "```\n",
    "\n",
    "上面代码的输出结果是？\n",
    "\n",
    "```text\n",
    "A: True\n",
    "B: False\n",
    "```"
   ]
  },
  {
   "cell_type": "markdown",
   "id": "61eadebb-a3ce-487c-8a54-25b07d83f3c8",
   "metadata": {
    "tags": []
   },
   "source": [
    "## 73.\n",
    "\n",
    "```python\n",
    "import math\n",
    "print(math.ceil(252.4))\n",
    "print(math.floor(252.4))\n",
    "```\n",
    "上面代码的输出结果是？\n",
    "\n",
    "```text\n",
    "A: 252\n",
    "   252\n",
    "B: 252\n",
    "   253\n",
    "C: 253\n",
    "   252\n",
    "```"
   ]
  },
  {
   "cell_type": "markdown",
   "id": "43d5f711-c4dd-4190-b6b8-87e32487ff54",
   "metadata": {
    "tags": []
   },
   "source": [
    "## 74.\n",
    "\n",
    "```python\n",
    "print(abs(-45.300))\n",
    "```\n",
    "\n",
    "上面代码的输出结果是？\n",
    "\n",
    "```text\n",
    "A: 45.3\n",
    "B: -45.3\n",
    "C: -45.300\n",
    "D: 45.300\n",
    "```"
   ]
  },
  {
   "cell_type": "markdown",
   "id": "18931ef0-1ac0-4c77-a549-3e24563a3774",
   "metadata": {
    "tags": []
   },
   "source": [
    "## 75.\n",
    "\n",
    "```python\n",
    "print(round(100.2563, 3))\n",
    "print(round(100.000056, 3))\n",
    "```\n",
    "\n",
    "上面代码的输出结果是？\n",
    "\n",
    "\n",
    "```text\n",
    "A: 100.256\n",
    "   100\n",
    "B: 100.256\n",
    "   100.000\n",
    "C: 100.256\n",
    "   100.0\n",
    "```"
   ]
  },
  {
   "cell_type": "markdown",
   "id": "011b86fa-85c6-4462-9f1c-f9ed49de2f1d",
   "metadata": {},
   "source": [
    "## 76.\n",
    "\n",
    "```python\n",
    "str1 = 'Welcome'\n",
    "print (str1[:6] + ' PYnative')\n",
    "```\n",
    "\n",
    "上面代码的输出结果是？\n",
    "\n",
    "```text\n",
    "A: Welcome PYnative\n",
    "B: WelcomPYnative\n",
    "C: Welcom PYnative\n",
    "D: WelcomePYnative\n",
    "```"
   ]
  },
  {
   "cell_type": "markdown",
   "id": "de1d5c15-9771-446d-9be8-f245d129f98f",
   "metadata": {
    "tags": []
   },
   "source": [
    "## 77. \n",
    "\n",
    "```python\n",
    "str = \"My salary is 7000\";\n",
    "print(str.isalnum())\n",
    "```\n",
    "\n",
    "上面代码的输出结果是？\n",
    "\n",
    "\n",
    "```text\n",
    "A: True\n",
    "B: False\n",
    "```"
   ]
  },
  {
   "cell_type": "markdown",
   "id": "5ae41ff4-29ed-4d3f-9ac3-14215fa9b1e2",
   "metadata": {
    "tags": []
   },
   "source": [
    "## 78.\n",
    "\n",
    "```python\n",
    "myString = \"pynative\"\n",
    "stringList = [\"abc\", \"pynative\", \"xyz\"]\n",
    "\n",
    "print(stringList[1] == myString)\n",
    "print(stringList[1] is myString)\n",
    "```\n",
    "\n",
    "上面代码的输出结果是？\n",
    "\n",
    "```text\n",
    "A: True\n",
    "   False\n",
    "B: True\n",
    "   True\n",
    "```"
   ]
  },
  {
   "cell_type": "markdown",
   "id": "aaea115b-560e-4232-8a21-965e5dabf558",
   "metadata": {},
   "source": [
    "## 79.\n",
    "\n",
    "```python\n",
    "str1 = \"my name is James bond\";\n",
    "print (str1.capitalize())\n",
    "```\n",
    "\n",
    "上面代码的输出结果是？\n",
    "\n",
    "```text\n",
    "A: My Name Is James Bond\n",
    "B: TypeError: unsupported operand type(s) for * or pow(): 'str' and 'int'\n",
    "C: My name is james bond\n",
    "```"
   ]
  },
  {
   "cell_type": "markdown",
   "id": "6706a3b8-eb8b-43d3-b79f-f0008954ce2f",
   "metadata": {},
   "source": [
    "## 80.\n",
    "\n",
    "```python\n",
    "print(\"John\" > \"Jhon\")\n",
    "print(\"Emma\" < \"Emm\")\n",
    "```\n",
    "\n",
    "上面代码的输出结果是？\n",
    "\n",
    "```text\n",
    "A: True\n",
    "   False\n",
    "B: False\n",
    "   False\n",
    "```"
   ]
  },
  {
   "cell_type": "markdown",
   "id": "51707018-6985-4499-9362-68059582bcf3",
   "metadata": {},
   "source": [
    "## 81.\n",
    "\n",
    "```python\n",
    "strOne = str(\"pynative\")\n",
    "strTwo = \"pynative\"\n",
    "print(strOne == strTwo)\n",
    "print(strOne is strTwo)\n",
    "```\n",
    "\n",
    "上面代码的输出结果是？\n",
    "\n",
    "```text\n",
    "A: False False\n",
    "B: True True\n",
    "C: True False\n",
    "D: False True\n",
    "```"
   ]
  },
  {
   "cell_type": "markdown",
   "id": "cfe53621-abd7-4af6-9027-75b4765cfb9b",
   "metadata": {
    "tags": []
   },
   "source": [
    "## 82.\n",
    "\n",
    "```python\n",
    "str1 = 'Welcome'\n",
    "print(str1*2)\n",
    "```\n",
    "\n",
    "上面代码的输出结果是？\n",
    "\n",
    "\n",
    "\n",
    "```text\n",
    "A: WelcomeWelcome\n",
    "B: TypeError unsupported operand type(s)\n",
    "```"
   ]
  },
  {
   "cell_type": "markdown",
   "id": "864c5a54-c755-493c-8996-5a63baa59397",
   "metadata": {},
   "source": [
    "## 83.\n",
    "\n",
    "```python\n",
    "str1 = \"PYnative\"\n",
    "print(str1[1:4], str1[:5], str1[4:], str1[0:-1], str1[:-1])\n",
    "```\n",
    "\n",
    "上面代码的输出结果是？\n",
    "\n",
    "```text\n",
    "A: PYn PYnat ive PYnativ vitanYP\n",
    "B: Yna PYnat tive PYnativ vitanYP\n",
    "C: Yna PYnat tive PYnativ PYnativ\n",
    "```"
   ]
  },
  {
   "cell_type": "markdown",
   "id": "c84a1ae1-b3c6-4b83-a56e-53fd969ecf6e",
   "metadata": {
    "tags": []
   },
   "source": [
    "## 84.\n",
    "\n",
    "```python\n",
    "str1 = \"my isname isisis jameis isis bond\";\n",
    "sub = \"is\";\n",
    "print(str1.count(sub, 4))\n",
    "```\n",
    "上面代码的输出结果是？\n",
    "```text\n",
    "A: 5\n",
    "B: 6\n",
    "C: 7\n",
    "```"
   ]
  },
  {
   "cell_type": "markdown",
   "id": "41bc871c-f36a-4168-8639-60ca2e6615cc",
   "metadata": {},
   "source": [
    "## 85.\n",
    "\n",
    "```python\n",
    "l = [None] * 10\n",
    "print(len(l))\n",
    "```\n",
    "\n",
    "上面代码的输出结果是？\n",
    "\n",
    "```text\n",
    "A: 10\n",
    "B: 0\n",
    "C: Syntax Error\n",
    "```"
   ]
  },
  {
   "cell_type": "markdown",
   "id": "959c6f35-4934-4d3f-8aa2-baa5a6e946df",
   "metadata": {
    "tags": []
   },
   "source": [
    "## 86.\n",
    "\n",
    "```python\n",
    "sampleList = [10, 20, 30, 40, 50]\n",
    "sampleList.pop()\n",
    "print(sampleList)\n",
    "\n",
    "sampleList.pop(2)\n",
    "print(sampleList)\n",
    "```\n",
    "\n",
    "上面代码的输出结果是？\n",
    "\n",
    "```text\n",
    "A: [20, 30, 40, 50]\n",
    "   [10, 20, 40]\n",
    "B: [10, 20, 30, 40]\n",
    "   [10, 20, 30, 50]\n",
    "C: [10, 20, 30, 40]\n",
    "   [10, 20, 40]\n",
    "```"
   ]
  },
  {
   "cell_type": "markdown",
   "id": "ac7ba3dd-f3b2-4624-a747-50d5f361aba3",
   "metadata": {
    "tags": []
   },
   "source": [
    "## 87.\n",
    "\n",
    "```python\n",
    "aList = [5, 10, 15, 25]\n",
    "print(aList[::-2])\n",
    "```\n",
    "\n",
    "上面代码的输出结果是？\n",
    "\n",
    "```text\n",
    "A: [15, 10, 5]\n",
    "B: [10, 5]\n",
    "C: [25, 10]\n",
    "```"
   ]
  },
  {
   "cell_type": "markdown",
   "id": "b2026f21-35d7-4cb6-95ee-5132cfac5de4",
   "metadata": {},
   "source": [
    "## 88.\n",
    "\n",
    "```python\n",
    "list1 = ['xyz', 'zara', 'PYnative']\n",
    "print (max(list1))\n",
    "```\n",
    "\n",
    "上面代码的输出结果是？\n",
    "\n",
    "```text\n",
    "A: PYnative\n",
    "B: zara\n",
    "```"
   ]
  },
  {
   "cell_type": "markdown",
   "id": "45c97a5e-b3b7-4343-8822-64ccf9cfc776",
   "metadata": {
    "tags": []
   },
   "source": [
    "## 89.\n",
    "\n",
    "```python\n",
    "sampleList = [10, 20, 30, 40, 50]\n",
    "sampleList.append(60)\n",
    "print(sampleList)\n",
    "\n",
    "sampleList.append(60)\n",
    "print(sampleList)\n",
    "```\n",
    "\n",
    "上面代码的输出结果是？\n",
    "\n",
    "```text\n",
    "A: [10, 20, 30, 40, 50, 60]\n",
    "   [10, 20, 30, 40, 50, 60]\n",
    "B: [10, 20, 30, 40, 50, 60]\n",
    "   [10, 20, 30, 40, 50, 60, 60]\n",
    "```"
   ]
  },
  {
   "cell_type": "markdown",
   "id": "9423d734-959b-4572-b9e2-275799632a95",
   "metadata": {
    "tags": []
   },
   "source": [
    "## 90.\n",
    "\n",
    "```python\n",
    "aList = [4, 8, 12, 16]\n",
    "aList[1:4] = [20, 24, 28]\n",
    "print(aList)\n",
    "```\n",
    "\n",
    "上面代码的输出结果是？\n",
    "\n",
    "```text\n",
    "A: [4, 20, 24, 28, 8, 12, 16]\n",
    "B: [4, 20, 24, 28]\n",
    "```"
   ]
  },
  {
   "cell_type": "markdown",
   "id": "7c5cde6d-c7ca-4132-ba10-7d8bf5049b2f",
   "metadata": {
    "tags": []
   },
   "source": [
    "## 91.\n",
    "\n",
    "```python\n",
    "sampleList = [10, 20, 30, 40]\n",
    "del sampleList[0:6]\n",
    "print(sampleList)\n",
    "```\n",
    "\n",
    "上面代码的输出结果是？\n",
    "\n",
    "```text\n",
    "A: []\n",
    "B: list index out of range.\n",
    "C: [10, 20]\n",
    "```"
   ]
  },
  {
   "cell_type": "markdown",
   "id": "f67436ae-cdec-4c32-ba3d-09b58efe27b0",
   "metadata": {
    "tags": []
   },
   "source": [
    "## 92.\n",
    "\n",
    "```python\n",
    "aList = [\"PYnative\", [4, 8, 12, 16]]\n",
    "print(aList[0][1])    \n",
    "print(aList[1][3])\n",
    "```\n",
    "\n",
    "上面代码的输出结果是？\n",
    "\n",
    "```text\n",
    "A: P 8\n",
    "   Y 16\n",
    "B: P\n",
    "   12\n",
    "C: Y\n",
    "   16\n",
    "```"
   ]
  },
  {
   "cell_type": "markdown",
   "id": "2ae8ca69-7e7c-44ec-bc23-f150fd21c435",
   "metadata": {
    "tags": []
   },
   "source": [
    "## 93.\n",
    "\n",
    "```python\n",
    "resList = [x+y for x in ['Hello ', 'Good '] for y in ['Dear', 'Bye']]\n",
    "print(resList)\n",
    "```\n",
    "\n",
    "上面代码的输出结果是？\n",
    "\n",
    "```text\n",
    "A: [‘Hello Dear’, ‘Hello Bye’, ‘Good Dear’, ‘Good Bye’]\n",
    "B: [‘Hello Dear’, ‘Good Dear’, ‘Hello Bye’, ‘Good Bye’]\n",
    "```"
   ]
  },
  {
   "cell_type": "markdown",
   "id": "27740ec5-623d-4d07-b469-392f37431c72",
   "metadata": {},
   "source": [
    "## 94.\n",
    "\n",
    "```python\n",
    "my_list = [\"Hello\", \"Python\"]\n",
    "print(\"-\".join(my_list))\n",
    "```\n",
    "\n",
    "上面代码的输出结果是？\n",
    "\n",
    "```text\n",
    "A: HelloPython-\n",
    "B: Hello-Python\n",
    "C: -HelloPython\n",
    "```"
   ]
  },
  {
   "cell_type": "markdown",
   "id": "1e5d3080-13ea-40b7-81cb-9639f8488fa4",
   "metadata": {},
   "source": [
    "## 95.\n",
    "\n",
    "```python\n",
    "dict1 = {\"name\": \"Mike\", \"salary\": 8000}\n",
    "temp = dict1.get(\"age\")\n",
    "print(temp)\n",
    "```\n",
    "\n",
    "上面代码的输出结果是？\n",
    "\n",
    "```text\n",
    "A: KeyError: ‘age’\n",
    "B: None\n",
    "```"
   ]
  },
  {
   "cell_type": "markdown",
   "id": "3578b60e-3565-46dd-976d-3c1fc88e0ce6",
   "metadata": {},
   "source": [
    "## 96.\n",
    "\n",
    "```python\n",
    "sampleDict = { \n",
    "   \"class\":{ \n",
    "      \"student\":{ \n",
    "         \"name\":\"Mike\",\n",
    "         \"marks\":{ \n",
    "            \"physics\":70,\n",
    "            \"history\":80\n",
    "         }\n",
    "      }\n",
    "   }\n",
    "}\n",
    "```\n",
    "\n",
    "上面代码的顶一下，下面哪个可以合法的获取到value？\n",
    "\n",
    "```text\n",
    "A: sampleDict['class']['student']['marks']['history']\n",
    "B: sampleDict['class']['student']['marks'][1]\n",
    "C: sampleDict['class'][0]['marks']['history']\n",
    "```"
   ]
  },
  {
   "cell_type": "markdown",
   "id": "c52b2e40-d30e-4493-8290-bd78cb7850e5",
   "metadata": {
    "tags": []
   },
   "source": [
    "## 97.\n",
    "\n",
    "```python\n",
    "dict1 = {\"key1\":1, \"key2\":2}\n",
    "dict2 = {\"key2\":2, \"key1\":1}\n",
    "print(dict1 == dict2)\n",
    "```\n",
    "\n",
    "上面代码的输出结果是？\n",
    "\n",
    "```text\n",
    "A: True\n",
    "B: False\n",
    "```"
   ]
  },
  {
   "cell_type": "markdown",
   "id": "387528f0-350d-4182-960e-193d994c570a",
   "metadata": {
    "tags": []
   },
   "source": [
    "## 98.\n",
    "\n",
    "```python\n",
    "student = { \n",
    "  \"name\": \"Emma\", \n",
    "  \"class\": 9, \n",
    "  \"marks\": 75 \n",
    "}\n",
    "```\n",
    "\n",
    "Select the all correct way to **remove** the key `marks` from a dictionary\n",
    "\n",
    "```text\n",
    "A: student.pop(\"marks\")\n",
    "B: student.remove(\"marks\")\n",
    "C: student.popitem(\"marks\")\n",
    "```"
   ]
  },
  {
   "cell_type": "markdown",
   "id": "c934f63d-f872-4272-a17d-373fad1d191c",
   "metadata": {},
   "source": [
    "## 99.\n",
    "\n",
    "```python\n",
    "sampleDict = dict([\n",
    "    ('first', 1),\n",
    "    ('second', 2),\n",
    "    ('third', 3)\n",
    "])\n",
    "print(sampleDict)\n",
    "```\n",
    "\n",
    "上面代码的输出结果是？\n",
    "\n",
    "```text\n",
    "A: [ (‘first’, 100), (‘second’, 200), (‘third’, 300) ]\n",
    "B: Options: SyntaxError: invalid syntax\n",
    "C: {‘first’: 1, ‘second’: 2, ‘third’: 3}\n",
    "```"
   ]
  },
  {
   "cell_type": "markdown",
   "id": "361349c9-35ef-48b9-9e77-7f83aa6abdd7",
   "metadata": {
    "tags": []
   },
   "source": [
    "## 100.\n",
    "\n",
    "```python\n",
    "student = { \n",
    "  \"name\": \"Emma\", \n",
    "  \"class\": 9, \n",
    "  \"marks\": 75 \n",
    "}\n",
    "```\n",
    "\n",
    "Please select all correct ways to empty the following dictionary\n",
    "\n",
    "```text\n",
    "A: del student\n",
    "B: del student[0:2]\n",
    "C: student.clear()\n",
    "```"
   ]
  },
  {
   "cell_type": "markdown",
   "id": "77a4145e-1687-463f-9464-fa32c9219bdb",
   "metadata": {},
   "source": [
    "## 101.\n",
    "\n",
    "```python\n",
    "dict1 = {\"name\": \"Mike\", \"salary\": 8000}\n",
    "temp = dict1.pop(\"age\")\n",
    "print(temp)\n",
    "```\n",
    "\n",
    "上面代码的输出结果是？\n",
    "\n",
    "```text\n",
    "A: KeyError: ‘age’\n",
    "B: None\n",
    "```"
   ]
  },
  {
   "cell_type": "markdown",
   "id": "1c5d1a2e-b471-42ed-985c-04f801c8b42a",
   "metadata": {},
   "source": [
    "## 102.\n",
    "\n",
    "```python\n",
    "samplelist = [20, 40, 60, 80, 100, 120, 140, 160, 180, 200]\n",
    "```\n",
    "\n",
    "Which method should I use to get 4 elements from the following list randomly\n",
    "\n",
    "```text\n",
    "A: random.choice(samplelist, 4)\n",
    "B: random.sample(samplelist, 4)\n",
    "```"
   ]
  },
  {
   "cell_type": "markdown",
   "id": "1a2ee54b-7dc7-4c5a-9df3-e52a619ef077",
   "metadata": {},
   "source": [
    "## 103.\n",
    "\n",
    "To generate a random float number between 20.5 to 50.5, which function of a random module I need to use\n",
    "\n",
    "```text\n",
    "A: random.random(20.5, 50.5)\n",
    "B: random.uniform(20.5, 50.5)\n",
    "C: random.randrange(20.5, 50.5)\n",
    "D: random.randfloat(20.5, 50.5)\n",
    "```"
   ]
  },
  {
   "cell_type": "markdown",
   "id": "b399206f-5829-4923-ad48-fc3bc8ea43c6",
   "metadata": {},
   "source": [
    "## 104.\n",
    "\n",
    "```python\n",
    "numberList = [100, 200, 300, 400, 500]\n",
    "```\n",
    "\n",
    "Choose the correct function to get 3 elements from the list randomly in such a way that each element of the list has a different probability of being selected.\n",
    "\n",
    "```text\n",
    "A: random.choices(numberList, weights=(10, 5, 15, 20, 50), k=3)\n",
    "\n",
    "B: random.choice(numberList, weights=(10, 5, 15, 20, 50), k=3)\n",
    "\n",
    "C: random.sample(numberList, weights=(10, 5, 15, 20, 50), k=3)\n",
    "\n",
    "```"
   ]
  },
  {
   "cell_type": "markdown",
   "id": "89c92b2a-9378-4858-8fb2-9e8173dd20cc",
   "metadata": {},
   "source": [
    "## 105.\n",
    "\n",
    "Choose the correct function from the following list to get the random integer between 99 to 200, which is divisible by 3.\n",
    "\n",
    "```text\n",
    "A: random.randrange(99, 200, 3)\n",
    "B: random.randint(99, 200, 3)\n",
    "C: random.random(99, 200, 3)\n",
    "```"
   ]
  },
  {
   "cell_type": "markdown",
   "id": "02d72783-dcda-445f-a8cd-697ec47cfac8",
   "metadata": {},
   "source": [
    "## 106.\n",
    "\n",
    "`str1 = \"PYnative\"`. Choose the correct function to pick a single character from a given string randomly.\n",
    "\n",
    "```text\n",
    "A: random.sample(str1)\n",
    "B: random.choice(str1)\n",
    "C: random.get(str1, 1)\n",
    "```"
   ]
  },
  {
   "cell_type": "markdown",
   "id": "fc545e86-1426-426d-8dae-48c886322f01",
   "metadata": {},
   "source": [
    "## 107.\n",
    "\n",
    "`random.seed()` 方法用于初始化伪随机数生成器。random 模块使用种子值作为基础生成随机数。如果没有提供种子值，它将使用系统的当前时间。\n",
    "\n",
    "```text\n",
    "A: True\n",
    "B: False\n",
    "```"
   ]
  },
  {
   "cell_type": "markdown",
   "id": "e3a145ea-1aef-48c6-89ef-592924641e89",
   "metadata": {},
   "source": [
    "## 108.\n",
    "\n",
    "Which method should i use to capture and change the current state of the random generator\n",
    "\n",
    "```text\n",
    "A: random.getstate()\n",
    "   random.setstate(state)\n",
    "B: random.currentstate()\n",
    "   random.setcurrentstate(state)\n",
    "\n",
    "```"
   ]
  }
 ],
 "metadata": {
  "kernelspec": {
   "display_name": "ICTP-AP",
   "language": "python",
   "name": "ictp-ap"
  },
  "language_info": {
   "codemirror_mode": {
    "name": "ipython",
    "version": 3
   },
   "file_extension": ".py",
   "mimetype": "text/x-python",
   "name": "python",
   "nbconvert_exporter": "python",
   "pygments_lexer": "ipython3",
   "version": "3.10.13"
  },
  "toc-autonumbering": false
 },
 "nbformat": 4,
 "nbformat_minor": 5
}
