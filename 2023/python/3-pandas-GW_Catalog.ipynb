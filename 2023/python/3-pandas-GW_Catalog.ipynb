{
 "cells": [
  {
   "cell_type": "markdown",
   "id": "6a67a132-789c-41b0-8d24-91f048b69060",
   "metadata": {},
   "source": [
    "# 实例：GW Catalog 数据分析案例"
   ]
  },
  {
   "cell_type": "markdown",
   "id": "c6d9edde-8619-4d63-9130-acdd85bf5a4a",
   "metadata": {},
   "source": [
    "## DataFrame的组合与聚合以及透视表生成\n"
   ]
  },
  {
   "cell_type": "markdown",
   "id": "7e1fd8ec-923a-4b6f-b2fc-178d9410202d",
   "metadata": {},
   "source": [
    "Pandas 中常用的组合和聚合方法（透视表）\n",
    "\n",
    "- groupby() / apply() / agg()\n",
    "- stack() / unstack()\n",
    "- melted()\n",
    "- pivot_table()\n",
    "\n",
    "透视表（pivot table）是用来汇总其它表的数据。 首先把源表分组（grouping），然后对各组内数据做汇总操作如排序、平均、累加、计数或字符串连接等。 透视表用于数据处理，在数据可视化程序如电子表格或商业智能软件中常见。 \n",
    "\n",
    "HINT: 透视表的分析是针对类别型字段而言的"
   ]
  },
  {
   "cell_type": "markdown",
   "id": "1cb311a9-c80f-4764-86dc-a0735003f1c9",
   "metadata": {},
   "source": [
    "下面我们通过一个综合一点的数据分析案例，巩固上面学过的操作，同时练习一下dataframe的组合、聚合以及透视表生成的操作。\n",
    "\n",
    "- 数据案例：\n",
    "    - The first Open Gravitational-wave Catalog (1-OGC) [GitHub](https://github.com/gwastro/1-ogc)\n",
    "    - The forth Open Gravitational-wave Catalog (4-OGC) [GitHub](https://github.com/gwastro/4-ogc)\n",
    "\n",
    "- 数据详情：\n",
    "    - 参考上面👆🏻的链接\n",
    "\n",
    "More related GW open data: https://iphysresearch.github.io/blog/project/gwda/#-awesome-data-release"
   ]
  },
  {
   "cell_type": "markdown",
   "id": "ed181b02-b5b9-4d2c-9997-244540d4c634",
   "metadata": {},
   "source": [
    "## Load libs"
   ]
  },
  {
   "cell_type": "code",
   "execution_count": 1,
   "id": "dd2c60e6-7303-404f-935f-2f607557e366",
   "metadata": {
    "tags": []
   },
   "outputs": [],
   "source": [
    "# 标准姿势\n",
    "import numpy as np\n",
    "import pandas as pd\n",
    "\n",
    "# REF: https://www.dataquest.io/blog/settingwithcopywarning/\n",
    "pd.set_option('mode.chained_assignment', None)\n",
    "\n",
    "# !pip install h5py\n",
    "import h5py\n",
    "\n",
    "from datetime import datetime"
   ]
  },
  {
   "cell_type": "markdown",
   "id": "cc12ea12-62bb-43dc-b2e8-93e9a5abd08c",
   "metadata": {},
   "source": [
    "## Load data"
   ]
  },
  {
   "cell_type": "code",
   "execution_count": 2,
   "id": "ced65f96-7348-4ad6-8067-02728172414f",
   "metadata": {
    "tags": []
   },
   "outputs": [
    {
     "name": "stdout",
     "output_type": "stream",
     "text": [
      "-rw-r--r-- 1 root root 11M Dec  2 10:41 1-OGC.hdf\n",
      "-rw-r--r-- 1 root root 11K Dec  2 07:53 4OGC_top.txt\n"
     ]
    }
   ],
   "source": [
    "!ls -lh *OGC*"
   ]
  },
  {
   "cell_type": "code",
   "execution_count": 3,
   "id": "4856dac9-09cc-4f11-8b45-b13d963c3409",
   "metadata": {
    "tags": []
   },
   "outputs": [
    {
     "name": "stdout",
     "output_type": "stream",
     "text": [
      "# Number, Name, GpsTime, Obs, Triggered, Pastro, IFAR, SNR_H, SNR_L, SNR_V \n",
      "1  GW150914_095045  1126259462.4257812  HL  HL  1.0  16376.568630773567  19.934932708740234  13.047991752624512  -1.0\n",
      "2  GW151012_095443  1128678900.4450684  HL  HL  1.0  897.2759041259671  6.88588285446167  6.577003479003906  -1.0\n",
      "3  GW151226_033853  1135136350.649414  HL  HL  1.0  14799.661708193906  10.518603324890137  7.405562400817871  -1.0\n",
      "4  GW170104_101158  1167559936.6000977  HL  HL  1.0  18235.991189523284  8.863738059997559  9.633432388305664  -1.0\n",
      "5  GW170121_212536  1169069154.5761719  HL  HL  1.0  16.10953285293576  5.239262580871582  8.938467025756836  -1.0\n",
      "6  GW170202_135657  1170079035.732666  HL  HL  0.86  0.5021361028513931  5.370537281036377  6.213018417358398  -1.0\n",
      "7  GW170304_163753  1172680691.3659668  HL  HL  0.74  0.2489521012197277  4.637211799621582  7.021427631378174  -1.0\n",
      "8  GW170403_230611  1175295989.2316895  HL  HL  0.72  0.2464015211198255  5.180370807647705  5.534319877624512  -1.0\n",
      "9  GW170608_020116  1180922494.4887695  HL  HL  1.0  227.6775304353098  12.388323783874512  8.99548625946045  -1.0\n"
     ]
    }
   ],
   "source": [
    "!head ./4OGC_top.txt"
   ]
  },
  {
   "cell_type": "code",
   "execution_count": 5,
   "id": "83dd0d7c-7924-4d35-9d1e-24898ec29a87",
   "metadata": {
    "tags": []
   },
   "outputs": [
    {
     "data": {
      "text/plain": [
       "'# Number, Name, GpsTime, Obs, Triggered, Pastro, IFAR, SNR_H, SNR_L, SNR_V \\n'"
      ]
     },
     "execution_count": 5,
     "metadata": {},
     "output_type": "execute_result"
    }
   ],
   "source": [
    "with open('./4OGC_top.txt', 'r') as f:\n",
    "    names = f.readline()\n",
    "names"
   ]
  },
  {
   "cell_type": "code",
   "execution_count": 6,
   "id": "51b9bc23-0dba-4714-8d06-4415c07b61e7",
   "metadata": {
    "tags": []
   },
   "outputs": [
    {
     "data": {
      "text/plain": [
       "'Number, Name, GpsTime, Obs, Triggered, Pastro, IFAR, SNR_H, SNR_L, SNR_V'"
      ]
     },
     "execution_count": 6,
     "metadata": {},
     "output_type": "execute_result"
    }
   ],
   "source": [
    "names[2:-2]"
   ]
  },
  {
   "cell_type": "code",
   "execution_count": 8,
   "id": "67644a83-7c3b-449d-8258-43d3ed423c06",
   "metadata": {
    "tags": []
   },
   "outputs": [
    {
     "data": {
      "text/plain": [
       "['Number',\n",
       " 'Name',\n",
       " 'GpsTime',\n",
       " 'Obs',\n",
       " 'Triggered',\n",
       " 'Pastro',\n",
       " 'IFAR',\n",
       " 'SNR_H',\n",
       " 'SNR_L',\n",
       " 'SNR_V']"
      ]
     },
     "execution_count": 8,
     "metadata": {},
     "output_type": "execute_result"
    }
   ],
   "source": [
    "names[2:-2].split(', ')"
   ]
  },
  {
   "cell_type": "code",
   "execution_count": 12,
   "id": "09753d2a-0ea7-42bb-896d-6644b9a518c9",
   "metadata": {
    "tags": []
   },
   "outputs": [
    {
     "data": {
      "text/html": [
       "<div>\n",
       "<style scoped>\n",
       "    .dataframe tbody tr th:only-of-type {\n",
       "        vertical-align: middle;\n",
       "    }\n",
       "\n",
       "    .dataframe tbody tr th {\n",
       "        vertical-align: top;\n",
       "    }\n",
       "\n",
       "    .dataframe thead th {\n",
       "        text-align: right;\n",
       "    }\n",
       "</style>\n",
       "<table border=\"1\" class=\"dataframe\">\n",
       "  <thead>\n",
       "    <tr style=\"text-align: right;\">\n",
       "      <th></th>\n",
       "      <th>Name</th>\n",
       "      <th>GpsTime</th>\n",
       "      <th>Obs</th>\n",
       "      <th>Triggered</th>\n",
       "      <th>Pastro</th>\n",
       "      <th>IFAR</th>\n",
       "      <th>SNR_H</th>\n",
       "      <th>SNR_L</th>\n",
       "      <th>SNR_V</th>\n",
       "    </tr>\n",
       "    <tr>\n",
       "      <th>Number</th>\n",
       "      <th></th>\n",
       "      <th></th>\n",
       "      <th></th>\n",
       "      <th></th>\n",
       "      <th></th>\n",
       "      <th></th>\n",
       "      <th></th>\n",
       "      <th></th>\n",
       "      <th></th>\n",
       "    </tr>\n",
       "  </thead>\n",
       "  <tbody>\n",
       "    <tr>\n",
       "      <th>1</th>\n",
       "      <td>GW150914_095045</td>\n",
       "      <td>1.126259e+09</td>\n",
       "      <td>HL</td>\n",
       "      <td>HL</td>\n",
       "      <td>1.00</td>\n",
       "      <td>16376.568631</td>\n",
       "      <td>19.934933</td>\n",
       "      <td>13.047992</td>\n",
       "      <td>-1.000000</td>\n",
       "    </tr>\n",
       "    <tr>\n",
       "      <th>2</th>\n",
       "      <td>GW151012_095443</td>\n",
       "      <td>1.128679e+09</td>\n",
       "      <td>HL</td>\n",
       "      <td>HL</td>\n",
       "      <td>1.00</td>\n",
       "      <td>897.275904</td>\n",
       "      <td>6.885883</td>\n",
       "      <td>6.577003</td>\n",
       "      <td>-1.000000</td>\n",
       "    </tr>\n",
       "    <tr>\n",
       "      <th>3</th>\n",
       "      <td>GW151226_033853</td>\n",
       "      <td>1.135136e+09</td>\n",
       "      <td>HL</td>\n",
       "      <td>HL</td>\n",
       "      <td>1.00</td>\n",
       "      <td>14799.661708</td>\n",
       "      <td>10.518603</td>\n",
       "      <td>7.405562</td>\n",
       "      <td>-1.000000</td>\n",
       "    </tr>\n",
       "    <tr>\n",
       "      <th>4</th>\n",
       "      <td>GW170104_101158</td>\n",
       "      <td>1.167560e+09</td>\n",
       "      <td>HL</td>\n",
       "      <td>HL</td>\n",
       "      <td>1.00</td>\n",
       "      <td>18235.991190</td>\n",
       "      <td>8.863738</td>\n",
       "      <td>9.633432</td>\n",
       "      <td>-1.000000</td>\n",
       "    </tr>\n",
       "    <tr>\n",
       "      <th>5</th>\n",
       "      <td>GW170121_212536</td>\n",
       "      <td>1.169069e+09</td>\n",
       "      <td>HL</td>\n",
       "      <td>HL</td>\n",
       "      <td>1.00</td>\n",
       "      <td>16.109533</td>\n",
       "      <td>5.239263</td>\n",
       "      <td>8.938467</td>\n",
       "      <td>-1.000000</td>\n",
       "    </tr>\n",
       "    <tr>\n",
       "      <th>...</th>\n",
       "      <td>...</td>\n",
       "      <td>...</td>\n",
       "      <td>...</td>\n",
       "      <td>...</td>\n",
       "      <td>...</td>\n",
       "      <td>...</td>\n",
       "      <td>...</td>\n",
       "      <td>...</td>\n",
       "      <td>...</td>\n",
       "    </tr>\n",
       "    <tr>\n",
       "      <th>90</th>\n",
       "      <td>GW200305_084739</td>\n",
       "      <td>1.267433e+09</td>\n",
       "      <td>HLV</td>\n",
       "      <td>HL</td>\n",
       "      <td>0.59</td>\n",
       "      <td>0.019142</td>\n",
       "      <td>4.504479</td>\n",
       "      <td>6.129437</td>\n",
       "      <td>-1.000000</td>\n",
       "    </tr>\n",
       "    <tr>\n",
       "      <th>91</th>\n",
       "      <td>GW200306_093714</td>\n",
       "      <td>1.267523e+09</td>\n",
       "      <td>HL</td>\n",
       "      <td>HL</td>\n",
       "      <td>0.51</td>\n",
       "      <td>0.017822</td>\n",
       "      <td>5.450192</td>\n",
       "      <td>5.895027</td>\n",
       "      <td>-1.000000</td>\n",
       "    </tr>\n",
       "    <tr>\n",
       "      <th>92</th>\n",
       "      <td>GW200311_115853</td>\n",
       "      <td>1.267963e+09</td>\n",
       "      <td>HLV</td>\n",
       "      <td>HLV</td>\n",
       "      <td>1.00</td>\n",
       "      <td>816.945669</td>\n",
       "      <td>12.031339</td>\n",
       "      <td>9.871196</td>\n",
       "      <td>6.675977</td>\n",
       "    </tr>\n",
       "    <tr>\n",
       "      <th>93</th>\n",
       "      <td>GW200316_215756</td>\n",
       "      <td>1.268431e+09</td>\n",
       "      <td>HLV</td>\n",
       "      <td>HL</td>\n",
       "      <td>1.00</td>\n",
       "      <td>22.367677</td>\n",
       "      <td>5.429607</td>\n",
       "      <td>7.815364</td>\n",
       "      <td>-1.000000</td>\n",
       "    </tr>\n",
       "    <tr>\n",
       "      <th>94</th>\n",
       "      <td>GW200318_191337</td>\n",
       "      <td>1.268594e+09</td>\n",
       "      <td>HLV</td>\n",
       "      <td>HL</td>\n",
       "      <td>0.97</td>\n",
       "      <td>0.499391</td>\n",
       "      <td>4.816981</td>\n",
       "      <td>6.206819</td>\n",
       "      <td>-1.000000</td>\n",
       "    </tr>\n",
       "  </tbody>\n",
       "</table>\n",
       "<p>94 rows × 9 columns</p>\n",
       "</div>"
      ],
      "text/plain": [
       "                   Name       GpsTime  Obs Triggered  Pastro          IFAR  \\\n",
       "Number                                                                       \n",
       "1       GW150914_095045  1.126259e+09   HL        HL    1.00  16376.568631   \n",
       "2       GW151012_095443  1.128679e+09   HL        HL    1.00    897.275904   \n",
       "3       GW151226_033853  1.135136e+09   HL        HL    1.00  14799.661708   \n",
       "4       GW170104_101158  1.167560e+09   HL        HL    1.00  18235.991190   \n",
       "5       GW170121_212536  1.169069e+09   HL        HL    1.00     16.109533   \n",
       "...                 ...           ...  ...       ...     ...           ...   \n",
       "90      GW200305_084739  1.267433e+09  HLV        HL    0.59      0.019142   \n",
       "91      GW200306_093714  1.267523e+09   HL        HL    0.51      0.017822   \n",
       "92      GW200311_115853  1.267963e+09  HLV       HLV    1.00    816.945669   \n",
       "93      GW200316_215756  1.268431e+09  HLV        HL    1.00     22.367677   \n",
       "94      GW200318_191337  1.268594e+09  HLV        HL    0.97      0.499391   \n",
       "\n",
       "            SNR_H      SNR_L     SNR_V  \n",
       "Number                                  \n",
       "1       19.934933  13.047992 -1.000000  \n",
       "2        6.885883   6.577003 -1.000000  \n",
       "3       10.518603   7.405562 -1.000000  \n",
       "4        8.863738   9.633432 -1.000000  \n",
       "5        5.239263   8.938467 -1.000000  \n",
       "...           ...        ...       ...  \n",
       "90       4.504479   6.129437 -1.000000  \n",
       "91       5.450192   5.895027 -1.000000  \n",
       "92      12.031339   9.871196  6.675977  \n",
       "93       5.429607   7.815364 -1.000000  \n",
       "94       4.816981   6.206819 -1.000000  \n",
       "\n",
       "[94 rows x 9 columns]"
      ]
     },
     "execution_count": 12,
     "metadata": {},
     "output_type": "execute_result"
    }
   ],
   "source": [
    "# txt => DataFrame\n",
    "df_4OGC = pd.read_csv('./4OGC_top.txt', sep='  ', index_col='Number', names=names[2:-2].split(', '), skiprows=1, engine='python')\n",
    "df_4OGC"
   ]
  },
  {
   "cell_type": "code",
   "execution_count": 13,
   "id": "fddaf676-f433-409d-94cf-d7e169221d63",
   "metadata": {
    "tags": []
   },
   "outputs": [],
   "source": [
    "# hdf5 => DataFrame\n",
    "with h5py.File('./1-OGC.hdf', 'r') as catalog:\n",
    "    df_1OGC = pd.DataFrame(catalog['bbh'][:])"
   ]
  },
  {
   "cell_type": "markdown",
   "id": "573ca701-5693-45c8-bf2f-449667e4f89d",
   "metadata": {},
   "source": [
    "## View data"
   ]
  },
  {
   "cell_type": "markdown",
   "id": "fd6b507b-3769-4d42-9909-184b2d04c774",
   "metadata": {},
   "source": [
    "- 查看导入后数据的头部数据，默认输出前5行。"
   ]
  },
  {
   "cell_type": "code",
   "execution_count": 14,
   "id": "237f79cf-b369-45a5-a94a-9be18596b840",
   "metadata": {
    "tags": []
   },
   "outputs": [
    {
     "data": {
      "text/html": [
       "<div>\n",
       "<style scoped>\n",
       "    .dataframe tbody tr th:only-of-type {\n",
       "        vertical-align: middle;\n",
       "    }\n",
       "\n",
       "    .dataframe tbody tr th {\n",
       "        vertical-align: top;\n",
       "    }\n",
       "\n",
       "    .dataframe thead th {\n",
       "        text-align: right;\n",
       "    }\n",
       "</style>\n",
       "<table border=\"1\" class=\"dataframe\">\n",
       "  <thead>\n",
       "    <tr style=\"text-align: right;\">\n",
       "      <th></th>\n",
       "      <th>chunk</th>\n",
       "      <th>H1_snr</th>\n",
       "      <th>L1_reduced_chisq</th>\n",
       "      <th>L1_end_time</th>\n",
       "      <th>spin1z</th>\n",
       "      <th>H1_chisq_dof</th>\n",
       "      <th>L1_sg_chisq</th>\n",
       "      <th>L1_chisq_dof</th>\n",
       "      <th>L1_snr</th>\n",
       "      <th>H1_coa_phase</th>\n",
       "      <th>...</th>\n",
       "      <th>jd</th>\n",
       "      <th>mass1</th>\n",
       "      <th>name</th>\n",
       "      <th>mass2</th>\n",
       "      <th>H1_sg_chisq</th>\n",
       "      <th>spin2z</th>\n",
       "      <th>H1_sigmasq</th>\n",
       "      <th>tdr</th>\n",
       "      <th>pastro</th>\n",
       "      <th>odds</th>\n",
       "    </tr>\n",
       "  </thead>\n",
       "  <tbody>\n",
       "    <tr>\n",
       "      <th>0</th>\n",
       "      <td>1.0</td>\n",
       "      <td>4.833010</td>\n",
       "      <td>-0.000000</td>\n",
       "      <td>1.126074e+09</td>\n",
       "      <td>0.735548</td>\n",
       "      <td>214</td>\n",
       "      <td>1.0</td>\n",
       "      <td>-100</td>\n",
       "      <td>4.890781</td>\n",
       "      <td>-2.768472</td>\n",
       "      <td>...</td>\n",
       "      <td>2.457278e+06</td>\n",
       "      <td>5.986125</td>\n",
       "      <td>b'150912+06:13:00UTC'</td>\n",
       "      <td>5.216917</td>\n",
       "      <td>1.0</td>\n",
       "      <td>0.968694</td>\n",
       "      <td>18449686.0</td>\n",
       "      <td>0.000028</td>\n",
       "      <td>2.420347e-11</td>\n",
       "      <td>2.420347e-11</td>\n",
       "    </tr>\n",
       "    <tr>\n",
       "      <th>1</th>\n",
       "      <td>1.0</td>\n",
       "      <td>5.042901</td>\n",
       "      <td>-0.000000</td>\n",
       "      <td>1.126074e+09</td>\n",
       "      <td>-0.922598</td>\n",
       "      <td>186</td>\n",
       "      <td>1.0</td>\n",
       "      <td>-100</td>\n",
       "      <td>4.935375</td>\n",
       "      <td>2.565755</td>\n",
       "      <td>...</td>\n",
       "      <td>2.457278e+06</td>\n",
       "      <td>5.961657</td>\n",
       "      <td>b'150912+06:19:09UTC'</td>\n",
       "      <td>4.068976</td>\n",
       "      <td>1.0</td>\n",
       "      <td>0.605111</td>\n",
       "      <td>12820608.0</td>\n",
       "      <td>0.000035</td>\n",
       "      <td>2.322201e-10</td>\n",
       "      <td>2.322201e-10</td>\n",
       "    </tr>\n",
       "    <tr>\n",
       "      <th>2</th>\n",
       "      <td>1.0</td>\n",
       "      <td>5.678490</td>\n",
       "      <td>0.000000</td>\n",
       "      <td>1.126074e+09</td>\n",
       "      <td>0.359088</td>\n",
       "      <td>48</td>\n",
       "      <td>1.0</td>\n",
       "      <td>48</td>\n",
       "      <td>4.572548</td>\n",
       "      <td>-0.776491</td>\n",
       "      <td>...</td>\n",
       "      <td>2.457278e+06</td>\n",
       "      <td>60.465069</td>\n",
       "      <td>b'150912+06:26:35UTC'</td>\n",
       "      <td>2.944411</td>\n",
       "      <td>1.0</td>\n",
       "      <td>0.238403</td>\n",
       "      <td>24585170.0</td>\n",
       "      <td>0.000036</td>\n",
       "      <td>4.259693e-10</td>\n",
       "      <td>4.259693e-10</td>\n",
       "    </tr>\n",
       "    <tr>\n",
       "      <th>3</th>\n",
       "      <td>1.0</td>\n",
       "      <td>4.615423</td>\n",
       "      <td>-0.000000</td>\n",
       "      <td>1.126075e+09</td>\n",
       "      <td>0.838187</td>\n",
       "      <td>-100</td>\n",
       "      <td>1.0</td>\n",
       "      <td>-100</td>\n",
       "      <td>4.969444</td>\n",
       "      <td>1.009600</td>\n",
       "      <td>...</td>\n",
       "      <td>2.457278e+06</td>\n",
       "      <td>11.926704</td>\n",
       "      <td>b'150912+06:42:42UTC'</td>\n",
       "      <td>7.567072</td>\n",
       "      <td>1.0</td>\n",
       "      <td>0.077454</td>\n",
       "      <td>41936048.0</td>\n",
       "      <td>0.000028</td>\n",
       "      <td>2.420347e-11</td>\n",
       "      <td>2.420347e-11</td>\n",
       "    </tr>\n",
       "    <tr>\n",
       "      <th>4</th>\n",
       "      <td>1.0</td>\n",
       "      <td>5.205948</td>\n",
       "      <td>0.973344</td>\n",
       "      <td>1.126076e+09</td>\n",
       "      <td>-0.132135</td>\n",
       "      <td>-100</td>\n",
       "      <td>1.0</td>\n",
       "      <td>212</td>\n",
       "      <td>5.520049</td>\n",
       "      <td>2.674877</td>\n",
       "      <td>...</td>\n",
       "      <td>2.457278e+06</td>\n",
       "      <td>5.438966</td>\n",
       "      <td>b'150912+06:46:35UTC'</td>\n",
       "      <td>3.128970</td>\n",
       "      <td>1.0</td>\n",
       "      <td>-0.303846</td>\n",
       "      <td>9825482.0</td>\n",
       "      <td>0.000653</td>\n",
       "      <td>1.452786e-05</td>\n",
       "      <td>1.452807e-05</td>\n",
       "    </tr>\n",
       "  </tbody>\n",
       "</table>\n",
       "<p>5 rows × 27 columns</p>\n",
       "</div>"
      ],
      "text/plain": [
       "   chunk    H1_snr  L1_reduced_chisq   L1_end_time    spin1z  H1_chisq_dof  \\\n",
       "0    1.0  4.833010         -0.000000  1.126074e+09  0.735548           214   \n",
       "1    1.0  5.042901         -0.000000  1.126074e+09 -0.922598           186   \n",
       "2    1.0  5.678490          0.000000  1.126074e+09  0.359088            48   \n",
       "3    1.0  4.615423         -0.000000  1.126075e+09  0.838187          -100   \n",
       "4    1.0  5.205948          0.973344  1.126076e+09 -0.132135          -100   \n",
       "\n",
       "   L1_sg_chisq  L1_chisq_dof    L1_snr  H1_coa_phase  ...            jd  \\\n",
       "0          1.0          -100  4.890781     -2.768472  ...  2.457278e+06   \n",
       "1          1.0          -100  4.935375      2.565755  ...  2.457278e+06   \n",
       "2          1.0            48  4.572548     -0.776491  ...  2.457278e+06   \n",
       "3          1.0          -100  4.969444      1.009600  ...  2.457278e+06   \n",
       "4          1.0           212  5.520049      2.674877  ...  2.457278e+06   \n",
       "\n",
       "       mass1                   name     mass2  H1_sg_chisq    spin2z  \\\n",
       "0   5.986125  b'150912+06:13:00UTC'  5.216917          1.0  0.968694   \n",
       "1   5.961657  b'150912+06:19:09UTC'  4.068976          1.0  0.605111   \n",
       "2  60.465069  b'150912+06:26:35UTC'  2.944411          1.0  0.238403   \n",
       "3  11.926704  b'150912+06:42:42UTC'  7.567072          1.0  0.077454   \n",
       "4   5.438966  b'150912+06:46:35UTC'  3.128970          1.0 -0.303846   \n",
       "\n",
       "   H1_sigmasq       tdr        pastro          odds  \n",
       "0  18449686.0  0.000028  2.420347e-11  2.420347e-11  \n",
       "1  12820608.0  0.000035  2.322201e-10  2.322201e-10  \n",
       "2  24585170.0  0.000036  4.259693e-10  4.259693e-10  \n",
       "3  41936048.0  0.000028  2.420347e-11  2.420347e-11  \n",
       "4   9825482.0  0.000653  1.452786e-05  1.452807e-05  \n",
       "\n",
       "[5 rows x 27 columns]"
      ]
     },
     "execution_count": 14,
     "metadata": {},
     "output_type": "execute_result"
    }
   ],
   "source": [
    "df_1OGC.head()"
   ]
  },
  {
   "cell_type": "code",
   "execution_count": 15,
   "id": "56689eea-4f8d-4971-9f59-74dc236c2138",
   "metadata": {
    "tags": []
   },
   "outputs": [
    {
     "data": {
      "text/html": [
       "<div>\n",
       "<style scoped>\n",
       "    .dataframe tbody tr th:only-of-type {\n",
       "        vertical-align: middle;\n",
       "    }\n",
       "\n",
       "    .dataframe tbody tr th {\n",
       "        vertical-align: top;\n",
       "    }\n",
       "\n",
       "    .dataframe thead th {\n",
       "        text-align: right;\n",
       "    }\n",
       "</style>\n",
       "<table border=\"1\" class=\"dataframe\">\n",
       "  <thead>\n",
       "    <tr style=\"text-align: right;\">\n",
       "      <th></th>\n",
       "      <th>Name</th>\n",
       "      <th>GpsTime</th>\n",
       "      <th>Obs</th>\n",
       "      <th>Triggered</th>\n",
       "      <th>Pastro</th>\n",
       "      <th>IFAR</th>\n",
       "      <th>SNR_H</th>\n",
       "      <th>SNR_L</th>\n",
       "      <th>SNR_V</th>\n",
       "    </tr>\n",
       "    <tr>\n",
       "      <th>Number</th>\n",
       "      <th></th>\n",
       "      <th></th>\n",
       "      <th></th>\n",
       "      <th></th>\n",
       "      <th></th>\n",
       "      <th></th>\n",
       "      <th></th>\n",
       "      <th></th>\n",
       "      <th></th>\n",
       "    </tr>\n",
       "  </thead>\n",
       "  <tbody>\n",
       "    <tr>\n",
       "      <th>1</th>\n",
       "      <td>GW150914_095045</td>\n",
       "      <td>1.126259e+09</td>\n",
       "      <td>HL</td>\n",
       "      <td>HL</td>\n",
       "      <td>1.0</td>\n",
       "      <td>16376.568631</td>\n",
       "      <td>19.934933</td>\n",
       "      <td>13.047992</td>\n",
       "      <td>-1.0</td>\n",
       "    </tr>\n",
       "    <tr>\n",
       "      <th>2</th>\n",
       "      <td>GW151012_095443</td>\n",
       "      <td>1.128679e+09</td>\n",
       "      <td>HL</td>\n",
       "      <td>HL</td>\n",
       "      <td>1.0</td>\n",
       "      <td>897.275904</td>\n",
       "      <td>6.885883</td>\n",
       "      <td>6.577003</td>\n",
       "      <td>-1.0</td>\n",
       "    </tr>\n",
       "    <tr>\n",
       "      <th>3</th>\n",
       "      <td>GW151226_033853</td>\n",
       "      <td>1.135136e+09</td>\n",
       "      <td>HL</td>\n",
       "      <td>HL</td>\n",
       "      <td>1.0</td>\n",
       "      <td>14799.661708</td>\n",
       "      <td>10.518603</td>\n",
       "      <td>7.405562</td>\n",
       "      <td>-1.0</td>\n",
       "    </tr>\n",
       "    <tr>\n",
       "      <th>4</th>\n",
       "      <td>GW170104_101158</td>\n",
       "      <td>1.167560e+09</td>\n",
       "      <td>HL</td>\n",
       "      <td>HL</td>\n",
       "      <td>1.0</td>\n",
       "      <td>18235.991190</td>\n",
       "      <td>8.863738</td>\n",
       "      <td>9.633432</td>\n",
       "      <td>-1.0</td>\n",
       "    </tr>\n",
       "    <tr>\n",
       "      <th>5</th>\n",
       "      <td>GW170121_212536</td>\n",
       "      <td>1.169069e+09</td>\n",
       "      <td>HL</td>\n",
       "      <td>HL</td>\n",
       "      <td>1.0</td>\n",
       "      <td>16.109533</td>\n",
       "      <td>5.239263</td>\n",
       "      <td>8.938467</td>\n",
       "      <td>-1.0</td>\n",
       "    </tr>\n",
       "  </tbody>\n",
       "</table>\n",
       "</div>"
      ],
      "text/plain": [
       "                   Name       GpsTime Obs Triggered  Pastro          IFAR  \\\n",
       "Number                                                                      \n",
       "1       GW150914_095045  1.126259e+09  HL        HL     1.0  16376.568631   \n",
       "2       GW151012_095443  1.128679e+09  HL        HL     1.0    897.275904   \n",
       "3       GW151226_033853  1.135136e+09  HL        HL     1.0  14799.661708   \n",
       "4       GW170104_101158  1.167560e+09  HL        HL     1.0  18235.991190   \n",
       "5       GW170121_212536  1.169069e+09  HL        HL     1.0     16.109533   \n",
       "\n",
       "            SNR_H      SNR_L  SNR_V  \n",
       "Number                               \n",
       "1       19.934933  13.047992   -1.0  \n",
       "2        6.885883   6.577003   -1.0  \n",
       "3       10.518603   7.405562   -1.0  \n",
       "4        8.863738   9.633432   -1.0  \n",
       "5        5.239263   8.938467   -1.0  "
      ]
     },
     "execution_count": 15,
     "metadata": {},
     "output_type": "execute_result"
    }
   ],
   "source": [
    "df_4OGC.head()"
   ]
  },
  {
   "cell_type": "markdown",
   "id": "74543f75-d41c-45e5-89b3-3d4f8ce0caf8",
   "metadata": {},
   "source": [
    "- 确认一下数据的规模"
   ]
  },
  {
   "cell_type": "code",
   "execution_count": 16,
   "id": "eda70608-9c83-42bf-bf4b-2d6b13f3f3f4",
   "metadata": {
    "tags": []
   },
   "outputs": [
    {
     "data": {
      "text/plain": [
       "((12741, 27), (94, 9))"
      ]
     },
     "execution_count": 16,
     "metadata": {},
     "output_type": "execute_result"
    }
   ],
   "source": [
    "df_1OGC.shape, df_4OGC.shape"
   ]
  },
  {
   "cell_type": "markdown",
   "id": "f22a54b8-5380-4007-8b27-827f39691afa",
   "metadata": {},
   "source": [
    "- 检查一下导入的数据情况"
   ]
  },
  {
   "cell_type": "code",
   "execution_count": 17,
   "id": "26adc3f1-f5b7-4c55-9f38-8e54446cd6fa",
   "metadata": {
    "tags": []
   },
   "outputs": [
    {
     "name": "stdout",
     "output_type": "stream",
     "text": [
      "<class 'pandas.core.frame.DataFrame'>\n",
      "RangeIndex: 12741 entries, 0 to 12740\n",
      "Data columns (total 27 columns):\n",
      " #   Column            Non-Null Count  Dtype  \n",
      "---  ------            --------------  -----  \n",
      " 0   chunk             12741 non-null  float64\n",
      " 1   H1_snr            12741 non-null  float32\n",
      " 2   L1_reduced_chisq  12741 non-null  float64\n",
      " 3   L1_end_time       12741 non-null  float64\n",
      " 4   spin1z            12741 non-null  float32\n",
      " 5   H1_chisq_dof      12741 non-null  int64  \n",
      " 6   L1_sg_chisq       12741 non-null  float32\n",
      " 7   L1_chisq_dof      12741 non-null  int64  \n",
      " 8   L1_snr            12741 non-null  float32\n",
      " 9   H1_coa_phase      12741 non-null  float32\n",
      " 10  L1_coa_phase      12741 non-null  float32\n",
      " 11  stat              12741 non-null  float32\n",
      " 12  f_lower           12741 non-null  float32\n",
      " 13  far               12741 non-null  float64\n",
      " 14  H1_reduced_chisq  12741 non-null  float64\n",
      " 15  H1_end_time       12741 non-null  float64\n",
      " 16  L1_sigmasq        12741 non-null  float32\n",
      " 17  jd                12741 non-null  float64\n",
      " 18  mass1             12741 non-null  float32\n",
      " 19  name              12741 non-null  object \n",
      " 20  mass2             12741 non-null  float32\n",
      " 21  H1_sg_chisq       12741 non-null  float32\n",
      " 22  spin2z            12741 non-null  float32\n",
      " 23  H1_sigmasq        12741 non-null  float32\n",
      " 24  tdr               12741 non-null  float64\n",
      " 25  pastro            12741 non-null  float32\n",
      " 26  odds              12741 non-null  float32\n",
      "dtypes: float32(16), float64(8), int64(2), object(1)\n",
      "memory usage: 1.8+ MB\n",
      "<class 'pandas.core.frame.DataFrame'>\n",
      "Index: 94 entries, 1 to 94\n",
      "Data columns (total 9 columns):\n",
      " #   Column     Non-Null Count  Dtype  \n",
      "---  ------     --------------  -----  \n",
      " 0   Name       94 non-null     object \n",
      " 1   GpsTime    94 non-null     float64\n",
      " 2   Obs        94 non-null     object \n",
      " 3   Triggered  94 non-null     object \n",
      " 4   Pastro     94 non-null     float64\n",
      " 5   IFAR       94 non-null     float64\n",
      " 6   SNR_H      94 non-null     float64\n",
      " 7   SNR_L      94 non-null     float64\n",
      " 8   SNR_V      94 non-null     float64\n",
      "dtypes: float64(6), object(3)\n",
      "memory usage: 7.3+ KB\n"
     ]
    }
   ],
   "source": [
    "df_1OGC.info(), df_4OGC.info();"
   ]
  },
  {
   "cell_type": "markdown",
   "id": "62486f74-d779-4dd8-adc1-52082bd5fc53",
   "metadata": {},
   "source": [
    "- 对数据切片，取出部分数据特征维度"
   ]
  },
  {
   "cell_type": "code",
   "execution_count": 18,
   "id": "fcd7f93d-427b-499e-8597-1e1b22cfcb75",
   "metadata": {
    "tags": []
   },
   "outputs": [],
   "source": [
    "df_1OGC_demo = df_1OGC[['name', 'H1_snr', 'H1_end_time', 'L1_snr', 'L1_end_time', 'pastro', 'far']]\n",
    "df_4OGC_demo = df_4OGC[['Name', 'GpsTime', 'SNR_H', 'SNR_L', 'Pastro', 'IFAR']]"
   ]
  },
  {
   "cell_type": "code",
   "execution_count": 19,
   "id": "80f37f2f-212d-4965-9834-f8d436ad4f5d",
   "metadata": {
    "tags": []
   },
   "outputs": [
    {
     "data": {
      "text/html": [
       "<div>\n",
       "<style scoped>\n",
       "    .dataframe tbody tr th:only-of-type {\n",
       "        vertical-align: middle;\n",
       "    }\n",
       "\n",
       "    .dataframe tbody tr th {\n",
       "        vertical-align: top;\n",
       "    }\n",
       "\n",
       "    .dataframe thead th {\n",
       "        text-align: right;\n",
       "    }\n",
       "</style>\n",
       "<table border=\"1\" class=\"dataframe\">\n",
       "  <thead>\n",
       "    <tr style=\"text-align: right;\">\n",
       "      <th></th>\n",
       "      <th>name</th>\n",
       "      <th>H1_snr</th>\n",
       "      <th>H1_end_time</th>\n",
       "      <th>L1_snr</th>\n",
       "      <th>L1_end_time</th>\n",
       "      <th>pastro</th>\n",
       "      <th>far</th>\n",
       "    </tr>\n",
       "  </thead>\n",
       "  <tbody>\n",
       "    <tr>\n",
       "      <th>0</th>\n",
       "      <td>b'150912+06:13:00UTC'</td>\n",
       "      <td>4.833010</td>\n",
       "      <td>1.126074e+09</td>\n",
       "      <td>4.890781</td>\n",
       "      <td>1.126074e+09</td>\n",
       "      <td>2.420347e-11</td>\n",
       "      <td>98138.077512</td>\n",
       "    </tr>\n",
       "    <tr>\n",
       "      <th>1</th>\n",
       "      <td>b'150912+06:19:09UTC'</td>\n",
       "      <td>5.042901</td>\n",
       "      <td>1.126074e+09</td>\n",
       "      <td>4.935375</td>\n",
       "      <td>1.126074e+09</td>\n",
       "      <td>2.322201e-10</td>\n",
       "      <td>78064.127309</td>\n",
       "    </tr>\n",
       "    <tr>\n",
       "      <th>2</th>\n",
       "      <td>b'150912+06:26:35UTC'</td>\n",
       "      <td>5.678490</td>\n",
       "      <td>1.126074e+09</td>\n",
       "      <td>4.572548</td>\n",
       "      <td>1.126074e+09</td>\n",
       "      <td>4.259693e-10</td>\n",
       "      <td>75231.066448</td>\n",
       "    </tr>\n",
       "    <tr>\n",
       "      <th>3</th>\n",
       "      <td>b'150912+06:42:42UTC'</td>\n",
       "      <td>4.615423</td>\n",
       "      <td>1.126075e+09</td>\n",
       "      <td>4.969444</td>\n",
       "      <td>1.126075e+09</td>\n",
       "      <td>2.420347e-11</td>\n",
       "      <td>98138.077512</td>\n",
       "    </tr>\n",
       "    <tr>\n",
       "      <th>4</th>\n",
       "      <td>b'150912+06:46:35UTC'</td>\n",
       "      <td>5.205948</td>\n",
       "      <td>1.126076e+09</td>\n",
       "      <td>5.520049</td>\n",
       "      <td>1.126076e+09</td>\n",
       "      <td>1.452786e-05</td>\n",
       "      <td>4129.663836</td>\n",
       "    </tr>\n",
       "  </tbody>\n",
       "</table>\n",
       "</div>"
      ],
      "text/plain": [
       "                    name    H1_snr   H1_end_time    L1_snr   L1_end_time  \\\n",
       "0  b'150912+06:13:00UTC'  4.833010  1.126074e+09  4.890781  1.126074e+09   \n",
       "1  b'150912+06:19:09UTC'  5.042901  1.126074e+09  4.935375  1.126074e+09   \n",
       "2  b'150912+06:26:35UTC'  5.678490  1.126074e+09  4.572548  1.126074e+09   \n",
       "3  b'150912+06:42:42UTC'  4.615423  1.126075e+09  4.969444  1.126075e+09   \n",
       "4  b'150912+06:46:35UTC'  5.205948  1.126076e+09  5.520049  1.126076e+09   \n",
       "\n",
       "         pastro           far  \n",
       "0  2.420347e-11  98138.077512  \n",
       "1  2.322201e-10  78064.127309  \n",
       "2  4.259693e-10  75231.066448  \n",
       "3  2.420347e-11  98138.077512  \n",
       "4  1.452786e-05   4129.663836  "
      ]
     },
     "execution_count": 19,
     "metadata": {},
     "output_type": "execute_result"
    }
   ],
   "source": [
    "df_1OGC_demo.head()"
   ]
  },
  {
   "cell_type": "code",
   "execution_count": 20,
   "id": "bcdacb03-faf8-4c78-aec4-666abf357142",
   "metadata": {
    "tags": []
   },
   "outputs": [
    {
     "data": {
      "text/html": [
       "<div>\n",
       "<style scoped>\n",
       "    .dataframe tbody tr th:only-of-type {\n",
       "        vertical-align: middle;\n",
       "    }\n",
       "\n",
       "    .dataframe tbody tr th {\n",
       "        vertical-align: top;\n",
       "    }\n",
       "\n",
       "    .dataframe thead th {\n",
       "        text-align: right;\n",
       "    }\n",
       "</style>\n",
       "<table border=\"1\" class=\"dataframe\">\n",
       "  <thead>\n",
       "    <tr style=\"text-align: right;\">\n",
       "      <th></th>\n",
       "      <th>Name</th>\n",
       "      <th>GpsTime</th>\n",
       "      <th>SNR_H</th>\n",
       "      <th>SNR_L</th>\n",
       "      <th>Pastro</th>\n",
       "      <th>IFAR</th>\n",
       "    </tr>\n",
       "    <tr>\n",
       "      <th>Number</th>\n",
       "      <th></th>\n",
       "      <th></th>\n",
       "      <th></th>\n",
       "      <th></th>\n",
       "      <th></th>\n",
       "      <th></th>\n",
       "    </tr>\n",
       "  </thead>\n",
       "  <tbody>\n",
       "    <tr>\n",
       "      <th>1</th>\n",
       "      <td>GW150914_095045</td>\n",
       "      <td>1.126259e+09</td>\n",
       "      <td>19.934933</td>\n",
       "      <td>13.047992</td>\n",
       "      <td>1.0</td>\n",
       "      <td>16376.568631</td>\n",
       "    </tr>\n",
       "    <tr>\n",
       "      <th>2</th>\n",
       "      <td>GW151012_095443</td>\n",
       "      <td>1.128679e+09</td>\n",
       "      <td>6.885883</td>\n",
       "      <td>6.577003</td>\n",
       "      <td>1.0</td>\n",
       "      <td>897.275904</td>\n",
       "    </tr>\n",
       "    <tr>\n",
       "      <th>3</th>\n",
       "      <td>GW151226_033853</td>\n",
       "      <td>1.135136e+09</td>\n",
       "      <td>10.518603</td>\n",
       "      <td>7.405562</td>\n",
       "      <td>1.0</td>\n",
       "      <td>14799.661708</td>\n",
       "    </tr>\n",
       "    <tr>\n",
       "      <th>4</th>\n",
       "      <td>GW170104_101158</td>\n",
       "      <td>1.167560e+09</td>\n",
       "      <td>8.863738</td>\n",
       "      <td>9.633432</td>\n",
       "      <td>1.0</td>\n",
       "      <td>18235.991190</td>\n",
       "    </tr>\n",
       "    <tr>\n",
       "      <th>5</th>\n",
       "      <td>GW170121_212536</td>\n",
       "      <td>1.169069e+09</td>\n",
       "      <td>5.239263</td>\n",
       "      <td>8.938467</td>\n",
       "      <td>1.0</td>\n",
       "      <td>16.109533</td>\n",
       "    </tr>\n",
       "  </tbody>\n",
       "</table>\n",
       "</div>"
      ],
      "text/plain": [
       "                   Name       GpsTime      SNR_H      SNR_L  Pastro  \\\n",
       "Number                                                                \n",
       "1       GW150914_095045  1.126259e+09  19.934933  13.047992     1.0   \n",
       "2       GW151012_095443  1.128679e+09   6.885883   6.577003     1.0   \n",
       "3       GW151226_033853  1.135136e+09  10.518603   7.405562     1.0   \n",
       "4       GW170104_101158  1.167560e+09   8.863738   9.633432     1.0   \n",
       "5       GW170121_212536  1.169069e+09   5.239263   8.938467     1.0   \n",
       "\n",
       "                IFAR  \n",
       "Number                \n",
       "1       16376.568631  \n",
       "2         897.275904  \n",
       "3       14799.661708  \n",
       "4       18235.991190  \n",
       "5          16.109533  "
      ]
     },
     "execution_count": 20,
     "metadata": {},
     "output_type": "execute_result"
    }
   ],
   "source": [
    "df_4OGC_demo.head()"
   ]
  },
  {
   "cell_type": "markdown",
   "id": "291ff0e8-65f9-4094-9cfe-922e3e12f2c3",
   "metadata": {
    "tags": []
   },
   "source": [
    "## 数据清理"
   ]
  },
  {
   "cell_type": "markdown",
   "id": "6f82de6c-8a3b-4195-8f55-089d4c5c477a",
   "metadata": {},
   "source": [
    "- 要想让两个数据产生“关联”，就一定要有唯一的“id”作为指引\n",
    "    - 对 1-OGC 和 4-OGC 数据的 `name`/`Name` 特征进行数据清理\n",
    "    "
   ]
  },
  {
   "cell_type": "code",
   "execution_count": 27,
   "id": "0e4d7bef-8135-4b38-9f09-25c8d31f3533",
   "metadata": {
    "tags": []
   },
   "outputs": [],
   "source": [
    "df_1OGC_demo['ID'] = df_1OGC_demo.name.map(lambda x: x.decode()[:-3].replace('+','_').replace(':', ''))\n",
    "df_4OGC_demo['ID'] = df_4OGC_demo.Name.map(lambda x: x[2:])"
   ]
  },
  {
   "cell_type": "markdown",
   "id": "f150795a-073f-43ee-bfdf-8565c5ba6d82",
   "metadata": {},
   "source": [
    "- 分别构造一个 `datetime` 对象的数据特征，以方便解析数据\n",
    "\n",
    "Case: \n",
    "\n",
    "```python\n",
    "from datetime import datetime\n",
    "\n",
    "encoded_string = b'150912+06:13:00UTC'\n",
    "decoded_string = encoded_string.decode('utf-8')  # 将字节串解码为字符串\n",
    "dt = datetime.strptime(decoded_string, '%y%m%d+%H:%M:%S%Z')\n",
    "\n",
    "print(dt)\n",
    "```"
   ]
  },
  {
   "cell_type": "code",
   "execution_count": 36,
   "id": "91ae2312-7fe4-4828-92c5-8687ac6d65b9",
   "metadata": {
    "tags": []
   },
   "outputs": [],
   "source": [
    "df_1OGC_demo.loc[:,'Date'] = df_1OGC_demo.name.map(lambda x: datetime.strptime(x.decode(), '%y%m%d+%H:%M:%S%Z'))\n",
    "df_4OGC_demo.loc[:,'Date'] = df_4OGC_demo.Name.map(lambda x: datetime.strptime(x[2:], '%y%m%d_%H%M%S'))"
   ]
  },
  {
   "cell_type": "markdown",
   "id": "daceff9b-6e2e-4aeb-92d3-f5a9708165b6",
   "metadata": {},
   "source": [
    "- 构造一个新的 network SNR 数据特征\n",
    "    - `sqrt(H1^2 + L1^2)`"
   ]
  },
  {
   "cell_type": "code",
   "execution_count": 40,
   "id": "6ed8b3a8-72d4-4b6f-97e7-748bbfdfeea5",
   "metadata": {
    "tags": []
   },
   "outputs": [],
   "source": [
    "df_1OGC_demo.loc[:,'network_snr'] = np.sqrt(df_1OGC_demo.H1_snr**2 + df_1OGC_demo.L1_snr**2)\n",
    "df_4OGC_demo.loc[:,'network_snr'] = np.sqrt(df_4OGC_demo.SNR_H**2 + df_4OGC_demo.SNR_L**2)"
   ]
  },
  {
   "cell_type": "markdown",
   "id": "f9129871-587b-4668-81d9-2513556d612e",
   "metadata": {},
   "source": [
    "- 整理误报率特征为统一的量纲"
   ]
  },
  {
   "cell_type": "code",
   "execution_count": 43,
   "id": "c6dced2d-25e7-454d-a76b-bf2267251a17",
   "metadata": {
    "tags": []
   },
   "outputs": [],
   "source": [
    "df_4OGC_demo.insert(0, 'far', 1/df_4OGC_demo.IFAR)"
   ]
  },
  {
   "cell_type": "markdown",
   "id": "a86708d9-f408-4158-988c-975944029c6b",
   "metadata": {},
   "source": [
    "- 其他"
   ]
  },
  {
   "cell_type": "code",
   "execution_count": 45,
   "id": "105430aa-dc0c-44b9-a658-e6c4050b9125",
   "metadata": {
    "tags": []
   },
   "outputs": [],
   "source": [
    "# 去掉不要的数据特征列\n",
    "df_1OGC_demo = df_1OGC_demo.drop(['name', 'H1_snr', 'L1_snr', 'H1_end_time', 'L1_end_time'], axis=1)\n",
    "df_4OGC_demo = df_4OGC_demo.drop(['Name', 'IFAR', 'SNR_H', 'SNR_L', 'GpsTime'], axis=1)"
   ]
  },
  {
   "cell_type": "code",
   "execution_count": 47,
   "id": "2b2cc3db-3bb6-488a-abf2-fc266abb0415",
   "metadata": {
    "tags": []
   },
   "outputs": [],
   "source": [
    "# 将ID作为索引\n",
    "df_1OGC_demo = df_1OGC_demo.set_index('ID')\n",
    "df_4OGC_demo = df_4OGC_demo.set_index('ID')"
   ]
  },
  {
   "cell_type": "code",
   "execution_count": 48,
   "id": "5b9b6c18-8fd7-43eb-b744-bcf34cf801f6",
   "metadata": {
    "tags": []
   },
   "outputs": [
    {
     "data": {
      "text/html": [
       "<div>\n",
       "<style scoped>\n",
       "    .dataframe tbody tr th:only-of-type {\n",
       "        vertical-align: middle;\n",
       "    }\n",
       "\n",
       "    .dataframe tbody tr th {\n",
       "        vertical-align: top;\n",
       "    }\n",
       "\n",
       "    .dataframe thead th {\n",
       "        text-align: right;\n",
       "    }\n",
       "</style>\n",
       "<table border=\"1\" class=\"dataframe\">\n",
       "  <thead>\n",
       "    <tr style=\"text-align: right;\">\n",
       "      <th></th>\n",
       "      <th>pastro</th>\n",
       "      <th>far</th>\n",
       "      <th>Date</th>\n",
       "      <th>network_snr</th>\n",
       "    </tr>\n",
       "    <tr>\n",
       "      <th>ID</th>\n",
       "      <th></th>\n",
       "      <th></th>\n",
       "      <th></th>\n",
       "      <th></th>\n",
       "    </tr>\n",
       "  </thead>\n",
       "  <tbody>\n",
       "    <tr>\n",
       "      <th>150912_061300</th>\n",
       "      <td>2.420347e-11</td>\n",
       "      <td>98138.077512</td>\n",
       "      <td>2015-09-12 06:13:00</td>\n",
       "      <td>6.875880</td>\n",
       "    </tr>\n",
       "    <tr>\n",
       "      <th>150912_061909</th>\n",
       "      <td>2.322201e-10</td>\n",
       "      <td>78064.127309</td>\n",
       "      <td>2015-09-12 06:19:09</td>\n",
       "      <td>7.056116</td>\n",
       "    </tr>\n",
       "    <tr>\n",
       "      <th>150912_062635</th>\n",
       "      <td>4.259693e-10</td>\n",
       "      <td>75231.066448</td>\n",
       "      <td>2015-09-12 06:26:35</td>\n",
       "      <td>7.290641</td>\n",
       "    </tr>\n",
       "    <tr>\n",
       "      <th>150912_064242</th>\n",
       "      <td>2.420347e-11</td>\n",
       "      <td>98138.077512</td>\n",
       "      <td>2015-09-12 06:42:42</td>\n",
       "      <td>6.782146</td>\n",
       "    </tr>\n",
       "    <tr>\n",
       "      <th>150912_064635</th>\n",
       "      <td>1.452786e-05</td>\n",
       "      <td>4129.663836</td>\n",
       "      <td>2015-09-12 06:46:35</td>\n",
       "      <td>7.587676</td>\n",
       "    </tr>\n",
       "    <tr>\n",
       "      <th>...</th>\n",
       "      <td>...</td>\n",
       "      <td>...</td>\n",
       "      <td>...</td>\n",
       "      <td>...</td>\n",
       "    </tr>\n",
       "    <tr>\n",
       "      <th>160119_144637</th>\n",
       "      <td>2.678670e-09</td>\n",
       "      <td>71456.714968</td>\n",
       "      <td>2016-01-19 14:46:37</td>\n",
       "      <td>6.863019</td>\n",
       "    </tr>\n",
       "    <tr>\n",
       "      <th>160119_144735</th>\n",
       "      <td>1.076392e-09</td>\n",
       "      <td>76124.381660</td>\n",
       "      <td>2016-01-19 14:47:35</td>\n",
       "      <td>6.783543</td>\n",
       "    </tr>\n",
       "    <tr>\n",
       "      <th>160119_145105</th>\n",
       "      <td>7.124927e-04</td>\n",
       "      <td>277.011643</td>\n",
       "      <td>2016-01-19 14:51:05</td>\n",
       "      <td>7.661174</td>\n",
       "    </tr>\n",
       "    <tr>\n",
       "      <th>160119_145343</th>\n",
       "      <td>2.667221e-10</td>\n",
       "      <td>81853.950827</td>\n",
       "      <td>2016-01-19 14:53:43</td>\n",
       "      <td>7.167346</td>\n",
       "    </tr>\n",
       "    <tr>\n",
       "      <th>160119_145652</th>\n",
       "      <td>1.797246e-10</td>\n",
       "      <td>95037.867824</td>\n",
       "      <td>2016-01-19 14:56:52</td>\n",
       "      <td>6.935635</td>\n",
       "    </tr>\n",
       "  </tbody>\n",
       "</table>\n",
       "<p>12741 rows × 4 columns</p>\n",
       "</div>"
      ],
      "text/plain": [
       "                     pastro           far                Date  network_snr\n",
       "ID                                                                        \n",
       "150912_061300  2.420347e-11  98138.077512 2015-09-12 06:13:00     6.875880\n",
       "150912_061909  2.322201e-10  78064.127309 2015-09-12 06:19:09     7.056116\n",
       "150912_062635  4.259693e-10  75231.066448 2015-09-12 06:26:35     7.290641\n",
       "150912_064242  2.420347e-11  98138.077512 2015-09-12 06:42:42     6.782146\n",
       "150912_064635  1.452786e-05   4129.663836 2015-09-12 06:46:35     7.587676\n",
       "...                     ...           ...                 ...          ...\n",
       "160119_144637  2.678670e-09  71456.714968 2016-01-19 14:46:37     6.863019\n",
       "160119_144735  1.076392e-09  76124.381660 2016-01-19 14:47:35     6.783543\n",
       "160119_145105  7.124927e-04    277.011643 2016-01-19 14:51:05     7.661174\n",
       "160119_145343  2.667221e-10  81853.950827 2016-01-19 14:53:43     7.167346\n",
       "160119_145652  1.797246e-10  95037.867824 2016-01-19 14:56:52     6.935635\n",
       "\n",
       "[12741 rows x 4 columns]"
      ]
     },
     "execution_count": 48,
     "metadata": {},
     "output_type": "execute_result"
    }
   ],
   "source": [
    "df_1OGC_demo"
   ]
  },
  {
   "cell_type": "code",
   "execution_count": 49,
   "id": "e6bcb359-f830-4e8b-b7d2-94a8c3b0541f",
   "metadata": {
    "tags": []
   },
   "outputs": [
    {
     "data": {
      "text/html": [
       "<div>\n",
       "<style scoped>\n",
       "    .dataframe tbody tr th:only-of-type {\n",
       "        vertical-align: middle;\n",
       "    }\n",
       "\n",
       "    .dataframe tbody tr th {\n",
       "        vertical-align: top;\n",
       "    }\n",
       "\n",
       "    .dataframe thead th {\n",
       "        text-align: right;\n",
       "    }\n",
       "</style>\n",
       "<table border=\"1\" class=\"dataframe\">\n",
       "  <thead>\n",
       "    <tr style=\"text-align: right;\">\n",
       "      <th></th>\n",
       "      <th>far</th>\n",
       "      <th>Pastro</th>\n",
       "      <th>Date</th>\n",
       "      <th>network_snr</th>\n",
       "    </tr>\n",
       "    <tr>\n",
       "      <th>ID</th>\n",
       "      <th></th>\n",
       "      <th></th>\n",
       "      <th></th>\n",
       "      <th></th>\n",
       "    </tr>\n",
       "  </thead>\n",
       "  <tbody>\n",
       "    <tr>\n",
       "      <th>150914_095045</th>\n",
       "      <td>0.000061</td>\n",
       "      <td>1.00</td>\n",
       "      <td>2015-09-14 09:50:45</td>\n",
       "      <td>23.825441</td>\n",
       "    </tr>\n",
       "    <tr>\n",
       "      <th>151012_095443</th>\n",
       "      <td>0.001114</td>\n",
       "      <td>1.00</td>\n",
       "      <td>2015-10-12 09:54:43</td>\n",
       "      <td>9.522203</td>\n",
       "    </tr>\n",
       "    <tr>\n",
       "      <th>151226_033853</th>\n",
       "      <td>0.000068</td>\n",
       "      <td>1.00</td>\n",
       "      <td>2015-12-26 03:38:53</td>\n",
       "      <td>12.864034</td>\n",
       "    </tr>\n",
       "    <tr>\n",
       "      <th>170104_101158</th>\n",
       "      <td>0.000055</td>\n",
       "      <td>1.00</td>\n",
       "      <td>2017-01-04 10:11:58</td>\n",
       "      <td>13.090793</td>\n",
       "    </tr>\n",
       "    <tr>\n",
       "      <th>170121_212536</th>\n",
       "      <td>0.062075</td>\n",
       "      <td>1.00</td>\n",
       "      <td>2017-01-21 21:25:36</td>\n",
       "      <td>10.360795</td>\n",
       "    </tr>\n",
       "    <tr>\n",
       "      <th>...</th>\n",
       "      <td>...</td>\n",
       "      <td>...</td>\n",
       "      <td>...</td>\n",
       "      <td>...</td>\n",
       "    </tr>\n",
       "    <tr>\n",
       "      <th>200305_084739</th>\n",
       "      <td>52.239884</td>\n",
       "      <td>0.59</td>\n",
       "      <td>2020-03-05 08:47:39</td>\n",
       "      <td>7.606598</td>\n",
       "    </tr>\n",
       "    <tr>\n",
       "      <th>200306_093714</th>\n",
       "      <td>56.109414</td>\n",
       "      <td>0.51</td>\n",
       "      <td>2020-03-06 09:37:14</td>\n",
       "      <td>8.028445</td>\n",
       "    </tr>\n",
       "    <tr>\n",
       "      <th>200311_115853</th>\n",
       "      <td>0.001224</td>\n",
       "      <td>1.00</td>\n",
       "      <td>2020-03-11 11:58:53</td>\n",
       "      <td>15.562571</td>\n",
       "    </tr>\n",
       "    <tr>\n",
       "      <th>200316_215756</th>\n",
       "      <td>0.044707</td>\n",
       "      <td>1.00</td>\n",
       "      <td>2020-03-16 21:57:56</td>\n",
       "      <td>9.516331</td>\n",
       "    </tr>\n",
       "    <tr>\n",
       "      <th>200318_191337</th>\n",
       "      <td>2.002438</td>\n",
       "      <td>0.97</td>\n",
       "      <td>2020-03-18 19:13:37</td>\n",
       "      <td>7.856711</td>\n",
       "    </tr>\n",
       "  </tbody>\n",
       "</table>\n",
       "<p>94 rows × 4 columns</p>\n",
       "</div>"
      ],
      "text/plain": [
       "                     far  Pastro                Date  network_snr\n",
       "ID                                                               \n",
       "150914_095045   0.000061    1.00 2015-09-14 09:50:45    23.825441\n",
       "151012_095443   0.001114    1.00 2015-10-12 09:54:43     9.522203\n",
       "151226_033853   0.000068    1.00 2015-12-26 03:38:53    12.864034\n",
       "170104_101158   0.000055    1.00 2017-01-04 10:11:58    13.090793\n",
       "170121_212536   0.062075    1.00 2017-01-21 21:25:36    10.360795\n",
       "...                  ...     ...                 ...          ...\n",
       "200305_084739  52.239884    0.59 2020-03-05 08:47:39     7.606598\n",
       "200306_093714  56.109414    0.51 2020-03-06 09:37:14     8.028445\n",
       "200311_115853   0.001224    1.00 2020-03-11 11:58:53    15.562571\n",
       "200316_215756   0.044707    1.00 2020-03-16 21:57:56     9.516331\n",
       "200318_191337   2.002438    0.97 2020-03-18 19:13:37     7.856711\n",
       "\n",
       "[94 rows x 4 columns]"
      ]
     },
     "execution_count": 49,
     "metadata": {},
     "output_type": "execute_result"
    }
   ],
   "source": [
    "df_4OGC_demo"
   ]
  },
  {
   "cell_type": "markdown",
   "id": "0f59fec3-fee3-4a83-be41-28960d95cfbd",
   "metadata": {},
   "source": [
    "## 筛选与排序\n",
    "\n",
    "- 看看两个表里 2015 年的疑似引力波 candidates 有什么特点？"
   ]
  },
  {
   "cell_type": "code",
   "execution_count": 50,
   "id": "969f3595-9403-4c14-9e52-17e624496f1c",
   "metadata": {
    "tags": []
   },
   "outputs": [
    {
     "data": {
      "text/plain": [
       "ID\n",
       "150912_061300   2015-09-12 06:13:00\n",
       "150912_061909   2015-09-12 06:19:09\n",
       "150912_062635   2015-09-12 06:26:35\n",
       "150912_064242   2015-09-12 06:42:42\n",
       "150912_064635   2015-09-12 06:46:35\n",
       "                        ...        \n",
       "160119_144637   2016-01-19 14:46:37\n",
       "160119_144735   2016-01-19 14:47:35\n",
       "160119_145105   2016-01-19 14:51:05\n",
       "160119_145343   2016-01-19 14:53:43\n",
       "160119_145652   2016-01-19 14:56:52\n",
       "Name: Date, Length: 12741, dtype: datetime64[ns]"
      ]
     },
     "execution_count": 50,
     "metadata": {},
     "output_type": "execute_result"
    }
   ],
   "source": [
    "df_1OGC_demo.Date.sort_values()"
   ]
  },
  {
   "cell_type": "code",
   "execution_count": 51,
   "id": "be2d822a-cdb5-418e-bc52-89a1abf0dd54",
   "metadata": {
    "tags": []
   },
   "outputs": [
    {
     "data": {
      "text/plain": [
       "ID\n",
       "150914_095045   2015-09-14 09:50:45\n",
       "151012_095443   2015-10-12 09:54:43\n",
       "151226_033853   2015-12-26 03:38:53\n",
       "170104_101158   2017-01-04 10:11:58\n",
       "170121_212536   2017-01-21 21:25:36\n",
       "                        ...        \n",
       "200305_084739   2020-03-05 08:47:39\n",
       "200306_093714   2020-03-06 09:37:14\n",
       "200311_115853   2020-03-11 11:58:53\n",
       "200316_215756   2020-03-16 21:57:56\n",
       "200318_191337   2020-03-18 19:13:37\n",
       "Name: Date, Length: 94, dtype: datetime64[ns]"
      ]
     },
     "execution_count": 51,
     "metadata": {},
     "output_type": "execute_result"
    }
   ],
   "source": [
    "df_4OGC_demo.Date.sort_values()"
   ]
  },
  {
   "cell_type": "code",
   "execution_count": 54,
   "id": "ac22175d-fdf6-4dc8-ae74-1cf44bb68ee6",
   "metadata": {
    "tags": []
   },
   "outputs": [
    {
     "data": {
      "text/plain": [
       "ID\n",
       "150914_095045     True\n",
       "151012_095443     True\n",
       "151226_033853     True\n",
       "170104_101158    False\n",
       "170121_212536    False\n",
       "                 ...  \n",
       "200305_084739    False\n",
       "200306_093714    False\n",
       "200311_115853    False\n",
       "200316_215756    False\n",
       "200318_191337    False\n",
       "Name: Date, Length: 94, dtype: bool"
      ]
     },
     "execution_count": 54,
     "metadata": {},
     "output_type": "execute_result"
    }
   ],
   "source": [
    "df_4OGC_demo.Date.map(lambda x: x.year == 2015)"
   ]
  },
  {
   "cell_type": "code",
   "execution_count": 55,
   "id": "98d71ca5-7f13-45b6-af13-84c5cdfe7b04",
   "metadata": {
    "tags": []
   },
   "outputs": [
    {
     "data": {
      "text/html": [
       "<div>\n",
       "<style scoped>\n",
       "    .dataframe tbody tr th:only-of-type {\n",
       "        vertical-align: middle;\n",
       "    }\n",
       "\n",
       "    .dataframe tbody tr th {\n",
       "        vertical-align: top;\n",
       "    }\n",
       "\n",
       "    .dataframe thead th {\n",
       "        text-align: right;\n",
       "    }\n",
       "</style>\n",
       "<table border=\"1\" class=\"dataframe\">\n",
       "  <thead>\n",
       "    <tr style=\"text-align: right;\">\n",
       "      <th></th>\n",
       "      <th>far</th>\n",
       "      <th>Pastro</th>\n",
       "      <th>Date</th>\n",
       "      <th>network_snr</th>\n",
       "    </tr>\n",
       "    <tr>\n",
       "      <th>ID</th>\n",
       "      <th></th>\n",
       "      <th></th>\n",
       "      <th></th>\n",
       "      <th></th>\n",
       "    </tr>\n",
       "  </thead>\n",
       "  <tbody>\n",
       "    <tr>\n",
       "      <th>150914_095045</th>\n",
       "      <td>0.000061</td>\n",
       "      <td>1.0</td>\n",
       "      <td>2015-09-14 09:50:45</td>\n",
       "      <td>23.825441</td>\n",
       "    </tr>\n",
       "    <tr>\n",
       "      <th>151012_095443</th>\n",
       "      <td>0.001114</td>\n",
       "      <td>1.0</td>\n",
       "      <td>2015-10-12 09:54:43</td>\n",
       "      <td>9.522203</td>\n",
       "    </tr>\n",
       "    <tr>\n",
       "      <th>151226_033853</th>\n",
       "      <td>0.000068</td>\n",
       "      <td>1.0</td>\n",
       "      <td>2015-12-26 03:38:53</td>\n",
       "      <td>12.864034</td>\n",
       "    </tr>\n",
       "  </tbody>\n",
       "</table>\n",
       "</div>"
      ],
      "text/plain": [
       "                    far  Pastro                Date  network_snr\n",
       "ID                                                              \n",
       "150914_095045  0.000061     1.0 2015-09-14 09:50:45    23.825441\n",
       "151012_095443  0.001114     1.0 2015-10-12 09:54:43     9.522203\n",
       "151226_033853  0.000068     1.0 2015-12-26 03:38:53    12.864034"
      ]
     },
     "execution_count": 55,
     "metadata": {},
     "output_type": "execute_result"
    }
   ],
   "source": [
    "df_4OGC_2015_demo = df_4OGC_demo[df_4OGC_demo.Date.map(lambda x: x.year==2015)]\n",
    "df_4OGC_2015_demo"
   ]
  },
  {
   "cell_type": "code",
   "execution_count": 58,
   "id": "6ea0bcee-8119-4ff2-af99-0b58a6667b07",
   "metadata": {
    "tags": []
   },
   "outputs": [
    {
     "data": {
      "text/html": [
       "<div>\n",
       "<style scoped>\n",
       "    .dataframe tbody tr th:only-of-type {\n",
       "        vertical-align: middle;\n",
       "    }\n",
       "\n",
       "    .dataframe tbody tr th {\n",
       "        vertical-align: top;\n",
       "    }\n",
       "\n",
       "    .dataframe thead th {\n",
       "        text-align: right;\n",
       "    }\n",
       "</style>\n",
       "<table border=\"1\" class=\"dataframe\">\n",
       "  <thead>\n",
       "    <tr style=\"text-align: right;\">\n",
       "      <th></th>\n",
       "      <th>pastro</th>\n",
       "      <th>far</th>\n",
       "      <th>Date</th>\n",
       "      <th>network_snr</th>\n",
       "    </tr>\n",
       "    <tr>\n",
       "      <th>ID</th>\n",
       "      <th></th>\n",
       "      <th></th>\n",
       "      <th></th>\n",
       "      <th></th>\n",
       "    </tr>\n",
       "  </thead>\n",
       "  <tbody>\n",
       "    <tr>\n",
       "      <th>150914_095045</th>\n",
       "      <td>1.000000</td>\n",
       "      <td>0.000015</td>\n",
       "      <td>2015-09-14 09:50:45</td>\n",
       "      <td>23.790823</td>\n",
       "    </tr>\n",
       "    <tr>\n",
       "      <th>151012_095443</th>\n",
       "      <td>0.975890</td>\n",
       "      <td>0.002240</td>\n",
       "      <td>2015-10-12 09:54:43</td>\n",
       "      <td>9.662005</td>\n",
       "    </tr>\n",
       "    <tr>\n",
       "      <th>151213_001220</th>\n",
       "      <td>0.046571</td>\n",
       "      <td>3.239747</td>\n",
       "      <td>2015-12-13 00:12:20</td>\n",
       "      <td>9.211678</td>\n",
       "    </tr>\n",
       "    <tr>\n",
       "      <th>151216_184930</th>\n",
       "      <td>0.017194</td>\n",
       "      <td>9.418957</td>\n",
       "      <td>2015-12-16 18:49:30</td>\n",
       "      <td>8.560873</td>\n",
       "    </tr>\n",
       "    <tr>\n",
       "      <th>151222_052826</th>\n",
       "      <td>0.012046</td>\n",
       "      <td>13.309665</td>\n",
       "      <td>2015-12-22 05:28:26</td>\n",
       "      <td>8.600986</td>\n",
       "    </tr>\n",
       "    <tr>\n",
       "      <th>151226_033853</th>\n",
       "      <td>1.000000</td>\n",
       "      <td>0.000017</td>\n",
       "      <td>2015-12-26 03:38:53</td>\n",
       "      <td>13.054273</td>\n",
       "    </tr>\n",
       "  </tbody>\n",
       "</table>\n",
       "</div>"
      ],
      "text/plain": [
       "                 pastro        far                Date  network_snr\n",
       "ID                                                                 \n",
       "150914_095045  1.000000   0.000015 2015-09-14 09:50:45    23.790823\n",
       "151012_095443  0.975890   0.002240 2015-10-12 09:54:43     9.662005\n",
       "151213_001220  0.046571   3.239747 2015-12-13 00:12:20     9.211678\n",
       "151216_184930  0.017194   9.418957 2015-12-16 18:49:30     8.560873\n",
       "151222_052826  0.012046  13.309665 2015-12-22 05:28:26     8.600986\n",
       "151226_033853  1.000000   0.000017 2015-12-26 03:38:53    13.054273"
      ]
     },
     "execution_count": 58,
     "metadata": {},
     "output_type": "execute_result"
    }
   ],
   "source": [
    "condition = df_1OGC_demo.Date.map(lambda x: (x.year==2015))\n",
    "condition &= df_1OGC_demo.pastro > 1e-2\n",
    "df_1OGC_2015_demo = df_1OGC_demo[condition]\n",
    "df_1OGC_2015_demo"
   ]
  },
  {
   "cell_type": "markdown",
   "id": "c175960e-4033-4c21-a918-9917b8627f04",
   "metadata": {},
   "source": [
    "## 数据合并"
   ]
  },
  {
   "cell_type": "markdown",
   "id": "aa3b7dc8-e223-4700-b89e-f88c5ed73094",
   "metadata": {
    "tags": []
   },
   "source": [
    "- 尝试将两个数据有着相同的 特征列 的数据直接合并一下"
   ]
  },
  {
   "cell_type": "code",
   "execution_count": 59,
   "id": "b744fe7f-2380-4373-a6e8-5c9d6f1e76f1",
   "metadata": {
    "tags": []
   },
   "outputs": [
    {
     "data": {
      "text/html": [
       "<div>\n",
       "<style scoped>\n",
       "    .dataframe tbody tr th:only-of-type {\n",
       "        vertical-align: middle;\n",
       "    }\n",
       "\n",
       "    .dataframe tbody tr th {\n",
       "        vertical-align: top;\n",
       "    }\n",
       "\n",
       "    .dataframe thead th {\n",
       "        text-align: right;\n",
       "    }\n",
       "</style>\n",
       "<table border=\"1\" class=\"dataframe\">\n",
       "  <thead>\n",
       "    <tr style=\"text-align: right;\">\n",
       "      <th></th>\n",
       "      <th>Date</th>\n",
       "    </tr>\n",
       "    <tr>\n",
       "      <th>ID</th>\n",
       "      <th></th>\n",
       "    </tr>\n",
       "  </thead>\n",
       "  <tbody>\n",
       "    <tr>\n",
       "      <th>150914_095045</th>\n",
       "      <td>2015-09-14 09:50:45</td>\n",
       "    </tr>\n",
       "    <tr>\n",
       "      <th>151012_095443</th>\n",
       "      <td>2015-10-12 09:54:43</td>\n",
       "    </tr>\n",
       "    <tr>\n",
       "      <th>151213_001220</th>\n",
       "      <td>2015-12-13 00:12:20</td>\n",
       "    </tr>\n",
       "    <tr>\n",
       "      <th>151216_184930</th>\n",
       "      <td>2015-12-16 18:49:30</td>\n",
       "    </tr>\n",
       "    <tr>\n",
       "      <th>151222_052826</th>\n",
       "      <td>2015-12-22 05:28:26</td>\n",
       "    </tr>\n",
       "    <tr>\n",
       "      <th>151226_033853</th>\n",
       "      <td>2015-12-26 03:38:53</td>\n",
       "    </tr>\n",
       "  </tbody>\n",
       "</table>\n",
       "</div>"
      ],
      "text/plain": [
       "                             Date\n",
       "ID                               \n",
       "150914_095045 2015-09-14 09:50:45\n",
       "151012_095443 2015-10-12 09:54:43\n",
       "151213_001220 2015-12-13 00:12:20\n",
       "151216_184930 2015-12-16 18:49:30\n",
       "151222_052826 2015-12-22 05:28:26\n",
       "151226_033853 2015-12-26 03:38:53"
      ]
     },
     "execution_count": 59,
     "metadata": {},
     "output_type": "execute_result"
    }
   ],
   "source": [
    "df_1OGC_2015_demo[['Date']]"
   ]
  },
  {
   "cell_type": "code",
   "execution_count": 60,
   "id": "cd671350-37a8-40eb-a271-31daf0ff8d95",
   "metadata": {
    "tags": []
   },
   "outputs": [
    {
     "data": {
      "text/html": [
       "<div>\n",
       "<style scoped>\n",
       "    .dataframe tbody tr th:only-of-type {\n",
       "        vertical-align: middle;\n",
       "    }\n",
       "\n",
       "    .dataframe tbody tr th {\n",
       "        vertical-align: top;\n",
       "    }\n",
       "\n",
       "    .dataframe thead th {\n",
       "        text-align: right;\n",
       "    }\n",
       "</style>\n",
       "<table border=\"1\" class=\"dataframe\">\n",
       "  <thead>\n",
       "    <tr style=\"text-align: right;\">\n",
       "      <th></th>\n",
       "      <th>Date</th>\n",
       "    </tr>\n",
       "    <tr>\n",
       "      <th>ID</th>\n",
       "      <th></th>\n",
       "    </tr>\n",
       "  </thead>\n",
       "  <tbody>\n",
       "    <tr>\n",
       "      <th>150914_095045</th>\n",
       "      <td>2015-09-14 09:50:45</td>\n",
       "    </tr>\n",
       "    <tr>\n",
       "      <th>151012_095443</th>\n",
       "      <td>2015-10-12 09:54:43</td>\n",
       "    </tr>\n",
       "    <tr>\n",
       "      <th>151226_033853</th>\n",
       "      <td>2015-12-26 03:38:53</td>\n",
       "    </tr>\n",
       "  </tbody>\n",
       "</table>\n",
       "</div>"
      ],
      "text/plain": [
       "                             Date\n",
       "ID                               \n",
       "150914_095045 2015-09-14 09:50:45\n",
       "151012_095443 2015-10-12 09:54:43\n",
       "151226_033853 2015-12-26 03:38:53"
      ]
     },
     "execution_count": 60,
     "metadata": {},
     "output_type": "execute_result"
    }
   ],
   "source": [
    "df_4OGC_2015_demo[['Date']]"
   ]
  },
  {
   "cell_type": "code",
   "execution_count": 61,
   "id": "349b9179-13f7-4708-851f-6cf6ead6d969",
   "metadata": {
    "tags": []
   },
   "outputs": [
    {
     "data": {
      "text/html": [
       "<div>\n",
       "<style scoped>\n",
       "    .dataframe tbody tr th:only-of-type {\n",
       "        vertical-align: middle;\n",
       "    }\n",
       "\n",
       "    .dataframe tbody tr th {\n",
       "        vertical-align: top;\n",
       "    }\n",
       "\n",
       "    .dataframe thead th {\n",
       "        text-align: right;\n",
       "    }\n",
       "</style>\n",
       "<table border=\"1\" class=\"dataframe\">\n",
       "  <thead>\n",
       "    <tr style=\"text-align: right;\">\n",
       "      <th></th>\n",
       "      <th>Date</th>\n",
       "    </tr>\n",
       "    <tr>\n",
       "      <th>ID</th>\n",
       "      <th></th>\n",
       "    </tr>\n",
       "  </thead>\n",
       "  <tbody>\n",
       "    <tr>\n",
       "      <th>150914_095045</th>\n",
       "      <td>2015-09-14 09:50:45</td>\n",
       "    </tr>\n",
       "    <tr>\n",
       "      <th>151012_095443</th>\n",
       "      <td>2015-10-12 09:54:43</td>\n",
       "    </tr>\n",
       "    <tr>\n",
       "      <th>151213_001220</th>\n",
       "      <td>2015-12-13 00:12:20</td>\n",
       "    </tr>\n",
       "    <tr>\n",
       "      <th>151216_184930</th>\n",
       "      <td>2015-12-16 18:49:30</td>\n",
       "    </tr>\n",
       "    <tr>\n",
       "      <th>151222_052826</th>\n",
       "      <td>2015-12-22 05:28:26</td>\n",
       "    </tr>\n",
       "    <tr>\n",
       "      <th>151226_033853</th>\n",
       "      <td>2015-12-26 03:38:53</td>\n",
       "    </tr>\n",
       "    <tr>\n",
       "      <th>150914_095045</th>\n",
       "      <td>2015-09-14 09:50:45</td>\n",
       "    </tr>\n",
       "    <tr>\n",
       "      <th>151012_095443</th>\n",
       "      <td>2015-10-12 09:54:43</td>\n",
       "    </tr>\n",
       "    <tr>\n",
       "      <th>151226_033853</th>\n",
       "      <td>2015-12-26 03:38:53</td>\n",
       "    </tr>\n",
       "  </tbody>\n",
       "</table>\n",
       "</div>"
      ],
      "text/plain": [
       "                             Date\n",
       "ID                               \n",
       "150914_095045 2015-09-14 09:50:45\n",
       "151012_095443 2015-10-12 09:54:43\n",
       "151213_001220 2015-12-13 00:12:20\n",
       "151216_184930 2015-12-16 18:49:30\n",
       "151222_052826 2015-12-22 05:28:26\n",
       "151226_033853 2015-12-26 03:38:53\n",
       "150914_095045 2015-09-14 09:50:45\n",
       "151012_095443 2015-10-12 09:54:43\n",
       "151226_033853 2015-12-26 03:38:53"
      ]
     },
     "execution_count": 61,
     "metadata": {},
     "output_type": "execute_result"
    }
   ],
   "source": [
    "pd.concat([df_1OGC_2015_demo[['Date']], df_4OGC_2015_demo[['Date']]])"
   ]
  },
  {
   "cell_type": "markdown",
   "id": "e937912e-d619-403f-9c42-4cc2996570d5",
   "metadata": {},
   "source": [
    "这时你会发现index索引项不唯一了。按照某个日期取出的数据不唯一，且无法区分是哪个是来自哪个catalog"
   ]
  },
  {
   "cell_type": "code",
   "execution_count": 62,
   "id": "69d07d45-7633-494b-919f-c762064c0508",
   "metadata": {
    "tags": []
   },
   "outputs": [
    {
     "data": {
      "text/html": [
       "<div>\n",
       "<style scoped>\n",
       "    .dataframe tbody tr th:only-of-type {\n",
       "        vertical-align: middle;\n",
       "    }\n",
       "\n",
       "    .dataframe tbody tr th {\n",
       "        vertical-align: top;\n",
       "    }\n",
       "\n",
       "    .dataframe thead th {\n",
       "        text-align: right;\n",
       "    }\n",
       "</style>\n",
       "<table border=\"1\" class=\"dataframe\">\n",
       "  <thead>\n",
       "    <tr style=\"text-align: right;\">\n",
       "      <th></th>\n",
       "      <th>Date</th>\n",
       "    </tr>\n",
       "    <tr>\n",
       "      <th>ID</th>\n",
       "      <th></th>\n",
       "    </tr>\n",
       "  </thead>\n",
       "  <tbody>\n",
       "    <tr>\n",
       "      <th>150914_095045</th>\n",
       "      <td>2015-09-14 09:50:45</td>\n",
       "    </tr>\n",
       "    <tr>\n",
       "      <th>150914_095045</th>\n",
       "      <td>2015-09-14 09:50:45</td>\n",
       "    </tr>\n",
       "  </tbody>\n",
       "</table>\n",
       "</div>"
      ],
      "text/plain": [
       "                             Date\n",
       "ID                               \n",
       "150914_095045 2015-09-14 09:50:45\n",
       "150914_095045 2015-09-14 09:50:45"
      ]
     },
     "execution_count": 62,
     "metadata": {},
     "output_type": "execute_result"
    }
   ],
   "source": [
    "_.loc['150914_095045']"
   ]
  },
  {
   "cell_type": "markdown",
   "id": "fab4627a-e917-427d-bb41-2e903cfefccc",
   "metadata": {},
   "source": [
    "这时，如果想区分该怎么办呢？可以通过指定“keys”参数来实现（无脑的 concat 开始变聪明）"
   ]
  },
  {
   "cell_type": "code",
   "execution_count": 63,
   "id": "968e57c3-b6b9-4f06-ae51-8e41e2a3b34b",
   "metadata": {
    "tags": []
   },
   "outputs": [
    {
     "data": {
      "text/html": [
       "<div>\n",
       "<style scoped>\n",
       "    .dataframe tbody tr th:only-of-type {\n",
       "        vertical-align: middle;\n",
       "    }\n",
       "\n",
       "    .dataframe tbody tr th {\n",
       "        vertical-align: top;\n",
       "    }\n",
       "\n",
       "    .dataframe thead th {\n",
       "        text-align: right;\n",
       "    }\n",
       "</style>\n",
       "<table border=\"1\" class=\"dataframe\">\n",
       "  <thead>\n",
       "    <tr style=\"text-align: right;\">\n",
       "      <th></th>\n",
       "      <th></th>\n",
       "      <th>Date</th>\n",
       "    </tr>\n",
       "    <tr>\n",
       "      <th></th>\n",
       "      <th>ID</th>\n",
       "      <th></th>\n",
       "    </tr>\n",
       "  </thead>\n",
       "  <tbody>\n",
       "    <tr>\n",
       "      <th rowspan=\"6\" valign=\"top\">1-OGC</th>\n",
       "      <th>150914_095045</th>\n",
       "      <td>2015-09-14 09:50:45</td>\n",
       "    </tr>\n",
       "    <tr>\n",
       "      <th>151012_095443</th>\n",
       "      <td>2015-10-12 09:54:43</td>\n",
       "    </tr>\n",
       "    <tr>\n",
       "      <th>151213_001220</th>\n",
       "      <td>2015-12-13 00:12:20</td>\n",
       "    </tr>\n",
       "    <tr>\n",
       "      <th>151216_184930</th>\n",
       "      <td>2015-12-16 18:49:30</td>\n",
       "    </tr>\n",
       "    <tr>\n",
       "      <th>151222_052826</th>\n",
       "      <td>2015-12-22 05:28:26</td>\n",
       "    </tr>\n",
       "    <tr>\n",
       "      <th>151226_033853</th>\n",
       "      <td>2015-12-26 03:38:53</td>\n",
       "    </tr>\n",
       "    <tr>\n",
       "      <th rowspan=\"3\" valign=\"top\">4-OGC</th>\n",
       "      <th>150914_095045</th>\n",
       "      <td>2015-09-14 09:50:45</td>\n",
       "    </tr>\n",
       "    <tr>\n",
       "      <th>151012_095443</th>\n",
       "      <td>2015-10-12 09:54:43</td>\n",
       "    </tr>\n",
       "    <tr>\n",
       "      <th>151226_033853</th>\n",
       "      <td>2015-12-26 03:38:53</td>\n",
       "    </tr>\n",
       "  </tbody>\n",
       "</table>\n",
       "</div>"
      ],
      "text/plain": [
       "                                   Date\n",
       "      ID                               \n",
       "1-OGC 150914_095045 2015-09-14 09:50:45\n",
       "      151012_095443 2015-10-12 09:54:43\n",
       "      151213_001220 2015-12-13 00:12:20\n",
       "      151216_184930 2015-12-16 18:49:30\n",
       "      151222_052826 2015-12-22 05:28:26\n",
       "      151226_033853 2015-12-26 03:38:53\n",
       "4-OGC 150914_095045 2015-09-14 09:50:45\n",
       "      151012_095443 2015-10-12 09:54:43\n",
       "      151226_033853 2015-12-26 03:38:53"
      ]
     },
     "execution_count": 63,
     "metadata": {},
     "output_type": "execute_result"
    }
   ],
   "source": [
    "pd.concat([\n",
    "    df_1OGC_2015_demo[['Date']],\n",
    "    df_4OGC_2015_demo[['Date']]\n",
    "], keys=['1-OGC', '4-OGC'])"
   ]
  },
  {
   "cell_type": "markdown",
   "id": "5f72734d-229e-40d7-8d4f-8cca265d6cf4",
   "metadata": {},
   "source": [
    "同理，纵向也可以合并。通过指定“axis”参数来实现。"
   ]
  },
  {
   "cell_type": "code",
   "execution_count": 64,
   "id": "9c58639e-9d6b-4ec4-923e-5b6afc5519c7",
   "metadata": {
    "tags": []
   },
   "outputs": [
    {
     "data": {
      "text/html": [
       "<div>\n",
       "<style scoped>\n",
       "    .dataframe tbody tr th:only-of-type {\n",
       "        vertical-align: middle;\n",
       "    }\n",
       "\n",
       "    .dataframe tbody tr th {\n",
       "        vertical-align: top;\n",
       "    }\n",
       "\n",
       "    .dataframe thead th {\n",
       "        text-align: right;\n",
       "    }\n",
       "</style>\n",
       "<table border=\"1\" class=\"dataframe\">\n",
       "  <thead>\n",
       "    <tr style=\"text-align: right;\">\n",
       "      <th></th>\n",
       "      <th>Date</th>\n",
       "      <th>Date</th>\n",
       "    </tr>\n",
       "    <tr>\n",
       "      <th>ID</th>\n",
       "      <th></th>\n",
       "      <th></th>\n",
       "    </tr>\n",
       "  </thead>\n",
       "  <tbody>\n",
       "    <tr>\n",
       "      <th>150914_095045</th>\n",
       "      <td>2015-09-14 09:50:45</td>\n",
       "      <td>2015-09-14 09:50:45</td>\n",
       "    </tr>\n",
       "    <tr>\n",
       "      <th>151012_095443</th>\n",
       "      <td>2015-10-12 09:54:43</td>\n",
       "      <td>2015-10-12 09:54:43</td>\n",
       "    </tr>\n",
       "    <tr>\n",
       "      <th>151213_001220</th>\n",
       "      <td>2015-12-13 00:12:20</td>\n",
       "      <td>NaT</td>\n",
       "    </tr>\n",
       "    <tr>\n",
       "      <th>151216_184930</th>\n",
       "      <td>2015-12-16 18:49:30</td>\n",
       "      <td>NaT</td>\n",
       "    </tr>\n",
       "    <tr>\n",
       "      <th>151222_052826</th>\n",
       "      <td>2015-12-22 05:28:26</td>\n",
       "      <td>NaT</td>\n",
       "    </tr>\n",
       "    <tr>\n",
       "      <th>151226_033853</th>\n",
       "      <td>2015-12-26 03:38:53</td>\n",
       "      <td>2015-12-26 03:38:53</td>\n",
       "    </tr>\n",
       "  </tbody>\n",
       "</table>\n",
       "</div>"
      ],
      "text/plain": [
       "                             Date                Date\n",
       "ID                                                   \n",
       "150914_095045 2015-09-14 09:50:45 2015-09-14 09:50:45\n",
       "151012_095443 2015-10-12 09:54:43 2015-10-12 09:54:43\n",
       "151213_001220 2015-12-13 00:12:20                 NaT\n",
       "151216_184930 2015-12-16 18:49:30                 NaT\n",
       "151222_052826 2015-12-22 05:28:26                 NaT\n",
       "151226_033853 2015-12-26 03:38:53 2015-12-26 03:38:53"
      ]
     },
     "execution_count": 64,
     "metadata": {},
     "output_type": "execute_result"
    }
   ],
   "source": [
    "pd.concat([df_1OGC_2015_demo[['Date']], df_4OGC_2015_demo[['Date']]], axis=1)"
   ]
  },
  {
   "cell_type": "markdown",
   "id": "b3d3d7f9-10a6-4ece-a5a2-0a31543b6be7",
   "metadata": {},
   "source": [
    "也同理，纵向也可以通过指定“keys”参数，来区分出level"
   ]
  },
  {
   "cell_type": "code",
   "execution_count": 65,
   "id": "7567b19e-0e03-4df0-8b6a-951f01a3908a",
   "metadata": {
    "tags": []
   },
   "outputs": [
    {
     "data": {
      "text/html": [
       "<div>\n",
       "<style scoped>\n",
       "    .dataframe tbody tr th:only-of-type {\n",
       "        vertical-align: middle;\n",
       "    }\n",
       "\n",
       "    .dataframe tbody tr th {\n",
       "        vertical-align: top;\n",
       "    }\n",
       "\n",
       "    .dataframe thead tr th {\n",
       "        text-align: left;\n",
       "    }\n",
       "\n",
       "    .dataframe thead tr:last-of-type th {\n",
       "        text-align: right;\n",
       "    }\n",
       "</style>\n",
       "<table border=\"1\" class=\"dataframe\">\n",
       "  <thead>\n",
       "    <tr>\n",
       "      <th></th>\n",
       "      <th>1-OGC</th>\n",
       "      <th>4-OGC</th>\n",
       "    </tr>\n",
       "    <tr>\n",
       "      <th></th>\n",
       "      <th>Date</th>\n",
       "      <th>Date</th>\n",
       "    </tr>\n",
       "    <tr>\n",
       "      <th>ID</th>\n",
       "      <th></th>\n",
       "      <th></th>\n",
       "    </tr>\n",
       "  </thead>\n",
       "  <tbody>\n",
       "    <tr>\n",
       "      <th>150914_095045</th>\n",
       "      <td>2015-09-14 09:50:45</td>\n",
       "      <td>2015-09-14 09:50:45</td>\n",
       "    </tr>\n",
       "    <tr>\n",
       "      <th>151012_095443</th>\n",
       "      <td>2015-10-12 09:54:43</td>\n",
       "      <td>2015-10-12 09:54:43</td>\n",
       "    </tr>\n",
       "    <tr>\n",
       "      <th>151213_001220</th>\n",
       "      <td>2015-12-13 00:12:20</td>\n",
       "      <td>NaT</td>\n",
       "    </tr>\n",
       "    <tr>\n",
       "      <th>151216_184930</th>\n",
       "      <td>2015-12-16 18:49:30</td>\n",
       "      <td>NaT</td>\n",
       "    </tr>\n",
       "    <tr>\n",
       "      <th>151222_052826</th>\n",
       "      <td>2015-12-22 05:28:26</td>\n",
       "      <td>NaT</td>\n",
       "    </tr>\n",
       "    <tr>\n",
       "      <th>151226_033853</th>\n",
       "      <td>2015-12-26 03:38:53</td>\n",
       "      <td>2015-12-26 03:38:53</td>\n",
       "    </tr>\n",
       "  </tbody>\n",
       "</table>\n",
       "</div>"
      ],
      "text/plain": [
       "                            1-OGC               4-OGC\n",
       "                             Date                Date\n",
       "ID                                                   \n",
       "150914_095045 2015-09-14 09:50:45 2015-09-14 09:50:45\n",
       "151012_095443 2015-10-12 09:54:43 2015-10-12 09:54:43\n",
       "151213_001220 2015-12-13 00:12:20                 NaT\n",
       "151216_184930 2015-12-16 18:49:30                 NaT\n",
       "151222_052826 2015-12-22 05:28:26                 NaT\n",
       "151226_033853 2015-12-26 03:38:53 2015-12-26 03:38:53"
      ]
     },
     "execution_count": 65,
     "metadata": {},
     "output_type": "execute_result"
    }
   ],
   "source": [
    "pd.concat([df_1OGC_2015_demo[['Date']], df_4OGC_2015_demo[['Date']]], axis=1, keys=['1-OGC', '4-OGC'])"
   ]
  },
  {
   "cell_type": "markdown",
   "id": "22b3b063-ab83-41cf-8f9f-56bdc4330b62",
   "metadata": {},
   "source": [
    "下面我们再来熟悉一下使用merge的合并操作"
   ]
  },
  {
   "cell_type": "code",
   "execution_count": 66,
   "id": "20f71e11-3144-4f05-995d-cd0b6bc9a6d0",
   "metadata": {
    "tags": []
   },
   "outputs": [
    {
     "data": {
      "text/plain": [
       "((6, 3), (3, 3))"
      ]
     },
     "execution_count": 66,
     "metadata": {},
     "output_type": "execute_result"
    }
   ],
   "source": [
    "# 重置索引\n",
    "df_1OGC_2015_re = df_1OGC_2015_demo[['Date', 'pastro']].reset_index()\n",
    "df_4OGC_2015_re = df_4OGC_2015_demo[['Date', 'Pastro']].reset_index()\n",
    "df_1OGC_2015_re.shape, df_4OGC_2015_re.shape"
   ]
  },
  {
   "cell_type": "code",
   "execution_count": 67,
   "id": "c4c92915-df12-4c89-89cb-87e82a5e3c39",
   "metadata": {
    "tags": []
   },
   "outputs": [
    {
     "data": {
      "text/html": [
       "<div>\n",
       "<style scoped>\n",
       "    .dataframe tbody tr th:only-of-type {\n",
       "        vertical-align: middle;\n",
       "    }\n",
       "\n",
       "    .dataframe tbody tr th {\n",
       "        vertical-align: top;\n",
       "    }\n",
       "\n",
       "    .dataframe thead th {\n",
       "        text-align: right;\n",
       "    }\n",
       "</style>\n",
       "<table border=\"1\" class=\"dataframe\">\n",
       "  <thead>\n",
       "    <tr style=\"text-align: right;\">\n",
       "      <th></th>\n",
       "      <th>ID</th>\n",
       "      <th>Date</th>\n",
       "      <th>pastro</th>\n",
       "    </tr>\n",
       "  </thead>\n",
       "  <tbody>\n",
       "    <tr>\n",
       "      <th>0</th>\n",
       "      <td>150914_095045</td>\n",
       "      <td>2015-09-14 09:50:45</td>\n",
       "      <td>1.000000</td>\n",
       "    </tr>\n",
       "    <tr>\n",
       "      <th>1</th>\n",
       "      <td>151012_095443</td>\n",
       "      <td>2015-10-12 09:54:43</td>\n",
       "      <td>0.975890</td>\n",
       "    </tr>\n",
       "    <tr>\n",
       "      <th>2</th>\n",
       "      <td>151213_001220</td>\n",
       "      <td>2015-12-13 00:12:20</td>\n",
       "      <td>0.046571</td>\n",
       "    </tr>\n",
       "    <tr>\n",
       "      <th>3</th>\n",
       "      <td>151216_184930</td>\n",
       "      <td>2015-12-16 18:49:30</td>\n",
       "      <td>0.017194</td>\n",
       "    </tr>\n",
       "    <tr>\n",
       "      <th>4</th>\n",
       "      <td>151222_052826</td>\n",
       "      <td>2015-12-22 05:28:26</td>\n",
       "      <td>0.012046</td>\n",
       "    </tr>\n",
       "    <tr>\n",
       "      <th>5</th>\n",
       "      <td>151226_033853</td>\n",
       "      <td>2015-12-26 03:38:53</td>\n",
       "      <td>1.000000</td>\n",
       "    </tr>\n",
       "  </tbody>\n",
       "</table>\n",
       "</div>"
      ],
      "text/plain": [
       "              ID                Date    pastro\n",
       "0  150914_095045 2015-09-14 09:50:45  1.000000\n",
       "1  151012_095443 2015-10-12 09:54:43  0.975890\n",
       "2  151213_001220 2015-12-13 00:12:20  0.046571\n",
       "3  151216_184930 2015-12-16 18:49:30  0.017194\n",
       "4  151222_052826 2015-12-22 05:28:26  0.012046\n",
       "5  151226_033853 2015-12-26 03:38:53  1.000000"
      ]
     },
     "execution_count": 67,
     "metadata": {},
     "output_type": "execute_result"
    }
   ],
   "source": [
    "df_1OGC_2015_re"
   ]
  },
  {
   "cell_type": "code",
   "execution_count": 68,
   "id": "26fef206-7d12-4c8b-8750-795b7c6633c4",
   "metadata": {
    "tags": []
   },
   "outputs": [
    {
     "data": {
      "text/html": [
       "<div>\n",
       "<style scoped>\n",
       "    .dataframe tbody tr th:only-of-type {\n",
       "        vertical-align: middle;\n",
       "    }\n",
       "\n",
       "    .dataframe tbody tr th {\n",
       "        vertical-align: top;\n",
       "    }\n",
       "\n",
       "    .dataframe thead th {\n",
       "        text-align: right;\n",
       "    }\n",
       "</style>\n",
       "<table border=\"1\" class=\"dataframe\">\n",
       "  <thead>\n",
       "    <tr style=\"text-align: right;\">\n",
       "      <th></th>\n",
       "      <th>ID</th>\n",
       "      <th>Date</th>\n",
       "      <th>Pastro</th>\n",
       "    </tr>\n",
       "  </thead>\n",
       "  <tbody>\n",
       "    <tr>\n",
       "      <th>0</th>\n",
       "      <td>150914_095045</td>\n",
       "      <td>2015-09-14 09:50:45</td>\n",
       "      <td>1.0</td>\n",
       "    </tr>\n",
       "    <tr>\n",
       "      <th>1</th>\n",
       "      <td>151012_095443</td>\n",
       "      <td>2015-10-12 09:54:43</td>\n",
       "      <td>1.0</td>\n",
       "    </tr>\n",
       "    <tr>\n",
       "      <th>2</th>\n",
       "      <td>151226_033853</td>\n",
       "      <td>2015-12-26 03:38:53</td>\n",
       "      <td>1.0</td>\n",
       "    </tr>\n",
       "  </tbody>\n",
       "</table>\n",
       "</div>"
      ],
      "text/plain": [
       "              ID                Date  Pastro\n",
       "0  150914_095045 2015-09-14 09:50:45     1.0\n",
       "1  151012_095443 2015-10-12 09:54:43     1.0\n",
       "2  151226_033853 2015-12-26 03:38:53     1.0"
      ]
     },
     "execution_count": 68,
     "metadata": {},
     "output_type": "execute_result"
    }
   ],
   "source": [
    "df_4OGC_2015_re"
   ]
  },
  {
   "cell_type": "markdown",
   "id": "75e08b00-b4bd-4dc7-a205-8f2a8f1bd9a3",
   "metadata": {},
   "source": [
    "直接执行merge合并操作，并思考一下合并结果为什么只有3行数据？"
   ]
  },
  {
   "cell_type": "code",
   "execution_count": 69,
   "id": "0d083d89-77c2-4fc8-85b3-03ba60c5c584",
   "metadata": {
    "tags": []
   },
   "outputs": [
    {
     "data": {
      "text/html": [
       "<div>\n",
       "<style scoped>\n",
       "    .dataframe tbody tr th:only-of-type {\n",
       "        vertical-align: middle;\n",
       "    }\n",
       "\n",
       "    .dataframe tbody tr th {\n",
       "        vertical-align: top;\n",
       "    }\n",
       "\n",
       "    .dataframe thead th {\n",
       "        text-align: right;\n",
       "    }\n",
       "</style>\n",
       "<table border=\"1\" class=\"dataframe\">\n",
       "  <thead>\n",
       "    <tr style=\"text-align: right;\">\n",
       "      <th></th>\n",
       "      <th>ID</th>\n",
       "      <th>Date</th>\n",
       "      <th>pastro</th>\n",
       "      <th>Pastro</th>\n",
       "    </tr>\n",
       "  </thead>\n",
       "  <tbody>\n",
       "    <tr>\n",
       "      <th>0</th>\n",
       "      <td>150914_095045</td>\n",
       "      <td>2015-09-14 09:50:45</td>\n",
       "      <td>1.00000</td>\n",
       "      <td>1.0</td>\n",
       "    </tr>\n",
       "    <tr>\n",
       "      <th>1</th>\n",
       "      <td>151012_095443</td>\n",
       "      <td>2015-10-12 09:54:43</td>\n",
       "      <td>0.97589</td>\n",
       "      <td>1.0</td>\n",
       "    </tr>\n",
       "    <tr>\n",
       "      <th>2</th>\n",
       "      <td>151226_033853</td>\n",
       "      <td>2015-12-26 03:38:53</td>\n",
       "      <td>1.00000</td>\n",
       "      <td>1.0</td>\n",
       "    </tr>\n",
       "  </tbody>\n",
       "</table>\n",
       "</div>"
      ],
      "text/plain": [
       "              ID                Date   pastro  Pastro\n",
       "0  150914_095045 2015-09-14 09:50:45  1.00000     1.0\n",
       "1  151012_095443 2015-10-12 09:54:43  0.97589     1.0\n",
       "2  151226_033853 2015-12-26 03:38:53  1.00000     1.0"
      ]
     },
     "execution_count": 69,
     "metadata": {},
     "output_type": "execute_result"
    }
   ],
   "source": [
    "pd.merge(df_1OGC_2015_re, df_4OGC_2015_re)"
   ]
  },
  {
   "cell_type": "markdown",
   "id": "0ee281a3-331d-4fa8-951d-342e9cb2c2ea",
   "metadata": {},
   "source": [
    "merge函数可以指定更多参数来实现各种不同的合并方式。how是inner内连接，on是指定用于连接的字段名。"
   ]
  },
  {
   "cell_type": "code",
   "execution_count": 70,
   "id": "28a0acea-2f8f-4b61-9dfb-fe8851bc5a3a",
   "metadata": {
    "tags": []
   },
   "outputs": [
    {
     "data": {
      "text/html": [
       "<div>\n",
       "<style scoped>\n",
       "    .dataframe tbody tr th:only-of-type {\n",
       "        vertical-align: middle;\n",
       "    }\n",
       "\n",
       "    .dataframe tbody tr th {\n",
       "        vertical-align: top;\n",
       "    }\n",
       "\n",
       "    .dataframe thead th {\n",
       "        text-align: right;\n",
       "    }\n",
       "</style>\n",
       "<table border=\"1\" class=\"dataframe\">\n",
       "  <thead>\n",
       "    <tr style=\"text-align: right;\">\n",
       "      <th></th>\n",
       "      <th>ID</th>\n",
       "      <th>Date_x</th>\n",
       "      <th>pastro</th>\n",
       "      <th>Date_y</th>\n",
       "      <th>Pastro</th>\n",
       "    </tr>\n",
       "  </thead>\n",
       "  <tbody>\n",
       "    <tr>\n",
       "      <th>0</th>\n",
       "      <td>150914_095045</td>\n",
       "      <td>2015-09-14 09:50:45</td>\n",
       "      <td>1.00000</td>\n",
       "      <td>2015-09-14 09:50:45</td>\n",
       "      <td>1.0</td>\n",
       "    </tr>\n",
       "    <tr>\n",
       "      <th>1</th>\n",
       "      <td>151012_095443</td>\n",
       "      <td>2015-10-12 09:54:43</td>\n",
       "      <td>0.97589</td>\n",
       "      <td>2015-10-12 09:54:43</td>\n",
       "      <td>1.0</td>\n",
       "    </tr>\n",
       "    <tr>\n",
       "      <th>2</th>\n",
       "      <td>151226_033853</td>\n",
       "      <td>2015-12-26 03:38:53</td>\n",
       "      <td>1.00000</td>\n",
       "      <td>2015-12-26 03:38:53</td>\n",
       "      <td>1.0</td>\n",
       "    </tr>\n",
       "  </tbody>\n",
       "</table>\n",
       "</div>"
      ],
      "text/plain": [
       "              ID              Date_x   pastro              Date_y  Pastro\n",
       "0  150914_095045 2015-09-14 09:50:45  1.00000 2015-09-14 09:50:45     1.0\n",
       "1  151012_095443 2015-10-12 09:54:43  0.97589 2015-10-12 09:54:43     1.0\n",
       "2  151226_033853 2015-12-26 03:38:53  1.00000 2015-12-26 03:38:53     1.0"
      ]
     },
     "execution_count": 70,
     "metadata": {},
     "output_type": "execute_result"
    }
   ],
   "source": [
    "pd.merge(df_1OGC_2015_re, df_4OGC_2015_re, on='ID', how='inner')"
   ]
  },
  {
   "cell_type": "code",
   "execution_count": 71,
   "id": "32a7a4b6-0dcf-4a1c-87f2-9d4ca1040146",
   "metadata": {
    "tags": []
   },
   "outputs": [
    {
     "data": {
      "text/html": [
       "<div>\n",
       "<style scoped>\n",
       "    .dataframe tbody tr th:only-of-type {\n",
       "        vertical-align: middle;\n",
       "    }\n",
       "\n",
       "    .dataframe tbody tr th {\n",
       "        vertical-align: top;\n",
       "    }\n",
       "\n",
       "    .dataframe thead th {\n",
       "        text-align: right;\n",
       "    }\n",
       "</style>\n",
       "<table border=\"1\" class=\"dataframe\">\n",
       "  <thead>\n",
       "    <tr style=\"text-align: right;\">\n",
       "      <th></th>\n",
       "      <th>ID</th>\n",
       "      <th>Date</th>\n",
       "      <th>pastro</th>\n",
       "      <th>Pastro</th>\n",
       "    </tr>\n",
       "  </thead>\n",
       "  <tbody>\n",
       "    <tr>\n",
       "      <th>0</th>\n",
       "      <td>150914_095045</td>\n",
       "      <td>2015-09-14 09:50:45</td>\n",
       "      <td>1.00000</td>\n",
       "      <td>1.0</td>\n",
       "    </tr>\n",
       "    <tr>\n",
       "      <th>1</th>\n",
       "      <td>151012_095443</td>\n",
       "      <td>2015-10-12 09:54:43</td>\n",
       "      <td>0.97589</td>\n",
       "      <td>1.0</td>\n",
       "    </tr>\n",
       "    <tr>\n",
       "      <th>2</th>\n",
       "      <td>151226_033853</td>\n",
       "      <td>2015-12-26 03:38:53</td>\n",
       "      <td>1.00000</td>\n",
       "      <td>1.0</td>\n",
       "    </tr>\n",
       "  </tbody>\n",
       "</table>\n",
       "</div>"
      ],
      "text/plain": [
       "              ID                Date   pastro  Pastro\n",
       "0  150914_095045 2015-09-14 09:50:45  1.00000     1.0\n",
       "1  151012_095443 2015-10-12 09:54:43  0.97589     1.0\n",
       "2  151226_033853 2015-12-26 03:38:53  1.00000     1.0"
      ]
     },
     "execution_count": 71,
     "metadata": {},
     "output_type": "execute_result"
    }
   ],
   "source": [
    "pd.merge(df_1OGC_2015_re, df_4OGC_2015_re, on=['ID', 'Date'], how='inner')"
   ]
  },
  {
   "cell_type": "markdown",
   "id": "df25880d-c730-4c7c-97aa-41c4aa5ecbe6",
   "metadata": {},
   "source": [
    "再看一下how=outer外连接的合并结果，可以对比观察一下内外连接的不同。"
   ]
  },
  {
   "cell_type": "code",
   "execution_count": 72,
   "id": "d9783562-a7bf-45bd-8a31-d02bd8d25e21",
   "metadata": {
    "tags": []
   },
   "outputs": [
    {
     "data": {
      "text/html": [
       "<div>\n",
       "<style scoped>\n",
       "    .dataframe tbody tr th:only-of-type {\n",
       "        vertical-align: middle;\n",
       "    }\n",
       "\n",
       "    .dataframe tbody tr th {\n",
       "        vertical-align: top;\n",
       "    }\n",
       "\n",
       "    .dataframe thead th {\n",
       "        text-align: right;\n",
       "    }\n",
       "</style>\n",
       "<table border=\"1\" class=\"dataframe\">\n",
       "  <thead>\n",
       "    <tr style=\"text-align: right;\">\n",
       "      <th></th>\n",
       "      <th>ID</th>\n",
       "      <th>Date</th>\n",
       "      <th>pastro</th>\n",
       "      <th>Pastro</th>\n",
       "    </tr>\n",
       "  </thead>\n",
       "  <tbody>\n",
       "    <tr>\n",
       "      <th>0</th>\n",
       "      <td>150914_095045</td>\n",
       "      <td>2015-09-14 09:50:45</td>\n",
       "      <td>1.000000</td>\n",
       "      <td>1.0</td>\n",
       "    </tr>\n",
       "    <tr>\n",
       "      <th>1</th>\n",
       "      <td>151012_095443</td>\n",
       "      <td>2015-10-12 09:54:43</td>\n",
       "      <td>0.975890</td>\n",
       "      <td>1.0</td>\n",
       "    </tr>\n",
       "    <tr>\n",
       "      <th>2</th>\n",
       "      <td>151213_001220</td>\n",
       "      <td>2015-12-13 00:12:20</td>\n",
       "      <td>0.046571</td>\n",
       "      <td>NaN</td>\n",
       "    </tr>\n",
       "    <tr>\n",
       "      <th>3</th>\n",
       "      <td>151216_184930</td>\n",
       "      <td>2015-12-16 18:49:30</td>\n",
       "      <td>0.017194</td>\n",
       "      <td>NaN</td>\n",
       "    </tr>\n",
       "    <tr>\n",
       "      <th>4</th>\n",
       "      <td>151222_052826</td>\n",
       "      <td>2015-12-22 05:28:26</td>\n",
       "      <td>0.012046</td>\n",
       "      <td>NaN</td>\n",
       "    </tr>\n",
       "    <tr>\n",
       "      <th>5</th>\n",
       "      <td>151226_033853</td>\n",
       "      <td>2015-12-26 03:38:53</td>\n",
       "      <td>1.000000</td>\n",
       "      <td>1.0</td>\n",
       "    </tr>\n",
       "  </tbody>\n",
       "</table>\n",
       "</div>"
      ],
      "text/plain": [
       "              ID                Date    pastro  Pastro\n",
       "0  150914_095045 2015-09-14 09:50:45  1.000000     1.0\n",
       "1  151012_095443 2015-10-12 09:54:43  0.975890     1.0\n",
       "2  151213_001220 2015-12-13 00:12:20  0.046571     NaN\n",
       "3  151216_184930 2015-12-16 18:49:30  0.017194     NaN\n",
       "4  151222_052826 2015-12-22 05:28:26  0.012046     NaN\n",
       "5  151226_033853 2015-12-26 03:38:53  1.000000     1.0"
      ]
     },
     "execution_count": 72,
     "metadata": {},
     "output_type": "execute_result"
    }
   ],
   "source": [
    "pd.merge(df_1OGC_2015_re, df_4OGC_2015_re, on=['ID', 'Date'], how='outer')"
   ]
  },
  {
   "cell_type": "markdown",
   "id": "8c240cd0-0d4b-4cb9-aa22-e00476a59b50",
   "metadata": {},
   "source": [
    "## 透视表\n",
    "\n",
    "* 也许大多数人都有在Excel中使用数据透视表的经历，其实Pandas也提供了一个类似的功能，名为 `pivot_table`。\n",
    "* 将一个DataFrame的记录数据整合成表格(类似Excel中的数据透视表功能)，而且是按照pivot(‘index=xx’,’columns=xx’,’values=xx’)来整合的。\n",
    "\n",
    "为了进行透视表的操作，我们先做些数据准备：\n",
    "* 插入一个名为“Obs”的字段分别标识不同catalog来源的数据；\n",
    "* 合并两个catalog的 2015 年的数据（pastro>0.01），并按索引值排序；\n",
    "* 重置合并数据的索引；"
   ]
  },
  {
   "cell_type": "code",
   "execution_count": 73,
   "id": "ccf43938-55bc-43e4-a9e4-1f6ef71c1b96",
   "metadata": {
    "tags": []
   },
   "outputs": [],
   "source": [
    "df_1OGC_2015_demo.insert(0, 'Obs', '1-OGC')\n",
    "df_4OGC_2015_demo.insert(0, 'Obs', '4-OGC')\n",
    "\n",
    "combined = pd.concat([df_1OGC_2015_demo[['Obs', 'Date', 'network_snr', 'far']], \n",
    "                      df_4OGC_2015_demo[['Obs', 'Date', 'network_snr', 'far']]]).sort_index()\n",
    "\n",
    "combined = combined.reset_index();"
   ]
  },
  {
   "cell_type": "code",
   "execution_count": 74,
   "id": "29ead35e-6c24-4029-bf59-2c363b882c40",
   "metadata": {
    "tags": []
   },
   "outputs": [
    {
     "data": {
      "text/html": [
       "<div>\n",
       "<style scoped>\n",
       "    .dataframe tbody tr th:only-of-type {\n",
       "        vertical-align: middle;\n",
       "    }\n",
       "\n",
       "    .dataframe tbody tr th {\n",
       "        vertical-align: top;\n",
       "    }\n",
       "\n",
       "    .dataframe thead th {\n",
       "        text-align: right;\n",
       "    }\n",
       "</style>\n",
       "<table border=\"1\" class=\"dataframe\">\n",
       "  <thead>\n",
       "    <tr style=\"text-align: right;\">\n",
       "      <th></th>\n",
       "      <th>ID</th>\n",
       "      <th>Obs</th>\n",
       "      <th>Date</th>\n",
       "      <th>network_snr</th>\n",
       "      <th>far</th>\n",
       "    </tr>\n",
       "  </thead>\n",
       "  <tbody>\n",
       "    <tr>\n",
       "      <th>0</th>\n",
       "      <td>150914_095045</td>\n",
       "      <td>1-OGC</td>\n",
       "      <td>2015-09-14 09:50:45</td>\n",
       "      <td>23.790823</td>\n",
       "      <td>0.000015</td>\n",
       "    </tr>\n",
       "    <tr>\n",
       "      <th>1</th>\n",
       "      <td>150914_095045</td>\n",
       "      <td>4-OGC</td>\n",
       "      <td>2015-09-14 09:50:45</td>\n",
       "      <td>23.825441</td>\n",
       "      <td>0.000061</td>\n",
       "    </tr>\n",
       "    <tr>\n",
       "      <th>2</th>\n",
       "      <td>151012_095443</td>\n",
       "      <td>1-OGC</td>\n",
       "      <td>2015-10-12 09:54:43</td>\n",
       "      <td>9.662005</td>\n",
       "      <td>0.002240</td>\n",
       "    </tr>\n",
       "    <tr>\n",
       "      <th>3</th>\n",
       "      <td>151012_095443</td>\n",
       "      <td>4-OGC</td>\n",
       "      <td>2015-10-12 09:54:43</td>\n",
       "      <td>9.522203</td>\n",
       "      <td>0.001114</td>\n",
       "    </tr>\n",
       "    <tr>\n",
       "      <th>4</th>\n",
       "      <td>151213_001220</td>\n",
       "      <td>1-OGC</td>\n",
       "      <td>2015-12-13 00:12:20</td>\n",
       "      <td>9.211678</td>\n",
       "      <td>3.239747</td>\n",
       "    </tr>\n",
       "    <tr>\n",
       "      <th>5</th>\n",
       "      <td>151216_184930</td>\n",
       "      <td>1-OGC</td>\n",
       "      <td>2015-12-16 18:49:30</td>\n",
       "      <td>8.560873</td>\n",
       "      <td>9.418957</td>\n",
       "    </tr>\n",
       "    <tr>\n",
       "      <th>6</th>\n",
       "      <td>151222_052826</td>\n",
       "      <td>1-OGC</td>\n",
       "      <td>2015-12-22 05:28:26</td>\n",
       "      <td>8.600986</td>\n",
       "      <td>13.309665</td>\n",
       "    </tr>\n",
       "    <tr>\n",
       "      <th>7</th>\n",
       "      <td>151226_033853</td>\n",
       "      <td>1-OGC</td>\n",
       "      <td>2015-12-26 03:38:53</td>\n",
       "      <td>13.054273</td>\n",
       "      <td>0.000017</td>\n",
       "    </tr>\n",
       "    <tr>\n",
       "      <th>8</th>\n",
       "      <td>151226_033853</td>\n",
       "      <td>4-OGC</td>\n",
       "      <td>2015-12-26 03:38:53</td>\n",
       "      <td>12.864034</td>\n",
       "      <td>0.000068</td>\n",
       "    </tr>\n",
       "  </tbody>\n",
       "</table>\n",
       "</div>"
      ],
      "text/plain": [
       "              ID    Obs                Date  network_snr        far\n",
       "0  150914_095045  1-OGC 2015-09-14 09:50:45    23.790823   0.000015\n",
       "1  150914_095045  4-OGC 2015-09-14 09:50:45    23.825441   0.000061\n",
       "2  151012_095443  1-OGC 2015-10-12 09:54:43     9.662005   0.002240\n",
       "3  151012_095443  4-OGC 2015-10-12 09:54:43     9.522203   0.001114\n",
       "4  151213_001220  1-OGC 2015-12-13 00:12:20     9.211678   3.239747\n",
       "5  151216_184930  1-OGC 2015-12-16 18:49:30     8.560873   9.418957\n",
       "6  151222_052826  1-OGC 2015-12-22 05:28:26     8.600986  13.309665\n",
       "7  151226_033853  1-OGC 2015-12-26 03:38:53    13.054273   0.000017\n",
       "8  151226_033853  4-OGC 2015-12-26 03:38:53    12.864034   0.000068"
      ]
     },
     "execution_count": 74,
     "metadata": {},
     "output_type": "execute_result"
    }
   ],
   "source": [
    "combined"
   ]
  },
  {
   "cell_type": "markdown",
   "id": "44338270-8c3a-4217-bbeb-eb5c4bc6a292",
   "metadata": {},
   "source": [
    "基于上面的数据，制作生成一张简单的数据透视表"
   ]
  },
  {
   "cell_type": "code",
   "execution_count": 75,
   "id": "53a057b6-f5e9-4dc5-a05f-7cf18720542a",
   "metadata": {
    "tags": []
   },
   "outputs": [
    {
     "data": {
      "text/html": [
       "<div>\n",
       "<style scoped>\n",
       "    .dataframe tbody tr th:only-of-type {\n",
       "        vertical-align: middle;\n",
       "    }\n",
       "\n",
       "    .dataframe tbody tr th {\n",
       "        vertical-align: top;\n",
       "    }\n",
       "\n",
       "    .dataframe thead th {\n",
       "        text-align: right;\n",
       "    }\n",
       "</style>\n",
       "<table border=\"1\" class=\"dataframe\">\n",
       "  <thead>\n",
       "    <tr style=\"text-align: right;\">\n",
       "      <th>Obs</th>\n",
       "      <th>1-OGC</th>\n",
       "      <th>4-OGC</th>\n",
       "    </tr>\n",
       "    <tr>\n",
       "      <th>ID</th>\n",
       "      <th></th>\n",
       "      <th></th>\n",
       "    </tr>\n",
       "  </thead>\n",
       "  <tbody>\n",
       "    <tr>\n",
       "      <th>150914_095045</th>\n",
       "      <td>23.790823</td>\n",
       "      <td>23.825441</td>\n",
       "    </tr>\n",
       "    <tr>\n",
       "      <th>151012_095443</th>\n",
       "      <td>9.662005</td>\n",
       "      <td>9.522203</td>\n",
       "    </tr>\n",
       "    <tr>\n",
       "      <th>151213_001220</th>\n",
       "      <td>9.211678</td>\n",
       "      <td>NaN</td>\n",
       "    </tr>\n",
       "    <tr>\n",
       "      <th>151216_184930</th>\n",
       "      <td>8.560873</td>\n",
       "      <td>NaN</td>\n",
       "    </tr>\n",
       "    <tr>\n",
       "      <th>151222_052826</th>\n",
       "      <td>8.600986</td>\n",
       "      <td>NaN</td>\n",
       "    </tr>\n",
       "    <tr>\n",
       "      <th>151226_033853</th>\n",
       "      <td>13.054273</td>\n",
       "      <td>12.864034</td>\n",
       "    </tr>\n",
       "  </tbody>\n",
       "</table>\n",
       "</div>"
      ],
      "text/plain": [
       "Obs                1-OGC      4-OGC\n",
       "ID                                 \n",
       "150914_095045  23.790823  23.825441\n",
       "151012_095443   9.662005   9.522203\n",
       "151213_001220   9.211678        NaN\n",
       "151216_184930   8.560873        NaN\n",
       "151222_052826   8.600986        NaN\n",
       "151226_033853  13.054273  12.864034"
      ]
     },
     "execution_count": 75,
     "metadata": {},
     "output_type": "execute_result"
    }
   ],
   "source": [
    "network_snr = combined.pivot(index='ID', columns='Obs', values='network_snr')\n",
    "network_snr"
   ]
  },
  {
   "cell_type": "markdown",
   "id": "c30550d4-55ab-40f3-b327-6283840f523b",
   "metadata": {},
   "source": [
    "### **堆叠**\n",
    "\n",
    "DataFrame 在操作上和 pivot 功能类似的函数还有： .stack() 和 .unstack(). \n",
    "\n",
    "这个函数可以进一步将 column 转为新一层级的 index。\n"
   ]
  },
  {
   "cell_type": "code",
   "execution_count": 77,
   "id": "3d90fb62-b389-43cc-874b-8ecea5e6f2c4",
   "metadata": {
    "tags": []
   },
   "outputs": [
    {
     "data": {
      "text/plain": [
       "ID             Obs  \n",
       "150914_095045  1-OGC    23.790823\n",
       "               4-OGC    23.825441\n",
       "151012_095443  1-OGC     9.662005\n",
       "               4-OGC     9.522203\n",
       "151213_001220  1-OGC     9.211678\n",
       "151216_184930  1-OGC     8.560873\n",
       "151222_052826  1-OGC     8.600986\n",
       "151226_033853  1-OGC    13.054273\n",
       "               4-OGC    12.864034\n",
       "dtype: float64"
      ]
     },
     "execution_count": 77,
     "metadata": {},
     "output_type": "execute_result"
    }
   ],
   "source": [
    "stacked_network_snr = network_snr.stack()\n",
    "\n",
    "stacked_network_snr"
   ]
  },
  {
   "cell_type": "code",
   "execution_count": 78,
   "id": "7bab3102-a0bc-4c69-97f9-035bf33a2be1",
   "metadata": {
    "tags": []
   },
   "outputs": [
    {
     "data": {
      "text/plain": [
       "pandas.core.series.Series"
      ]
     },
     "execution_count": 78,
     "metadata": {},
     "output_type": "execute_result"
    }
   ],
   "source": [
    "type(stacked_network_snr)"
   ]
  },
  {
   "cell_type": "code",
   "execution_count": 79,
   "id": "8f9e705f-9ee5-40e3-a7a3-3f7fe99115c6",
   "metadata": {
    "tags": []
   },
   "outputs": [
    {
     "data": {
      "text/plain": [
       "MultiIndex([('150914_095045', '1-OGC'),\n",
       "            ('150914_095045', '4-OGC'),\n",
       "            ('151012_095443', '1-OGC'),\n",
       "            ('151012_095443', '4-OGC'),\n",
       "            ('151213_001220', '1-OGC'),\n",
       "            ('151216_184930', '1-OGC'),\n",
       "            ('151222_052826', '1-OGC'),\n",
       "            ('151226_033853', '1-OGC'),\n",
       "            ('151226_033853', '4-OGC')],\n",
       "           names=['ID', 'Obs'])"
      ]
     },
     "execution_count": 79,
     "metadata": {},
     "output_type": "execute_result"
    }
   ],
   "source": [
    "stacked_network_snr.index"
   ]
  },
  {
   "cell_type": "markdown",
   "id": "94f85848-c43b-4c0c-9bc0-611eb983066a",
   "metadata": {},
   "source": [
    "再来看看 stacked 的数据表如何切片？"
   ]
  },
  {
   "cell_type": "code",
   "execution_count": 82,
   "id": "e676f634-417b-41e3-b861-09532ac3ba45",
   "metadata": {
    "tags": []
   },
   "outputs": [
    {
     "data": {
      "text/plain": [
       "23.825440832827386"
      ]
     },
     "execution_count": 82,
     "metadata": {},
     "output_type": "execute_result"
    }
   ],
   "source": [
    "stacked_network_snr['150914_095045']['1-OGC']\n",
    "stacked_network_snr['150914_095045']['4-OGC']"
   ]
  },
  {
   "cell_type": "markdown",
   "id": "c0fba05e-3bd1-444f-8048-5f438a4d4d4e",
   "metadata": {},
   "source": [
    "stacked 的数据又该如何 unstacked 回来？"
   ]
  },
  {
   "cell_type": "code",
   "execution_count": 83,
   "id": "adb690f5-563e-440e-902c-4168cbf15abc",
   "metadata": {
    "tags": []
   },
   "outputs": [
    {
     "data": {
      "text/html": [
       "<div>\n",
       "<style scoped>\n",
       "    .dataframe tbody tr th:only-of-type {\n",
       "        vertical-align: middle;\n",
       "    }\n",
       "\n",
       "    .dataframe tbody tr th {\n",
       "        vertical-align: top;\n",
       "    }\n",
       "\n",
       "    .dataframe thead th {\n",
       "        text-align: right;\n",
       "    }\n",
       "</style>\n",
       "<table border=\"1\" class=\"dataframe\">\n",
       "  <thead>\n",
       "    <tr style=\"text-align: right;\">\n",
       "      <th>Obs</th>\n",
       "      <th>1-OGC</th>\n",
       "      <th>4-OGC</th>\n",
       "    </tr>\n",
       "    <tr>\n",
       "      <th>ID</th>\n",
       "      <th></th>\n",
       "      <th></th>\n",
       "    </tr>\n",
       "  </thead>\n",
       "  <tbody>\n",
       "    <tr>\n",
       "      <th>150914_095045</th>\n",
       "      <td>23.790823</td>\n",
       "      <td>23.825441</td>\n",
       "    </tr>\n",
       "    <tr>\n",
       "      <th>151012_095443</th>\n",
       "      <td>9.662005</td>\n",
       "      <td>9.522203</td>\n",
       "    </tr>\n",
       "    <tr>\n",
       "      <th>151213_001220</th>\n",
       "      <td>9.211678</td>\n",
       "      <td>NaN</td>\n",
       "    </tr>\n",
       "    <tr>\n",
       "      <th>151216_184930</th>\n",
       "      <td>8.560873</td>\n",
       "      <td>NaN</td>\n",
       "    </tr>\n",
       "    <tr>\n",
       "      <th>151222_052826</th>\n",
       "      <td>8.600986</td>\n",
       "      <td>NaN</td>\n",
       "    </tr>\n",
       "    <tr>\n",
       "      <th>151226_033853</th>\n",
       "      <td>13.054273</td>\n",
       "      <td>12.864034</td>\n",
       "    </tr>\n",
       "  </tbody>\n",
       "</table>\n",
       "</div>"
      ],
      "text/plain": [
       "Obs                1-OGC      4-OGC\n",
       "ID                                 \n",
       "150914_095045  23.790823  23.825441\n",
       "151012_095443   9.662005   9.522203\n",
       "151213_001220   9.211678        NaN\n",
       "151216_184930   8.560873        NaN\n",
       "151222_052826   8.600986        NaN\n",
       "151226_033853  13.054273  12.864034"
      ]
     },
     "execution_count": 83,
     "metadata": {},
     "output_type": "execute_result"
    }
   ],
   "source": [
    "unstacked_network_snr = stacked_network_snr.unstack()\n",
    "\n",
    "unstacked_network_snr"
   ]
  },
  {
   "cell_type": "markdown",
   "id": "1a6d26f7-0440-446a-aa88-1ca9bb4a012b",
   "metadata": {},
   "source": [
    "### 重塑\n",
    "* melt() 可以把一个 dataframe 转换成每一行都有一个唯一id标识的变量组合的数据格式\n",
    "* 数据分析的时候经常要把宽数据--->>长数据（列转行）,change the DataFrame format from wide to long，有点像我们用excel 做逆透视的过程"
   ]
  },
  {
   "cell_type": "code",
   "execution_count": 84,
   "id": "3f09ba55-98cb-44a7-b3ef-26e2c9a8d344",
   "metadata": {
    "tags": []
   },
   "outputs": [
    {
     "data": {
      "text/html": [
       "<div>\n",
       "<style scoped>\n",
       "    .dataframe tbody tr th:only-of-type {\n",
       "        vertical-align: middle;\n",
       "    }\n",
       "\n",
       "    .dataframe tbody tr th {\n",
       "        vertical-align: top;\n",
       "    }\n",
       "\n",
       "    .dataframe thead th {\n",
       "        text-align: right;\n",
       "    }\n",
       "</style>\n",
       "<table border=\"1\" class=\"dataframe\">\n",
       "  <thead>\n",
       "    <tr style=\"text-align: right;\">\n",
       "      <th></th>\n",
       "      <th>ID</th>\n",
       "      <th>Obs</th>\n",
       "      <th>Date</th>\n",
       "      <th>network_snr</th>\n",
       "      <th>far</th>\n",
       "    </tr>\n",
       "  </thead>\n",
       "  <tbody>\n",
       "    <tr>\n",
       "      <th>0</th>\n",
       "      <td>150914_095045</td>\n",
       "      <td>1-OGC</td>\n",
       "      <td>2015-09-14 09:50:45</td>\n",
       "      <td>23.790823</td>\n",
       "      <td>0.000015</td>\n",
       "    </tr>\n",
       "    <tr>\n",
       "      <th>1</th>\n",
       "      <td>150914_095045</td>\n",
       "      <td>4-OGC</td>\n",
       "      <td>2015-09-14 09:50:45</td>\n",
       "      <td>23.825441</td>\n",
       "      <td>0.000061</td>\n",
       "    </tr>\n",
       "    <tr>\n",
       "      <th>2</th>\n",
       "      <td>151012_095443</td>\n",
       "      <td>1-OGC</td>\n",
       "      <td>2015-10-12 09:54:43</td>\n",
       "      <td>9.662005</td>\n",
       "      <td>0.002240</td>\n",
       "    </tr>\n",
       "    <tr>\n",
       "      <th>3</th>\n",
       "      <td>151012_095443</td>\n",
       "      <td>4-OGC</td>\n",
       "      <td>2015-10-12 09:54:43</td>\n",
       "      <td>9.522203</td>\n",
       "      <td>0.001114</td>\n",
       "    </tr>\n",
       "    <tr>\n",
       "      <th>4</th>\n",
       "      <td>151213_001220</td>\n",
       "      <td>1-OGC</td>\n",
       "      <td>2015-12-13 00:12:20</td>\n",
       "      <td>9.211678</td>\n",
       "      <td>3.239747</td>\n",
       "    </tr>\n",
       "    <tr>\n",
       "      <th>5</th>\n",
       "      <td>151216_184930</td>\n",
       "      <td>1-OGC</td>\n",
       "      <td>2015-12-16 18:49:30</td>\n",
       "      <td>8.560873</td>\n",
       "      <td>9.418957</td>\n",
       "    </tr>\n",
       "    <tr>\n",
       "      <th>6</th>\n",
       "      <td>151222_052826</td>\n",
       "      <td>1-OGC</td>\n",
       "      <td>2015-12-22 05:28:26</td>\n",
       "      <td>8.600986</td>\n",
       "      <td>13.309665</td>\n",
       "    </tr>\n",
       "    <tr>\n",
       "      <th>7</th>\n",
       "      <td>151226_033853</td>\n",
       "      <td>1-OGC</td>\n",
       "      <td>2015-12-26 03:38:53</td>\n",
       "      <td>13.054273</td>\n",
       "      <td>0.000017</td>\n",
       "    </tr>\n",
       "    <tr>\n",
       "      <th>8</th>\n",
       "      <td>151226_033853</td>\n",
       "      <td>4-OGC</td>\n",
       "      <td>2015-12-26 03:38:53</td>\n",
       "      <td>12.864034</td>\n",
       "      <td>0.000068</td>\n",
       "    </tr>\n",
       "  </tbody>\n",
       "</table>\n",
       "</div>"
      ],
      "text/plain": [
       "              ID    Obs                Date  network_snr        far\n",
       "0  150914_095045  1-OGC 2015-09-14 09:50:45    23.790823   0.000015\n",
       "1  150914_095045  4-OGC 2015-09-14 09:50:45    23.825441   0.000061\n",
       "2  151012_095443  1-OGC 2015-10-12 09:54:43     9.662005   0.002240\n",
       "3  151012_095443  4-OGC 2015-10-12 09:54:43     9.522203   0.001114\n",
       "4  151213_001220  1-OGC 2015-12-13 00:12:20     9.211678   3.239747\n",
       "5  151216_184930  1-OGC 2015-12-16 18:49:30     8.560873   9.418957\n",
       "6  151222_052826  1-OGC 2015-12-22 05:28:26     8.600986  13.309665\n",
       "7  151226_033853  1-OGC 2015-12-26 03:38:53    13.054273   0.000017\n",
       "8  151226_033853  4-OGC 2015-12-26 03:38:53    12.864034   0.000068"
      ]
     },
     "execution_count": 84,
     "metadata": {},
     "output_type": "execute_result"
    }
   ],
   "source": [
    "combined # 这里不存在唯一id标识的特征列"
   ]
  },
  {
   "cell_type": "code",
   "execution_count": 85,
   "id": "4fa1f229-d174-4a52-bbd3-5d2454e3cbe7",
   "metadata": {
    "tags": []
   },
   "outputs": [
    {
     "data": {
      "text/html": [
       "<div>\n",
       "<style scoped>\n",
       "    .dataframe tbody tr th:only-of-type {\n",
       "        vertical-align: middle;\n",
       "    }\n",
       "\n",
       "    .dataframe tbody tr th {\n",
       "        vertical-align: top;\n",
       "    }\n",
       "\n",
       "    .dataframe thead th {\n",
       "        text-align: right;\n",
       "    }\n",
       "</style>\n",
       "<table border=\"1\" class=\"dataframe\">\n",
       "  <thead>\n",
       "    <tr style=\"text-align: right;\">\n",
       "      <th></th>\n",
       "      <th>Date</th>\n",
       "      <th>Obs</th>\n",
       "      <th>variable</th>\n",
       "      <th>value</th>\n",
       "    </tr>\n",
       "  </thead>\n",
       "  <tbody>\n",
       "    <tr>\n",
       "      <th>0</th>\n",
       "      <td>2015-09-14 09:50:45</td>\n",
       "      <td>1-OGC</td>\n",
       "      <td>ID</td>\n",
       "      <td>150914_095045</td>\n",
       "    </tr>\n",
       "    <tr>\n",
       "      <th>1</th>\n",
       "      <td>2015-09-14 09:50:45</td>\n",
       "      <td>4-OGC</td>\n",
       "      <td>ID</td>\n",
       "      <td>150914_095045</td>\n",
       "    </tr>\n",
       "    <tr>\n",
       "      <th>2</th>\n",
       "      <td>2015-10-12 09:54:43</td>\n",
       "      <td>1-OGC</td>\n",
       "      <td>ID</td>\n",
       "      <td>151012_095443</td>\n",
       "    </tr>\n",
       "    <tr>\n",
       "      <th>3</th>\n",
       "      <td>2015-10-12 09:54:43</td>\n",
       "      <td>4-OGC</td>\n",
       "      <td>ID</td>\n",
       "      <td>151012_095443</td>\n",
       "    </tr>\n",
       "    <tr>\n",
       "      <th>4</th>\n",
       "      <td>2015-12-13 00:12:20</td>\n",
       "      <td>1-OGC</td>\n",
       "      <td>ID</td>\n",
       "      <td>151213_001220</td>\n",
       "    </tr>\n",
       "    <tr>\n",
       "      <th>5</th>\n",
       "      <td>2015-12-16 18:49:30</td>\n",
       "      <td>1-OGC</td>\n",
       "      <td>ID</td>\n",
       "      <td>151216_184930</td>\n",
       "    </tr>\n",
       "    <tr>\n",
       "      <th>6</th>\n",
       "      <td>2015-12-22 05:28:26</td>\n",
       "      <td>1-OGC</td>\n",
       "      <td>ID</td>\n",
       "      <td>151222_052826</td>\n",
       "    </tr>\n",
       "    <tr>\n",
       "      <th>7</th>\n",
       "      <td>2015-12-26 03:38:53</td>\n",
       "      <td>1-OGC</td>\n",
       "      <td>ID</td>\n",
       "      <td>151226_033853</td>\n",
       "    </tr>\n",
       "    <tr>\n",
       "      <th>8</th>\n",
       "      <td>2015-12-26 03:38:53</td>\n",
       "      <td>4-OGC</td>\n",
       "      <td>ID</td>\n",
       "      <td>151226_033853</td>\n",
       "    </tr>\n",
       "    <tr>\n",
       "      <th>9</th>\n",
       "      <td>2015-09-14 09:50:45</td>\n",
       "      <td>1-OGC</td>\n",
       "      <td>network_snr</td>\n",
       "      <td>23.790823</td>\n",
       "    </tr>\n",
       "    <tr>\n",
       "      <th>10</th>\n",
       "      <td>2015-09-14 09:50:45</td>\n",
       "      <td>4-OGC</td>\n",
       "      <td>network_snr</td>\n",
       "      <td>23.825441</td>\n",
       "    </tr>\n",
       "    <tr>\n",
       "      <th>11</th>\n",
       "      <td>2015-10-12 09:54:43</td>\n",
       "      <td>1-OGC</td>\n",
       "      <td>network_snr</td>\n",
       "      <td>9.662005</td>\n",
       "    </tr>\n",
       "    <tr>\n",
       "      <th>12</th>\n",
       "      <td>2015-10-12 09:54:43</td>\n",
       "      <td>4-OGC</td>\n",
       "      <td>network_snr</td>\n",
       "      <td>9.522203</td>\n",
       "    </tr>\n",
       "    <tr>\n",
       "      <th>13</th>\n",
       "      <td>2015-12-13 00:12:20</td>\n",
       "      <td>1-OGC</td>\n",
       "      <td>network_snr</td>\n",
       "      <td>9.211678</td>\n",
       "    </tr>\n",
       "    <tr>\n",
       "      <th>14</th>\n",
       "      <td>2015-12-16 18:49:30</td>\n",
       "      <td>1-OGC</td>\n",
       "      <td>network_snr</td>\n",
       "      <td>8.560873</td>\n",
       "    </tr>\n",
       "    <tr>\n",
       "      <th>15</th>\n",
       "      <td>2015-12-22 05:28:26</td>\n",
       "      <td>1-OGC</td>\n",
       "      <td>network_snr</td>\n",
       "      <td>8.600986</td>\n",
       "    </tr>\n",
       "    <tr>\n",
       "      <th>16</th>\n",
       "      <td>2015-12-26 03:38:53</td>\n",
       "      <td>1-OGC</td>\n",
       "      <td>network_snr</td>\n",
       "      <td>13.054273</td>\n",
       "    </tr>\n",
       "    <tr>\n",
       "      <th>17</th>\n",
       "      <td>2015-12-26 03:38:53</td>\n",
       "      <td>4-OGC</td>\n",
       "      <td>network_snr</td>\n",
       "      <td>12.864034</td>\n",
       "    </tr>\n",
       "    <tr>\n",
       "      <th>18</th>\n",
       "      <td>2015-09-14 09:50:45</td>\n",
       "      <td>1-OGC</td>\n",
       "      <td>far</td>\n",
       "      <td>0.000015</td>\n",
       "    </tr>\n",
       "    <tr>\n",
       "      <th>19</th>\n",
       "      <td>2015-09-14 09:50:45</td>\n",
       "      <td>4-OGC</td>\n",
       "      <td>far</td>\n",
       "      <td>0.000061</td>\n",
       "    </tr>\n",
       "    <tr>\n",
       "      <th>20</th>\n",
       "      <td>2015-10-12 09:54:43</td>\n",
       "      <td>1-OGC</td>\n",
       "      <td>far</td>\n",
       "      <td>0.00224</td>\n",
       "    </tr>\n",
       "    <tr>\n",
       "      <th>21</th>\n",
       "      <td>2015-10-12 09:54:43</td>\n",
       "      <td>4-OGC</td>\n",
       "      <td>far</td>\n",
       "      <td>0.001114</td>\n",
       "    </tr>\n",
       "    <tr>\n",
       "      <th>22</th>\n",
       "      <td>2015-12-13 00:12:20</td>\n",
       "      <td>1-OGC</td>\n",
       "      <td>far</td>\n",
       "      <td>3.239747</td>\n",
       "    </tr>\n",
       "    <tr>\n",
       "      <th>23</th>\n",
       "      <td>2015-12-16 18:49:30</td>\n",
       "      <td>1-OGC</td>\n",
       "      <td>far</td>\n",
       "      <td>9.418957</td>\n",
       "    </tr>\n",
       "    <tr>\n",
       "      <th>24</th>\n",
       "      <td>2015-12-22 05:28:26</td>\n",
       "      <td>1-OGC</td>\n",
       "      <td>far</td>\n",
       "      <td>13.309665</td>\n",
       "    </tr>\n",
       "    <tr>\n",
       "      <th>25</th>\n",
       "      <td>2015-12-26 03:38:53</td>\n",
       "      <td>1-OGC</td>\n",
       "      <td>far</td>\n",
       "      <td>0.000017</td>\n",
       "    </tr>\n",
       "    <tr>\n",
       "      <th>26</th>\n",
       "      <td>2015-12-26 03:38:53</td>\n",
       "      <td>4-OGC</td>\n",
       "      <td>far</td>\n",
       "      <td>0.000068</td>\n",
       "    </tr>\n",
       "  </tbody>\n",
       "</table>\n",
       "</div>"
      ],
      "text/plain": [
       "                  Date    Obs     variable          value\n",
       "0  2015-09-14 09:50:45  1-OGC           ID  150914_095045\n",
       "1  2015-09-14 09:50:45  4-OGC           ID  150914_095045\n",
       "2  2015-10-12 09:54:43  1-OGC           ID  151012_095443\n",
       "3  2015-10-12 09:54:43  4-OGC           ID  151012_095443\n",
       "4  2015-12-13 00:12:20  1-OGC           ID  151213_001220\n",
       "5  2015-12-16 18:49:30  1-OGC           ID  151216_184930\n",
       "6  2015-12-22 05:28:26  1-OGC           ID  151222_052826\n",
       "7  2015-12-26 03:38:53  1-OGC           ID  151226_033853\n",
       "8  2015-12-26 03:38:53  4-OGC           ID  151226_033853\n",
       "9  2015-09-14 09:50:45  1-OGC  network_snr      23.790823\n",
       "10 2015-09-14 09:50:45  4-OGC  network_snr      23.825441\n",
       "11 2015-10-12 09:54:43  1-OGC  network_snr       9.662005\n",
       "12 2015-10-12 09:54:43  4-OGC  network_snr       9.522203\n",
       "13 2015-12-13 00:12:20  1-OGC  network_snr       9.211678\n",
       "14 2015-12-16 18:49:30  1-OGC  network_snr       8.560873\n",
       "15 2015-12-22 05:28:26  1-OGC  network_snr       8.600986\n",
       "16 2015-12-26 03:38:53  1-OGC  network_snr      13.054273\n",
       "17 2015-12-26 03:38:53  4-OGC  network_snr      12.864034\n",
       "18 2015-09-14 09:50:45  1-OGC          far       0.000015\n",
       "19 2015-09-14 09:50:45  4-OGC          far       0.000061\n",
       "20 2015-10-12 09:54:43  1-OGC          far        0.00224\n",
       "21 2015-10-12 09:54:43  4-OGC          far       0.001114\n",
       "22 2015-12-13 00:12:20  1-OGC          far       3.239747\n",
       "23 2015-12-16 18:49:30  1-OGC          far       9.418957\n",
       "24 2015-12-22 05:28:26  1-OGC          far      13.309665\n",
       "25 2015-12-26 03:38:53  1-OGC          far       0.000017\n",
       "26 2015-12-26 03:38:53  4-OGC          far       0.000068"
      ]
     },
     "execution_count": 85,
     "metadata": {},
     "output_type": "execute_result"
    }
   ],
   "source": [
    "pd.melt(combined, id_vars=['Date', 'Obs'])"
   ]
  },
  {
   "cell_type": "markdown",
   "id": "329039d1-25b1-44a6-99dd-1314ab7b46ed",
   "metadata": {},
   "source": [
    "![](https://vip2.loli.io/2023/12/02/o5IUXDwP2nVG8Ym.jpg)"
   ]
  },
  {
   "cell_type": "markdown",
   "id": "1ec4143b-f335-4003-bcaf-b73f87eeab16",
   "metadata": {},
   "source": [
    "- 一维的逆透视（明细记录表）是用来详细记录信息的，是数据库\n",
    "- 我们在做数据管理的时候，基础数据的存储一定要采用一维表。"
   ]
  },
  {
   "cell_type": "markdown",
   "id": "9a50a1be-92c3-42ea-9283-0d1c532e8b44",
   "metadata": {},
   "source": [
    "### 分组\n",
    "\n",
    "* 在日常的数据分析中，经常需要将数据根据某个（多个）字段划分为不同的群体（group）进行分析，如电商领域将全国的总销售额根据省份进行划分，分析各省销售额的变化情况，社交领域将用户根据画像（性别、年龄）进行细分，研究用户的使用情况和偏好等;\n",
    "* 在Pandas中，上述的数据处理操作主要运用groupby完成;\n",
    "* 在对于一个dataframe调用了groupby()方法的结果不是实际的分组数据,而是会得到一个DataFrameGroupBy对象;\n"
   ]
  },
  {
   "cell_type": "markdown",
   "id": "986f94a6-ca84-4d13-a0e8-418110e32945",
   "metadata": {},
   "source": [
    "先准备分组练习的数据，已经重置索引"
   ]
  },
  {
   "cell_type": "code",
   "execution_count": 86,
   "id": "b082dec2-f95b-4063-bb65-335d36d06169",
   "metadata": {
    "tags": []
   },
   "outputs": [
    {
     "data": {
      "text/html": [
       "<div>\n",
       "<style scoped>\n",
       "    .dataframe tbody tr th:only-of-type {\n",
       "        vertical-align: middle;\n",
       "    }\n",
       "\n",
       "    .dataframe tbody tr th {\n",
       "        vertical-align: top;\n",
       "    }\n",
       "\n",
       "    .dataframe thead th {\n",
       "        text-align: right;\n",
       "    }\n",
       "</style>\n",
       "<table border=\"1\" class=\"dataframe\">\n",
       "  <thead>\n",
       "    <tr style=\"text-align: right;\">\n",
       "      <th></th>\n",
       "      <th>Obs</th>\n",
       "      <th>Date</th>\n",
       "      <th>network_snr</th>\n",
       "      <th>far</th>\n",
       "    </tr>\n",
       "  </thead>\n",
       "  <tbody>\n",
       "    <tr>\n",
       "      <th>0</th>\n",
       "      <td>1-OGC</td>\n",
       "      <td>2015-09-14 09:50:45</td>\n",
       "      <td>23.790823</td>\n",
       "      <td>0.000015</td>\n",
       "    </tr>\n",
       "    <tr>\n",
       "      <th>1</th>\n",
       "      <td>4-OGC</td>\n",
       "      <td>2015-09-14 09:50:45</td>\n",
       "      <td>23.825441</td>\n",
       "      <td>0.000061</td>\n",
       "    </tr>\n",
       "    <tr>\n",
       "      <th>2</th>\n",
       "      <td>1-OGC</td>\n",
       "      <td>2015-10-12 09:54:43</td>\n",
       "      <td>9.662005</td>\n",
       "      <td>0.002240</td>\n",
       "    </tr>\n",
       "    <tr>\n",
       "      <th>3</th>\n",
       "      <td>4-OGC</td>\n",
       "      <td>2015-10-12 09:54:43</td>\n",
       "      <td>9.522203</td>\n",
       "      <td>0.001114</td>\n",
       "    </tr>\n",
       "    <tr>\n",
       "      <th>4</th>\n",
       "      <td>1-OGC</td>\n",
       "      <td>2015-12-13 00:12:20</td>\n",
       "      <td>9.211678</td>\n",
       "      <td>3.239747</td>\n",
       "    </tr>\n",
       "    <tr>\n",
       "      <th>5</th>\n",
       "      <td>1-OGC</td>\n",
       "      <td>2015-12-16 18:49:30</td>\n",
       "      <td>8.560873</td>\n",
       "      <td>9.418957</td>\n",
       "    </tr>\n",
       "    <tr>\n",
       "      <th>6</th>\n",
       "      <td>1-OGC</td>\n",
       "      <td>2015-12-22 05:28:26</td>\n",
       "      <td>8.600986</td>\n",
       "      <td>13.309665</td>\n",
       "    </tr>\n",
       "    <tr>\n",
       "      <th>7</th>\n",
       "      <td>1-OGC</td>\n",
       "      <td>2015-12-26 03:38:53</td>\n",
       "      <td>13.054273</td>\n",
       "      <td>0.000017</td>\n",
       "    </tr>\n",
       "    <tr>\n",
       "      <th>8</th>\n",
       "      <td>4-OGC</td>\n",
       "      <td>2015-12-26 03:38:53</td>\n",
       "      <td>12.864034</td>\n",
       "      <td>0.000068</td>\n",
       "    </tr>\n",
       "  </tbody>\n",
       "</table>\n",
       "</div>"
      ],
      "text/plain": [
       "     Obs                Date  network_snr        far\n",
       "0  1-OGC 2015-09-14 09:50:45    23.790823   0.000015\n",
       "1  4-OGC 2015-09-14 09:50:45    23.825441   0.000061\n",
       "2  1-OGC 2015-10-12 09:54:43     9.662005   0.002240\n",
       "3  4-OGC 2015-10-12 09:54:43     9.522203   0.001114\n",
       "4  1-OGC 2015-12-13 00:12:20     9.211678   3.239747\n",
       "5  1-OGC 2015-12-16 18:49:30     8.560873   9.418957\n",
       "6  1-OGC 2015-12-22 05:28:26     8.600986  13.309665\n",
       "7  1-OGC 2015-12-26 03:38:53    13.054273   0.000017\n",
       "8  4-OGC 2015-12-26 03:38:53    12.864034   0.000068"
      ]
     },
     "execution_count": 86,
     "metadata": {},
     "output_type": "execute_result"
    }
   ],
   "source": [
    "tmp = combined.copy()\n",
    "tmp.drop('ID', axis=1, inplace=True)\n",
    "tmp"
   ]
  },
  {
   "cell_type": "markdown",
   "id": "3a206977-4e81-4e8b-98db-37f5aea1a2b5",
   "metadata": {},
   "source": [
    "combined插入两列数据，分别是“年”和“月”："
   ]
  },
  {
   "cell_type": "code",
   "execution_count": 87,
   "id": "0b2d21b5-5cd1-4321-b0b2-f658d0ce4f21",
   "metadata": {
    "tags": []
   },
   "outputs": [
    {
     "data": {
      "text/html": [
       "<div>\n",
       "<style scoped>\n",
       "    .dataframe tbody tr th:only-of-type {\n",
       "        vertical-align: middle;\n",
       "    }\n",
       "\n",
       "    .dataframe tbody tr th {\n",
       "        vertical-align: top;\n",
       "    }\n",
       "\n",
       "    .dataframe thead th {\n",
       "        text-align: right;\n",
       "    }\n",
       "</style>\n",
       "<table border=\"1\" class=\"dataframe\">\n",
       "  <thead>\n",
       "    <tr style=\"text-align: right;\">\n",
       "      <th></th>\n",
       "      <th>Obs</th>\n",
       "      <th>Year</th>\n",
       "      <th>Month</th>\n",
       "      <th>network_snr</th>\n",
       "      <th>far</th>\n",
       "    </tr>\n",
       "  </thead>\n",
       "  <tbody>\n",
       "    <tr>\n",
       "      <th>0</th>\n",
       "      <td>1-OGC</td>\n",
       "      <td>2015</td>\n",
       "      <td>9</td>\n",
       "      <td>23.790823</td>\n",
       "      <td>0.000015</td>\n",
       "    </tr>\n",
       "    <tr>\n",
       "      <th>1</th>\n",
       "      <td>4-OGC</td>\n",
       "      <td>2015</td>\n",
       "      <td>9</td>\n",
       "      <td>23.825441</td>\n",
       "      <td>0.000061</td>\n",
       "    </tr>\n",
       "    <tr>\n",
       "      <th>2</th>\n",
       "      <td>1-OGC</td>\n",
       "      <td>2015</td>\n",
       "      <td>10</td>\n",
       "      <td>9.662005</td>\n",
       "      <td>0.002240</td>\n",
       "    </tr>\n",
       "    <tr>\n",
       "      <th>3</th>\n",
       "      <td>4-OGC</td>\n",
       "      <td>2015</td>\n",
       "      <td>10</td>\n",
       "      <td>9.522203</td>\n",
       "      <td>0.001114</td>\n",
       "    </tr>\n",
       "    <tr>\n",
       "      <th>4</th>\n",
       "      <td>1-OGC</td>\n",
       "      <td>2015</td>\n",
       "      <td>12</td>\n",
       "      <td>9.211678</td>\n",
       "      <td>3.239747</td>\n",
       "    </tr>\n",
       "    <tr>\n",
       "      <th>5</th>\n",
       "      <td>1-OGC</td>\n",
       "      <td>2015</td>\n",
       "      <td>12</td>\n",
       "      <td>8.560873</td>\n",
       "      <td>9.418957</td>\n",
       "    </tr>\n",
       "    <tr>\n",
       "      <th>6</th>\n",
       "      <td>1-OGC</td>\n",
       "      <td>2015</td>\n",
       "      <td>12</td>\n",
       "      <td>8.600986</td>\n",
       "      <td>13.309665</td>\n",
       "    </tr>\n",
       "    <tr>\n",
       "      <th>7</th>\n",
       "      <td>1-OGC</td>\n",
       "      <td>2015</td>\n",
       "      <td>12</td>\n",
       "      <td>13.054273</td>\n",
       "      <td>0.000017</td>\n",
       "    </tr>\n",
       "    <tr>\n",
       "      <th>8</th>\n",
       "      <td>4-OGC</td>\n",
       "      <td>2015</td>\n",
       "      <td>12</td>\n",
       "      <td>12.864034</td>\n",
       "      <td>0.000068</td>\n",
       "    </tr>\n",
       "  </tbody>\n",
       "</table>\n",
       "</div>"
      ],
      "text/plain": [
       "     Obs  Year  Month  network_snr        far\n",
       "0  1-OGC  2015      9    23.790823   0.000015\n",
       "1  4-OGC  2015      9    23.825441   0.000061\n",
       "2  1-OGC  2015     10     9.662005   0.002240\n",
       "3  4-OGC  2015     10     9.522203   0.001114\n",
       "4  1-OGC  2015     12     9.211678   3.239747\n",
       "5  1-OGC  2015     12     8.560873   9.418957\n",
       "6  1-OGC  2015     12     8.600986  13.309665\n",
       "7  1-OGC  2015     12    13.054273   0.000017\n",
       "8  4-OGC  2015     12    12.864034   0.000068"
      ]
     },
     "execution_count": 87,
     "metadata": {},
     "output_type": "execute_result"
    }
   ],
   "source": [
    "tmp.insert(1, 'Year', pd.DatetimeIndex(tmp['Date']).year)\n",
    "tmp.insert(2, 'Month',pd.DatetimeIndex(tmp['Date']).month)\n",
    "tmp.drop('Date', axis=1, inplace=True)\n",
    "tmp"
   ]
  },
  {
   "cell_type": "markdown",
   "id": "6bf58357-ba4f-4419-93c5-58c067154293",
   "metadata": {},
   "source": [
    "- 直接试一下 groupby 感受一下"
   ]
  },
  {
   "cell_type": "code",
   "execution_count": 88,
   "id": "c37d1f6a-107a-48d6-80c9-46be8a0c022e",
   "metadata": {
    "tags": []
   },
   "outputs": [
    {
     "data": {
      "text/plain": [
       "<pandas.core.groupby.generic.DataFrameGroupBy object at 0x7f5f271d68c0>"
      ]
     },
     "execution_count": 88,
     "metadata": {},
     "output_type": "execute_result"
    }
   ],
   "source": [
    "grouped = tmp.groupby('Obs')\n",
    "grouped"
   ]
  },
  {
   "cell_type": "code",
   "execution_count": 89,
   "id": "fa3465b1-eeaa-4ceb-b094-36df0252803b",
   "metadata": {
    "tags": []
   },
   "outputs": [
    {
     "data": {
      "text/plain": [
       "pandas.io.formats.printing.PrettyDict"
      ]
     },
     "execution_count": 89,
     "metadata": {},
     "output_type": "execute_result"
    }
   ],
   "source": [
    "type(grouped.groups)"
   ]
  },
  {
   "cell_type": "code",
   "execution_count": 90,
   "id": "aba5c8b4-fe87-49b2-bd32-ebf2d367fba3",
   "metadata": {
    "tags": []
   },
   "outputs": [
    {
     "data": {
      "text/plain": [
       "Obs\n",
       "1-OGC    6\n",
       "4-OGC    3\n",
       "dtype: int64"
      ]
     },
     "execution_count": 90,
     "metadata": {},
     "output_type": "execute_result"
    }
   ],
   "source": [
    "grouped.size()  # a nice summary of the size of all the groups"
   ]
  },
  {
   "cell_type": "code",
   "execution_count": 91,
   "id": "8881487c-7bee-4aee-a16e-ef0f3bfa8972",
   "metadata": {
    "tags": []
   },
   "outputs": [
    {
     "data": {
      "text/plain": [
       "{'1-OGC': [0, 2, 4, 5, 6, 7], '4-OGC': [1, 3, 8]}"
      ]
     },
     "execution_count": 91,
     "metadata": {},
     "output_type": "execute_result"
    }
   ],
   "source": [
    "grouped.groups  # Dict {group name -> group labels}."
   ]
  },
  {
   "cell_type": "code",
   "execution_count": 92,
   "id": "fe737b61-88d7-4950-a8ea-a2f33062a4b7",
   "metadata": {
    "tags": []
   },
   "outputs": [
    {
     "name": "stdout",
     "output_type": "stream",
     "text": [
      "1-OGC\n",
      "     Obs  Year  Month  network_snr        far\n",
      "0  1-OGC  2015      9    23.790823   0.000015\n",
      "2  1-OGC  2015     10     9.662005   0.002240\n",
      "4  1-OGC  2015     12     9.211678   3.239747\n",
      "5  1-OGC  2015     12     8.560873   9.418957\n",
      "6  1-OGC  2015     12     8.600986  13.309665\n",
      "4-OGC\n",
      "     Obs  Year  Month  network_snr       far\n",
      "1  4-OGC  2015      9    23.825441  0.000061\n",
      "3  4-OGC  2015     10     9.522203  0.001114\n",
      "8  4-OGC  2015     12    12.864034  0.000068\n"
     ]
    }
   ],
   "source": [
    "for name, group in grouped:\n",
    "    print(name)\n",
    "    print(group.head())"
   ]
  },
  {
   "cell_type": "markdown",
   "id": "7dc30243-37e4-42b2-b15e-b4f38da4fa51",
   "metadata": {},
   "source": [
    "总结来说，groupby的过程就是将原有的DataFrame按照groupby的字段（这里是“Obs”），划分为若干个分组DataFrame，被分为多少个组就有多少个分组DataFrame。\n",
    "\n",
    "所以说，在groupby之后的一系列操作（如agg、apply等），均是基于子DataFrame的操作。理解了这点，也就基本摸清了Pandas中groupby操作的主要原理。"
   ]
  },
  {
   "cell_type": "markdown",
   "id": "b62e95f1-e4d6-4808-ad00-f30d976a3b66",
   "metadata": {},
   "source": [
    "### 聚合\n",
    "\n",
    "理解了分组之后，我们开始了解聚合 aggregate 。\n",
    "\n",
    "聚合操作是groupby后非常常见的操作，会写SQL的朋友对此应该是非常熟悉了。聚合操作可以用来求和、均值、最大值、最小值等。"
   ]
  },
  {
   "cell_type": "code",
   "execution_count": 94,
   "id": "962023cd-01ba-406d-9459-59ff5642c2df",
   "metadata": {
    "tags": []
   },
   "outputs": [
    {
     "data": {
      "text/html": [
       "<div>\n",
       "<style scoped>\n",
       "    .dataframe tbody tr th:only-of-type {\n",
       "        vertical-align: middle;\n",
       "    }\n",
       "\n",
       "    .dataframe tbody tr th {\n",
       "        vertical-align: top;\n",
       "    }\n",
       "\n",
       "    .dataframe thead th {\n",
       "        text-align: right;\n",
       "    }\n",
       "</style>\n",
       "<table border=\"1\" class=\"dataframe\">\n",
       "  <thead>\n",
       "    <tr style=\"text-align: right;\">\n",
       "      <th></th>\n",
       "      <th>Year</th>\n",
       "      <th>Month</th>\n",
       "      <th>network_snr</th>\n",
       "      <th>far</th>\n",
       "    </tr>\n",
       "    <tr>\n",
       "      <th>Obs</th>\n",
       "      <th></th>\n",
       "      <th></th>\n",
       "      <th></th>\n",
       "      <th></th>\n",
       "    </tr>\n",
       "  </thead>\n",
       "  <tbody>\n",
       "    <tr>\n",
       "      <th>1-OGC</th>\n",
       "      <td>2015</td>\n",
       "      <td>12</td>\n",
       "      <td>23.790823</td>\n",
       "      <td>13.309665</td>\n",
       "    </tr>\n",
       "    <tr>\n",
       "      <th>4-OGC</th>\n",
       "      <td>2015</td>\n",
       "      <td>12</td>\n",
       "      <td>23.825441</td>\n",
       "      <td>0.001114</td>\n",
       "    </tr>\n",
       "  </tbody>\n",
       "</table>\n",
       "</div>"
      ],
      "text/plain": [
       "       Year  Month  network_snr        far\n",
       "Obs                                       \n",
       "1-OGC  2015     12    23.790823  13.309665\n",
       "4-OGC  2015     12    23.825441   0.001114"
      ]
     },
     "execution_count": 94,
     "metadata": {},
     "output_type": "execute_result"
    }
   ],
   "source": [
    "tmp.groupby(['Obs']).agg('max')"
   ]
  },
  {
   "cell_type": "code",
   "execution_count": 95,
   "id": "89630011-deea-4c21-875f-540511496d37",
   "metadata": {
    "tags": []
   },
   "outputs": [
    {
     "data": {
      "text/html": [
       "<div>\n",
       "<style scoped>\n",
       "    .dataframe tbody tr th:only-of-type {\n",
       "        vertical-align: middle;\n",
       "    }\n",
       "\n",
       "    .dataframe tbody tr th {\n",
       "        vertical-align: top;\n",
       "    }\n",
       "\n",
       "    .dataframe thead th {\n",
       "        text-align: right;\n",
       "    }\n",
       "</style>\n",
       "<table border=\"1\" class=\"dataframe\">\n",
       "  <thead>\n",
       "    <tr style=\"text-align: right;\">\n",
       "      <th></th>\n",
       "      <th>Year</th>\n",
       "      <th>network_snr</th>\n",
       "    </tr>\n",
       "    <tr>\n",
       "      <th>Obs</th>\n",
       "      <th></th>\n",
       "      <th></th>\n",
       "    </tr>\n",
       "  </thead>\n",
       "  <tbody>\n",
       "    <tr>\n",
       "      <th>1-OGC</th>\n",
       "      <td>2015</td>\n",
       "      <td>23.790823</td>\n",
       "    </tr>\n",
       "    <tr>\n",
       "      <th>4-OGC</th>\n",
       "      <td>2015</td>\n",
       "      <td>23.825441</td>\n",
       "    </tr>\n",
       "  </tbody>\n",
       "</table>\n",
       "</div>"
      ],
      "text/plain": [
       "       Year  network_snr\n",
       "Obs                     \n",
       "1-OGC  2015    23.790823\n",
       "4-OGC  2015    23.825441"
      ]
     },
     "execution_count": 95,
     "metadata": {},
     "output_type": "execute_result"
    }
   ],
   "source": [
    "# 先根据 Obs 的取值分组，每组构建 ['Year', 'network_snr'] 为列的DataFrame，每列取出 max\n",
    "tmp.groupby(['Obs'])[['Year', 'network_snr']].agg('max')"
   ]
  },
  {
   "cell_type": "code",
   "execution_count": 96,
   "id": "af6e63f4-999a-4ed9-bb59-609737d25f5b",
   "metadata": {
    "tags": []
   },
   "outputs": [
    {
     "data": {
      "text/html": [
       "<div>\n",
       "<style scoped>\n",
       "    .dataframe tbody tr th:only-of-type {\n",
       "        vertical-align: middle;\n",
       "    }\n",
       "\n",
       "    .dataframe tbody tr th {\n",
       "        vertical-align: top;\n",
       "    }\n",
       "\n",
       "    .dataframe thead th {\n",
       "        text-align: right;\n",
       "    }\n",
       "</style>\n",
       "<table border=\"1\" class=\"dataframe\">\n",
       "  <thead>\n",
       "    <tr style=\"text-align: right;\">\n",
       "      <th></th>\n",
       "      <th></th>\n",
       "      <th></th>\n",
       "      <th>network_snr</th>\n",
       "      <th>far</th>\n",
       "    </tr>\n",
       "    <tr>\n",
       "      <th>Obs</th>\n",
       "      <th>Year</th>\n",
       "      <th>Month</th>\n",
       "      <th></th>\n",
       "      <th></th>\n",
       "    </tr>\n",
       "  </thead>\n",
       "  <tbody>\n",
       "    <tr>\n",
       "      <th rowspan=\"3\" valign=\"top\">1-OGC</th>\n",
       "      <th rowspan=\"3\" valign=\"top\">2015</th>\n",
       "      <th>9</th>\n",
       "      <td>23.790823</td>\n",
       "      <td>0.000015</td>\n",
       "    </tr>\n",
       "    <tr>\n",
       "      <th>10</th>\n",
       "      <td>9.662005</td>\n",
       "      <td>0.002240</td>\n",
       "    </tr>\n",
       "    <tr>\n",
       "      <th>12</th>\n",
       "      <td>13.054273</td>\n",
       "      <td>13.309665</td>\n",
       "    </tr>\n",
       "    <tr>\n",
       "      <th rowspan=\"3\" valign=\"top\">4-OGC</th>\n",
       "      <th rowspan=\"3\" valign=\"top\">2015</th>\n",
       "      <th>9</th>\n",
       "      <td>23.825441</td>\n",
       "      <td>0.000061</td>\n",
       "    </tr>\n",
       "    <tr>\n",
       "      <th>10</th>\n",
       "      <td>9.522203</td>\n",
       "      <td>0.001114</td>\n",
       "    </tr>\n",
       "    <tr>\n",
       "      <th>12</th>\n",
       "      <td>12.864034</td>\n",
       "      <td>0.000068</td>\n",
       "    </tr>\n",
       "  </tbody>\n",
       "</table>\n",
       "</div>"
      ],
      "text/plain": [
       "                  network_snr        far\n",
       "Obs   Year Month                        \n",
       "1-OGC 2015 9        23.790823   0.000015\n",
       "           10        9.662005   0.002240\n",
       "           12       13.054273  13.309665\n",
       "4-OGC 2015 9        23.825441   0.000061\n",
       "           10        9.522203   0.001114\n",
       "           12       12.864034   0.000068"
      ]
     },
     "execution_count": 96,
     "metadata": {},
     "output_type": "execute_result"
    }
   ],
   "source": [
    "# 按顺序分别对 Obs，Year，Month 组层细分的分组，每组构建 DataFrame，每列取出max\n",
    "tmp.groupby(['Obs', 'Year', 'Month']).agg('max')"
   ]
  },
  {
   "cell_type": "code",
   "execution_count": 97,
   "id": "14c2f22d-7944-45aa-b5f7-43627ad3e9fc",
   "metadata": {
    "tags": []
   },
   "outputs": [
    {
     "data": {
      "text/html": [
       "<div>\n",
       "<style scoped>\n",
       "    .dataframe tbody tr th:only-of-type {\n",
       "        vertical-align: middle;\n",
       "    }\n",
       "\n",
       "    .dataframe tbody tr th {\n",
       "        vertical-align: top;\n",
       "    }\n",
       "\n",
       "    .dataframe thead tr th {\n",
       "        text-align: left;\n",
       "    }\n",
       "\n",
       "    .dataframe thead tr:last-of-type th {\n",
       "        text-align: right;\n",
       "    }\n",
       "</style>\n",
       "<table border=\"1\" class=\"dataframe\">\n",
       "  <thead>\n",
       "    <tr>\n",
       "      <th></th>\n",
       "      <th></th>\n",
       "      <th></th>\n",
       "      <th colspan=\"2\" halign=\"left\">network_snr</th>\n",
       "      <th colspan=\"2\" halign=\"left\">far</th>\n",
       "    </tr>\n",
       "    <tr>\n",
       "      <th></th>\n",
       "      <th></th>\n",
       "      <th></th>\n",
       "      <th>max</th>\n",
       "      <th>min</th>\n",
       "      <th>max</th>\n",
       "      <th>min</th>\n",
       "    </tr>\n",
       "    <tr>\n",
       "      <th>Obs</th>\n",
       "      <th>Year</th>\n",
       "      <th>Month</th>\n",
       "      <th></th>\n",
       "      <th></th>\n",
       "      <th></th>\n",
       "      <th></th>\n",
       "    </tr>\n",
       "  </thead>\n",
       "  <tbody>\n",
       "    <tr>\n",
       "      <th rowspan=\"3\" valign=\"top\">1-OGC</th>\n",
       "      <th rowspan=\"3\" valign=\"top\">2015</th>\n",
       "      <th>9</th>\n",
       "      <td>23.790823</td>\n",
       "      <td>23.790823</td>\n",
       "      <td>0.000015</td>\n",
       "      <td>0.000015</td>\n",
       "    </tr>\n",
       "    <tr>\n",
       "      <th>10</th>\n",
       "      <td>9.662005</td>\n",
       "      <td>9.662005</td>\n",
       "      <td>0.002240</td>\n",
       "      <td>0.002240</td>\n",
       "    </tr>\n",
       "    <tr>\n",
       "      <th>12</th>\n",
       "      <td>13.054273</td>\n",
       "      <td>8.560873</td>\n",
       "      <td>13.309665</td>\n",
       "      <td>0.000017</td>\n",
       "    </tr>\n",
       "    <tr>\n",
       "      <th rowspan=\"3\" valign=\"top\">4-OGC</th>\n",
       "      <th rowspan=\"3\" valign=\"top\">2015</th>\n",
       "      <th>9</th>\n",
       "      <td>23.825441</td>\n",
       "      <td>23.825441</td>\n",
       "      <td>0.000061</td>\n",
       "      <td>0.000061</td>\n",
       "    </tr>\n",
       "    <tr>\n",
       "      <th>10</th>\n",
       "      <td>9.522203</td>\n",
       "      <td>9.522203</td>\n",
       "      <td>0.001114</td>\n",
       "      <td>0.001114</td>\n",
       "    </tr>\n",
       "    <tr>\n",
       "      <th>12</th>\n",
       "      <td>12.864034</td>\n",
       "      <td>12.864034</td>\n",
       "      <td>0.000068</td>\n",
       "      <td>0.000068</td>\n",
       "    </tr>\n",
       "  </tbody>\n",
       "</table>\n",
       "</div>"
      ],
      "text/plain": [
       "                 network_snr                   far          \n",
       "                         max        min        max       min\n",
       "Obs   Year Month                                            \n",
       "1-OGC 2015 9       23.790823  23.790823   0.000015  0.000015\n",
       "           10       9.662005   9.662005   0.002240  0.002240\n",
       "           12      13.054273   8.560873  13.309665  0.000017\n",
       "4-OGC 2015 9       23.825441  23.825441   0.000061  0.000061\n",
       "           10       9.522203   9.522203   0.001114  0.001114\n",
       "           12      12.864034  12.864034   0.000068  0.000068"
      ]
     },
     "execution_count": 97,
     "metadata": {},
     "output_type": "execute_result"
    }
   ],
   "source": [
    "# 按顺序分别对 Obs，Year，Month 组层细分的分组，每组构建 DataFrame，每列取出max和min\n",
    "tmp.groupby(['Obs', 'Year', 'Month']).agg(['max', 'min'])"
   ]
  },
  {
   "cell_type": "code",
   "execution_count": 98,
   "id": "b777fd6e-4f10-4b27-a741-d1857b743c69",
   "metadata": {
    "tags": []
   },
   "outputs": [
    {
     "data": {
      "text/html": [
       "<div>\n",
       "<style scoped>\n",
       "    .dataframe tbody tr th:only-of-type {\n",
       "        vertical-align: middle;\n",
       "    }\n",
       "\n",
       "    .dataframe tbody tr th {\n",
       "        vertical-align: top;\n",
       "    }\n",
       "\n",
       "    .dataframe thead tr th {\n",
       "        text-align: left;\n",
       "    }\n",
       "\n",
       "    .dataframe thead tr:last-of-type th {\n",
       "        text-align: right;\n",
       "    }\n",
       "</style>\n",
       "<table border=\"1\" class=\"dataframe\">\n",
       "  <thead>\n",
       "    <tr>\n",
       "      <th></th>\n",
       "      <th></th>\n",
       "      <th colspan=\"6\" halign=\"left\">network_snr</th>\n",
       "      <th colspan=\"6\" halign=\"left\">far</th>\n",
       "    </tr>\n",
       "    <tr>\n",
       "      <th></th>\n",
       "      <th></th>\n",
       "      <th colspan=\"3\" halign=\"left\">max</th>\n",
       "      <th colspan=\"3\" halign=\"left\">min</th>\n",
       "      <th colspan=\"3\" halign=\"left\">max</th>\n",
       "      <th colspan=\"3\" halign=\"left\">min</th>\n",
       "    </tr>\n",
       "    <tr>\n",
       "      <th></th>\n",
       "      <th>Month</th>\n",
       "      <th>9</th>\n",
       "      <th>10</th>\n",
       "      <th>12</th>\n",
       "      <th>9</th>\n",
       "      <th>10</th>\n",
       "      <th>12</th>\n",
       "      <th>9</th>\n",
       "      <th>10</th>\n",
       "      <th>12</th>\n",
       "      <th>9</th>\n",
       "      <th>10</th>\n",
       "      <th>12</th>\n",
       "    </tr>\n",
       "    <tr>\n",
       "      <th>Obs</th>\n",
       "      <th>Year</th>\n",
       "      <th></th>\n",
       "      <th></th>\n",
       "      <th></th>\n",
       "      <th></th>\n",
       "      <th></th>\n",
       "      <th></th>\n",
       "      <th></th>\n",
       "      <th></th>\n",
       "      <th></th>\n",
       "      <th></th>\n",
       "      <th></th>\n",
       "      <th></th>\n",
       "    </tr>\n",
       "  </thead>\n",
       "  <tbody>\n",
       "    <tr>\n",
       "      <th>1-OGC</th>\n",
       "      <th>2015</th>\n",
       "      <td>23.790823</td>\n",
       "      <td>9.662005</td>\n",
       "      <td>13.054273</td>\n",
       "      <td>23.790823</td>\n",
       "      <td>9.662005</td>\n",
       "      <td>8.560873</td>\n",
       "      <td>0.000015</td>\n",
       "      <td>0.002240</td>\n",
       "      <td>13.309665</td>\n",
       "      <td>0.000015</td>\n",
       "      <td>0.002240</td>\n",
       "      <td>0.000017</td>\n",
       "    </tr>\n",
       "    <tr>\n",
       "      <th>4-OGC</th>\n",
       "      <th>2015</th>\n",
       "      <td>23.825441</td>\n",
       "      <td>9.522203</td>\n",
       "      <td>12.864034</td>\n",
       "      <td>23.825441</td>\n",
       "      <td>9.522203</td>\n",
       "      <td>12.864034</td>\n",
       "      <td>0.000061</td>\n",
       "      <td>0.001114</td>\n",
       "      <td>0.000068</td>\n",
       "      <td>0.000061</td>\n",
       "      <td>0.001114</td>\n",
       "      <td>0.000068</td>\n",
       "    </tr>\n",
       "  </tbody>\n",
       "</table>\n",
       "</div>"
      ],
      "text/plain": [
       "           network_snr                                                       \\\n",
       "                   max                             min                        \n",
       "Month               9         10         12         9         10         12   \n",
       "Obs   Year                                                                    \n",
       "1-OGC 2015   23.790823  9.662005  13.054273  23.790823  9.662005   8.560873   \n",
       "4-OGC 2015   23.825441  9.522203  12.864034  23.825441  9.522203  12.864034   \n",
       "\n",
       "                 far                                                     \n",
       "                 max                            min                      \n",
       "Month             9         10         12        9         10        12  \n",
       "Obs   Year                                                               \n",
       "1-OGC 2015  0.000015  0.002240  13.309665  0.000015  0.002240  0.000017  \n",
       "4-OGC 2015  0.000061  0.001114   0.000068  0.000061  0.001114  0.000068  "
      ]
     },
     "execution_count": 98,
     "metadata": {},
     "output_type": "execute_result"
    }
   ],
   "source": [
    "# 按顺序分别对 Obs，Year，Month 组层细分的分组，每组构建 DataFrame，每列取出max和min，最后把 Month 这一行转换为列。\n",
    "tmp.groupby(['Obs', 'Year', 'Month']).agg(['max', 'min']).unstack('Month')"
   ]
  },
  {
   "cell_type": "markdown",
   "id": "1057f715-7d99-45ca-8941-afe155484790",
   "metadata": {},
   "source": [
    "综合本节所学的知识，思考一下：上面的透视表可以直接一个函数搞定么？\n",
    "\n",
    "> 可以！"
   ]
  },
  {
   "cell_type": "code",
   "execution_count": 99,
   "id": "7ec21e21-984e-4e80-85cc-18a372f0c645",
   "metadata": {
    "tags": []
   },
   "outputs": [
    {
     "data": {
      "text/html": [
       "<div>\n",
       "<style scoped>\n",
       "    .dataframe tbody tr th:only-of-type {\n",
       "        vertical-align: middle;\n",
       "    }\n",
       "\n",
       "    .dataframe tbody tr th {\n",
       "        vertical-align: top;\n",
       "    }\n",
       "\n",
       "    .dataframe thead tr th {\n",
       "        text-align: left;\n",
       "    }\n",
       "\n",
       "    .dataframe thead tr:last-of-type th {\n",
       "        text-align: right;\n",
       "    }\n",
       "</style>\n",
       "<table border=\"1\" class=\"dataframe\">\n",
       "  <thead>\n",
       "    <tr>\n",
       "      <th></th>\n",
       "      <th></th>\n",
       "      <th colspan=\"6\" halign=\"left\">max</th>\n",
       "      <th colspan=\"6\" halign=\"left\">min</th>\n",
       "    </tr>\n",
       "    <tr>\n",
       "      <th></th>\n",
       "      <th></th>\n",
       "      <th colspan=\"3\" halign=\"left\">far</th>\n",
       "      <th colspan=\"3\" halign=\"left\">network_snr</th>\n",
       "      <th colspan=\"3\" halign=\"left\">far</th>\n",
       "      <th colspan=\"3\" halign=\"left\">network_snr</th>\n",
       "    </tr>\n",
       "    <tr>\n",
       "      <th></th>\n",
       "      <th>Month</th>\n",
       "      <th>9</th>\n",
       "      <th>10</th>\n",
       "      <th>12</th>\n",
       "      <th>9</th>\n",
       "      <th>10</th>\n",
       "      <th>12</th>\n",
       "      <th>9</th>\n",
       "      <th>10</th>\n",
       "      <th>12</th>\n",
       "      <th>9</th>\n",
       "      <th>10</th>\n",
       "      <th>12</th>\n",
       "    </tr>\n",
       "    <tr>\n",
       "      <th>Obs</th>\n",
       "      <th>Year</th>\n",
       "      <th></th>\n",
       "      <th></th>\n",
       "      <th></th>\n",
       "      <th></th>\n",
       "      <th></th>\n",
       "      <th></th>\n",
       "      <th></th>\n",
       "      <th></th>\n",
       "      <th></th>\n",
       "      <th></th>\n",
       "      <th></th>\n",
       "      <th></th>\n",
       "    </tr>\n",
       "  </thead>\n",
       "  <tbody>\n",
       "    <tr>\n",
       "      <th>1-OGC</th>\n",
       "      <th>2015</th>\n",
       "      <td>0.000015</td>\n",
       "      <td>0.002240</td>\n",
       "      <td>13.309665</td>\n",
       "      <td>23.790823</td>\n",
       "      <td>9.662005</td>\n",
       "      <td>13.054273</td>\n",
       "      <td>0.000015</td>\n",
       "      <td>0.002240</td>\n",
       "      <td>0.000017</td>\n",
       "      <td>23.790823</td>\n",
       "      <td>9.662005</td>\n",
       "      <td>8.560873</td>\n",
       "    </tr>\n",
       "    <tr>\n",
       "      <th>4-OGC</th>\n",
       "      <th>2015</th>\n",
       "      <td>0.000061</td>\n",
       "      <td>0.001114</td>\n",
       "      <td>0.000068</td>\n",
       "      <td>23.825441</td>\n",
       "      <td>9.522203</td>\n",
       "      <td>12.864034</td>\n",
       "      <td>0.000061</td>\n",
       "      <td>0.001114</td>\n",
       "      <td>0.000068</td>\n",
       "      <td>23.825441</td>\n",
       "      <td>9.522203</td>\n",
       "      <td>12.864034</td>\n",
       "    </tr>\n",
       "  </tbody>\n",
       "</table>\n",
       "</div>"
      ],
      "text/plain": [
       "                 max                                                        \\\n",
       "                 far                      network_snr                        \n",
       "Month             9         10         12          9         10         12   \n",
       "Obs   Year                                                                   \n",
       "1-OGC 2015  0.000015  0.002240  13.309665   23.790823  9.662005  13.054273   \n",
       "4-OGC 2015  0.000061  0.001114   0.000068   23.825441  9.522203  12.864034   \n",
       "\n",
       "                 min                                                       \n",
       "                 far                     network_snr                       \n",
       "Month             9         10        12          9         10         12  \n",
       "Obs   Year                                                                 \n",
       "1-OGC 2015  0.000015  0.002240  0.000017   23.790823  9.662005   8.560873  \n",
       "4-OGC 2015  0.000061  0.001114  0.000068   23.825441  9.522203  12.864034  "
      ]
     },
     "execution_count": 99,
     "metadata": {},
     "output_type": "execute_result"
    }
   ],
   "source": [
    "pd.pivot_table(tmp, index=['Obs', 'Year'], values=['network_snr','far'], columns=['Month'], aggfunc=['max', 'min'])"
   ]
  },
  {
   "cell_type": "code",
   "execution_count": null,
   "id": "3977b51b-e8c7-4a20-90af-c2fb7d451f30",
   "metadata": {},
   "outputs": [],
   "source": []
  }
 ],
 "metadata": {
  "kernelspec": {
   "display_name": "ICTP-AP",
   "language": "python",
   "name": "ictp-ap"
  },
  "language_info": {
   "codemirror_mode": {
    "name": "ipython",
    "version": 3
   },
   "file_extension": ".py",
   "mimetype": "text/x-python",
   "name": "python",
   "nbconvert_exporter": "python",
   "pygments_lexer": "ipython3",
   "version": "3.10.13"
  }
 },
 "nbformat": 4,
 "nbformat_minor": 5
}
