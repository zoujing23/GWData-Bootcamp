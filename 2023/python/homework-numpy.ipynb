{
 "cells": [
  {
   "cell_type": "markdown",
   "id": "4d4a5227-acdf-4c73-b829-c4687bd017ba",
   "metadata": {},
   "source": [
    "# Numpy quiz\n"
   ]
  },
  {
   "cell_type": "markdown",
   "id": "65763c38-432e-4e12-9820-ee096247a2fd",
   "metadata": {},
   "source": [
    "## 1.\n",
    "\n",
    "```python\n",
    "import numpy as np\n",
    "\n",
    "ary = np.array([1,2,3,5,8])\n",
    "\n",
    "ary = ary + 1\n",
    "\n",
    "print (ary[1])\n",
    "```\n",
    "\n",
    "上面代码的输出结果是？\n",
    "\n",
    "```text\n",
    "A: 1\n",
    "B: 2\n",
    "C: 3\n",
    "D: 4\n",
    "E: 5\n",
    "```\n"
   ]
  },
  {
   "cell_type": "markdown",
   "id": "7f01bb1c-69c0-4904-8afc-bf0a0c474cfe",
   "metadata": {},
   "source": [
    "## 2.\n",
    "\n",
    "```python\n",
    "import numpy as np\n",
    "\n",
    "a = np.array([1,2,3,5,8])\n",
    "b = np.array([0,3,4,2,1])\n",
    "c = a + b\n",
    "c = c*a\n",
    "\n",
    "print (c[2])\n",
    "```\n",
    "\n",
    "上面代码的输出结果是？\n",
    "\n",
    "```text\n",
    "A: 7\n",
    "B: 12\n",
    "C: 10\n",
    "D: 21\n",
    "E: 28\n",
    "```"
   ]
  },
  {
   "cell_type": "markdown",
   "id": "5984099c-2a54-4a7d-8c04-36fa6a166619",
   "metadata": {
    "tags": []
   },
   "source": [
    "## 3.\n",
    "\n",
    "```python\n",
    "import numpy as np\n",
    "\n",
    "a = np.array([1,2,3,5,8])\n",
    "print (a.ndim)\n",
    "```\n",
    "\n",
    "上面代码的输出结果是？\n",
    "\n",
    "```text\n",
    "A: 0\n",
    "B: 1\n",
    "C: 2\n",
    "D: 3\n",
    "E: 5\n",
    "```"
   ]
  },
  {
   "cell_type": "markdown",
   "id": "63420722-b473-4036-84e4-0b5ee31d3070",
   "metadata": {
    "tags": []
   },
   "source": [
    "## 4.\n",
    "\n",
    "```python\n",
    "import numpy as np\n",
    "\n",
    "a = np.array([[1,2,3],[0,1,4]])\n",
    "print (a.size)\n",
    "```\n",
    "\n",
    "上面代码的输出结果是？\n",
    "\n",
    "```text\n",
    "A: 0\n",
    "B: 1\n",
    "C: 2\n",
    "D: 5\n",
    "E: 6\n",
    "```"
   ]
  },
  {
   "cell_type": "markdown",
   "id": "b7d0a980-8eb5-4963-9ac0-afa99b0b77fb",
   "metadata": {
    "tags": []
   },
   "source": [
    "## 5.\n",
    "\n",
    "```python\n",
    "import numpy as np\n",
    "\n",
    "a = np.array([[1,2,3],[0,1,4]])\n",
    "b = np.zeros((2,3), dtype=np.int16)\n",
    "c = np.ones((2,3), dtype=np.int16)\n",
    "d = a + b + c\n",
    "print (d[1,2] )\n",
    "```\n",
    "\n",
    "上面代码的输出结果是？\n",
    "\n",
    "```text\n",
    "A: 0\n",
    "B: 1\n",
    "C: 5\n",
    "D: 8\n",
    "E: An exception is thrown\n",
    "```"
   ]
  },
  {
   "cell_type": "markdown",
   "id": "3e3412c4-3ec1-4b16-a5d2-376865c43618",
   "metadata": {
    "tags": []
   },
   "source": [
    "## 6.\n",
    "\n",
    "```python\n",
    "import numpy as np\n",
    "\n",
    "a = np.array([1,2,3,4,5])\n",
    "b = np.arange(0,10,2)\n",
    "c = a + b\n",
    "print (c[4])\n",
    "```\n",
    "\n",
    "上面代码的输出结果是？\n",
    "\n",
    "```text\n",
    "A: 4\n",
    "B: 5\n",
    "C: 13\n",
    "D: 15\n",
    "E: An exception is thrown\n",
    "```"
   ]
  },
  {
   "cell_type": "markdown",
   "id": "d73b87e6-3aa7-4d3b-be16-beed285c99a4",
   "metadata": {
    "tags": []
   },
   "source": [
    "## 7.\n",
    "\n",
    "```python\n",
    "import numpy as np\n",
    "\n",
    "a = np.zeros(6)\n",
    "b = np.arange(0,10,2)\n",
    "c = a + b\n",
    "print (c[4])\n",
    "```\n",
    "\n",
    "上面代码的输出结果是？\n",
    "\n",
    "```text\n",
    "A: 0\n",
    "B: 2\n",
    "C: 8\n",
    "D: 10\n",
    "E: An exception is thrown\n",
    "```"
   ]
  },
  {
   "cell_type": "markdown",
   "id": "3553f3d4-0682-4161-a07f-3ebdc4c4e4c8",
   "metadata": {
    "tags": []
   },
   "source": [
    "## 8.\n",
    "\n",
    "```python\n",
    "import numpy as np\n",
    "\n",
    "a = np.array([[0, 1, 0], [1, 0, 1]])\n",
    "a += 3\n",
    "b = a + 3\n",
    "print (a[1,2] + b[1,2])\n",
    "```\n",
    "\n",
    "上面代码的输出结果是？\n",
    "\n",
    "```text\n",
    "A: 2\n",
    "B: 8\n",
    "C: 11\n",
    "D: 14\n",
    "E: An exception is thrown\n",
    "```"
   ]
  },
  {
   "cell_type": "markdown",
   "id": "d545dbd2-45a6-4905-8252-f843f8a79c29",
   "metadata": {
    "tags": []
   },
   "source": [
    "## 9.\n",
    "\n",
    "```python\n",
    "import numpy as np\n",
    "\n",
    "a = np.array([[0, 1, 2], [3, 4, 5]])\n",
    "b = a.sum(axis=1)\n",
    "print (b)\n",
    "```\n",
    "\n",
    "上面代码的输出结果是？\n",
    "\n",
    "```text\n",
    "A: 3\n",
    "B: 12\n",
    "C: [3, 12]\n",
    "D: [3, 5, 7]\n",
    "E: An exception is thrown\n",
    "```"
   ]
  },
  {
   "cell_type": "markdown",
   "id": "3319b906-6cba-4b3b-ab9c-032ecd71027e",
   "metadata": {
    "tags": []
   },
   "source": [
    "## 10.\n",
    "\n",
    "```python\n",
    "import numpy as np\n",
    "\n",
    "a = np.array([[0, 1, 2], [3, 4, 5]])\n",
    "b = a.ravel()\n",
    "print (b[0,0])\n",
    "```\n",
    "\n",
    "上面代码的输出结果是？\n",
    "\n",
    "```text\n",
    "A: 0\n",
    "B: 3\n",
    "C: 9\n",
    "D: 10\n",
    "E: An exception is thrown\n",
    "```"
   ]
  }
 ],
 "metadata": {
  "kernelspec": {
   "display_name": "ICTP-AP",
   "language": "python",
   "name": "ictp-ap"
  },
  "language_info": {
   "codemirror_mode": {
    "name": "ipython",
    "version": 3
   },
   "file_extension": ".py",
   "mimetype": "text/x-python",
   "name": "python",
   "nbconvert_exporter": "python",
   "pygments_lexer": "ipython3",
   "version": "3.10.13"
  }
 },
 "nbformat": 4,
 "nbformat_minor": 5
}
