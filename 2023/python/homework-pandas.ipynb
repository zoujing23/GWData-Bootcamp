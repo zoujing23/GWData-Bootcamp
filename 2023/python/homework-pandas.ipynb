{
 "cells": [
  {
   "cell_type": "markdown",
   "id": "4d4a5227-acdf-4c73-b829-c4687bd017ba",
   "metadata": {},
   "source": [
    "# Pandas quiz"
   ]
  },
  {
   "cell_type": "markdown",
   "id": "65763c38-432e-4e12-9820-ee096247a2fd",
   "metadata": {},
   "source": [
    "## 1.\n",
    "\n",
    "Selecting a single column from a DataFrame returns?\n",
    "\n",
    "```text\n",
    "A: Another DataFrame\n",
    "B: A series\n",
    "C: A numpy array\n",
    "D: A list\n",
    "```"
   ]
  },
  {
   "cell_type": "markdown",
   "id": "7f01bb1c-69c0-4904-8afc-bf0a0c474cfe",
   "metadata": {},
   "source": [
    "## 2.\n",
    "\n",
    "What happens when you multiply a DataFrame like df*20?\n",
    "\n",
    "```text\n",
    "A: Returns a DataFrame with rows doubled\n",
    "B: Returns a DataFrame with columns doubled\n",
    "C: Raises a bad operand type error\n",
    "D: Returns a DataFrame with element-wise application of df*20\n",
    "```"
   ]
  },
  {
   "cell_type": "markdown",
   "id": "5984099c-2a54-4a7d-8c04-36fa6a166619",
   "metadata": {
    "tags": []
   },
   "source": [
    "## 3.\n",
    "\n",
    "Which of these commands will sort DataFrame df by column name?\n",
    "\n",
    "\n",
    "```text\n",
    "A: df.sort_index()\n",
    "B: df.sort()\n",
    "C: df.sort_index(axis=1)\n",
    "D: df.sort(axis=‘columns’)\n",
    "```"
   ]
  },
  {
   "cell_type": "markdown",
   "id": "63420722-b473-4036-84e4-0b5ee31d3070",
   "metadata": {
    "tags": []
   },
   "source": [
    "## 4.\n",
    "\n",
    "A series is a one-dimensional array which is labelled and can hold any datatype.\n",
    "\n",
    "```text\n",
    "A: True\n",
    "B: False\n",
    "```"
   ]
  },
  {
   "cell_type": "markdown",
   "id": "b7d0a980-8eb5-4963-9ac0-afa99b0b77fb",
   "metadata": {
    "tags": []
   },
   "source": [
    "## 5.\n",
    "\n",
    "Which method iterates over DataFrame columns, returning a tuple with the column name and the content as a Series?\n",
    "\n",
    "```text\n",
    "A: iterrows()\n",
    "B: iteritems()\n",
    "C: mod()\n",
    "D: None of the above\n",
    "```"
   ]
  },
  {
   "cell_type": "markdown",
   "id": "3e3412c4-3ec1-4b16-a5d2-376865c43618",
   "metadata": {
    "tags": []
   },
   "source": [
    "## 6\n",
    "\n",
    "How do you convert the datatype of a column ‘x’ in df from an object to an integer?\n",
    "\n",
    "```text\n",
    "A: df[‘x’].astype(‘integer’)\n",
    "B: int(df[‘x’])\n",
    "C: df[‘x’].int\n",
    "D: df[‘x’].astype(int)\n",
    "```"
   ]
  },
  {
   "cell_type": "markdown",
   "id": "d73b87e6-3aa7-4d3b-be16-beed285c99a4",
   "metadata": {
    "tags": []
   },
   "source": [
    "## 7.\n",
    "\n",
    "By default, the pandas dropna() method returns a new DataFrame and will not change the original.\n",
    "\n",
    "```text\n",
    "A: True\n",
    "B: False\n",
    "```"
   ]
  },
  {
   "cell_type": "markdown",
   "id": "3553f3d4-0682-4161-a07f-3ebdc4c4e4c8",
   "metadata": {
    "tags": []
   },
   "source": [
    "## 8.\n",
    "\n",
    "What is a correct method to discover if a row is a duplicate?\n",
    "\n",
    "```text\n",
    "A: df.duplicates()\n",
    "B: df.duplicate()\n",
    "C: df.duplicated()\n",
    "D: df.delete_duplicates()\n",
    "```"
   ]
  },
  {
   "cell_type": "markdown",
   "id": "d545dbd2-45a6-4905-8252-f843f8a79c29",
   "metadata": {
    "tags": []
   },
   "source": [
    "## 9.\n",
    "\n",
    "```python\n",
    "import numpy as np\n",
    "\n",
    "a = np.array([[0, 1, 2], [3, 4, 5]])\n",
    "b = a.sum(axis=1)\n",
    "print (b)\n",
    "```\n",
    "\n",
    "上面代码的输出结果是？\n",
    "\n",
    "```text\n",
    "A: 3\n",
    "B: 12\n",
    "C: [3, 12]\n",
    "D: [3, 5, 7]\n",
    "E: An exception is thrown\n",
    "```"
   ]
  },
  {
   "cell_type": "markdown",
   "id": "3319b906-6cba-4b3b-ab9c-032ecd71027e",
   "metadata": {
    "tags": []
   },
   "source": [
    "## 10.\n",
    "\n",
    "Given DataFrame df with three columns x, y and z which of these would not return the rows where column x is greater than column y and column y is greater than column z?\n",
    "\n",
    "\n",
    "```text\n",
    "A: df.query(‘x>y & y>z’)\n",
    "B: df.query(‘(x>y)’ & ‘(y>z)’)\n",
    "C: df.query(‘x>y and y>z’)\n",
    "D: df.query(‘x>y>z’)\n",
    "```"
   ]
  },
  {
   "cell_type": "markdown",
   "id": "3cfa814d-8fbe-4ee2-888c-8673a97290ae",
   "metadata": {},
   "source": [
    "## 11.\n",
    "\n",
    "Index of a DataFrame cannot be non-numeric.\n",
    "\n",
    "\n",
    "```text\n",
    "A: True\n",
    "B: False\n",
    "```"
   ]
  },
  {
   "cell_type": "markdown",
   "id": "9bb4ec56-3b6b-4944-a2cb-8418054dc7f7",
   "metadata": {},
   "source": [
    "## 12.\n",
    "\n",
    "The groupby method on DataFrame is associated with what types of operations?\n",
    "\n",
    "```text\n",
    "A: split-align-combine\n",
    "B: split-apply-combine\n",
    "C: sort-align-combine\n",
    "D: sort-apply-collate\n",
    "```"
   ]
  }
 ],
 "metadata": {
  "kernelspec": {
   "display_name": "ICTP-AP",
   "language": "python",
   "name": "ictp-ap"
  },
  "language_info": {
   "codemirror_mode": {
    "name": "ipython",
    "version": 3
   },
   "file_extension": ".py",
   "mimetype": "text/x-python",
   "name": "python",
   "nbconvert_exporter": "python",
   "pygments_lexer": "ipython3",
   "version": "3.10.13"
  }
 },
 "nbformat": 4,
 "nbformat_minor": 5
}
