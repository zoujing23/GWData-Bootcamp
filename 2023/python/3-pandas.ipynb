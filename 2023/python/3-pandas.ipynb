{
 "cells": [
  {
   "cell_type": "markdown",
   "id": "f1c0fc72-4a36-442e-ad73-024cb40f835b",
   "metadata": {},
   "source": [
    "# 数据分析实训之 Pandas\n",
    "\n",
    "## Pandas 简介\n",
    "\n",
    "pandas 是基于NumPy 的一种工具，该工具是为解决数据分析任务而创建的。\n",
    "\n",
    "Pandas 纳入了大量库和一些标准的数据模型，提供了高效地操作大型数据集所需的工具。\n",
    "\n",
    "pandas提供了大量能使我们快速便捷地处理数据的函数和方法。\n",
    "\n",
    "你很快就会发现，它是使Python成为强大而高效的数据分析环境的重要因素之一。\n",
    "\n",
    "\n",
    "\n",
    "- Pandas 是基于 Numpy 的强大的分析结构化数据的工具集\n",
    "    - Pandas 官方网址：https://pandas.pydata.org\n",
    "    - Pandas 官方中文文档：https://www.pypandas.cn\n",
    "- 从 Numpy 的 Ndarray 到 Pandas 的 Series / DataFrame\n",
    "\n",
    "    - (Numpy) 1-dimensional array => `Series` (Pandas)\n",
    "\n",
    "    - (Numpy) 2-dimensional array => `DataFrame` (Pandas)\n",
    "\n",
    "![](https://vip2.loli.io/2023/11/30/fk7qVSGTWMLp6eI.jpg)\n",
    "\n",
    "\n",
    "\n",
    "## Series vs DataFrame\n",
    "\n",
    "\n",
    "- `Series` 是一种类似于一维数组的对象，是由一组数据 (各种 NumPy 数据类型) 以及一组与之相关的数据标签(即索引)组成。仅由一组数据也可产生简单的 Series 对象。\n",
    "\n",
    "- `DataFrame` 是 Pandas 中的一个表格型的数据结构，包含有一组有序的列，每列可以是不同的值类型(数值、字符串、布尔型等)，DataFrame 即有行索引也有列索引，可以被看做是由 Series 组成的字典。\n",
    "\n",
    "<div class=\"sl-block is-focused\" data-block-type=\"image\" style=\"min-width: 1px; min-height: 1px; width: 667px; height: 255px; left: 104px; top: 360px;\" data-name=\"image-921b68\" data-origin-id=\"a77e8d4cfe8aafe431f1d0ec770d79c5\"><div class=\"sl-block-content\" style=\"z-index: 18;\"><img style=\"\" data-natural-width=\"1000\" data-natural-height=\"383\" data-lazy-loaded=\"\" src=\"https://i.loli.net/2019/07/28/5d3c78e7811be88759.png\"></div></div>\n",
    "\n",
    "\n",
    "## Excel vs DataFrame\n",
    "\n",
    "\n",
    "<div class=\"sl-block is-focused\" data-block-type=\"image\" style=\"min-width: 1px; min-height: 1px; width: 886.106px; height: 360px; left: 56px; top: 331px;\" data-name=\"image-8b265f\" data-origin-id=\"ca9c6ce5e6f64dee8958b98f94241fa5\"><div class=\"sl-block-content\" style=\"z-index: 17;\"><img style=\"\" data-natural-width=\"1435\" data-natural-height=\"583\" data-lazy-loaded=\"\" src=\"https://i.loli.net/2019/07/28/5d3c7ad83735c55921.png\"></div></div>\n",
    "\n",
    "\n",
    "Pandas 要点：Pandas是一个专门用于数据分析的Python工具库\n",
    "* python用于数据分析和数据处理的一个工具库\n",
    "* 基于numpy(对数据做“向量化”运算的科学计算工具库)去构建的\n",
    "* 有一种用python去操作Excel/SQL的感觉"
   ]
  },
  {
   "cell_type": "markdown",
   "id": "fa190262-c5ce-4337-a644-2711c5d6632a",
   "metadata": {},
   "source": [
    "## 实验操作\n",
    "\n",
    "> <time>60 min</time>"
   ]
  },
  {
   "cell_type": "markdown",
   "id": "301ac0b7-e58f-48ef-9cd8-1f14d813e77e",
   "metadata": {},
   "source": [
    "### 初始化环境\n"
   ]
  },
  {
   "cell_type": "markdown",
   "id": "6455557a-4b8c-4e4e-ac70-95c352e8f2e1",
   "metadata": {},
   "source": [
    "- 引入numpy和pandas库"
   ]
  },
  {
   "cell_type": "code",
   "execution_count": 1,
   "id": "d9d47025-1dbe-43ab-ab05-5805dfbecf4d",
   "metadata": {
    "tags": []
   },
   "outputs": [],
   "source": [
    "import numpy as np\n",
    "import pandas as pd"
   ]
  },
  {
   "cell_type": "markdown",
   "id": "16403e70-754d-4fd9-9df6-8970e98f168a",
   "metadata": {},
   "source": [
    "### `Series` 数据结构"
   ]
  },
  {
   "cell_type": "markdown",
   "id": "63bb490a-4568-47d6-97a9-689397654e1d",
   "metadata": {},
   "source": [
    "#### 构建和初始化 `Series`\n",
    "\n",
    "Series 是一种类似于一维数组的对象，是由一组数据 (各种 NumPy 数据类型) 以及一组与之相关的数据标签(即索引)组成。 仅由一组数据也可产生简单的 Series 对象。"
   ]
  },
  {
   "cell_type": "markdown",
   "id": "80954da9-c7b5-4273-a47e-71b6c0741021",
   "metadata": {},
   "source": [
    "构建一个series，并输出查看它的数据结构和类型信息"
   ]
  },
  {
   "cell_type": "code",
   "execution_count": 2,
   "id": "dd71e327-fd03-4223-a209-881b97211081",
   "metadata": {
    "tags": []
   },
   "outputs": [
    {
     "name": "stdout",
     "output_type": "stream",
     "text": [
      "0           7\n",
      "1    GW170817\n",
      "2        3.14\n",
      "3        -123\n",
      "4    GW150914\n",
      "dtype: object\n"
     ]
    }
   ],
   "source": [
    "s = pd.Series([7, 'GW170817', 3.14, -123, \"GW150914\"])\n",
    "\n",
    "print(s)"
   ]
  },
  {
   "cell_type": "code",
   "execution_count": 3,
   "id": "7db2a013-85b2-4774-874a-0b095f992cd2",
   "metadata": {
    "tags": []
   },
   "outputs": [
    {
     "name": "stdout",
     "output_type": "stream",
     "text": [
      "<class 'pandas.core.series.Series'>\n"
     ]
    }
   ],
   "source": [
    "print(type(s))"
   ]
  },
  {
   "cell_type": "markdown",
   "id": "c647ee40-c61a-4050-905c-52b26e7f5282",
   "metadata": {},
   "source": [
    "从输出的数据结构还可以看到，pandas会默认用0到n作为series的索引，但是我们也可以自己指定index。index可以类比成字典当中的key。"
   ]
  },
  {
   "cell_type": "code",
   "execution_count": 4,
   "id": "8a46cddd-1018-4099-b231-dd4cb20e659a",
   "metadata": {
    "tags": []
   },
   "outputs": [
    {
     "name": "stdout",
     "output_type": "stream",
     "text": [
      "A           7\n",
      "B    GW170817\n",
      "C        3.14\n",
      "D        -123\n",
      "E    GW150914\n",
      "dtype: object\n"
     ]
    }
   ],
   "source": [
    "s = pd.Series([7, 'GW170817', 3.14, -123, \"GW150914\"], \\\n",
    "              index=['A','B','C','D','E'])\n",
    "\n",
    "print(s)"
   ]
  },
  {
   "cell_type": "markdown",
   "id": "ce7f8148-003b-45ac-a515-0d022d882aaa",
   "metadata": {},
   "source": [
    "- Series 是一个一维的数据。可以实现类似 numpy 的切片方式。"
   ]
  },
  {
   "cell_type": "code",
   "execution_count": 5,
   "id": "a37218d1-6485-4e9f-9c54-afccfa164c03",
   "metadata": {
    "tags": []
   },
   "outputs": [
    {
     "data": {
      "text/plain": [
       "A           7\n",
       "B    GW170817\n",
       "C        3.14\n",
       "D        -123\n",
       "dtype: object"
      ]
     },
     "execution_count": 5,
     "metadata": {},
     "output_type": "execute_result"
    }
   ],
   "source": [
    "s[0:4] # 根据默认索引切片"
   ]
  },
  {
   "cell_type": "code",
   "execution_count": 6,
   "id": "f315ddc3-c3ed-4094-a218-192bc49bb97e",
   "metadata": {
    "tags": []
   },
   "outputs": [
    {
     "data": {
      "text/plain": [
       "A           7\n",
       "B    GW170817\n",
       "C        3.14\n",
       "D        -123\n",
       "dtype: object"
      ]
     },
     "execution_count": 6,
     "metadata": {},
     "output_type": "execute_result"
    }
   ],
   "source": [
    "s['A':'D'] #也可以根据指定的索引来切片，左闭右闭"
   ]
  },
  {
   "cell_type": "code",
   "execution_count": 7,
   "id": "35c1053c-7363-4acb-99d2-e51d0bd57073",
   "metadata": {
    "tags": []
   },
   "outputs": [
    {
     "data": {
      "text/plain": [
       "A           7\n",
       "D        -123\n",
       "B    GW170817\n",
       "dtype: object"
      ]
     },
     "execution_count": 7,
     "metadata": {},
     "output_type": "execute_result"
    }
   ],
   "source": [
    "s[['A','D','B']]  # 可以类似 numpy 的索引方式做筛选"
   ]
  },
  {
   "cell_type": "code",
   "execution_count": 8,
   "id": "1510a5c6-b781-4cbd-a9c8-2ea131bedb41",
   "metadata": {
    "tags": []
   },
   "outputs": [
    {
     "ename": "TypeError",
     "evalue": "list indices must be integers or slices, not list",
     "output_type": "error",
     "traceback": [
      "\u001b[0;31m---------------------------------------------------------------------------\u001b[0m",
      "\u001b[0;31mTypeError\u001b[0m                                 Traceback (most recent call last)",
      "Cell \u001b[0;32mIn[8], line 3\u001b[0m\n\u001b[1;32m      1\u001b[0m \u001b[38;5;66;03m# list 是不具备这种索引筛选的\u001b[39;00m\n\u001b[1;32m      2\u001b[0m l \u001b[38;5;241m=\u001b[39m [\u001b[38;5;241m7\u001b[39m, \u001b[38;5;124m'\u001b[39m\u001b[38;5;124mGW170817\u001b[39m\u001b[38;5;124m'\u001b[39m, \u001b[38;5;241m3.14\u001b[39m, \u001b[38;5;241m-\u001b[39m\u001b[38;5;241m123\u001b[39m, \u001b[38;5;124m\"\u001b[39m\u001b[38;5;124mGW150914\u001b[39m\u001b[38;5;124m\"\u001b[39m]\n\u001b[0;32m----> 3\u001b[0m \u001b[43ml\u001b[49m\u001b[43m[\u001b[49m\u001b[43m[\u001b[49m\u001b[38;5;241;43m0\u001b[39;49m\u001b[43m,\u001b[49m\u001b[38;5;241;43m3\u001b[39;49m\u001b[43m,\u001b[49m\u001b[38;5;241;43m1\u001b[39;49m\u001b[43m]\u001b[49m\u001b[43m]\u001b[49m\n",
      "\u001b[0;31mTypeError\u001b[0m: list indices must be integers or slices, not list"
     ]
    }
   ],
   "source": [
    "# list 是不具备这种索引筛选的\n",
    "l = [7, 'GW170817', 3.14, -123, \"GW150914\"]\n",
    "l[[0,3,1]]"
   ]
  },
  {
   "cell_type": "code",
   "execution_count": 10,
   "id": "e99845f0-e39b-4102-b556-2b8ce94b8398",
   "metadata": {
    "tags": []
   },
   "outputs": [
    {
     "name": "stderr",
     "output_type": "stream",
     "text": [
      "/tmp/ipykernel_27921/181403017.py:1: FutureWarning: Series.__getitem__ treating keys as positions is deprecated. In a future version, integer keys will always be treated as labels (consistent with DataFrame behavior). To access a value by position, use `ser.iloc[pos]`\n",
      "  s[[0,3,1]]\n"
     ]
    },
    {
     "data": {
      "text/plain": [
       "A           7\n",
       "D        -123\n",
       "B    GW170817\n",
       "dtype: object"
      ]
     },
     "execution_count": 10,
     "metadata": {},
     "output_type": "execute_result"
    }
   ],
   "source": [
    "s[[0,3,1]]"
   ]
  },
  {
   "cell_type": "code",
   "execution_count": 11,
   "id": "01ab666c-1759-46b6-bcc2-882e3f52efd0",
   "metadata": {
    "tags": []
   },
   "outputs": [
    {
     "data": {
      "text/plain": [
       "A           7\n",
       "D        -123\n",
       "B    GW170817\n",
       "dtype: object"
      ]
     },
     "execution_count": 11,
     "metadata": {},
     "output_type": "execute_result"
    }
   ],
   "source": [
    "s.iloc[[0,3,1]]"
   ]
  },
  {
   "cell_type": "markdown",
   "id": "2e1d2c00-d8d7-45d0-af5e-737f179d753e",
   "metadata": {
    "tags": []
   },
   "source": [
    "- 本质上，Series 就是在 ndarray 结构基础上的一种”扩展封装“"
   ]
  },
  {
   "cell_type": "code",
   "execution_count": 12,
   "id": "49aa901c-c362-479d-a30e-57cb02f1a6e8",
   "metadata": {
    "tags": []
   },
   "outputs": [
    {
     "data": {
      "text/plain": [
       "array([7, 'GW170817', 3.14, -123, 'GW150914'], dtype=object)"
      ]
     },
     "execution_count": 12,
     "metadata": {},
     "output_type": "execute_result"
    }
   ],
   "source": [
    "s.values"
   ]
  },
  {
   "cell_type": "markdown",
   "id": "ba91ebdf-350f-4068-9749-9eec71bdf0d5",
   "metadata": {},
   "source": [
    "我们可以用list来构建Series，同时指定index。\n",
    "\n",
    "实际上我们还可以用字典dic去初始化Series，因为Series本来就是key-value的结构。"
   ]
  },
  {
   "cell_type": "code",
   "execution_count": 13,
   "id": "1613d485-c08c-4f0e-a6a6-6e6450641204",
   "metadata": {
    "tags": []
   },
   "outputs": [
    {
     "data": {
      "text/plain": [
       "{'Beijing': 55000,\n",
       " 'Shanghai': 60000,\n",
       " 'Shenzhen': 50000,\n",
       " 'Hangzhou': 30000,\n",
       " 'Guangzhou': 40000,\n",
       " 'Suzhou': None}"
      ]
     },
     "execution_count": 13,
     "metadata": {},
     "output_type": "execute_result"
    }
   ],
   "source": [
    "cities = {\"Beijing\":55000, \"Shanghai\":60000, \"Shenzhen\":50000,\n",
    "         \"Hangzhou\":30000, \"Guangzhou\":40000, \"Suzhou\":None}\n",
    "cities"
   ]
  },
  {
   "cell_type": "code",
   "execution_count": 14,
   "id": "974b85d0-1687-4182-b363-7e6d121db8de",
   "metadata": {
    "tags": []
   },
   "outputs": [
    {
     "data": {
      "text/plain": [
       "Beijing      55000.0\n",
       "Shanghai     60000.0\n",
       "Shenzhen     50000.0\n",
       "Hangzhou     30000.0\n",
       "Guangzhou    40000.0\n",
       "Suzhou           NaN\n",
       "Name: income, dtype: float64"
      ]
     },
     "execution_count": 14,
     "metadata": {},
     "output_type": "execute_result"
    }
   ],
   "source": [
    "apt = pd.Series(cities, name='income')\n",
    "apt"
   ]
  },
  {
   "cell_type": "code",
   "execution_count": 15,
   "id": "e65a2c1e-6c75-42e7-bada-135ff85d7a94",
   "metadata": {
    "tags": []
   },
   "outputs": [
    {
     "data": {
      "text/plain": [
       "40000.0"
      ]
     },
     "execution_count": 15,
     "metadata": {},
     "output_type": "execute_result"
    }
   ],
   "source": [
    "apt['Guangzhou']"
   ]
  },
  {
   "cell_type": "code",
   "execution_count": 16,
   "id": "662aecdf-8039-4a04-9db5-2ebb7bce9dbc",
   "metadata": {
    "tags": []
   },
   "outputs": [
    {
     "data": {
      "text/plain": [
       "Beijing     55000.0\n",
       "Shanghai    60000.0\n",
       "Shenzhen    50000.0\n",
       "Name: income, dtype: float64"
      ]
     },
     "execution_count": 16,
     "metadata": {},
     "output_type": "execute_result"
    }
   ],
   "source": [
    "apt[0:3] #切片，左闭右开"
   ]
  },
  {
   "cell_type": "code",
   "execution_count": 17,
   "id": "48ca9670-460b-4018-affd-684f770d335a",
   "metadata": {
    "tags": []
   },
   "outputs": [
    {
     "data": {
      "text/plain": [
       "Shanghai     60000.0\n",
       "Shenzhen     50000.0\n",
       "Hangzhou     30000.0\n",
       "Guangzhou    40000.0\n",
       "Suzhou           NaN\n",
       "Name: income, dtype: float64"
      ]
     },
     "execution_count": 17,
     "metadata": {},
     "output_type": "execute_result"
    }
   ],
   "source": [
    "apt[1:]"
   ]
  },
  {
   "cell_type": "code",
   "execution_count": 18,
   "id": "a69837a4-0999-4ce5-bfb8-6f07fe446cdc",
   "metadata": {
    "tags": []
   },
   "outputs": [
    {
     "data": {
      "text/plain": [
       "Beijing      55000.0\n",
       "Shanghai     60000.0\n",
       "Shenzhen     50000.0\n",
       "Hangzhou     30000.0\n",
       "Guangzhou    40000.0\n",
       "Name: income, dtype: float64"
      ]
     },
     "execution_count": 18,
     "metadata": {},
     "output_type": "execute_result"
    }
   ],
   "source": [
    "apt[:-1]"
   ]
  },
  {
   "cell_type": "markdown",
   "id": "9e88b681-3da0-4884-b104-6b90ea546545",
   "metadata": {},
   "source": [
    "- 还是那句话，Series 和 ndarray 数据结构之间是”无痛衔接“的。"
   ]
  },
  {
   "cell_type": "markdown",
   "id": "aa43668c-06e2-451e-ba61-80e1042ecda4",
   "metadata": {},
   "source": [
    "#### 用index的list去索引序列的数据"
   ]
  },
  {
   "cell_type": "code",
   "execution_count": 19,
   "id": "7af32dcf-04c6-44d9-9eb9-7073d63a0118",
   "metadata": {
    "tags": []
   },
   "outputs": [
    {
     "name": "stderr",
     "output_type": "stream",
     "text": [
      "/tmp/ipykernel_27921/1101900236.py:2: FutureWarning: Series.__getitem__ treating keys as positions is deprecated. In a future version, integer keys will always be treated as labels (consistent with DataFrame behavior). To access a value by position, use `ser.iloc[pos]`\n",
      "  apt[[3,4,1]]\n"
     ]
    },
    {
     "data": {
      "text/plain": [
       "Hangzhou     30000.0\n",
       "Guangzhou    40000.0\n",
       "Shanghai     60000.0\n",
       "Name: income, dtype: float64"
      ]
     },
     "execution_count": 19,
     "metadata": {},
     "output_type": "execute_result"
    }
   ],
   "source": [
    "# 再体会一下，用index的list去索引序列的数据\n",
    "apt[[3,4,1]]"
   ]
  },
  {
   "cell_type": "code",
   "execution_count": 20,
   "id": "ccc61a61-5ed0-4461-bb27-2d31e8a3df37",
   "metadata": {
    "tags": []
   },
   "outputs": [
    {
     "data": {
      "text/plain": [
       "Hangzhou     30000.0\n",
       "Guangzhou    40000.0\n",
       "Shanghai     60000.0\n",
       "Name: income, dtype: float64"
      ]
     },
     "execution_count": 20,
     "metadata": {},
     "output_type": "execute_result"
    }
   ],
   "source": [
    "apt.iloc[[3,4,1]]"
   ]
  },
  {
   "cell_type": "markdown",
   "id": "e7c851cc-da4f-4e0d-a410-3eb3c2b6836f",
   "metadata": {},
   "source": [
    "#### 广播特性"
   ]
  },
  {
   "cell_type": "code",
   "execution_count": 21,
   "id": "b22e6c27-089d-4b9f-b0e0-096f8ddec7e0",
   "metadata": {
    "tags": []
   },
   "outputs": [
    {
     "data": {
      "text/plain": [
       "Beijing      165000.0\n",
       "Shanghai     180000.0\n",
       "Shenzhen     150000.0\n",
       "Hangzhou      90000.0\n",
       "Guangzhou    120000.0\n",
       "Suzhou            NaN\n",
       "Name: income, dtype: float64"
      ]
     },
     "execution_count": 21,
     "metadata": {},
     "output_type": "execute_result"
    }
   ],
   "source": [
    "# 广播特性\n",
    "3*apt"
   ]
  },
  {
   "cell_type": "code",
   "execution_count": 22,
   "id": "fc1c4802-aecb-4184-be91-d5df48713de4",
   "metadata": {
    "tags": []
   },
   "outputs": [
    {
     "data": {
      "text/plain": [
       "Beijing      10.915088\n",
       "Shanghai     11.002100\n",
       "Shenzhen     10.819778\n",
       "Hangzhou     10.308953\n",
       "Guangzhou    10.596635\n",
       "Suzhou             NaN\n",
       "Name: income, dtype: float64"
      ]
     },
     "execution_count": 22,
     "metadata": {},
     "output_type": "execute_result"
    }
   ],
   "source": [
    "np.log(apt)"
   ]
  },
  {
   "cell_type": "code",
   "execution_count": 23,
   "id": "c6ba5077-6d6e-4107-a4fe-d9a2be6dbfe2",
   "metadata": {
    "tags": []
   },
   "outputs": [
    {
     "data": {
      "text/plain": [
       "[55000.0, 60000.0, 50000.0, 30000.0, 40000.0, nan]"
      ]
     },
     "execution_count": 23,
     "metadata": {},
     "output_type": "execute_result"
    }
   ],
   "source": [
    "# 数乘 list 可不是广播哦。。。。\n",
    "my_list = list(apt.values)\n",
    "my_list"
   ]
  },
  {
   "cell_type": "code",
   "execution_count": 24,
   "id": "75c5cc50-82ee-47f1-8c1f-07b0fec71f92",
   "metadata": {
    "tags": []
   },
   "outputs": [
    {
     "data": {
      "text/plain": [
       "[55000.0,\n",
       " 60000.0,\n",
       " 50000.0,\n",
       " 30000.0,\n",
       " 40000.0,\n",
       " nan,\n",
       " 55000.0,\n",
       " 60000.0,\n",
       " 50000.0,\n",
       " 30000.0,\n",
       " 40000.0,\n",
       " nan,\n",
       " 55000.0,\n",
       " 60000.0,\n",
       " 50000.0,\n",
       " 30000.0,\n",
       " 40000.0,\n",
       " nan]"
      ]
     },
     "execution_count": 24,
     "metadata": {},
     "output_type": "execute_result"
    }
   ],
   "source": [
    "3*my_list"
   ]
  },
  {
   "cell_type": "code",
   "execution_count": 25,
   "id": "7c26be50-e557-4b00-8c41-bc594099229a",
   "metadata": {
    "tags": []
   },
   "outputs": [
    {
     "data": {
      "text/plain": [
       "Beijing      22000.0\n",
       "Shanghai     24000.0\n",
       "Shenzhen     20000.0\n",
       "Hangzhou     12000.0\n",
       "Guangzhou    16000.0\n",
       "Suzhou           NaN\n",
       "Name: income, dtype: float64"
      ]
     },
     "execution_count": 25,
     "metadata": {},
     "output_type": "execute_result"
    }
   ],
   "source": [
    "apt/2.5 # 其他运算同理"
   ]
  },
  {
   "cell_type": "markdown",
   "id": "798637d1-f0c9-466c-ad9f-1e2dbbd65272",
   "metadata": {},
   "source": [
    "#### 多个 `Series` 的计算是基于index对齐去做的"
   ]
  },
  {
   "cell_type": "code",
   "execution_count": 26,
   "id": "6389f03c-0b5d-49e2-8467-4890a7f07351",
   "metadata": {
    "tags": []
   },
   "outputs": [
    {
     "data": {
      "text/plain": [
       "Shanghai     60000.0\n",
       "Shenzhen     50000.0\n",
       "Hangzhou     30000.0\n",
       "Guangzhou    40000.0\n",
       "Suzhou           NaN\n",
       "Name: income, dtype: float64"
      ]
     },
     "execution_count": 26,
     "metadata": {},
     "output_type": "execute_result"
    }
   ],
   "source": [
    "apt[1:]"
   ]
  },
  {
   "cell_type": "code",
   "execution_count": 27,
   "id": "a1261ed3-e9ae-4515-ae3f-64dfe55785f3",
   "metadata": {
    "tags": []
   },
   "outputs": [
    {
     "data": {
      "text/plain": [
       "Beijing      55000.0\n",
       "Shanghai     60000.0\n",
       "Shenzhen     50000.0\n",
       "Hangzhou     30000.0\n",
       "Guangzhou    40000.0\n",
       "Name: income, dtype: float64"
      ]
     },
     "execution_count": 27,
     "metadata": {},
     "output_type": "execute_result"
    }
   ],
   "source": [
    "apt[:-1]"
   ]
  },
  {
   "cell_type": "code",
   "execution_count": 28,
   "id": "8c64fb1b-957b-49ab-a644-5151217a849f",
   "metadata": {
    "tags": []
   },
   "outputs": [
    {
     "data": {
      "text/plain": [
       "Beijing           NaN\n",
       "Guangzhou     80000.0\n",
       "Hangzhou      60000.0\n",
       "Shanghai     120000.0\n",
       "Shenzhen     100000.0\n",
       "Suzhou            NaN\n",
       "Name: income, dtype: float64"
      ]
     },
     "execution_count": 28,
     "metadata": {},
     "output_type": "execute_result"
    }
   ],
   "source": [
    "# 根据index对齐的方式！ （一种非常直接的 merge 形式）\n",
    "apt[1:] + apt[:-1]"
   ]
  },
  {
   "cell_type": "code",
   "execution_count": 29,
   "id": "b6fd6e8d-47d2-4fbc-ba0a-1a89bb7fcad0",
   "metadata": {
    "tags": []
   },
   "outputs": [
    {
     "data": {
      "text/plain": [
       "True"
      ]
     },
     "execution_count": 29,
     "metadata": {},
     "output_type": "execute_result"
    }
   ],
   "source": [
    "# in / not in 找的是 index\n",
    "\"Hangzhou\" in apt"
   ]
  },
  {
   "cell_type": "code",
   "execution_count": 31,
   "id": "2d0d2067-5aea-4a5f-af07-e4798ea176b4",
   "metadata": {
    "tags": []
   },
   "outputs": [
    {
     "data": {
      "text/plain": [
       "Beijing      55000.0\n",
       "Shanghai     60000.0\n",
       "Shenzhen     50000.0\n",
       "Hangzhou     30000.0\n",
       "Guangzhou    40000.0\n",
       "Suzhou           NaN\n",
       "Name: income, dtype: float64"
      ]
     },
     "execution_count": 31,
     "metadata": {},
     "output_type": "execute_result"
    }
   ],
   "source": [
    "apt"
   ]
  },
  {
   "cell_type": "code",
   "execution_count": 32,
   "id": "4727ed6a-63b9-4d24-94e3-7c979fbd7a23",
   "metadata": {
    "tags": []
   },
   "outputs": [
    {
     "data": {
      "text/plain": [
       "30000.0"
      ]
     },
     "execution_count": 32,
     "metadata": {},
     "output_type": "execute_result"
    }
   ],
   "source": [
    "# get函数\n",
    "apt.get(\"Hangzhou\")"
   ]
  },
  {
   "cell_type": "code",
   "execution_count": 33,
   "id": "fa4a5d24-2783-40ff-a633-681261556204",
   "metadata": {
    "tags": []
   },
   "outputs": [
    {
     "name": "stdout",
     "output_type": "stream",
     "text": [
      "None\n"
     ]
    }
   ],
   "source": [
    "print(apt.get(\"Chongqing\"))\n",
    "\n",
    "# Returns default value if not found."
   ]
  },
  {
   "cell_type": "markdown",
   "id": "293afde3-bbcb-49f4-b8ff-9911361fc18a",
   "metadata": {},
   "source": [
    "#### booling indexing/条件判断索引"
   ]
  },
  {
   "cell_type": "code",
   "execution_count": 34,
   "id": "35a82b80-dbb6-41ec-bb67-737e07ba90da",
   "metadata": {
    "tags": []
   },
   "outputs": [
    {
     "data": {
      "text/plain": [
       "Beijing       True\n",
       "Shanghai      True\n",
       "Shenzhen      True\n",
       "Hangzhou     False\n",
       "Guangzhou    False\n",
       "Suzhou       False\n",
       "Name: income, dtype: bool"
      ]
     },
     "execution_count": 34,
     "metadata": {},
     "output_type": "execute_result"
    }
   ],
   "source": [
    "apt>40000"
   ]
  },
  {
   "cell_type": "code",
   "execution_count": 35,
   "id": "7303e086-ddf4-4dfe-a988-88537bce8449",
   "metadata": {
    "tags": []
   },
   "outputs": [
    {
     "data": {
      "text/plain": [
       "Beijing     55000.0\n",
       "Shanghai    60000.0\n",
       "Shenzhen    50000.0\n",
       "Name: income, dtype: float64"
      ]
     },
     "execution_count": 35,
     "metadata": {},
     "output_type": "execute_result"
    }
   ],
   "source": [
    "# 数据清理/筛选\n",
    "apt[apt>40000]"
   ]
  },
  {
   "cell_type": "code",
   "execution_count": null,
   "id": "4c89d34c-fad6-42f0-9d77-0c6428b54188",
   "metadata": {
    "tags": []
   },
   "outputs": [],
   "source": [
    "# 本质上是bool型的index判断\n",
    "list((apt>40000).values)"
   ]
  },
  {
   "cell_type": "code",
   "execution_count": 39,
   "id": "82eecf31-f84c-42eb-a3c9-a1ea17a8117f",
   "metadata": {
    "tags": []
   },
   "outputs": [
    {
     "data": {
      "text/plain": [
       "Beijing      55000.0\n",
       "Hangzhou     30000.0\n",
       "Guangzhou    40000.0\n",
       "Name: income, dtype: float64"
      ]
     },
     "execution_count": 39,
     "metadata": {},
     "output_type": "execute_result"
    }
   ],
   "source": [
    "apt[[True, False, False, True, True, False]]"
   ]
  },
  {
   "cell_type": "markdown",
   "id": "b4bdc538-1e70-4030-b17e-f89c1abb8ff1",
   "metadata": {},
   "source": [
    "#### 统计计算\n",
    "\n",
    "和 numpy 一样。。。。"
   ]
  },
  {
   "cell_type": "code",
   "execution_count": 40,
   "id": "59f68fd4-8554-4a01-930c-1550451cb172",
   "metadata": {
    "tags": []
   },
   "outputs": [
    {
     "data": {
      "text/plain": [
       "47000.0"
      ]
     },
     "execution_count": 40,
     "metadata": {},
     "output_type": "execute_result"
    }
   ],
   "source": [
    "apt.mean() #均值"
   ]
  },
  {
   "cell_type": "code",
   "execution_count": 41,
   "id": "77175dff-2ad3-47c8-8d4c-2043b8c4076f",
   "metadata": {
    "tags": []
   },
   "outputs": [
    {
     "data": {
      "text/plain": [
       "50000.0"
      ]
     },
     "execution_count": 41,
     "metadata": {},
     "output_type": "execute_result"
    }
   ],
   "source": [
    "apt.median()"
   ]
  },
  {
   "cell_type": "code",
   "execution_count": 42,
   "id": "281f6581-8f7d-4c31-8c71-2d05505dba64",
   "metadata": {
    "tags": []
   },
   "outputs": [
    {
     "data": {
      "text/plain": [
       "60000.0"
      ]
     },
     "execution_count": 42,
     "metadata": {},
     "output_type": "execute_result"
    }
   ],
   "source": [
    "apt.max()"
   ]
  },
  {
   "cell_type": "code",
   "execution_count": 43,
   "id": "0e99e7cd-9ece-419d-ae07-f47e770b5ee9",
   "metadata": {
    "tags": []
   },
   "outputs": [
    {
     "data": {
      "text/plain": [
       "30000.0"
      ]
     },
     "execution_count": 43,
     "metadata": {},
     "output_type": "execute_result"
    }
   ],
   "source": [
    "apt.min()"
   ]
  },
  {
   "cell_type": "markdown",
   "id": "f732ca66-1805-4c7b-8c10-ce22a3dd6954",
   "metadata": {},
   "source": [
    "#### `Series` 赋值"
   ]
  },
  {
   "cell_type": "code",
   "execution_count": 44,
   "id": "250c546b-9c60-4db5-a401-a26cc36e1b67",
   "metadata": {
    "tags": []
   },
   "outputs": [
    {
     "data": {
      "text/plain": [
       "Beijing      55000.0\n",
       "Shanghai     60000.0\n",
       "Shenzhen     50000.0\n",
       "Hangzhou     30000.0\n",
       "Guangzhou    40000.0\n",
       "Suzhou           NaN\n",
       "Name: income, dtype: float64"
      ]
     },
     "execution_count": 44,
     "metadata": {},
     "output_type": "execute_result"
    }
   ],
   "source": [
    "apt"
   ]
  },
  {
   "cell_type": "code",
   "execution_count": 45,
   "id": "e2ec8132-c847-4411-ae38-f780ee98de85",
   "metadata": {
    "tags": []
   },
   "outputs": [],
   "source": [
    "apt['Shenzhen'] = 70000"
   ]
  },
  {
   "cell_type": "code",
   "execution_count": 46,
   "id": "754e956d-3bcb-4f89-97ff-2d035e0486b3",
   "metadata": {
    "tags": []
   },
   "outputs": [
    {
     "data": {
      "text/plain": [
       "Beijing      55000.0\n",
       "Shanghai     60000.0\n",
       "Shenzhen     70000.0\n",
       "Hangzhou     30000.0\n",
       "Guangzhou    40000.0\n",
       "Suzhou           NaN\n",
       "Name: income, dtype: float64"
      ]
     },
     "execution_count": 46,
     "metadata": {},
     "output_type": "execute_result"
    }
   ],
   "source": [
    "apt"
   ]
  },
  {
   "cell_type": "code",
   "execution_count": 47,
   "id": "3555f8bc-40f1-4757-8b3a-5906cf9a13f1",
   "metadata": {
    "tags": []
   },
   "outputs": [
    {
     "data": {
      "text/plain": [
       "Beijing      False\n",
       "Shanghai     False\n",
       "Shenzhen     False\n",
       "Hangzhou      True\n",
       "Guangzhou     True\n",
       "Suzhou       False\n",
       "Name: income, dtype: bool"
      ]
     },
     "execution_count": 47,
     "metadata": {},
     "output_type": "execute_result"
    }
   ],
   "source": [
    "# 筛选\n",
    "apt<=40000"
   ]
  },
  {
   "cell_type": "code",
   "execution_count": 48,
   "id": "59b42119-ddb8-46c5-a404-0b953173fef5",
   "metadata": {
    "tags": []
   },
   "outputs": [],
   "source": [
    "# 条件赋值\n",
    "apt[apt<=40000] = 45000"
   ]
  },
  {
   "cell_type": "code",
   "execution_count": 49,
   "id": "c7a47268-ded8-4e20-ab49-0c657662b81e",
   "metadata": {
    "tags": []
   },
   "outputs": [
    {
     "data": {
      "text/plain": [
       "Beijing      55000.0\n",
       "Shanghai     60000.0\n",
       "Shenzhen     70000.0\n",
       "Hangzhou     45000.0\n",
       "Guangzhou    45000.0\n",
       "Suzhou           NaN\n",
       "Name: income, dtype: float64"
      ]
     },
     "execution_count": 49,
     "metadata": {},
     "output_type": "execute_result"
    }
   ],
   "source": [
    "apt"
   ]
  },
  {
   "cell_type": "code",
   "execution_count": 50,
   "id": "ae90ea3e-fafc-465f-8631-d13521bbbd72",
   "metadata": {
    "tags": []
   },
   "outputs": [
    {
     "data": {
      "text/plain": [
       "Beijing      350000\n",
       "Shanghai     400000\n",
       "Shenzhen     300000\n",
       "Tianjin      200000\n",
       "Guangzhou    250000\n",
       "Chongqing    150000\n",
       "dtype: int64"
      ]
     },
     "execution_count": 50,
     "metadata": {},
     "output_type": "execute_result"
    }
   ],
   "source": [
    "cars = pd.Series({\n",
    "    \"Beijing\":350000,\n",
    "    \"Shanghai\":400000,\n",
    "    \"Shenzhen\":300000,\n",
    "    \"Tianjin\":200000,\n",
    "    \"Guangzhou\":250000,\n",
    "    \"Chongqing\":150000\n",
    "}\n",
    ")\n",
    "cars"
   ]
  },
  {
   "cell_type": "code",
   "execution_count": 52,
   "id": "85569463-71f7-4af6-bb05-d81c2b6567ae",
   "metadata": {
    "tags": []
   },
   "outputs": [],
   "source": [
    "tmp = cars + 10*apt #广播特性 和 series之间的运算"
   ]
  },
  {
   "cell_type": "code",
   "execution_count": 53,
   "id": "a1d0ebbf-8add-4ee2-bcfd-de468c61dd99",
   "metadata": {
    "tags": []
   },
   "outputs": [
    {
     "data": {
      "text/plain": [
       "Beijing       900000.0\n",
       "Chongqing          NaN\n",
       "Guangzhou     700000.0\n",
       "Hangzhou           NaN\n",
       "Shanghai     1000000.0\n",
       "Shenzhen     1000000.0\n",
       "Suzhou             NaN\n",
       "Tianjin            NaN\n",
       "dtype: float64"
      ]
     },
     "execution_count": 53,
     "metadata": {},
     "output_type": "execute_result"
    }
   ],
   "source": [
    "tmp"
   ]
  },
  {
   "cell_type": "markdown",
   "id": "0ecf445b-e291-4db8-9556-95de199c9a42",
   "metadata": {},
   "source": [
    "#### 数据缺失"
   ]
  },
  {
   "cell_type": "code",
   "execution_count": 54,
   "id": "95e17955-3e6a-4464-9595-c4c70a0549d8",
   "metadata": {
    "tags": []
   },
   "outputs": [
    {
     "data": {
      "text/plain": [
       "True"
      ]
     },
     "execution_count": 54,
     "metadata": {},
     "output_type": "execute_result"
    }
   ],
   "source": [
    "\"Hangzhou\" in apt"
   ]
  },
  {
   "cell_type": "code",
   "execution_count": 55,
   "id": "85c46e08-f4c6-45bb-b8de-4c87b4cf6691",
   "metadata": {
    "tags": []
   },
   "outputs": [
    {
     "data": {
      "text/plain": [
       "False"
      ]
     },
     "execution_count": 55,
     "metadata": {},
     "output_type": "execute_result"
    }
   ],
   "source": [
    "\"Hangzhou\" in cars"
   ]
  },
  {
   "cell_type": "code",
   "execution_count": 57,
   "id": "0f088ab0-815f-43ab-890c-1b2bb2684a95",
   "metadata": {
    "tags": []
   },
   "outputs": [
    {
     "data": {
      "text/plain": [
       "Beijing      55000.0\n",
       "Shanghai     60000.0\n",
       "Shenzhen     70000.0\n",
       "Hangzhou     45000.0\n",
       "Guangzhou    45000.0\n",
       "Suzhou           NaN\n",
       "Name: income, dtype: float64"
      ]
     },
     "execution_count": 57,
     "metadata": {},
     "output_type": "execute_result"
    }
   ],
   "source": [
    "apt"
   ]
  },
  {
   "cell_type": "code",
   "execution_count": 56,
   "id": "34ae1a9a-f257-4766-96f8-4143b81daec8",
   "metadata": {
    "tags": []
   },
   "outputs": [
    {
     "data": {
      "text/plain": [
       "Beijing       True\n",
       "Shanghai      True\n",
       "Shenzhen      True\n",
       "Hangzhou      True\n",
       "Guangzhou     True\n",
       "Suzhou       False\n",
       "Name: income, dtype: bool"
      ]
     },
     "execution_count": 56,
     "metadata": {},
     "output_type": "execute_result"
    }
   ],
   "source": [
    "# notnull\n",
    "apt.notnull()"
   ]
  },
  {
   "cell_type": "code",
   "execution_count": 58,
   "id": "0c6a853b-c444-442b-b821-e1f30cd1ab02",
   "metadata": {
    "tags": []
   },
   "outputs": [
    {
     "data": {
      "text/plain": [
       "Beijing      False\n",
       "Shanghai     False\n",
       "Shenzhen     False\n",
       "Hangzhou     False\n",
       "Guangzhou    False\n",
       "Suzhou        True\n",
       "Name: income, dtype: bool"
      ]
     },
     "execution_count": 58,
     "metadata": {},
     "output_type": "execute_result"
    }
   ],
   "source": [
    "# isnull\n",
    "apt.isnull()"
   ]
  },
  {
   "cell_type": "code",
   "execution_count": 59,
   "id": "fbb1a91f-a12c-489b-8095-3bd890520e14",
   "metadata": {
    "tags": []
   },
   "outputs": [
    {
     "data": {
      "text/plain": [
       "Beijing      55000.0\n",
       "Shanghai     60000.0\n",
       "Shenzhen     70000.0\n",
       "Hangzhou     45000.0\n",
       "Guangzhou    45000.0\n",
       "Name: income, dtype: float64"
      ]
     },
     "execution_count": 59,
     "metadata": {},
     "output_type": "execute_result"
    }
   ],
   "source": [
    "# 非缺失\n",
    "apt[apt.notnull()]"
   ]
  },
  {
   "cell_type": "code",
   "execution_count": null,
   "id": "5793e8b3-3383-46fa-b93f-d16b5c4bc60c",
   "metadata": {},
   "outputs": [],
   "source": []
  },
  {
   "cell_type": "markdown",
   "id": "cd0baba8-b231-415c-89ff-c9e706a4c4ec",
   "metadata": {},
   "source": [
    "### `DataFrame` 数据结构\n",
    "\n",
    "#### 构建和初始化 `DataFrame`\n"
   ]
  },
  {
   "cell_type": "markdown",
   "id": "e997aabe-5c4b-4845-ae90-26e5b9b4de14",
   "metadata": {},
   "source": [
    "首先我们注意一下Pandas中两个数据结构 Series 和 DataFrame 的区别：Series是一维数据，而DataFrame是一张表格，是二维数据。可以把DataFrame类比成Office中的Excel，或者是理解成多个Series的集合。\n"
   ]
  },
  {
   "cell_type": "markdown",
   "id": "d6559a7c-5dbc-4ae2-be4c-a79aff8c5ef9",
   "metadata": {},
   "source": [
    "我们先来看一下两种简单的 DataFrame 的构建与初始化方式：1. 按列构建； 2. 按行构建"
   ]
  },
  {
   "cell_type": "code",
   "execution_count": 63,
   "id": "a06984c7-37bd-4dca-8eff-917e127af6b6",
   "metadata": {
    "tags": []
   },
   "outputs": [
    {
     "data": {
      "text/html": [
       "<div>\n",
       "<style scoped>\n",
       "    .dataframe tbody tr th:only-of-type {\n",
       "        vertical-align: middle;\n",
       "    }\n",
       "\n",
       "    .dataframe tbody tr th {\n",
       "        vertical-align: top;\n",
       "    }\n",
       "\n",
       "    .dataframe thead th {\n",
       "        text-align: right;\n",
       "    }\n",
       "</style>\n",
       "<table border=\"1\" class=\"dataframe\">\n",
       "  <thead>\n",
       "    <tr style=\"text-align: right;\">\n",
       "      <th></th>\n",
       "      <th>City</th>\n",
       "      <th>year</th>\n",
       "      <th>population</th>\n",
       "    </tr>\n",
       "  </thead>\n",
       "  <tbody>\n",
       "    <tr>\n",
       "      <th>0</th>\n",
       "      <td>Beijing</td>\n",
       "      <td>2017</td>\n",
       "      <td>2100</td>\n",
       "    </tr>\n",
       "    <tr>\n",
       "      <th>1</th>\n",
       "      <td>Shanghai</td>\n",
       "      <td>2018</td>\n",
       "      <td>2300</td>\n",
       "    </tr>\n",
       "    <tr>\n",
       "      <th>2</th>\n",
       "      <td>Guangzhou</td>\n",
       "      <td>2017</td>\n",
       "      <td>1000</td>\n",
       "    </tr>\n",
       "    <tr>\n",
       "      <th>3</th>\n",
       "      <td>Shenzhen</td>\n",
       "      <td>2018</td>\n",
       "      <td>700</td>\n",
       "    </tr>\n",
       "    <tr>\n",
       "      <th>4</th>\n",
       "      <td>Hangzhou</td>\n",
       "      <td>2017</td>\n",
       "      <td>500</td>\n",
       "    </tr>\n",
       "    <tr>\n",
       "      <th>5</th>\n",
       "      <td>Chongqing</td>\n",
       "      <td>2017</td>\n",
       "      <td>500</td>\n",
       "    </tr>\n",
       "  </tbody>\n",
       "</table>\n",
       "</div>"
      ],
      "text/plain": [
       "        City  year  population\n",
       "0    Beijing  2017        2100\n",
       "1   Shanghai  2018        2300\n",
       "2  Guangzhou  2017        1000\n",
       "3   Shenzhen  2018         700\n",
       "4   Hangzhou  2017         500\n",
       "5  Chongqing  2017         500"
      ]
     },
     "execution_count": 63,
     "metadata": {},
     "output_type": "execute_result"
    }
   ],
   "source": [
    "# 按行构建\n",
    "data = [\n",
    "    ['Beijing', 2017, 2100],\n",
    "    ['Shanghai', 2018, 2300],\n",
    "    ['Guangzhou', 2017, 1000],\n",
    "    ['Shenzhen', 2018, 700],\n",
    "    ['Hangzhou', 2017, 500], \n",
    "    ['Chongqing', 2017, 500]\n",
    "]\n",
    "pd.DataFrame(data, \n",
    "    columns = ['City', 'year', 'population'])"
   ]
  },
  {
   "cell_type": "markdown",
   "id": "ecf84579-7c29-483f-af8d-1180e44aa869",
   "metadata": {},
   "source": [
    "除了基于列表构建之外，再看另外一种构建方式：定义一个字典，并使用字典初始化构建一个dataframe"
   ]
  },
  {
   "cell_type": "code",
   "execution_count": 64,
   "id": "354d6f3c-1aef-444a-ae58-f8a59fa7d37a",
   "metadata": {
    "tags": []
   },
   "outputs": [
    {
     "data": {
      "text/html": [
       "<div>\n",
       "<style scoped>\n",
       "    .dataframe tbody tr th:only-of-type {\n",
       "        vertical-align: middle;\n",
       "    }\n",
       "\n",
       "    .dataframe tbody tr th {\n",
       "        vertical-align: top;\n",
       "    }\n",
       "\n",
       "    .dataframe thead th {\n",
       "        text-align: right;\n",
       "    }\n",
       "</style>\n",
       "<table border=\"1\" class=\"dataframe\">\n",
       "  <thead>\n",
       "    <tr style=\"text-align: right;\">\n",
       "      <th></th>\n",
       "      <th>City</th>\n",
       "      <th>year</th>\n",
       "      <th>population</th>\n",
       "    </tr>\n",
       "  </thead>\n",
       "  <tbody>\n",
       "    <tr>\n",
       "      <th>0</th>\n",
       "      <td>Beijing</td>\n",
       "      <td>2017</td>\n",
       "      <td>2100</td>\n",
       "    </tr>\n",
       "    <tr>\n",
       "      <th>1</th>\n",
       "      <td>Shanghai</td>\n",
       "      <td>2018</td>\n",
       "      <td>2300</td>\n",
       "    </tr>\n",
       "    <tr>\n",
       "      <th>2</th>\n",
       "      <td>Guangzhou</td>\n",
       "      <td>2017</td>\n",
       "      <td>1000</td>\n",
       "    </tr>\n",
       "    <tr>\n",
       "      <th>3</th>\n",
       "      <td>Shenzhen</td>\n",
       "      <td>2018</td>\n",
       "      <td>700</td>\n",
       "    </tr>\n",
       "    <tr>\n",
       "      <th>4</th>\n",
       "      <td>Hangzhou</td>\n",
       "      <td>2017</td>\n",
       "      <td>500</td>\n",
       "    </tr>\n",
       "    <tr>\n",
       "      <th>5</th>\n",
       "      <td>Chongqing</td>\n",
       "      <td>2017</td>\n",
       "      <td>500</td>\n",
       "    </tr>\n",
       "  </tbody>\n",
       "</table>\n",
       "</div>"
      ],
      "text/plain": [
       "        City  year  population\n",
       "0    Beijing  2017        2100\n",
       "1   Shanghai  2018        2300\n",
       "2  Guangzhou  2017        1000\n",
       "3   Shenzhen  2018         700\n",
       "4   Hangzhou  2017         500\n",
       "5  Chongqing  2017         500"
      ]
     },
     "execution_count": 64,
     "metadata": {},
     "output_type": "execute_result"
    }
   ],
   "source": [
    "# 按列构建\n",
    "data = {'City':[\"Beijing\", \"Shanghai\", \"Guangzhou\", \"Shenzhen\", \"Hangzhou\", \"Chongqing\"],\n",
    "        'year':[2017,2018,2017,2018,2017,2017],\n",
    "        'population':[2100, 2300, 1000, 700, 500, 500]\n",
    "       }\n",
    "\n",
    "pd.DataFrame(data)"
   ]
  },
  {
   "cell_type": "code",
   "execution_count": 65,
   "id": "a2f531a8-90af-40cd-912c-fa5453cf31a1",
   "metadata": {
    "tags": []
   },
   "outputs": [
    {
     "data": {
      "text/html": [
       "<div>\n",
       "<style scoped>\n",
       "    .dataframe tbody tr th:only-of-type {\n",
       "        vertical-align: middle;\n",
       "    }\n",
       "\n",
       "    .dataframe tbody tr th {\n",
       "        vertical-align: top;\n",
       "    }\n",
       "\n",
       "    .dataframe thead th {\n",
       "        text-align: right;\n",
       "    }\n",
       "</style>\n",
       "<table border=\"1\" class=\"dataframe\">\n",
       "  <thead>\n",
       "    <tr style=\"text-align: right;\">\n",
       "      <th></th>\n",
       "      <th>year</th>\n",
       "      <th>City</th>\n",
       "      <th>population</th>\n",
       "    </tr>\n",
       "  </thead>\n",
       "  <tbody>\n",
       "    <tr>\n",
       "      <th>0</th>\n",
       "      <td>2017</td>\n",
       "      <td>Beijing</td>\n",
       "      <td>2100</td>\n",
       "    </tr>\n",
       "    <tr>\n",
       "      <th>1</th>\n",
       "      <td>2018</td>\n",
       "      <td>Shanghai</td>\n",
       "      <td>2300</td>\n",
       "    </tr>\n",
       "    <tr>\n",
       "      <th>2</th>\n",
       "      <td>2017</td>\n",
       "      <td>Guangzhou</td>\n",
       "      <td>1000</td>\n",
       "    </tr>\n",
       "    <tr>\n",
       "      <th>3</th>\n",
       "      <td>2018</td>\n",
       "      <td>Shenzhen</td>\n",
       "      <td>700</td>\n",
       "    </tr>\n",
       "    <tr>\n",
       "      <th>4</th>\n",
       "      <td>2017</td>\n",
       "      <td>Hangzhou</td>\n",
       "      <td>500</td>\n",
       "    </tr>\n",
       "    <tr>\n",
       "      <th>5</th>\n",
       "      <td>2017</td>\n",
       "      <td>Chongqing</td>\n",
       "      <td>500</td>\n",
       "    </tr>\n",
       "  </tbody>\n",
       "</table>\n",
       "</div>"
      ],
      "text/plain": [
       "   year       City  population\n",
       "0  2017    Beijing        2100\n",
       "1  2018   Shanghai        2300\n",
       "2  2017  Guangzhou        1000\n",
       "3  2018   Shenzhen         700\n",
       "4  2017   Hangzhou         500\n",
       "5  2017  Chongqing         500"
      ]
     },
     "execution_count": 65,
     "metadata": {},
     "output_type": "execute_result"
    }
   ],
   "source": [
    "pd.DataFrame(data, columns=['year', 'City', 'population'])"
   ]
  },
  {
   "cell_type": "code",
   "execution_count": 66,
   "id": "0324d273-5e54-4412-82de-04a2fbdd3b71",
   "metadata": {
    "tags": []
   },
   "outputs": [
    {
     "data": {
      "text/html": [
       "<div>\n",
       "<style scoped>\n",
       "    .dataframe tbody tr th:only-of-type {\n",
       "        vertical-align: middle;\n",
       "    }\n",
       "\n",
       "    .dataframe tbody tr th {\n",
       "        vertical-align: top;\n",
       "    }\n",
       "\n",
       "    .dataframe thead th {\n",
       "        text-align: right;\n",
       "    }\n",
       "</style>\n",
       "<table border=\"1\" class=\"dataframe\">\n",
       "  <thead>\n",
       "    <tr style=\"text-align: right;\">\n",
       "      <th></th>\n",
       "      <th>year</th>\n",
       "      <th>City</th>\n",
       "      <th>population</th>\n",
       "    </tr>\n",
       "  </thead>\n",
       "  <tbody>\n",
       "    <tr>\n",
       "      <th>one</th>\n",
       "      <td>2017</td>\n",
       "      <td>Beijing</td>\n",
       "      <td>2100</td>\n",
       "    </tr>\n",
       "    <tr>\n",
       "      <th>two</th>\n",
       "      <td>2018</td>\n",
       "      <td>Shanghai</td>\n",
       "      <td>2300</td>\n",
       "    </tr>\n",
       "    <tr>\n",
       "      <th>three</th>\n",
       "      <td>2017</td>\n",
       "      <td>Guangzhou</td>\n",
       "      <td>1000</td>\n",
       "    </tr>\n",
       "    <tr>\n",
       "      <th>four</th>\n",
       "      <td>2018</td>\n",
       "      <td>Shenzhen</td>\n",
       "      <td>700</td>\n",
       "    </tr>\n",
       "    <tr>\n",
       "      <th>five</th>\n",
       "      <td>2017</td>\n",
       "      <td>Hangzhou</td>\n",
       "      <td>500</td>\n",
       "    </tr>\n",
       "    <tr>\n",
       "      <th>six</th>\n",
       "      <td>2017</td>\n",
       "      <td>Chongqing</td>\n",
       "      <td>500</td>\n",
       "    </tr>\n",
       "  </tbody>\n",
       "</table>\n",
       "</div>"
      ],
      "text/plain": [
       "       year       City  population\n",
       "one    2017    Beijing        2100\n",
       "two    2018   Shanghai        2300\n",
       "three  2017  Guangzhou        1000\n",
       "four   2018   Shenzhen         700\n",
       "five   2017   Hangzhou         500\n",
       "six    2017  Chongqing         500"
      ]
     },
     "execution_count": 66,
     "metadata": {},
     "output_type": "execute_result"
    }
   ],
   "source": [
    "pd.DataFrame(data, columns=['year', 'City', 'population'],\\\n",
    "            index = ['one', 'two', 'three', 'four', 'five', 'six'])"
   ]
  },
  {
   "cell_type": "markdown",
   "id": "32b049d3-ca98-4163-b31f-70bd9a68fe9b",
   "metadata": {},
   "source": [
    "#### 用多个 `Series` 初始化 `DataFrame`"
   ]
  },
  {
   "cell_type": "markdown",
   "id": "a586edac-ea7f-4207-9a5c-c712a45e9751",
   "metadata": {},
   "source": [
    "最后我们看一下用多个 `Series` 构建和初始化 `DataFrame` 的方式，这个操作也能体验到 `Series` 和 `DataFrame` 直接的关系。这里注意 `Series` 是index对齐的。"
   ]
  },
  {
   "cell_type": "code",
   "execution_count": 67,
   "id": "d6636d3c-1ff0-4d75-8a80-54c330438dcd",
   "metadata": {
    "tags": []
   },
   "outputs": [],
   "source": [
    "apt = pd.Series({\n",
    "    \"Beijing\":55000, \n",
    "    \"Shanghai\":60000, \n",
    "    \"Shenzhen\":50000,\n",
    "    \"Hangzhou\":30000, \n",
    "    \"Guangzhou\":40000, \n",
    "    \"Suzhou\":None\n",
    "})\n",
    "\n",
    "cars = pd.Series({\n",
    "    \"Beijing\":350000,\n",
    "    \"Shanghai\":400000,\n",
    "    \"Shenzhen\":300000,\n",
    "    \"Tianjin\":200000,\n",
    "    \"Guangzhou\":250000,\n",
    "    \"Chongqing\":150000\n",
    "})"
   ]
  },
  {
   "cell_type": "code",
   "execution_count": 68,
   "id": "004b05c9-484b-4897-903b-faaf6ee49bc8",
   "metadata": {
    "tags": []
   },
   "outputs": [
    {
     "data": {
      "text/html": [
       "<div>\n",
       "<style scoped>\n",
       "    .dataframe tbody tr th:only-of-type {\n",
       "        vertical-align: middle;\n",
       "    }\n",
       "\n",
       "    .dataframe tbody tr th {\n",
       "        vertical-align: top;\n",
       "    }\n",
       "\n",
       "    .dataframe thead th {\n",
       "        text-align: right;\n",
       "    }\n",
       "</style>\n",
       "<table border=\"1\" class=\"dataframe\">\n",
       "  <thead>\n",
       "    <tr style=\"text-align: right;\">\n",
       "      <th></th>\n",
       "      <th>apt</th>\n",
       "      <th>cars</th>\n",
       "    </tr>\n",
       "  </thead>\n",
       "  <tbody>\n",
       "    <tr>\n",
       "      <th>Beijing</th>\n",
       "      <td>55000.0</td>\n",
       "      <td>350000.0</td>\n",
       "    </tr>\n",
       "    <tr>\n",
       "      <th>Chongqing</th>\n",
       "      <td>NaN</td>\n",
       "      <td>150000.0</td>\n",
       "    </tr>\n",
       "    <tr>\n",
       "      <th>Guangzhou</th>\n",
       "      <td>40000.0</td>\n",
       "      <td>250000.0</td>\n",
       "    </tr>\n",
       "    <tr>\n",
       "      <th>Hangzhou</th>\n",
       "      <td>30000.0</td>\n",
       "      <td>NaN</td>\n",
       "    </tr>\n",
       "    <tr>\n",
       "      <th>Shanghai</th>\n",
       "      <td>60000.0</td>\n",
       "      <td>400000.0</td>\n",
       "    </tr>\n",
       "    <tr>\n",
       "      <th>Shenzhen</th>\n",
       "      <td>50000.0</td>\n",
       "      <td>300000.0</td>\n",
       "    </tr>\n",
       "    <tr>\n",
       "      <th>Suzhou</th>\n",
       "      <td>NaN</td>\n",
       "      <td>NaN</td>\n",
       "    </tr>\n",
       "    <tr>\n",
       "      <th>Tianjin</th>\n",
       "      <td>NaN</td>\n",
       "      <td>200000.0</td>\n",
       "    </tr>\n",
       "  </tbody>\n",
       "</table>\n",
       "</div>"
      ],
      "text/plain": [
       "               apt      cars\n",
       "Beijing    55000.0  350000.0\n",
       "Chongqing      NaN  150000.0\n",
       "Guangzhou  40000.0  250000.0\n",
       "Hangzhou   30000.0       NaN\n",
       "Shanghai   60000.0  400000.0\n",
       "Shenzhen   50000.0  300000.0\n",
       "Suzhou         NaN       NaN\n",
       "Tianjin        NaN  200000.0"
      ]
     },
     "execution_count": 68,
     "metadata": {},
     "output_type": "execute_result"
    }
   ],
   "source": [
    "# series是index对齐的\n",
    "df = pd.DataFrame({\n",
    "    'apt':apt,\n",
    "    'cars':cars\n",
    "})\n",
    "df"
   ]
  },
  {
   "cell_type": "code",
   "execution_count": 69,
   "id": "85879112-585a-4df7-8f3c-eeec1d943138",
   "metadata": {
    "tags": []
   },
   "outputs": [
    {
     "data": {
      "text/plain": [
       "Beijing      350000.0\n",
       "Chongqing    150000.0\n",
       "Guangzhou    250000.0\n",
       "Hangzhou          NaN\n",
       "Shanghai     400000.0\n",
       "Shenzhen     300000.0\n",
       "Suzhou            NaN\n",
       "Tianjin      200000.0\n",
       "Name: cars, dtype: float64"
      ]
     },
     "execution_count": 69,
     "metadata": {},
     "output_type": "execute_result"
    }
   ],
   "source": [
    "df['cars']"
   ]
  },
  {
   "cell_type": "code",
   "execution_count": 70,
   "id": "7ebb6348-a517-49a9-b91f-7be86c686666",
   "metadata": {
    "tags": []
   },
   "outputs": [
    {
     "data": {
      "text/plain": [
       "pandas.core.series.Series"
      ]
     },
     "execution_count": 70,
     "metadata": {},
     "output_type": "execute_result"
    }
   ],
   "source": [
    "type(df['cars'])"
   ]
  },
  {
   "cell_type": "code",
   "execution_count": 71,
   "id": "702645cf-2c6e-41a5-9538-8e6b2d462625",
   "metadata": {
    "tags": []
   },
   "outputs": [
    {
     "data": {
      "text/html": [
       "<div>\n",
       "<style scoped>\n",
       "    .dataframe tbody tr th:only-of-type {\n",
       "        vertical-align: middle;\n",
       "    }\n",
       "\n",
       "    .dataframe tbody tr th {\n",
       "        vertical-align: top;\n",
       "    }\n",
       "\n",
       "    .dataframe thead th {\n",
       "        text-align: right;\n",
       "    }\n",
       "</style>\n",
       "<table border=\"1\" class=\"dataframe\">\n",
       "  <thead>\n",
       "    <tr style=\"text-align: right;\">\n",
       "      <th></th>\n",
       "      <th>cars</th>\n",
       "    </tr>\n",
       "  </thead>\n",
       "  <tbody>\n",
       "    <tr>\n",
       "      <th>Beijing</th>\n",
       "      <td>350000.0</td>\n",
       "    </tr>\n",
       "    <tr>\n",
       "      <th>Chongqing</th>\n",
       "      <td>150000.0</td>\n",
       "    </tr>\n",
       "    <tr>\n",
       "      <th>Guangzhou</th>\n",
       "      <td>250000.0</td>\n",
       "    </tr>\n",
       "    <tr>\n",
       "      <th>Hangzhou</th>\n",
       "      <td>NaN</td>\n",
       "    </tr>\n",
       "    <tr>\n",
       "      <th>Shanghai</th>\n",
       "      <td>400000.0</td>\n",
       "    </tr>\n",
       "    <tr>\n",
       "      <th>Shenzhen</th>\n",
       "      <td>300000.0</td>\n",
       "    </tr>\n",
       "    <tr>\n",
       "      <th>Suzhou</th>\n",
       "      <td>NaN</td>\n",
       "    </tr>\n",
       "    <tr>\n",
       "      <th>Tianjin</th>\n",
       "      <td>200000.0</td>\n",
       "    </tr>\n",
       "  </tbody>\n",
       "</table>\n",
       "</div>"
      ],
      "text/plain": [
       "               cars\n",
       "Beijing    350000.0\n",
       "Chongqing  150000.0\n",
       "Guangzhou  250000.0\n",
       "Hangzhou        NaN\n",
       "Shanghai   400000.0\n",
       "Shenzhen   300000.0\n",
       "Suzhou          NaN\n",
       "Tianjin    200000.0"
      ]
     },
     "execution_count": 71,
     "metadata": {},
     "output_type": "execute_result"
    }
   ],
   "source": [
    "df[['cars']]"
   ]
  },
  {
   "cell_type": "code",
   "execution_count": 73,
   "id": "f54a53dc-e7f0-468d-a7d4-8e52ff164130",
   "metadata": {
    "tags": []
   },
   "outputs": [
    {
     "data": {
      "text/plain": [
       "pandas.core.frame.DataFrame"
      ]
     },
     "execution_count": 73,
     "metadata": {},
     "output_type": "execute_result"
    }
   ],
   "source": [
    "type(df[['cars']])"
   ]
  },
  {
   "cell_type": "code",
   "execution_count": 75,
   "id": "2435f101-72ed-46df-aad3-62890e4af542",
   "metadata": {
    "tags": []
   },
   "outputs": [
    {
     "data": {
      "text/html": [
       "<div>\n",
       "<style scoped>\n",
       "    .dataframe tbody tr th:only-of-type {\n",
       "        vertical-align: middle;\n",
       "    }\n",
       "\n",
       "    .dataframe tbody tr th {\n",
       "        vertical-align: top;\n",
       "    }\n",
       "\n",
       "    .dataframe thead th {\n",
       "        text-align: right;\n",
       "    }\n",
       "</style>\n",
       "<table border=\"1\" class=\"dataframe\">\n",
       "  <thead>\n",
       "    <tr style=\"text-align: right;\">\n",
       "      <th></th>\n",
       "      <th>apt</th>\n",
       "      <th>cars</th>\n",
       "    </tr>\n",
       "  </thead>\n",
       "  <tbody>\n",
       "    <tr>\n",
       "      <th>Beijing</th>\n",
       "      <td>55000.0</td>\n",
       "      <td>350000.0</td>\n",
       "    </tr>\n",
       "    <tr>\n",
       "      <th>Chongqing</th>\n",
       "      <td>NaN</td>\n",
       "      <td>150000.0</td>\n",
       "    </tr>\n",
       "    <tr>\n",
       "      <th>Guangzhou</th>\n",
       "      <td>40000.0</td>\n",
       "      <td>250000.0</td>\n",
       "    </tr>\n",
       "    <tr>\n",
       "      <th>Hangzhou</th>\n",
       "      <td>30000.0</td>\n",
       "      <td>NaN</td>\n",
       "    </tr>\n",
       "    <tr>\n",
       "      <th>Shanghai</th>\n",
       "      <td>60000.0</td>\n",
       "      <td>400000.0</td>\n",
       "    </tr>\n",
       "    <tr>\n",
       "      <th>Shenzhen</th>\n",
       "      <td>50000.0</td>\n",
       "      <td>300000.0</td>\n",
       "    </tr>\n",
       "    <tr>\n",
       "      <th>Suzhou</th>\n",
       "      <td>NaN</td>\n",
       "      <td>NaN</td>\n",
       "    </tr>\n",
       "    <tr>\n",
       "      <th>Tianjin</th>\n",
       "      <td>NaN</td>\n",
       "      <td>200000.0</td>\n",
       "    </tr>\n",
       "  </tbody>\n",
       "</table>\n",
       "</div>"
      ],
      "text/plain": [
       "               apt      cars\n",
       "Beijing    55000.0  350000.0\n",
       "Chongqing      NaN  150000.0\n",
       "Guangzhou  40000.0  250000.0\n",
       "Hangzhou   30000.0       NaN\n",
       "Shanghai   60000.0  400000.0\n",
       "Shenzhen   50000.0  300000.0\n",
       "Suzhou         NaN       NaN\n",
       "Tianjin        NaN  200000.0"
      ]
     },
     "execution_count": 75,
     "metadata": {},
     "output_type": "execute_result"
    }
   ],
   "source": [
    "# 赋值\n",
    "df"
   ]
  },
  {
   "cell_type": "code",
   "execution_count": 76,
   "id": "f7e841b7-6461-469e-bcbf-5722b3ea6661",
   "metadata": {
    "tags": []
   },
   "outputs": [],
   "source": [
    "df['bonus'] = 40000 #广播特性 (新建了column)"
   ]
  },
  {
   "cell_type": "code",
   "execution_count": 77,
   "id": "6792ffce-7eef-41f2-94bd-f79b98ebeb21",
   "metadata": {
    "tags": []
   },
   "outputs": [
    {
     "data": {
      "text/html": [
       "<div>\n",
       "<style scoped>\n",
       "    .dataframe tbody tr th:only-of-type {\n",
       "        vertical-align: middle;\n",
       "    }\n",
       "\n",
       "    .dataframe tbody tr th {\n",
       "        vertical-align: top;\n",
       "    }\n",
       "\n",
       "    .dataframe thead th {\n",
       "        text-align: right;\n",
       "    }\n",
       "</style>\n",
       "<table border=\"1\" class=\"dataframe\">\n",
       "  <thead>\n",
       "    <tr style=\"text-align: right;\">\n",
       "      <th></th>\n",
       "      <th>apt</th>\n",
       "      <th>cars</th>\n",
       "      <th>bonus</th>\n",
       "    </tr>\n",
       "  </thead>\n",
       "  <tbody>\n",
       "    <tr>\n",
       "      <th>Beijing</th>\n",
       "      <td>55000.0</td>\n",
       "      <td>350000.0</td>\n",
       "      <td>40000</td>\n",
       "    </tr>\n",
       "    <tr>\n",
       "      <th>Chongqing</th>\n",
       "      <td>NaN</td>\n",
       "      <td>150000.0</td>\n",
       "      <td>40000</td>\n",
       "    </tr>\n",
       "    <tr>\n",
       "      <th>Guangzhou</th>\n",
       "      <td>40000.0</td>\n",
       "      <td>250000.0</td>\n",
       "      <td>40000</td>\n",
       "    </tr>\n",
       "    <tr>\n",
       "      <th>Hangzhou</th>\n",
       "      <td>30000.0</td>\n",
       "      <td>NaN</td>\n",
       "      <td>40000</td>\n",
       "    </tr>\n",
       "    <tr>\n",
       "      <th>Shanghai</th>\n",
       "      <td>60000.0</td>\n",
       "      <td>400000.0</td>\n",
       "      <td>40000</td>\n",
       "    </tr>\n",
       "    <tr>\n",
       "      <th>Shenzhen</th>\n",
       "      <td>50000.0</td>\n",
       "      <td>300000.0</td>\n",
       "      <td>40000</td>\n",
       "    </tr>\n",
       "    <tr>\n",
       "      <th>Suzhou</th>\n",
       "      <td>NaN</td>\n",
       "      <td>NaN</td>\n",
       "      <td>40000</td>\n",
       "    </tr>\n",
       "    <tr>\n",
       "      <th>Tianjin</th>\n",
       "      <td>NaN</td>\n",
       "      <td>200000.0</td>\n",
       "      <td>40000</td>\n",
       "    </tr>\n",
       "  </tbody>\n",
       "</table>\n",
       "</div>"
      ],
      "text/plain": [
       "               apt      cars  bonus\n",
       "Beijing    55000.0  350000.0  40000\n",
       "Chongqing      NaN  150000.0  40000\n",
       "Guangzhou  40000.0  250000.0  40000\n",
       "Hangzhou   30000.0       NaN  40000\n",
       "Shanghai   60000.0  400000.0  40000\n",
       "Shenzhen   50000.0  300000.0  40000\n",
       "Suzhou         NaN       NaN  40000\n",
       "Tianjin        NaN  200000.0  40000"
      ]
     },
     "execution_count": 77,
     "metadata": {},
     "output_type": "execute_result"
    }
   ],
   "source": [
    "df"
   ]
  },
  {
   "cell_type": "code",
   "execution_count": 78,
   "id": "b49bafba-c412-4e2a-bb89-a4986e9969b5",
   "metadata": {
    "tags": []
   },
   "outputs": [],
   "source": [
    "df['income'] = df['apt'] + df['bonus'] #广播特性"
   ]
  },
  {
   "cell_type": "code",
   "execution_count": 79,
   "id": "c1e3113a-28f2-41fe-8d33-7a93bccc81b4",
   "metadata": {
    "tags": []
   },
   "outputs": [
    {
     "data": {
      "text/html": [
       "<div>\n",
       "<style scoped>\n",
       "    .dataframe tbody tr th:only-of-type {\n",
       "        vertical-align: middle;\n",
       "    }\n",
       "\n",
       "    .dataframe tbody tr th {\n",
       "        vertical-align: top;\n",
       "    }\n",
       "\n",
       "    .dataframe thead th {\n",
       "        text-align: right;\n",
       "    }\n",
       "</style>\n",
       "<table border=\"1\" class=\"dataframe\">\n",
       "  <thead>\n",
       "    <tr style=\"text-align: right;\">\n",
       "      <th></th>\n",
       "      <th>apt</th>\n",
       "      <th>cars</th>\n",
       "      <th>bonus</th>\n",
       "      <th>income</th>\n",
       "    </tr>\n",
       "  </thead>\n",
       "  <tbody>\n",
       "    <tr>\n",
       "      <th>Beijing</th>\n",
       "      <td>55000.0</td>\n",
       "      <td>350000.0</td>\n",
       "      <td>40000</td>\n",
       "      <td>95000.0</td>\n",
       "    </tr>\n",
       "    <tr>\n",
       "      <th>Chongqing</th>\n",
       "      <td>NaN</td>\n",
       "      <td>150000.0</td>\n",
       "      <td>40000</td>\n",
       "      <td>NaN</td>\n",
       "    </tr>\n",
       "    <tr>\n",
       "      <th>Guangzhou</th>\n",
       "      <td>40000.0</td>\n",
       "      <td>250000.0</td>\n",
       "      <td>40000</td>\n",
       "      <td>80000.0</td>\n",
       "    </tr>\n",
       "    <tr>\n",
       "      <th>Hangzhou</th>\n",
       "      <td>30000.0</td>\n",
       "      <td>NaN</td>\n",
       "      <td>40000</td>\n",
       "      <td>70000.0</td>\n",
       "    </tr>\n",
       "    <tr>\n",
       "      <th>Shanghai</th>\n",
       "      <td>60000.0</td>\n",
       "      <td>400000.0</td>\n",
       "      <td>40000</td>\n",
       "      <td>100000.0</td>\n",
       "    </tr>\n",
       "    <tr>\n",
       "      <th>Shenzhen</th>\n",
       "      <td>50000.0</td>\n",
       "      <td>300000.0</td>\n",
       "      <td>40000</td>\n",
       "      <td>90000.0</td>\n",
       "    </tr>\n",
       "    <tr>\n",
       "      <th>Suzhou</th>\n",
       "      <td>NaN</td>\n",
       "      <td>NaN</td>\n",
       "      <td>40000</td>\n",
       "      <td>NaN</td>\n",
       "    </tr>\n",
       "    <tr>\n",
       "      <th>Tianjin</th>\n",
       "      <td>NaN</td>\n",
       "      <td>200000.0</td>\n",
       "      <td>40000</td>\n",
       "      <td>NaN</td>\n",
       "    </tr>\n",
       "  </tbody>\n",
       "</table>\n",
       "</div>"
      ],
      "text/plain": [
       "               apt      cars  bonus    income\n",
       "Beijing    55000.0  350000.0  40000   95000.0\n",
       "Chongqing      NaN  150000.0  40000       NaN\n",
       "Guangzhou  40000.0  250000.0  40000   80000.0\n",
       "Hangzhou   30000.0       NaN  40000   70000.0\n",
       "Shanghai   60000.0  400000.0  40000  100000.0\n",
       "Shenzhen   50000.0  300000.0  40000   90000.0\n",
       "Suzhou         NaN       NaN  40000       NaN\n",
       "Tianjin        NaN  200000.0  40000       NaN"
      ]
     },
     "execution_count": 79,
     "metadata": {},
     "output_type": "execute_result"
    }
   ],
   "source": [
    "df"
   ]
  },
  {
   "cell_type": "code",
   "execution_count": null,
   "id": "c97ca29a-bea6-4c45-a308-14c926c33689",
   "metadata": {},
   "outputs": [],
   "source": []
  },
  {
   "cell_type": "markdown",
   "id": "ca00016b-5f2f-446c-9dba-495cbd3523fc",
   "metadata": {},
   "source": [
    "#### `DataFrame` 的索引与切片\n"
   ]
  },
  {
   "cell_type": "code",
   "execution_count": 80,
   "id": "88327373-5701-4bab-bb9b-b2502765f5b4",
   "metadata": {
    "tags": []
   },
   "outputs": [
    {
     "data": {
      "text/plain": [
       "Index(['Beijing', 'Chongqing', 'Guangzhou', 'Hangzhou', 'Shanghai', 'Shenzhen',\n",
       "       'Suzhou', 'Tianjin'],\n",
       "      dtype='object')"
      ]
     },
     "execution_count": 80,
     "metadata": {},
     "output_type": "execute_result"
    }
   ],
   "source": [
    "df.index"
   ]
  },
  {
   "cell_type": "code",
   "execution_count": 85,
   "id": "a41213ae-b8ba-46b7-8244-a48505c9748c",
   "metadata": {
    "tags": []
   },
   "outputs": [
    {
     "data": {
      "text/plain": [
       "Index(['apt', 'cars', 'bonus', 'income'], dtype='object')"
      ]
     },
     "execution_count": 85,
     "metadata": {},
     "output_type": "execute_result"
    }
   ],
   "source": [
    "df.columns"
   ]
  },
  {
   "cell_type": "code",
   "execution_count": 86,
   "id": "59f438bd-36dd-49fc-bdc3-380f7c9188cd",
   "metadata": {
    "tags": []
   },
   "outputs": [
    {
     "data": {
      "text/html": [
       "<div>\n",
       "<style scoped>\n",
       "    .dataframe tbody tr th:only-of-type {\n",
       "        vertical-align: middle;\n",
       "    }\n",
       "\n",
       "    .dataframe tbody tr th {\n",
       "        vertical-align: top;\n",
       "    }\n",
       "\n",
       "    .dataframe thead th {\n",
       "        text-align: right;\n",
       "    }\n",
       "</style>\n",
       "<table border=\"1\" class=\"dataframe\">\n",
       "  <thead>\n",
       "    <tr style=\"text-align: right;\">\n",
       "      <th></th>\n",
       "      <th>apt</th>\n",
       "      <th>cars</th>\n",
       "      <th>bonus</th>\n",
       "      <th>income</th>\n",
       "    </tr>\n",
       "  </thead>\n",
       "  <tbody>\n",
       "    <tr>\n",
       "      <th>Beijing</th>\n",
       "      <td>55000.0</td>\n",
       "      <td>350000.0</td>\n",
       "      <td>40000</td>\n",
       "      <td>95000.0</td>\n",
       "    </tr>\n",
       "    <tr>\n",
       "      <th>Chongqing</th>\n",
       "      <td>NaN</td>\n",
       "      <td>150000.0</td>\n",
       "      <td>40000</td>\n",
       "      <td>NaN</td>\n",
       "    </tr>\n",
       "    <tr>\n",
       "      <th>Guangzhou</th>\n",
       "      <td>40000.0</td>\n",
       "      <td>250000.0</td>\n",
       "      <td>40000</td>\n",
       "      <td>80000.0</td>\n",
       "    </tr>\n",
       "    <tr>\n",
       "      <th>Hangzhou</th>\n",
       "      <td>30000.0</td>\n",
       "      <td>NaN</td>\n",
       "      <td>40000</td>\n",
       "      <td>70000.0</td>\n",
       "    </tr>\n",
       "    <tr>\n",
       "      <th>Shanghai</th>\n",
       "      <td>60000.0</td>\n",
       "      <td>400000.0</td>\n",
       "      <td>40000</td>\n",
       "      <td>100000.0</td>\n",
       "    </tr>\n",
       "    <tr>\n",
       "      <th>Shenzhen</th>\n",
       "      <td>50000.0</td>\n",
       "      <td>300000.0</td>\n",
       "      <td>40000</td>\n",
       "      <td>90000.0</td>\n",
       "    </tr>\n",
       "    <tr>\n",
       "      <th>Suzhou</th>\n",
       "      <td>NaN</td>\n",
       "      <td>NaN</td>\n",
       "      <td>40000</td>\n",
       "      <td>NaN</td>\n",
       "    </tr>\n",
       "    <tr>\n",
       "      <th>Tianjin</th>\n",
       "      <td>NaN</td>\n",
       "      <td>200000.0</td>\n",
       "      <td>40000</td>\n",
       "      <td>NaN</td>\n",
       "    </tr>\n",
       "  </tbody>\n",
       "</table>\n",
       "</div>"
      ],
      "text/plain": [
       "               apt      cars  bonus    income\n",
       "Beijing    55000.0  350000.0  40000   95000.0\n",
       "Chongqing      NaN  150000.0  40000       NaN\n",
       "Guangzhou  40000.0  250000.0  40000   80000.0\n",
       "Hangzhou   30000.0       NaN  40000   70000.0\n",
       "Shanghai   60000.0  400000.0  40000  100000.0\n",
       "Shenzhen   50000.0  300000.0  40000   90000.0\n",
       "Suzhou         NaN       NaN  40000       NaN\n",
       "Tianjin        NaN  200000.0  40000       NaN"
      ]
     },
     "execution_count": 86,
     "metadata": {},
     "output_type": "execute_result"
    }
   ],
   "source": [
    "df"
   ]
  },
  {
   "cell_type": "markdown",
   "id": "e15aa2b6-2cde-45c9-a83d-9d34eb4402c5",
   "metadata": {},
   "source": [
    "##### loc 索引"
   ]
  },
  {
   "cell_type": "code",
   "execution_count": 87,
   "id": "1e57b824-fbc3-4e80-a5d0-cca1d6ee8af9",
   "metadata": {
    "tags": []
   },
   "outputs": [
    {
     "data": {
      "text/html": [
       "<div>\n",
       "<style scoped>\n",
       "    .dataframe tbody tr th:only-of-type {\n",
       "        vertical-align: middle;\n",
       "    }\n",
       "\n",
       "    .dataframe tbody tr th {\n",
       "        vertical-align: top;\n",
       "    }\n",
       "\n",
       "    .dataframe thead th {\n",
       "        text-align: right;\n",
       "    }\n",
       "</style>\n",
       "<table border=\"1\" class=\"dataframe\">\n",
       "  <thead>\n",
       "    <tr style=\"text-align: right;\">\n",
       "      <th></th>\n",
       "      <th>cars</th>\n",
       "      <th>income</th>\n",
       "    </tr>\n",
       "  </thead>\n",
       "  <tbody>\n",
       "    <tr>\n",
       "      <th>Beijing</th>\n",
       "      <td>350000.0</td>\n",
       "      <td>95000.0</td>\n",
       "    </tr>\n",
       "    <tr>\n",
       "      <th>Chongqing</th>\n",
       "      <td>150000.0</td>\n",
       "      <td>NaN</td>\n",
       "    </tr>\n",
       "    <tr>\n",
       "      <th>Guangzhou</th>\n",
       "      <td>250000.0</td>\n",
       "      <td>80000.0</td>\n",
       "    </tr>\n",
       "    <tr>\n",
       "      <th>Hangzhou</th>\n",
       "      <td>NaN</td>\n",
       "      <td>70000.0</td>\n",
       "    </tr>\n",
       "    <tr>\n",
       "      <th>Shanghai</th>\n",
       "      <td>400000.0</td>\n",
       "      <td>100000.0</td>\n",
       "    </tr>\n",
       "    <tr>\n",
       "      <th>Shenzhen</th>\n",
       "      <td>300000.0</td>\n",
       "      <td>90000.0</td>\n",
       "    </tr>\n",
       "    <tr>\n",
       "      <th>Suzhou</th>\n",
       "      <td>NaN</td>\n",
       "      <td>NaN</td>\n",
       "    </tr>\n",
       "  </tbody>\n",
       "</table>\n",
       "</div>"
      ],
      "text/plain": [
       "               cars    income\n",
       "Beijing    350000.0   95000.0\n",
       "Chongqing  150000.0       NaN\n",
       "Guangzhou  250000.0   80000.0\n",
       "Hangzhou        NaN   70000.0\n",
       "Shanghai   400000.0  100000.0\n",
       "Shenzhen   300000.0   90000.0\n",
       "Suzhou          NaN       NaN"
      ]
     },
     "execution_count": 87,
     "metadata": {},
     "output_type": "execute_result"
    }
   ],
   "source": [
    "# 逗号之前是对行做选择的条件；逗号之后是对列做选择的条件\n",
    "df.loc['Beijing':\"Suzhou\", ['cars', \"income\"]] #对行和列做选择"
   ]
  },
  {
   "cell_type": "code",
   "execution_count": 88,
   "id": "28f77b94-a6f8-4b0e-863d-a64ed971ab66",
   "metadata": {
    "tags": []
   },
   "outputs": [
    {
     "data": {
      "text/plain": [
       "Beijing       True\n",
       "Chongqing    False\n",
       "Guangzhou     True\n",
       "Hangzhou     False\n",
       "Shanghai      True\n",
       "Shenzhen      True\n",
       "Suzhou       False\n",
       "Tianjin      False\n",
       "Name: cars, dtype: bool"
      ]
     },
     "execution_count": 88,
     "metadata": {},
     "output_type": "execute_result"
    }
   ],
   "source": [
    "df['cars']>200000"
   ]
  },
  {
   "cell_type": "code",
   "execution_count": 89,
   "id": "354ee074-e2e1-47d1-a7ce-cca36c64ef6e",
   "metadata": {
    "tags": []
   },
   "outputs": [
    {
     "data": {
      "text/html": [
       "<div>\n",
       "<style scoped>\n",
       "    .dataframe tbody tr th:only-of-type {\n",
       "        vertical-align: middle;\n",
       "    }\n",
       "\n",
       "    .dataframe tbody tr th {\n",
       "        vertical-align: top;\n",
       "    }\n",
       "\n",
       "    .dataframe thead th {\n",
       "        text-align: right;\n",
       "    }\n",
       "</style>\n",
       "<table border=\"1\" class=\"dataframe\">\n",
       "  <thead>\n",
       "    <tr style=\"text-align: right;\">\n",
       "      <th></th>\n",
       "      <th>cars</th>\n",
       "      <th>income</th>\n",
       "    </tr>\n",
       "  </thead>\n",
       "  <tbody>\n",
       "    <tr>\n",
       "      <th>Beijing</th>\n",
       "      <td>350000.0</td>\n",
       "      <td>95000.0</td>\n",
       "    </tr>\n",
       "    <tr>\n",
       "      <th>Guangzhou</th>\n",
       "      <td>250000.0</td>\n",
       "      <td>80000.0</td>\n",
       "    </tr>\n",
       "    <tr>\n",
       "      <th>Shanghai</th>\n",
       "      <td>400000.0</td>\n",
       "      <td>100000.0</td>\n",
       "    </tr>\n",
       "    <tr>\n",
       "      <th>Shenzhen</th>\n",
       "      <td>300000.0</td>\n",
       "      <td>90000.0</td>\n",
       "    </tr>\n",
       "  </tbody>\n",
       "</table>\n",
       "</div>"
      ],
      "text/plain": [
       "               cars    income\n",
       "Beijing    350000.0   95000.0\n",
       "Guangzhou  250000.0   80000.0\n",
       "Shanghai   400000.0  100000.0\n",
       "Shenzhen   300000.0   90000.0"
      ]
     },
     "execution_count": 89,
     "metadata": {},
     "output_type": "execute_result"
    }
   ],
   "source": [
    "df.loc[df['cars']>200000 , ['cars', \"income\"]]"
   ]
  },
  {
   "cell_type": "code",
   "execution_count": 90,
   "id": "833dcb35-d230-4045-ae54-38a54cd81d42",
   "metadata": {
    "tags": []
   },
   "outputs": [
    {
     "data": {
      "text/plain": [
       "Beijing       True\n",
       "Chongqing    False\n",
       "Guangzhou     True\n",
       "Hangzhou     False\n",
       "Shanghai      True\n",
       "Shenzhen      True\n",
       "Suzhou       False\n",
       "Tianjin      False\n",
       "Name: cars, dtype: bool"
      ]
     },
     "execution_count": 90,
     "metadata": {},
     "output_type": "execute_result"
    }
   ],
   "source": [
    "df['cars']>200000 #bool series"
   ]
  },
  {
   "cell_type": "code",
   "execution_count": 91,
   "id": "92827c98-b934-4bd5-9a0d-03de92f85191",
   "metadata": {
    "tags": []
   },
   "outputs": [
    {
     "data": {
      "text/plain": [
       "Beijing       True\n",
       "Chongqing    False\n",
       "Guangzhou    False\n",
       "Hangzhou     False\n",
       "Shanghai      True\n",
       "Shenzhen     False\n",
       "Suzhou       False\n",
       "Tianjin      False\n",
       "Name: income, dtype: bool"
      ]
     },
     "execution_count": 91,
     "metadata": {},
     "output_type": "execute_result"
    }
   ],
   "source": [
    "df['income']>90000 #bool series"
   ]
  },
  {
   "cell_type": "markdown",
   "id": "66431ee6-1ce8-4985-9131-d02eef7613b1",
   "metadata": {},
   "source": [
    "- 且"
   ]
  },
  {
   "cell_type": "code",
   "execution_count": 92,
   "id": "d070a344-299d-45f4-a94b-cff697bbce98",
   "metadata": {
    "tags": []
   },
   "outputs": [
    {
     "data": {
      "text/plain": [
       "Beijing       True\n",
       "Chongqing    False\n",
       "Guangzhou    False\n",
       "Hangzhou     False\n",
       "Shanghai      True\n",
       "Shenzhen     False\n",
       "Suzhou       False\n",
       "Tianjin      False\n",
       "dtype: bool"
      ]
     },
     "execution_count": 92,
     "metadata": {},
     "output_type": "execute_result"
    }
   ],
   "source": [
    "(df['cars']>200000) & (df['income']>90000) #且"
   ]
  },
  {
   "cell_type": "code",
   "execution_count": 93,
   "id": "1b0b21db-9df9-466c-8d7a-f36d011e43f1",
   "metadata": {
    "tags": []
   },
   "outputs": [
    {
     "data": {
      "text/html": [
       "<div>\n",
       "<style scoped>\n",
       "    .dataframe tbody tr th:only-of-type {\n",
       "        vertical-align: middle;\n",
       "    }\n",
       "\n",
       "    .dataframe tbody tr th {\n",
       "        vertical-align: top;\n",
       "    }\n",
       "\n",
       "    .dataframe thead th {\n",
       "        text-align: right;\n",
       "    }\n",
       "</style>\n",
       "<table border=\"1\" class=\"dataframe\">\n",
       "  <thead>\n",
       "    <tr style=\"text-align: right;\">\n",
       "      <th></th>\n",
       "      <th>cars</th>\n",
       "      <th>income</th>\n",
       "    </tr>\n",
       "  </thead>\n",
       "  <tbody>\n",
       "    <tr>\n",
       "      <th>Beijing</th>\n",
       "      <td>350000.0</td>\n",
       "      <td>95000.0</td>\n",
       "    </tr>\n",
       "    <tr>\n",
       "      <th>Shanghai</th>\n",
       "      <td>400000.0</td>\n",
       "      <td>100000.0</td>\n",
       "    </tr>\n",
       "  </tbody>\n",
       "</table>\n",
       "</div>"
      ],
      "text/plain": [
       "              cars    income\n",
       "Beijing   350000.0   95000.0\n",
       "Shanghai  400000.0  100000.0"
      ]
     },
     "execution_count": 93,
     "metadata": {},
     "output_type": "execute_result"
    }
   ],
   "source": [
    "# 逗号之前是对行做选择的条件；逗号之后是对列做选择的条件\n",
    "df.loc[(df['cars']>200000) & (df['income']>90000), ['cars', \"income\"]]"
   ]
  },
  {
   "cell_type": "code",
   "execution_count": 94,
   "id": "db2b19d6-1bae-4e10-be38-279e217e0f11",
   "metadata": {
    "tags": []
   },
   "outputs": [
    {
     "data": {
      "text/html": [
       "<div>\n",
       "<style scoped>\n",
       "    .dataframe tbody tr th:only-of-type {\n",
       "        vertical-align: middle;\n",
       "    }\n",
       "\n",
       "    .dataframe tbody tr th {\n",
       "        vertical-align: top;\n",
       "    }\n",
       "\n",
       "    .dataframe thead th {\n",
       "        text-align: right;\n",
       "    }\n",
       "</style>\n",
       "<table border=\"1\" class=\"dataframe\">\n",
       "  <thead>\n",
       "    <tr style=\"text-align: right;\">\n",
       "      <th></th>\n",
       "      <th>cars</th>\n",
       "      <th>bonus</th>\n",
       "      <th>income</th>\n",
       "    </tr>\n",
       "  </thead>\n",
       "  <tbody>\n",
       "    <tr>\n",
       "      <th>Beijing</th>\n",
       "      <td>350000.0</td>\n",
       "      <td>40000</td>\n",
       "      <td>95000.0</td>\n",
       "    </tr>\n",
       "    <tr>\n",
       "      <th>Shanghai</th>\n",
       "      <td>400000.0</td>\n",
       "      <td>40000</td>\n",
       "      <td>100000.0</td>\n",
       "    </tr>\n",
       "  </tbody>\n",
       "</table>\n",
       "</div>"
      ],
      "text/plain": [
       "              cars  bonus    income\n",
       "Beijing   350000.0  40000   95000.0\n",
       "Shanghai  400000.0  40000  100000.0"
      ]
     },
     "execution_count": 94,
     "metadata": {},
     "output_type": "execute_result"
    }
   ],
   "source": [
    "df.loc[(df['cars']>200000) & (df['income']>90000), 'cars':\"income\"]"
   ]
  },
  {
   "cell_type": "markdown",
   "id": "32663f83-d243-4981-9527-1f78136805f1",
   "metadata": {},
   "source": [
    "- 或"
   ]
  },
  {
   "cell_type": "code",
   "execution_count": 95,
   "id": "501bdd5e-5c64-4647-bcfb-22422cfcc5ae",
   "metadata": {
    "tags": []
   },
   "outputs": [
    {
     "data": {
      "text/html": [
       "<div>\n",
       "<style scoped>\n",
       "    .dataframe tbody tr th:only-of-type {\n",
       "        vertical-align: middle;\n",
       "    }\n",
       "\n",
       "    .dataframe tbody tr th {\n",
       "        vertical-align: top;\n",
       "    }\n",
       "\n",
       "    .dataframe thead th {\n",
       "        text-align: right;\n",
       "    }\n",
       "</style>\n",
       "<table border=\"1\" class=\"dataframe\">\n",
       "  <thead>\n",
       "    <tr style=\"text-align: right;\">\n",
       "      <th></th>\n",
       "      <th>cars</th>\n",
       "      <th>bonus</th>\n",
       "      <th>income</th>\n",
       "    </tr>\n",
       "  </thead>\n",
       "  <tbody>\n",
       "    <tr>\n",
       "      <th>Beijing</th>\n",
       "      <td>350000.0</td>\n",
       "      <td>40000</td>\n",
       "      <td>95000.0</td>\n",
       "    </tr>\n",
       "    <tr>\n",
       "      <th>Guangzhou</th>\n",
       "      <td>250000.0</td>\n",
       "      <td>40000</td>\n",
       "      <td>80000.0</td>\n",
       "    </tr>\n",
       "    <tr>\n",
       "      <th>Shanghai</th>\n",
       "      <td>400000.0</td>\n",
       "      <td>40000</td>\n",
       "      <td>100000.0</td>\n",
       "    </tr>\n",
       "    <tr>\n",
       "      <th>Shenzhen</th>\n",
       "      <td>300000.0</td>\n",
       "      <td>40000</td>\n",
       "      <td>90000.0</td>\n",
       "    </tr>\n",
       "  </tbody>\n",
       "</table>\n",
       "</div>"
      ],
      "text/plain": [
       "               cars  bonus    income\n",
       "Beijing    350000.0  40000   95000.0\n",
       "Guangzhou  250000.0  40000   80000.0\n",
       "Shanghai   400000.0  40000  100000.0\n",
       "Shenzhen   300000.0  40000   90000.0"
      ]
     },
     "execution_count": 95,
     "metadata": {},
     "output_type": "execute_result"
    }
   ],
   "source": [
    "df.loc[(df['cars']>200000)|(df['income']>90000), 'cars':\"income\"] #或"
   ]
  },
  {
   "cell_type": "markdown",
   "id": "8ac6620b-1dd6-4829-a626-9d6e9c43ef8c",
   "metadata": {},
   "source": [
    "- 非"
   ]
  },
  {
   "cell_type": "code",
   "execution_count": 98,
   "id": "c2f4fb6a-545b-4a64-aeb5-f8df41e68ec0",
   "metadata": {
    "tags": []
   },
   "outputs": [
    {
     "data": {
      "text/html": [
       "<div>\n",
       "<style scoped>\n",
       "    .dataframe tbody tr th:only-of-type {\n",
       "        vertical-align: middle;\n",
       "    }\n",
       "\n",
       "    .dataframe tbody tr th {\n",
       "        vertical-align: top;\n",
       "    }\n",
       "\n",
       "    .dataframe thead th {\n",
       "        text-align: right;\n",
       "    }\n",
       "</style>\n",
       "<table border=\"1\" class=\"dataframe\">\n",
       "  <thead>\n",
       "    <tr style=\"text-align: right;\">\n",
       "      <th></th>\n",
       "      <th>cars</th>\n",
       "      <th>bonus</th>\n",
       "      <th>income</th>\n",
       "    </tr>\n",
       "  </thead>\n",
       "  <tbody>\n",
       "    <tr>\n",
       "      <th>Chongqing</th>\n",
       "      <td>150000.0</td>\n",
       "      <td>40000</td>\n",
       "      <td>NaN</td>\n",
       "    </tr>\n",
       "    <tr>\n",
       "      <th>Hangzhou</th>\n",
       "      <td>NaN</td>\n",
       "      <td>40000</td>\n",
       "      <td>70000.0</td>\n",
       "    </tr>\n",
       "    <tr>\n",
       "      <th>Suzhou</th>\n",
       "      <td>NaN</td>\n",
       "      <td>40000</td>\n",
       "      <td>NaN</td>\n",
       "    </tr>\n",
       "    <tr>\n",
       "      <th>Tianjin</th>\n",
       "      <td>200000.0</td>\n",
       "      <td>40000</td>\n",
       "      <td>NaN</td>\n",
       "    </tr>\n",
       "  </tbody>\n",
       "</table>\n",
       "</div>"
      ],
      "text/plain": [
       "               cars  bonus   income\n",
       "Chongqing  150000.0  40000      NaN\n",
       "Hangzhou        NaN  40000  70000.0\n",
       "Suzhou          NaN  40000      NaN\n",
       "Tianjin    200000.0  40000      NaN"
      ]
     },
     "execution_count": 98,
     "metadata": {},
     "output_type": "execute_result"
    }
   ],
   "source": [
    "df.loc[~(df['cars']>200000), 'cars':\"income\"] #非"
   ]
  },
  {
   "cell_type": "code",
   "execution_count": 99,
   "id": "216ca466-742e-4363-aed5-2ff7a0a4ed13",
   "metadata": {
    "tags": []
   },
   "outputs": [
    {
     "data": {
      "text/html": [
       "<div>\n",
       "<style scoped>\n",
       "    .dataframe tbody tr th:only-of-type {\n",
       "        vertical-align: middle;\n",
       "    }\n",
       "\n",
       "    .dataframe tbody tr th {\n",
       "        vertical-align: top;\n",
       "    }\n",
       "\n",
       "    .dataframe thead th {\n",
       "        text-align: right;\n",
       "    }\n",
       "</style>\n",
       "<table border=\"1\" class=\"dataframe\">\n",
       "  <thead>\n",
       "    <tr style=\"text-align: right;\">\n",
       "      <th></th>\n",
       "      <th>cars</th>\n",
       "      <th>bonus</th>\n",
       "      <th>income</th>\n",
       "    </tr>\n",
       "  </thead>\n",
       "  <tbody>\n",
       "    <tr>\n",
       "      <th>Chongqing</th>\n",
       "      <td>150000.0</td>\n",
       "      <td>40000</td>\n",
       "      <td>NaN</td>\n",
       "    </tr>\n",
       "    <tr>\n",
       "      <th>Hangzhou</th>\n",
       "      <td>NaN</td>\n",
       "      <td>40000</td>\n",
       "      <td>70000.0</td>\n",
       "    </tr>\n",
       "    <tr>\n",
       "      <th>Suzhou</th>\n",
       "      <td>NaN</td>\n",
       "      <td>40000</td>\n",
       "      <td>NaN</td>\n",
       "    </tr>\n",
       "    <tr>\n",
       "      <th>Tianjin</th>\n",
       "      <td>200000.0</td>\n",
       "      <td>40000</td>\n",
       "      <td>NaN</td>\n",
       "    </tr>\n",
       "  </tbody>\n",
       "</table>\n",
       "</div>"
      ],
      "text/plain": [
       "               cars  bonus   income\n",
       "Chongqing  150000.0  40000      NaN\n",
       "Hangzhou        NaN  40000  70000.0\n",
       "Suzhou          NaN  40000      NaN\n",
       "Tianjin    200000.0  40000      NaN"
      ]
     },
     "execution_count": 99,
     "metadata": {},
     "output_type": "execute_result"
    }
   ],
   "source": [
    "df.loc[~(df['cars']>200000), 'cars':'''income'''] #非"
   ]
  },
  {
   "cell_type": "markdown",
   "id": "5727c4ad-beb4-4149-b933-5e91aaf40faa",
   "metadata": {},
   "source": [
    "-  数据选择的方法\n",
    "    * iloc\n",
    "    * at\n",
    "    * iat\n",
    "    * ~ix~"
   ]
  },
  {
   "cell_type": "code",
   "execution_count": 100,
   "id": "0a3fb3dd-977e-46a3-a417-845194795dab",
   "metadata": {
    "tags": []
   },
   "outputs": [
    {
     "data": {
      "text/html": [
       "<div>\n",
       "<style scoped>\n",
       "    .dataframe tbody tr th:only-of-type {\n",
       "        vertical-align: middle;\n",
       "    }\n",
       "\n",
       "    .dataframe tbody tr th {\n",
       "        vertical-align: top;\n",
       "    }\n",
       "\n",
       "    .dataframe thead th {\n",
       "        text-align: right;\n",
       "    }\n",
       "</style>\n",
       "<table border=\"1\" class=\"dataframe\">\n",
       "  <thead>\n",
       "    <tr style=\"text-align: right;\">\n",
       "      <th></th>\n",
       "      <th>apt</th>\n",
       "      <th>cars</th>\n",
       "      <th>bonus</th>\n",
       "      <th>income</th>\n",
       "    </tr>\n",
       "  </thead>\n",
       "  <tbody>\n",
       "    <tr>\n",
       "      <th>Beijing</th>\n",
       "      <td>55000.0</td>\n",
       "      <td>350000.0</td>\n",
       "      <td>40000</td>\n",
       "      <td>95000.0</td>\n",
       "    </tr>\n",
       "    <tr>\n",
       "      <th>Chongqing</th>\n",
       "      <td>NaN</td>\n",
       "      <td>150000.0</td>\n",
       "      <td>40000</td>\n",
       "      <td>NaN</td>\n",
       "    </tr>\n",
       "    <tr>\n",
       "      <th>Guangzhou</th>\n",
       "      <td>40000.0</td>\n",
       "      <td>250000.0</td>\n",
       "      <td>40000</td>\n",
       "      <td>80000.0</td>\n",
       "    </tr>\n",
       "    <tr>\n",
       "      <th>Hangzhou</th>\n",
       "      <td>30000.0</td>\n",
       "      <td>NaN</td>\n",
       "      <td>40000</td>\n",
       "      <td>70000.0</td>\n",
       "    </tr>\n",
       "    <tr>\n",
       "      <th>Shanghai</th>\n",
       "      <td>60000.0</td>\n",
       "      <td>400000.0</td>\n",
       "      <td>40000</td>\n",
       "      <td>100000.0</td>\n",
       "    </tr>\n",
       "    <tr>\n",
       "      <th>Shenzhen</th>\n",
       "      <td>50000.0</td>\n",
       "      <td>300000.0</td>\n",
       "      <td>40000</td>\n",
       "      <td>90000.0</td>\n",
       "    </tr>\n",
       "    <tr>\n",
       "      <th>Suzhou</th>\n",
       "      <td>NaN</td>\n",
       "      <td>NaN</td>\n",
       "      <td>40000</td>\n",
       "      <td>NaN</td>\n",
       "    </tr>\n",
       "    <tr>\n",
       "      <th>Tianjin</th>\n",
       "      <td>NaN</td>\n",
       "      <td>200000.0</td>\n",
       "      <td>40000</td>\n",
       "      <td>NaN</td>\n",
       "    </tr>\n",
       "  </tbody>\n",
       "</table>\n",
       "</div>"
      ],
      "text/plain": [
       "               apt      cars  bonus    income\n",
       "Beijing    55000.0  350000.0  40000   95000.0\n",
       "Chongqing      NaN  150000.0  40000       NaN\n",
       "Guangzhou  40000.0  250000.0  40000   80000.0\n",
       "Hangzhou   30000.0       NaN  40000   70000.0\n",
       "Shanghai   60000.0  400000.0  40000  100000.0\n",
       "Shenzhen   50000.0  300000.0  40000   90000.0\n",
       "Suzhou         NaN       NaN  40000       NaN\n",
       "Tianjin        NaN  200000.0  40000       NaN"
      ]
     },
     "execution_count": 100,
     "metadata": {},
     "output_type": "execute_result"
    }
   ],
   "source": [
    "df"
   ]
  },
  {
   "cell_type": "markdown",
   "id": "189d51b7-cefa-4240-80fb-34a8eb21567d",
   "metadata": {
    "tags": []
   },
   "source": [
    "##### iloc 索引"
   ]
  },
  {
   "cell_type": "code",
   "execution_count": null,
   "id": "2c878a08-f6ed-4c38-b14f-708ec9bd6f02",
   "metadata": {
    "tags": []
   },
   "outputs": [],
   "source": [
    "# index locate\n",
    "df.iloc[[0,3,4],[0,2]]"
   ]
  },
  {
   "cell_type": "markdown",
   "id": "1f17424b-d3ba-47b1-a912-8d793b91f15a",
   "metadata": {},
   "source": [
    "仅供参考：\n",
    "\n",
    "- DataFrame.at : Access a single value for a row/column pair by label.\n",
    "- DataFrame.iat : Access a single value for a row/column pair by integer\n",
    "    position.\n",
    "- DataFrame.loc : Access a group of rows and columns by label(s).\n",
    "- DataFrame.iloc : Access a group of rows and columns by integer\n",
    "    position(s).\n",
    "- Series.at : Access a single value by label.\n",
    "- Series.iat : Access a single value by integer position.\n",
    "- Series.loc : Access a group of rows by label(s).\n",
    "- Series.iloc : Access a group of rows by integer position(s)."
   ]
  },
  {
   "cell_type": "markdown",
   "id": "75a97972-1179-4fff-ad31-3057937c21bf",
   "metadata": {},
   "source": [
    "##### 按列切片"
   ]
  },
  {
   "cell_type": "code",
   "execution_count": 101,
   "id": "b715131b-1cc0-440d-a772-1bd4418a8505",
   "metadata": {
    "tags": []
   },
   "outputs": [
    {
     "data": {
      "text/html": [
       "<div>\n",
       "<style scoped>\n",
       "    .dataframe tbody tr th:only-of-type {\n",
       "        vertical-align: middle;\n",
       "    }\n",
       "\n",
       "    .dataframe tbody tr th {\n",
       "        vertical-align: top;\n",
       "    }\n",
       "\n",
       "    .dataframe thead th {\n",
       "        text-align: right;\n",
       "    }\n",
       "</style>\n",
       "<table border=\"1\" class=\"dataframe\">\n",
       "  <thead>\n",
       "    <tr style=\"text-align: right;\">\n",
       "      <th></th>\n",
       "      <th>bonus</th>\n",
       "      <th>income</th>\n",
       "    </tr>\n",
       "  </thead>\n",
       "  <tbody>\n",
       "    <tr>\n",
       "      <th>Beijing</th>\n",
       "      <td>40000</td>\n",
       "      <td>95000.0</td>\n",
       "    </tr>\n",
       "    <tr>\n",
       "      <th>Chongqing</th>\n",
       "      <td>40000</td>\n",
       "      <td>NaN</td>\n",
       "    </tr>\n",
       "    <tr>\n",
       "      <th>Guangzhou</th>\n",
       "      <td>40000</td>\n",
       "      <td>80000.0</td>\n",
       "    </tr>\n",
       "    <tr>\n",
       "      <th>Hangzhou</th>\n",
       "      <td>40000</td>\n",
       "      <td>70000.0</td>\n",
       "    </tr>\n",
       "    <tr>\n",
       "      <th>Shanghai</th>\n",
       "      <td>40000</td>\n",
       "      <td>100000.0</td>\n",
       "    </tr>\n",
       "    <tr>\n",
       "      <th>Shenzhen</th>\n",
       "      <td>40000</td>\n",
       "      <td>90000.0</td>\n",
       "    </tr>\n",
       "    <tr>\n",
       "      <th>Suzhou</th>\n",
       "      <td>40000</td>\n",
       "      <td>NaN</td>\n",
       "    </tr>\n",
       "    <tr>\n",
       "      <th>Tianjin</th>\n",
       "      <td>40000</td>\n",
       "      <td>NaN</td>\n",
       "    </tr>\n",
       "  </tbody>\n",
       "</table>\n",
       "</div>"
      ],
      "text/plain": [
       "           bonus    income\n",
       "Beijing    40000   95000.0\n",
       "Chongqing  40000       NaN\n",
       "Guangzhou  40000   80000.0\n",
       "Hangzhou   40000   70000.0\n",
       "Shanghai   40000  100000.0\n",
       "Shenzhen   40000   90000.0\n",
       "Suzhou     40000       NaN\n",
       "Tianjin    40000       NaN"
      ]
     },
     "execution_count": 101,
     "metadata": {},
     "output_type": "execute_result"
    }
   ],
   "source": [
    "df[['bonus', 'income']]  # return DataFrame"
   ]
  },
  {
   "cell_type": "code",
   "execution_count": 103,
   "id": "dc6371cc-6d3e-4834-b0f9-d68920132222",
   "metadata": {
    "tags": []
   },
   "outputs": [
    {
     "data": {
      "text/html": [
       "<div>\n",
       "<style scoped>\n",
       "    .dataframe tbody tr th:only-of-type {\n",
       "        vertical-align: middle;\n",
       "    }\n",
       "\n",
       "    .dataframe tbody tr th {\n",
       "        vertical-align: top;\n",
       "    }\n",
       "\n",
       "    .dataframe thead th {\n",
       "        text-align: right;\n",
       "    }\n",
       "</style>\n",
       "<table border=\"1\" class=\"dataframe\">\n",
       "  <thead>\n",
       "    <tr style=\"text-align: right;\">\n",
       "      <th></th>\n",
       "      <th>income</th>\n",
       "    </tr>\n",
       "  </thead>\n",
       "  <tbody>\n",
       "    <tr>\n",
       "      <th>Beijing</th>\n",
       "      <td>95000.0</td>\n",
       "    </tr>\n",
       "    <tr>\n",
       "      <th>Chongqing</th>\n",
       "      <td>NaN</td>\n",
       "    </tr>\n",
       "    <tr>\n",
       "      <th>Guangzhou</th>\n",
       "      <td>80000.0</td>\n",
       "    </tr>\n",
       "    <tr>\n",
       "      <th>Hangzhou</th>\n",
       "      <td>70000.0</td>\n",
       "    </tr>\n",
       "    <tr>\n",
       "      <th>Shanghai</th>\n",
       "      <td>100000.0</td>\n",
       "    </tr>\n",
       "    <tr>\n",
       "      <th>Shenzhen</th>\n",
       "      <td>90000.0</td>\n",
       "    </tr>\n",
       "    <tr>\n",
       "      <th>Suzhou</th>\n",
       "      <td>NaN</td>\n",
       "    </tr>\n",
       "    <tr>\n",
       "      <th>Tianjin</th>\n",
       "      <td>NaN</td>\n",
       "    </tr>\n",
       "  </tbody>\n",
       "</table>\n",
       "</div>"
      ],
      "text/plain": [
       "             income\n",
       "Beijing     95000.0\n",
       "Chongqing       NaN\n",
       "Guangzhou   80000.0\n",
       "Hangzhou    70000.0\n",
       "Shanghai   100000.0\n",
       "Shenzhen    90000.0\n",
       "Suzhou          NaN\n",
       "Tianjin         NaN"
      ]
     },
     "execution_count": 103,
     "metadata": {},
     "output_type": "execute_result"
    }
   ],
   "source": [
    "df[['income']] # return DataFrame"
   ]
  },
  {
   "cell_type": "code",
   "execution_count": 104,
   "id": "5e41fa54-1592-425b-b663-88c12013ba8a",
   "metadata": {
    "tags": []
   },
   "outputs": [
    {
     "data": {
      "text/plain": [
       "Beijing       95000.0\n",
       "Chongqing         NaN\n",
       "Guangzhou     80000.0\n",
       "Hangzhou      70000.0\n",
       "Shanghai     100000.0\n",
       "Shenzhen      90000.0\n",
       "Suzhou            NaN\n",
       "Tianjin           NaN\n",
       "Name: income, dtype: float64"
      ]
     },
     "execution_count": 104,
     "metadata": {},
     "output_type": "execute_result"
    }
   ],
   "source": [
    "df['income'] # return Series (way.1)"
   ]
  },
  {
   "cell_type": "code",
   "execution_count": 105,
   "id": "ddd3aa24-f333-40e5-be0b-001c0f5e9ffb",
   "metadata": {
    "tags": []
   },
   "outputs": [
    {
     "data": {
      "text/plain": [
       "Beijing       95000.0\n",
       "Chongqing         NaN\n",
       "Guangzhou     80000.0\n",
       "Hangzhou      70000.0\n",
       "Shanghai     100000.0\n",
       "Shenzhen      90000.0\n",
       "Suzhou            NaN\n",
       "Tianjin           NaN\n",
       "Name: income, dtype: float64"
      ]
     },
     "execution_count": 105,
     "metadata": {},
     "output_type": "execute_result"
    }
   ],
   "source": [
    "df.income  # retrun Series (way.2)"
   ]
  },
  {
   "cell_type": "code",
   "execution_count": 106,
   "id": "3b6955b6-3b0b-4c55-8d78-ab971370ba90",
   "metadata": {
    "tags": []
   },
   "outputs": [
    {
     "data": {
      "text/html": [
       "<div>\n",
       "<style scoped>\n",
       "    .dataframe tbody tr th:only-of-type {\n",
       "        vertical-align: middle;\n",
       "    }\n",
       "\n",
       "    .dataframe tbody tr th {\n",
       "        vertical-align: top;\n",
       "    }\n",
       "\n",
       "    .dataframe thead th {\n",
       "        text-align: right;\n",
       "    }\n",
       "</style>\n",
       "<table border=\"1\" class=\"dataframe\">\n",
       "  <thead>\n",
       "    <tr style=\"text-align: right;\">\n",
       "      <th></th>\n",
       "      <th>apt</th>\n",
       "      <th>cars</th>\n",
       "    </tr>\n",
       "  </thead>\n",
       "  <tbody>\n",
       "    <tr>\n",
       "      <th>Beijing</th>\n",
       "      <td>55000.0</td>\n",
       "      <td>350000.0</td>\n",
       "    </tr>\n",
       "    <tr>\n",
       "      <th>Chongqing</th>\n",
       "      <td>NaN</td>\n",
       "      <td>150000.0</td>\n",
       "    </tr>\n",
       "    <tr>\n",
       "      <th>Guangzhou</th>\n",
       "      <td>40000.0</td>\n",
       "      <td>250000.0</td>\n",
       "    </tr>\n",
       "    <tr>\n",
       "      <th>Hangzhou</th>\n",
       "      <td>30000.0</td>\n",
       "      <td>NaN</td>\n",
       "    </tr>\n",
       "    <tr>\n",
       "      <th>Shanghai</th>\n",
       "      <td>60000.0</td>\n",
       "      <td>400000.0</td>\n",
       "    </tr>\n",
       "    <tr>\n",
       "      <th>Shenzhen</th>\n",
       "      <td>50000.0</td>\n",
       "      <td>300000.0</td>\n",
       "    </tr>\n",
       "    <tr>\n",
       "      <th>Suzhou</th>\n",
       "      <td>NaN</td>\n",
       "      <td>NaN</td>\n",
       "    </tr>\n",
       "    <tr>\n",
       "      <th>Tianjin</th>\n",
       "      <td>NaN</td>\n",
       "      <td>200000.0</td>\n",
       "    </tr>\n",
       "  </tbody>\n",
       "</table>\n",
       "</div>"
      ],
      "text/plain": [
       "               apt      cars\n",
       "Beijing    55000.0  350000.0\n",
       "Chongqing      NaN  150000.0\n",
       "Guangzhou  40000.0  250000.0\n",
       "Hangzhou   30000.0       NaN\n",
       "Shanghai   60000.0  400000.0\n",
       "Shenzhen   50000.0  300000.0\n",
       "Suzhou         NaN       NaN\n",
       "Tianjin        NaN  200000.0"
      ]
     },
     "execution_count": 106,
     "metadata": {},
     "output_type": "execute_result"
    }
   ],
   "source": [
    "# 反向筛选\n",
    "df.drop(['bonus', 'income'], axis=1)"
   ]
  },
  {
   "cell_type": "markdown",
   "id": "610454dd-d5f5-4a6a-8d85-6084ecf8cd8d",
   "metadata": {},
   "source": [
    "##### 按行切片"
   ]
  },
  {
   "cell_type": "code",
   "execution_count": 107,
   "id": "70f595b2-ca66-4aaa-a0d9-a9e20dfa2eea",
   "metadata": {
    "tags": []
   },
   "outputs": [
    {
     "data": {
      "text/html": [
       "<div>\n",
       "<style scoped>\n",
       "    .dataframe tbody tr th:only-of-type {\n",
       "        vertical-align: middle;\n",
       "    }\n",
       "\n",
       "    .dataframe tbody tr th {\n",
       "        vertical-align: top;\n",
       "    }\n",
       "\n",
       "    .dataframe thead th {\n",
       "        text-align: right;\n",
       "    }\n",
       "</style>\n",
       "<table border=\"1\" class=\"dataframe\">\n",
       "  <thead>\n",
       "    <tr style=\"text-align: right;\">\n",
       "      <th></th>\n",
       "      <th>apt</th>\n",
       "      <th>cars</th>\n",
       "      <th>bonus</th>\n",
       "      <th>income</th>\n",
       "    </tr>\n",
       "  </thead>\n",
       "  <tbody>\n",
       "    <tr>\n",
       "      <th>Beijing</th>\n",
       "      <td>55000.0</td>\n",
       "      <td>350000.0</td>\n",
       "      <td>40000</td>\n",
       "      <td>95000.0</td>\n",
       "    </tr>\n",
       "    <tr>\n",
       "      <th>Chongqing</th>\n",
       "      <td>NaN</td>\n",
       "      <td>150000.0</td>\n",
       "      <td>40000</td>\n",
       "      <td>NaN</td>\n",
       "    </tr>\n",
       "    <tr>\n",
       "      <th>Guangzhou</th>\n",
       "      <td>40000.0</td>\n",
       "      <td>250000.0</td>\n",
       "      <td>40000</td>\n",
       "      <td>80000.0</td>\n",
       "    </tr>\n",
       "    <tr>\n",
       "      <th>Hangzhou</th>\n",
       "      <td>30000.0</td>\n",
       "      <td>NaN</td>\n",
       "      <td>40000</td>\n",
       "      <td>70000.0</td>\n",
       "    </tr>\n",
       "    <tr>\n",
       "      <th>Shanghai</th>\n",
       "      <td>60000.0</td>\n",
       "      <td>400000.0</td>\n",
       "      <td>40000</td>\n",
       "      <td>100000.0</td>\n",
       "    </tr>\n",
       "    <tr>\n",
       "      <th>Shenzhen</th>\n",
       "      <td>50000.0</td>\n",
       "      <td>300000.0</td>\n",
       "      <td>40000</td>\n",
       "      <td>90000.0</td>\n",
       "    </tr>\n",
       "    <tr>\n",
       "      <th>Suzhou</th>\n",
       "      <td>NaN</td>\n",
       "      <td>NaN</td>\n",
       "      <td>40000</td>\n",
       "      <td>NaN</td>\n",
       "    </tr>\n",
       "  </tbody>\n",
       "</table>\n",
       "</div>"
      ],
      "text/plain": [
       "               apt      cars  bonus    income\n",
       "Beijing    55000.0  350000.0  40000   95000.0\n",
       "Chongqing      NaN  150000.0  40000       NaN\n",
       "Guangzhou  40000.0  250000.0  40000   80000.0\n",
       "Hangzhou   30000.0       NaN  40000   70000.0\n",
       "Shanghai   60000.0  400000.0  40000  100000.0\n",
       "Shenzhen   50000.0  300000.0  40000   90000.0\n",
       "Suzhou         NaN       NaN  40000       NaN"
      ]
     },
     "execution_count": 107,
     "metadata": {},
     "output_type": "execute_result"
    }
   ],
   "source": [
    "df.drop('Tianjin', axis=0)"
   ]
  },
  {
   "cell_type": "code",
   "execution_count": 109,
   "id": "361f33de-de10-43d8-b8cf-b055a42ea66a",
   "metadata": {
    "tags": []
   },
   "outputs": [
    {
     "data": {
      "text/html": [
       "<div>\n",
       "<style scoped>\n",
       "    .dataframe tbody tr th:only-of-type {\n",
       "        vertical-align: middle;\n",
       "    }\n",
       "\n",
       "    .dataframe tbody tr th {\n",
       "        vertical-align: top;\n",
       "    }\n",
       "\n",
       "    .dataframe thead th {\n",
       "        text-align: right;\n",
       "    }\n",
       "</style>\n",
       "<table border=\"1\" class=\"dataframe\">\n",
       "  <thead>\n",
       "    <tr style=\"text-align: right;\">\n",
       "      <th></th>\n",
       "      <th>apt</th>\n",
       "      <th>cars</th>\n",
       "      <th>bonus</th>\n",
       "      <th>income</th>\n",
       "    </tr>\n",
       "  </thead>\n",
       "  <tbody>\n",
       "    <tr>\n",
       "      <th>Beijing</th>\n",
       "      <td>55000.0</td>\n",
       "      <td>350000.0</td>\n",
       "      <td>40000</td>\n",
       "      <td>95000.0</td>\n",
       "    </tr>\n",
       "    <tr>\n",
       "      <th>Chongqing</th>\n",
       "      <td>NaN</td>\n",
       "      <td>150000.0</td>\n",
       "      <td>40000</td>\n",
       "      <td>NaN</td>\n",
       "    </tr>\n",
       "    <tr>\n",
       "      <th>Guangzhou</th>\n",
       "      <td>40000.0</td>\n",
       "      <td>250000.0</td>\n",
       "      <td>40000</td>\n",
       "      <td>80000.0</td>\n",
       "    </tr>\n",
       "    <tr>\n",
       "      <th>Hangzhou</th>\n",
       "      <td>30000.0</td>\n",
       "      <td>NaN</td>\n",
       "      <td>40000</td>\n",
       "      <td>70000.0</td>\n",
       "    </tr>\n",
       "    <tr>\n",
       "      <th>Shanghai</th>\n",
       "      <td>60000.0</td>\n",
       "      <td>400000.0</td>\n",
       "      <td>40000</td>\n",
       "      <td>100000.0</td>\n",
       "    </tr>\n",
       "  </tbody>\n",
       "</table>\n",
       "</div>"
      ],
      "text/plain": [
       "               apt      cars  bonus    income\n",
       "Beijing    55000.0  350000.0  40000   95000.0\n",
       "Chongqing      NaN  150000.0  40000       NaN\n",
       "Guangzhou  40000.0  250000.0  40000   80000.0\n",
       "Hangzhou   30000.0       NaN  40000   70000.0\n",
       "Shanghai   60000.0  400000.0  40000  100000.0"
      ]
     },
     "execution_count": 109,
     "metadata": {},
     "output_type": "execute_result"
    }
   ],
   "source": [
    "df.head() # 默认前5行"
   ]
  },
  {
   "cell_type": "code",
   "execution_count": 110,
   "id": "c194c0c6-2d5c-40ed-9fff-b396a24f1a3f",
   "metadata": {
    "tags": []
   },
   "outputs": [
    {
     "data": {
      "text/html": [
       "<div>\n",
       "<style scoped>\n",
       "    .dataframe tbody tr th:only-of-type {\n",
       "        vertical-align: middle;\n",
       "    }\n",
       "\n",
       "    .dataframe tbody tr th {\n",
       "        vertical-align: top;\n",
       "    }\n",
       "\n",
       "    .dataframe thead th {\n",
       "        text-align: right;\n",
       "    }\n",
       "</style>\n",
       "<table border=\"1\" class=\"dataframe\">\n",
       "  <thead>\n",
       "    <tr style=\"text-align: right;\">\n",
       "      <th></th>\n",
       "      <th>apt</th>\n",
       "      <th>cars</th>\n",
       "      <th>bonus</th>\n",
       "      <th>income</th>\n",
       "    </tr>\n",
       "  </thead>\n",
       "  <tbody>\n",
       "    <tr>\n",
       "      <th>Hangzhou</th>\n",
       "      <td>30000.0</td>\n",
       "      <td>NaN</td>\n",
       "      <td>40000</td>\n",
       "      <td>70000.0</td>\n",
       "    </tr>\n",
       "    <tr>\n",
       "      <th>Shanghai</th>\n",
       "      <td>60000.0</td>\n",
       "      <td>400000.0</td>\n",
       "      <td>40000</td>\n",
       "      <td>100000.0</td>\n",
       "    </tr>\n",
       "    <tr>\n",
       "      <th>Shenzhen</th>\n",
       "      <td>50000.0</td>\n",
       "      <td>300000.0</td>\n",
       "      <td>40000</td>\n",
       "      <td>90000.0</td>\n",
       "    </tr>\n",
       "    <tr>\n",
       "      <th>Suzhou</th>\n",
       "      <td>NaN</td>\n",
       "      <td>NaN</td>\n",
       "      <td>40000</td>\n",
       "      <td>NaN</td>\n",
       "    </tr>\n",
       "    <tr>\n",
       "      <th>Tianjin</th>\n",
       "      <td>NaN</td>\n",
       "      <td>200000.0</td>\n",
       "      <td>40000</td>\n",
       "      <td>NaN</td>\n",
       "    </tr>\n",
       "  </tbody>\n",
       "</table>\n",
       "</div>"
      ],
      "text/plain": [
       "              apt      cars  bonus    income\n",
       "Hangzhou  30000.0       NaN  40000   70000.0\n",
       "Shanghai  60000.0  400000.0  40000  100000.0\n",
       "Shenzhen  50000.0  300000.0  40000   90000.0\n",
       "Suzhou        NaN       NaN  40000       NaN\n",
       "Tianjin       NaN  200000.0  40000       NaN"
      ]
     },
     "execution_count": 110,
     "metadata": {},
     "output_type": "execute_result"
    }
   ],
   "source": [
    "df.tail() # 默认后5行"
   ]
  },
  {
   "cell_type": "code",
   "execution_count": 111,
   "id": "59e25e68-84bc-4230-840a-0082ba0efb1c",
   "metadata": {
    "tags": []
   },
   "outputs": [
    {
     "data": {
      "text/html": [
       "<div>\n",
       "<style scoped>\n",
       "    .dataframe tbody tr th:only-of-type {\n",
       "        vertical-align: middle;\n",
       "    }\n",
       "\n",
       "    .dataframe tbody tr th {\n",
       "        vertical-align: top;\n",
       "    }\n",
       "\n",
       "    .dataframe thead th {\n",
       "        text-align: right;\n",
       "    }\n",
       "</style>\n",
       "<table border=\"1\" class=\"dataframe\">\n",
       "  <thead>\n",
       "    <tr style=\"text-align: right;\">\n",
       "      <th></th>\n",
       "      <th>apt</th>\n",
       "      <th>cars</th>\n",
       "      <th>bonus</th>\n",
       "      <th>income</th>\n",
       "    </tr>\n",
       "  </thead>\n",
       "  <tbody>\n",
       "    <tr>\n",
       "      <th>Shanghai</th>\n",
       "      <td>60000.0</td>\n",
       "      <td>400000.0</td>\n",
       "      <td>40000</td>\n",
       "      <td>100000.0</td>\n",
       "    </tr>\n",
       "    <tr>\n",
       "      <th>Chongqing</th>\n",
       "      <td>NaN</td>\n",
       "      <td>150000.0</td>\n",
       "      <td>40000</td>\n",
       "      <td>NaN</td>\n",
       "    </tr>\n",
       "    <tr>\n",
       "      <th>Suzhou</th>\n",
       "      <td>NaN</td>\n",
       "      <td>NaN</td>\n",
       "      <td>40000</td>\n",
       "      <td>NaN</td>\n",
       "    </tr>\n",
       "  </tbody>\n",
       "</table>\n",
       "</div>"
      ],
      "text/plain": [
       "               apt      cars  bonus    income\n",
       "Shanghai   60000.0  400000.0  40000  100000.0\n",
       "Chongqing      NaN  150000.0  40000       NaN\n",
       "Suzhou         NaN       NaN  40000       NaN"
      ]
     },
     "execution_count": 111,
     "metadata": {},
     "output_type": "execute_result"
    }
   ],
   "source": [
    "df.sample(3) # 随机挑3行"
   ]
  },
  {
   "cell_type": "code",
   "execution_count": 112,
   "id": "296d7e64-3fbd-44a3-bee3-9fa8d1ca9506",
   "metadata": {
    "tags": []
   },
   "outputs": [
    {
     "data": {
      "text/html": [
       "<div>\n",
       "<style scoped>\n",
       "    .dataframe tbody tr th:only-of-type {\n",
       "        vertical-align: middle;\n",
       "    }\n",
       "\n",
       "    .dataframe tbody tr th {\n",
       "        vertical-align: top;\n",
       "    }\n",
       "\n",
       "    .dataframe thead th {\n",
       "        text-align: right;\n",
       "    }\n",
       "</style>\n",
       "<table border=\"1\" class=\"dataframe\">\n",
       "  <thead>\n",
       "    <tr style=\"text-align: right;\">\n",
       "      <th></th>\n",
       "      <th>apt</th>\n",
       "      <th>cars</th>\n",
       "      <th>bonus</th>\n",
       "      <th>income</th>\n",
       "    </tr>\n",
       "  </thead>\n",
       "  <tbody>\n",
       "    <tr>\n",
       "      <th>Beijing</th>\n",
       "      <td>55000.0</td>\n",
       "      <td>350000.0</td>\n",
       "      <td>40000</td>\n",
       "      <td>95000.0</td>\n",
       "    </tr>\n",
       "    <tr>\n",
       "      <th>Shanghai</th>\n",
       "      <td>60000.0</td>\n",
       "      <td>400000.0</td>\n",
       "      <td>40000</td>\n",
       "      <td>100000.0</td>\n",
       "    </tr>\n",
       "    <tr>\n",
       "      <th>Shenzhen</th>\n",
       "      <td>50000.0</td>\n",
       "      <td>300000.0</td>\n",
       "      <td>40000</td>\n",
       "      <td>90000.0</td>\n",
       "    </tr>\n",
       "  </tbody>\n",
       "</table>\n",
       "</div>"
      ],
      "text/plain": [
       "              apt      cars  bonus    income\n",
       "Beijing   55000.0  350000.0  40000   95000.0\n",
       "Shanghai  60000.0  400000.0  40000  100000.0\n",
       "Shenzhen  50000.0  300000.0  40000   90000.0"
      ]
     },
     "execution_count": 112,
     "metadata": {},
     "output_type": "execute_result"
    }
   ],
   "source": [
    "df[df.income > 80000]  # 按 bool 型 Series 进行 index 切片"
   ]
  },
  {
   "cell_type": "markdown",
   "id": "c8bb4659-467e-482b-b3ca-3695f0107cc6",
   "metadata": {},
   "source": [
    "- 会玩 numpy 后，你总可以随性的切片！"
   ]
  },
  {
   "cell_type": "code",
   "execution_count": 113,
   "id": "d5b8b7c5-691c-4a90-b3ed-a95606d4c46f",
   "metadata": {
    "tags": []
   },
   "outputs": [
    {
     "data": {
      "text/html": [
       "<div>\n",
       "<style scoped>\n",
       "    .dataframe tbody tr th:only-of-type {\n",
       "        vertical-align: middle;\n",
       "    }\n",
       "\n",
       "    .dataframe tbody tr th {\n",
       "        vertical-align: top;\n",
       "    }\n",
       "\n",
       "    .dataframe thead th {\n",
       "        text-align: right;\n",
       "    }\n",
       "</style>\n",
       "<table border=\"1\" class=\"dataframe\">\n",
       "  <thead>\n",
       "    <tr style=\"text-align: right;\">\n",
       "      <th></th>\n",
       "      <th>apt</th>\n",
       "      <th>cars</th>\n",
       "      <th>bonus</th>\n",
       "      <th>income</th>\n",
       "    </tr>\n",
       "  </thead>\n",
       "  <tbody>\n",
       "    <tr>\n",
       "      <th>Hangzhou</th>\n",
       "      <td>30000.0</td>\n",
       "      <td>NaN</td>\n",
       "      <td>40000</td>\n",
       "      <td>70000.0</td>\n",
       "    </tr>\n",
       "    <tr>\n",
       "      <th>Shanghai</th>\n",
       "      <td>60000.0</td>\n",
       "      <td>400000.0</td>\n",
       "      <td>40000</td>\n",
       "      <td>100000.0</td>\n",
       "    </tr>\n",
       "    <tr>\n",
       "      <th>Shenzhen</th>\n",
       "      <td>50000.0</td>\n",
       "      <td>300000.0</td>\n",
       "      <td>40000</td>\n",
       "      <td>90000.0</td>\n",
       "    </tr>\n",
       "    <tr>\n",
       "      <th>Suzhou</th>\n",
       "      <td>NaN</td>\n",
       "      <td>NaN</td>\n",
       "      <td>40000</td>\n",
       "      <td>NaN</td>\n",
       "    </tr>\n",
       "    <tr>\n",
       "      <th>Tianjin</th>\n",
       "      <td>NaN</td>\n",
       "      <td>200000.0</td>\n",
       "      <td>40000</td>\n",
       "      <td>NaN</td>\n",
       "    </tr>\n",
       "  </tbody>\n",
       "</table>\n",
       "</div>"
      ],
      "text/plain": [
       "              apt      cars  bonus    income\n",
       "Hangzhou  30000.0       NaN  40000   70000.0\n",
       "Shanghai  60000.0  400000.0  40000  100000.0\n",
       "Shenzhen  50000.0  300000.0  40000   90000.0\n",
       "Suzhou        NaN       NaN  40000       NaN\n",
       "Tianjin       NaN  200000.0  40000       NaN"
      ]
     },
     "execution_count": 113,
     "metadata": {},
     "output_type": "execute_result"
    }
   ],
   "source": [
    "df.iloc[3:8,:]"
   ]
  },
  {
   "cell_type": "code",
   "execution_count": 114,
   "id": "5a7d69b4-9fd1-41a2-926e-a7d216907d29",
   "metadata": {
    "tags": []
   },
   "outputs": [
    {
     "data": {
      "text/html": [
       "<div>\n",
       "<style scoped>\n",
       "    .dataframe tbody tr th:only-of-type {\n",
       "        vertical-align: middle;\n",
       "    }\n",
       "\n",
       "    .dataframe tbody tr th {\n",
       "        vertical-align: top;\n",
       "    }\n",
       "\n",
       "    .dataframe thead th {\n",
       "        text-align: right;\n",
       "    }\n",
       "</style>\n",
       "<table border=\"1\" class=\"dataframe\">\n",
       "  <thead>\n",
       "    <tr style=\"text-align: right;\">\n",
       "      <th></th>\n",
       "      <th>apt</th>\n",
       "      <th>cars</th>\n",
       "    </tr>\n",
       "  </thead>\n",
       "  <tbody>\n",
       "    <tr>\n",
       "      <th>Chongqing</th>\n",
       "      <td>NaN</td>\n",
       "      <td>150000.0</td>\n",
       "    </tr>\n",
       "    <tr>\n",
       "      <th>Shanghai</th>\n",
       "      <td>60000.0</td>\n",
       "      <td>400000.0</td>\n",
       "    </tr>\n",
       "    <tr>\n",
       "      <th>Shenzhen</th>\n",
       "      <td>50000.0</td>\n",
       "      <td>300000.0</td>\n",
       "    </tr>\n",
       "  </tbody>\n",
       "</table>\n",
       "</div>"
      ],
      "text/plain": [
       "               apt      cars\n",
       "Chongqing      NaN  150000.0\n",
       "Shanghai   60000.0  400000.0\n",
       "Shenzhen   50000.0  300000.0"
      ]
     },
     "execution_count": 114,
     "metadata": {},
     "output_type": "execute_result"
    }
   ],
   "source": [
    "df.iloc[[1,4,5],:2]"
   ]
  },
  {
   "cell_type": "markdown",
   "id": "2366a4dd-3a7d-4dad-8945-13bbad7f8b6b",
   "metadata": {
    "tags": []
   },
   "source": [
    "- 如果你同时也会玩 pandas了，你就可以更随性的切片！"
   ]
  },
  {
   "cell_type": "code",
   "execution_count": 115,
   "id": "84e64d86-635a-439d-9796-2221feb2838e",
   "metadata": {
    "tags": []
   },
   "outputs": [
    {
     "data": {
      "text/html": [
       "<div>\n",
       "<style scoped>\n",
       "    .dataframe tbody tr th:only-of-type {\n",
       "        vertical-align: middle;\n",
       "    }\n",
       "\n",
       "    .dataframe tbody tr th {\n",
       "        vertical-align: top;\n",
       "    }\n",
       "\n",
       "    .dataframe thead th {\n",
       "        text-align: right;\n",
       "    }\n",
       "</style>\n",
       "<table border=\"1\" class=\"dataframe\">\n",
       "  <thead>\n",
       "    <tr style=\"text-align: right;\">\n",
       "      <th></th>\n",
       "      <th>apt</th>\n",
       "      <th>cars</th>\n",
       "      <th>bonus</th>\n",
       "    </tr>\n",
       "  </thead>\n",
       "  <tbody>\n",
       "    <tr>\n",
       "      <th>Beijing</th>\n",
       "      <td>55000.0</td>\n",
       "      <td>350000.0</td>\n",
       "      <td>40000</td>\n",
       "    </tr>\n",
       "    <tr>\n",
       "      <th>Shanghai</th>\n",
       "      <td>60000.0</td>\n",
       "      <td>400000.0</td>\n",
       "      <td>40000</td>\n",
       "    </tr>\n",
       "    <tr>\n",
       "      <th>Shenzhen</th>\n",
       "      <td>50000.0</td>\n",
       "      <td>300000.0</td>\n",
       "      <td>40000</td>\n",
       "    </tr>\n",
       "  </tbody>\n",
       "</table>\n",
       "</div>"
      ],
      "text/plain": [
       "              apt      cars  bonus\n",
       "Beijing   55000.0  350000.0  40000\n",
       "Shanghai  60000.0  400000.0  40000\n",
       "Shenzhen  50000.0  300000.0  40000"
      ]
     },
     "execution_count": 115,
     "metadata": {},
     "output_type": "execute_result"
    }
   ],
   "source": [
    "df.loc[df.income > 80000,'apt':'bonus']"
   ]
  },
  {
   "cell_type": "markdown",
   "id": "5a8450c3-6cc4-4e1d-a2e0-5ec10f420c08",
   "metadata": {},
   "source": [
    "#### 用 Pandas 加载/保存 Excel 格式的文件\n"
   ]
  },
  {
   "cell_type": "markdown",
   "id": "54d871c4-047a-46c7-92f6-2af42cd67341",
   "metadata": {},
   "source": [
    "因为pandas的强大而又灵活的功能，在pandas的实际使用中，经常会代替excel，分析数据。通过前面的构建过程，也能感受到，pandas中的dataframe数据结构，实际上就是一张类似于excel的二维表。\n",
    "\n",
    "下面我们通过一个pandas分析商业银行的数据实例，来体验pandas在实际的数据分析工作中的操作和应用。\n"
   ]
  },
  {
   "cell_type": "markdown",
   "id": "cce23e19-a044-4bf9-a552-70c00801433d",
   "metadata": {},
   "source": [
    "在这个文件中，对于我们在操作中可能涉及到的字段说明如下："
   ]
  },
  {
   "cell_type": "markdown",
   "id": "d7a45992-f7c3-45ab-9ac3-1d9266c18bb6",
   "metadata": {},
   "source": [
    "- Bank Marketing (with social/economic context)\n",
    "\n",
    "    - age (numeric)\n",
    "    - pdays: number of days that passed by after the client was last contacted from a previous campaign (numeric; 999 means client was not previously contacted)\n",
    "    - previous: number of contacts performed before this campaign and for this client (numeric)\n",
    "    - target: has the client subscribed a term deposit? (binary: \"yes\",\"no\")"
   ]
  },
  {
   "cell_type": "markdown",
   "id": "31da3d47-6878-4ee0-b8be-770fe5fcaaf0",
   "metadata": {},
   "source": [
    "我们需要先使用pandas来加载这个csv文件的数据"
   ]
  },
  {
   "cell_type": "code",
   "execution_count": 117,
   "id": "b1f5ebbc-a194-4dbc-8e2e-a0e752f7e8a8",
   "metadata": {
    "tags": []
   },
   "outputs": [],
   "source": [
    "help(pd.read_csv)"
   ]
  },
  {
   "cell_type": "code",
   "execution_count": 121,
   "id": "3e9165a8-50ab-45be-bb8e-d40f090f4627",
   "metadata": {
    "tags": []
   },
   "outputs": [],
   "source": [
    "# !cat bank-campaign.csv -n 3"
   ]
  },
  {
   "cell_type": "code",
   "execution_count": 122,
   "id": "8177b774-9b8c-40db-8b3e-d510a0209f2a",
   "metadata": {
    "tags": []
   },
   "outputs": [
    {
     "data": {
      "text/html": [
       "<div>\n",
       "<style scoped>\n",
       "    .dataframe tbody tr th:only-of-type {\n",
       "        vertical-align: middle;\n",
       "    }\n",
       "\n",
       "    .dataframe tbody tr th {\n",
       "        vertical-align: top;\n",
       "    }\n",
       "\n",
       "    .dataframe thead th {\n",
       "        text-align: right;\n",
       "    }\n",
       "</style>\n",
       "<table border=\"1\" class=\"dataframe\">\n",
       "  <thead>\n",
       "    <tr style=\"text-align: right;\">\n",
       "      <th></th>\n",
       "      <th>age</th>\n",
       "      <th>pdays</th>\n",
       "      <th>previous</th>\n",
       "      <th>target</th>\n",
       "    </tr>\n",
       "  </thead>\n",
       "  <tbody>\n",
       "    <tr>\n",
       "      <th>0</th>\n",
       "      <td>56</td>\n",
       "      <td>999</td>\n",
       "      <td>0</td>\n",
       "      <td>no</td>\n",
       "    </tr>\n",
       "    <tr>\n",
       "      <th>1</th>\n",
       "      <td>57</td>\n",
       "      <td>999</td>\n",
       "      <td>0</td>\n",
       "      <td>no</td>\n",
       "    </tr>\n",
       "    <tr>\n",
       "      <th>2</th>\n",
       "      <td>37</td>\n",
       "      <td>999</td>\n",
       "      <td>0</td>\n",
       "      <td>no</td>\n",
       "    </tr>\n",
       "    <tr>\n",
       "      <th>3</th>\n",
       "      <td>40</td>\n",
       "      <td>999</td>\n",
       "      <td>0</td>\n",
       "      <td>no</td>\n",
       "    </tr>\n",
       "    <tr>\n",
       "      <th>4</th>\n",
       "      <td>56</td>\n",
       "      <td>999</td>\n",
       "      <td>0</td>\n",
       "      <td>no</td>\n",
       "    </tr>\n",
       "    <tr>\n",
       "      <th>5</th>\n",
       "      <td>45</td>\n",
       "      <td>999</td>\n",
       "      <td>0</td>\n",
       "      <td>no</td>\n",
       "    </tr>\n",
       "    <tr>\n",
       "      <th>6</th>\n",
       "      <td>59</td>\n",
       "      <td>999</td>\n",
       "      <td>0</td>\n",
       "      <td>no</td>\n",
       "    </tr>\n",
       "    <tr>\n",
       "      <th>7</th>\n",
       "      <td>41</td>\n",
       "      <td>999</td>\n",
       "      <td>0</td>\n",
       "      <td>no</td>\n",
       "    </tr>\n",
       "    <tr>\n",
       "      <th>8</th>\n",
       "      <td>24</td>\n",
       "      <td>999</td>\n",
       "      <td>0</td>\n",
       "      <td>no</td>\n",
       "    </tr>\n",
       "    <tr>\n",
       "      <th>9</th>\n",
       "      <td>25</td>\n",
       "      <td>999</td>\n",
       "      <td>0</td>\n",
       "      <td>no</td>\n",
       "    </tr>\n",
       "  </tbody>\n",
       "</table>\n",
       "</div>"
      ],
      "text/plain": [
       "   age  pdays  previous target\n",
       "0   56    999         0     no\n",
       "1   57    999         0     no\n",
       "2   37    999         0     no\n",
       "3   40    999         0     no\n",
       "4   56    999         0     no\n",
       "5   45    999         0     no\n",
       "6   59    999         0     no\n",
       "7   41    999         0     no\n",
       "8   24    999         0     no\n",
       "9   25    999         0     no"
      ]
     },
     "execution_count": 122,
     "metadata": {},
     "output_type": "execute_result"
    }
   ],
   "source": [
    "df = pd.read_csv('bank-campaign.csv', nrows=10, usecols = ['age', 'pdays', 'previous', 'target'])\n",
    "\n",
    "df"
   ]
  },
  {
   "cell_type": "markdown",
   "id": "0bfaf340-cb3f-43e7-8dd2-fb62711b9d08",
   "metadata": {},
   "source": [
    "dataframe数据保存成csv文件"
   ]
  },
  {
   "cell_type": "code",
   "execution_count": 123,
   "id": "7c57a34a-c8d0-4128-a38b-27c334b52b5b",
   "metadata": {
    "tags": []
   },
   "outputs": [
    {
     "name": "stdout",
     "output_type": "stream",
     "text": [
      "-rw-r--r-- 1 root root 167 Dec  3 11:40 mydata.csv\n"
     ]
    }
   ],
   "source": [
    "df.to_csv(\"mydata.csv\")\n",
    "!ls -lh mydata.csv"
   ]
  },
  {
   "cell_type": "code",
   "execution_count": 124,
   "id": "b204efac-d6a5-42bd-9199-8be64b2fad3c",
   "metadata": {
    "tags": []
   },
   "outputs": [],
   "source": [
    "!rm mydata.csv"
   ]
  },
  {
   "cell_type": "markdown",
   "id": "d6d7b533-6d22-4cec-b917-95ee5b95266b",
   "metadata": {},
   "source": [
    "#### `DataFrame` 的改造与合并\n"
   ]
  },
  {
   "cell_type": "markdown",
   "id": "01998106-83b1-44c5-8bc8-836a60e60c8b",
   "metadata": {},
   "source": [
    "构建一个简单的 `DataFrame` 结构"
   ]
  },
  {
   "cell_type": "code",
   "execution_count": 125,
   "id": "27e0c271-5e7b-4d47-9905-07a81ced4867",
   "metadata": {
    "tags": []
   },
   "outputs": [
    {
     "data": {
      "text/html": [
       "<div>\n",
       "<style scoped>\n",
       "    .dataframe tbody tr th:only-of-type {\n",
       "        vertical-align: middle;\n",
       "    }\n",
       "\n",
       "    .dataframe tbody tr th {\n",
       "        vertical-align: top;\n",
       "    }\n",
       "\n",
       "    .dataframe thead th {\n",
       "        text-align: right;\n",
       "    }\n",
       "</style>\n",
       "<table border=\"1\" class=\"dataframe\">\n",
       "  <thead>\n",
       "    <tr style=\"text-align: right;\">\n",
       "      <th></th>\n",
       "      <th>name</th>\n",
       "      <th>age</th>\n",
       "      <th>sex</th>\n",
       "      <th>money</th>\n",
       "    </tr>\n",
       "  </thead>\n",
       "  <tbody>\n",
       "    <tr>\n",
       "      <th>0</th>\n",
       "      <td>Zhangsan</td>\n",
       "      <td>56</td>\n",
       "      <td>M</td>\n",
       "      <td>100</td>\n",
       "    </tr>\n",
       "    <tr>\n",
       "      <th>1</th>\n",
       "      <td>Lisi</td>\n",
       "      <td>57</td>\n",
       "      <td>M</td>\n",
       "      <td>90</td>\n",
       "    </tr>\n",
       "    <tr>\n",
       "      <th>2</th>\n",
       "      <td>Xiaomei</td>\n",
       "      <td>37</td>\n",
       "      <td>F</td>\n",
       "      <td>50</td>\n",
       "    </tr>\n",
       "  </tbody>\n",
       "</table>\n",
       "</div>"
      ],
      "text/plain": [
       "       name  age sex  money\n",
       "0  Zhangsan   56   M    100\n",
       "1      Lisi   57   M     90\n",
       "2   Xiaomei   37   F     50"
      ]
     },
     "execution_count": 125,
     "metadata": {},
     "output_type": "execute_result"
    }
   ],
   "source": [
    "data = pd.DataFrame({\n",
    "            'name': ['Zhangsan', 'Lisi', 'Xiaomei'],\n",
    "            'age': [56, 57, 37], \n",
    "            'sex': ['M', 'M', 'F'],\n",
    "            'money': [100, 90, 50]\n",
    "        })\n",
    "data"
   ]
  },
  {
   "cell_type": "markdown",
   "id": "97c88c8e-9e47-480a-8177-7fcbbf7bfff7",
   "metadata": {},
   "source": [
    "改造index"
   ]
  },
  {
   "cell_type": "code",
   "execution_count": 127,
   "id": "d633cf3d-da05-40b7-9262-a20a8ef840e9",
   "metadata": {
    "tags": []
   },
   "outputs": [
    {
     "data": {
      "text/html": [
       "<div>\n",
       "<style scoped>\n",
       "    .dataframe tbody tr th:only-of-type {\n",
       "        vertical-align: middle;\n",
       "    }\n",
       "\n",
       "    .dataframe tbody tr th {\n",
       "        vertical-align: top;\n",
       "    }\n",
       "\n",
       "    .dataframe thead th {\n",
       "        text-align: right;\n",
       "    }\n",
       "</style>\n",
       "<table border=\"1\" class=\"dataframe\">\n",
       "  <thead>\n",
       "    <tr style=\"text-align: right;\">\n",
       "      <th></th>\n",
       "      <th>name</th>\n",
       "      <th>age</th>\n",
       "      <th>sex</th>\n",
       "      <th>money</th>\n",
       "    </tr>\n",
       "  </thead>\n",
       "  <tbody>\n",
       "    <tr>\n",
       "      <th>0</th>\n",
       "      <td>Zhangsan</td>\n",
       "      <td>56</td>\n",
       "      <td>M</td>\n",
       "      <td>100</td>\n",
       "    </tr>\n",
       "    <tr>\n",
       "      <th>1</th>\n",
       "      <td>Lisi</td>\n",
       "      <td>57</td>\n",
       "      <td>M</td>\n",
       "      <td>90</td>\n",
       "    </tr>\n",
       "    <tr>\n",
       "      <th>2</th>\n",
       "      <td>Xiaomei</td>\n",
       "      <td>37</td>\n",
       "      <td>F</td>\n",
       "      <td>50</td>\n",
       "    </tr>\n",
       "  </tbody>\n",
       "</table>\n",
       "</div>"
      ],
      "text/plain": [
       "       name  age sex  money\n",
       "0  Zhangsan   56   M    100\n",
       "1      Lisi   57   M     90\n",
       "2   Xiaomei   37   F     50"
      ]
     },
     "execution_count": 127,
     "metadata": {},
     "output_type": "execute_result"
    }
   ],
   "source": [
    "data = data.set_index('name')\n",
    "data = data.reset_index()\n",
    "\n",
    "data"
   ]
  },
  {
   "cell_type": "markdown",
   "id": "8b3a49fc-555e-4bf1-a866-974eb820d6ed",
   "metadata": {},
   "source": [
    "改造value"
   ]
  },
  {
   "cell_type": "code",
   "execution_count": 129,
   "id": "47108390-24ed-477f-be86-60d0507e4a00",
   "metadata": {
    "tags": []
   },
   "outputs": [
    {
     "data": {
      "text/html": [
       "<div>\n",
       "<style scoped>\n",
       "    .dataframe tbody tr th:only-of-type {\n",
       "        vertical-align: middle;\n",
       "    }\n",
       "\n",
       "    .dataframe tbody tr th {\n",
       "        vertical-align: top;\n",
       "    }\n",
       "\n",
       "    .dataframe thead th {\n",
       "        text-align: right;\n",
       "    }\n",
       "</style>\n",
       "<table border=\"1\" class=\"dataframe\">\n",
       "  <thead>\n",
       "    <tr style=\"text-align: right;\">\n",
       "      <th></th>\n",
       "      <th>name</th>\n",
       "      <th>age</th>\n",
       "      <th>sex</th>\n",
       "      <th>money</th>\n",
       "    </tr>\n",
       "  </thead>\n",
       "  <tbody>\n",
       "    <tr>\n",
       "      <th>2</th>\n",
       "      <td>Xiaomei</td>\n",
       "      <td>37</td>\n",
       "      <td>F</td>\n",
       "      <td>50</td>\n",
       "    </tr>\n",
       "    <tr>\n",
       "      <th>0</th>\n",
       "      <td>Zhangsan</td>\n",
       "      <td>56</td>\n",
       "      <td>M</td>\n",
       "      <td>100</td>\n",
       "    </tr>\n",
       "    <tr>\n",
       "      <th>1</th>\n",
       "      <td>Lisi</td>\n",
       "      <td>57</td>\n",
       "      <td>M</td>\n",
       "      <td>90</td>\n",
       "    </tr>\n",
       "  </tbody>\n",
       "</table>\n",
       "</div>"
      ],
      "text/plain": [
       "       name  age sex  money\n",
       "2   Xiaomei   37   F     50\n",
       "0  Zhangsan   56   M    100\n",
       "1      Lisi   57   M     90"
      ]
     },
     "execution_count": 129,
     "metadata": {},
     "output_type": "execute_result"
    }
   ],
   "source": [
    "data.sort_values('age')"
   ]
  },
  {
   "cell_type": "markdown",
   "id": "d8efd79a-14f4-497c-9d7f-a33c7680cd83",
   "metadata": {},
   "source": [
    "添加一列"
   ]
  },
  {
   "cell_type": "code",
   "execution_count": 130,
   "id": "0cc53977-7149-4530-ad00-1e55652cfbde",
   "metadata": {
    "tags": []
   },
   "outputs": [
    {
     "data": {
      "text/html": [
       "<div>\n",
       "<style scoped>\n",
       "    .dataframe tbody tr th:only-of-type {\n",
       "        vertical-align: middle;\n",
       "    }\n",
       "\n",
       "    .dataframe tbody tr th {\n",
       "        vertical-align: top;\n",
       "    }\n",
       "\n",
       "    .dataframe thead th {\n",
       "        text-align: right;\n",
       "    }\n",
       "</style>\n",
       "<table border=\"1\" class=\"dataframe\">\n",
       "  <thead>\n",
       "    <tr style=\"text-align: right;\">\n",
       "      <th></th>\n",
       "      <th>name</th>\n",
       "      <th>age</th>\n",
       "      <th>sex</th>\n",
       "      <th>money</th>\n",
       "      <th>target</th>\n",
       "    </tr>\n",
       "  </thead>\n",
       "  <tbody>\n",
       "    <tr>\n",
       "      <th>0</th>\n",
       "      <td>Zhangsan</td>\n",
       "      <td>56</td>\n",
       "      <td>M</td>\n",
       "      <td>100</td>\n",
       "      <td>No</td>\n",
       "    </tr>\n",
       "    <tr>\n",
       "      <th>1</th>\n",
       "      <td>Lisi</td>\n",
       "      <td>57</td>\n",
       "      <td>M</td>\n",
       "      <td>90</td>\n",
       "      <td>Yes</td>\n",
       "    </tr>\n",
       "    <tr>\n",
       "      <th>2</th>\n",
       "      <td>Xiaomei</td>\n",
       "      <td>37</td>\n",
       "      <td>F</td>\n",
       "      <td>50</td>\n",
       "      <td>No</td>\n",
       "    </tr>\n",
       "  </tbody>\n",
       "</table>\n",
       "</div>"
      ],
      "text/plain": [
       "       name  age sex  money target\n",
       "0  Zhangsan   56   M    100     No\n",
       "1      Lisi   57   M     90    Yes\n",
       "2   Xiaomei   37   F     50     No"
      ]
     },
     "execution_count": 130,
     "metadata": {},
     "output_type": "execute_result"
    }
   ],
   "source": [
    "data['target'] = ['No', 'Yes', 'No']\n",
    "\n",
    "data"
   ]
  },
  {
   "cell_type": "code",
   "execution_count": 132,
   "id": "9f784f53-f842-4946-b8dc-37c4723e6072",
   "metadata": {
    "tags": []
   },
   "outputs": [
    {
     "data": {
      "text/html": [
       "<div>\n",
       "<style scoped>\n",
       "    .dataframe tbody tr th:only-of-type {\n",
       "        vertical-align: middle;\n",
       "    }\n",
       "\n",
       "    .dataframe tbody tr th {\n",
       "        vertical-align: top;\n",
       "    }\n",
       "\n",
       "    .dataframe thead th {\n",
       "        text-align: right;\n",
       "    }\n",
       "</style>\n",
       "<table border=\"1\" class=\"dataframe\">\n",
       "  <thead>\n",
       "    <tr style=\"text-align: right;\">\n",
       "      <th></th>\n",
       "      <th>name</th>\n",
       "      <th>age</th>\n",
       "      <th>sex</th>\n",
       "      <th>money</th>\n",
       "      <th>target</th>\n",
       "    </tr>\n",
       "  </thead>\n",
       "  <tbody>\n",
       "    <tr>\n",
       "      <th>0</th>\n",
       "      <td>Zhangsan</td>\n",
       "      <td>56</td>\n",
       "      <td>M</td>\n",
       "      <td>100</td>\n",
       "      <td>Yes</td>\n",
       "    </tr>\n",
       "    <tr>\n",
       "      <th>1</th>\n",
       "      <td>Lisi</td>\n",
       "      <td>57</td>\n",
       "      <td>M</td>\n",
       "      <td>90</td>\n",
       "      <td>Yes</td>\n",
       "    </tr>\n",
       "    <tr>\n",
       "      <th>2</th>\n",
       "      <td>Xiaomei</td>\n",
       "      <td>37</td>\n",
       "      <td>F</td>\n",
       "      <td>50</td>\n",
       "      <td>No</td>\n",
       "    </tr>\n",
       "  </tbody>\n",
       "</table>\n",
       "</div>"
      ],
      "text/plain": [
       "       name  age sex  money target\n",
       "0  Zhangsan   56   M    100    Yes\n",
       "1      Lisi   57   M     90    Yes\n",
       "2   Xiaomei   37   F     50     No"
      ]
     },
     "execution_count": 132,
     "metadata": {},
     "output_type": "execute_result"
    }
   ],
   "source": [
    "data.loc[:,'target'] = ['Yes', 'Yes', 'No']\n",
    "\n",
    "data"
   ]
  },
  {
   "cell_type": "markdown",
   "id": "41bc5282-af30-4492-9e0a-4525070cb66a",
   "metadata": {},
   "source": [
    "数据合并"
   ]
  },
  {
   "cell_type": "code",
   "execution_count": 135,
   "id": "bb5adb22-b667-4281-80f6-2383e0d81284",
   "metadata": {
    "tags": []
   },
   "outputs": [
    {
     "data": {
      "text/html": [
       "<div>\n",
       "<style scoped>\n",
       "    .dataframe tbody tr th:only-of-type {\n",
       "        vertical-align: middle;\n",
       "    }\n",
       "\n",
       "    .dataframe tbody tr th {\n",
       "        vertical-align: top;\n",
       "    }\n",
       "\n",
       "    .dataframe thead th {\n",
       "        text-align: right;\n",
       "    }\n",
       "</style>\n",
       "<table border=\"1\" class=\"dataframe\">\n",
       "  <thead>\n",
       "    <tr style=\"text-align: right;\">\n",
       "      <th></th>\n",
       "      <th>age</th>\n",
       "      <th>pdays</th>\n",
       "      <th>previous</th>\n",
       "      <th>target</th>\n",
       "    </tr>\n",
       "  </thead>\n",
       "  <tbody>\n",
       "    <tr>\n",
       "      <th>0</th>\n",
       "      <td>56</td>\n",
       "      <td>999</td>\n",
       "      <td>0</td>\n",
       "      <td>no</td>\n",
       "    </tr>\n",
       "    <tr>\n",
       "      <th>1</th>\n",
       "      <td>57</td>\n",
       "      <td>999</td>\n",
       "      <td>0</td>\n",
       "      <td>no</td>\n",
       "    </tr>\n",
       "    <tr>\n",
       "      <th>2</th>\n",
       "      <td>37</td>\n",
       "      <td>999</td>\n",
       "      <td>0</td>\n",
       "      <td>no</td>\n",
       "    </tr>\n",
       "    <tr>\n",
       "      <th>3</th>\n",
       "      <td>40</td>\n",
       "      <td>999</td>\n",
       "      <td>0</td>\n",
       "      <td>no</td>\n",
       "    </tr>\n",
       "    <tr>\n",
       "      <th>4</th>\n",
       "      <td>56</td>\n",
       "      <td>999</td>\n",
       "      <td>0</td>\n",
       "      <td>no</td>\n",
       "    </tr>\n",
       "    <tr>\n",
       "      <th>5</th>\n",
       "      <td>45</td>\n",
       "      <td>999</td>\n",
       "      <td>0</td>\n",
       "      <td>no</td>\n",
       "    </tr>\n",
       "    <tr>\n",
       "      <th>6</th>\n",
       "      <td>59</td>\n",
       "      <td>999</td>\n",
       "      <td>0</td>\n",
       "      <td>no</td>\n",
       "    </tr>\n",
       "    <tr>\n",
       "      <th>7</th>\n",
       "      <td>41</td>\n",
       "      <td>999</td>\n",
       "      <td>0</td>\n",
       "      <td>no</td>\n",
       "    </tr>\n",
       "    <tr>\n",
       "      <th>8</th>\n",
       "      <td>24</td>\n",
       "      <td>999</td>\n",
       "      <td>0</td>\n",
       "      <td>no</td>\n",
       "    </tr>\n",
       "    <tr>\n",
       "      <th>9</th>\n",
       "      <td>25</td>\n",
       "      <td>999</td>\n",
       "      <td>0</td>\n",
       "      <td>no</td>\n",
       "    </tr>\n",
       "  </tbody>\n",
       "</table>\n",
       "</div>"
      ],
      "text/plain": [
       "   age  pdays  previous target\n",
       "0   56    999         0     no\n",
       "1   57    999         0     no\n",
       "2   37    999         0     no\n",
       "3   40    999         0     no\n",
       "4   56    999         0     no\n",
       "5   45    999         0     no\n",
       "6   59    999         0     no\n",
       "7   41    999         0     no\n",
       "8   24    999         0     no\n",
       "9   25    999         0     no"
      ]
     },
     "execution_count": 135,
     "metadata": {},
     "output_type": "execute_result"
    }
   ],
   "source": [
    "df"
   ]
  },
  {
   "cell_type": "code",
   "execution_count": 136,
   "id": "a3ef9404-db89-445d-8dc9-2195a0b7170c",
   "metadata": {
    "tags": []
   },
   "outputs": [
    {
     "data": {
      "text/html": [
       "<div>\n",
       "<style scoped>\n",
       "    .dataframe tbody tr th:only-of-type {\n",
       "        vertical-align: middle;\n",
       "    }\n",
       "\n",
       "    .dataframe tbody tr th {\n",
       "        vertical-align: top;\n",
       "    }\n",
       "\n",
       "    .dataframe thead th {\n",
       "        text-align: right;\n",
       "    }\n",
       "</style>\n",
       "<table border=\"1\" class=\"dataframe\">\n",
       "  <thead>\n",
       "    <tr style=\"text-align: right;\">\n",
       "      <th></th>\n",
       "      <th>age</th>\n",
       "      <th>money</th>\n",
       "    </tr>\n",
       "  </thead>\n",
       "  <tbody>\n",
       "    <tr>\n",
       "      <th>0</th>\n",
       "      <td>56</td>\n",
       "      <td>100</td>\n",
       "    </tr>\n",
       "    <tr>\n",
       "      <th>1</th>\n",
       "      <td>57</td>\n",
       "      <td>90</td>\n",
       "    </tr>\n",
       "    <tr>\n",
       "      <th>2</th>\n",
       "      <td>37</td>\n",
       "      <td>50</td>\n",
       "    </tr>\n",
       "  </tbody>\n",
       "</table>\n",
       "</div>"
      ],
      "text/plain": [
       "   age  money\n",
       "0   56    100\n",
       "1   57     90\n",
       "2   37     50"
      ]
     },
     "execution_count": 136,
     "metadata": {},
     "output_type": "execute_result"
    }
   ],
   "source": [
    "# 我们从这个 case 开始：\n",
    "data[['age', 'money']]"
   ]
  },
  {
   "cell_type": "markdown",
   "id": "94f4e2e3-b700-4ca6-9e79-2d853ec57ae1",
   "metadata": {},
   "source": [
    "用 concat 方法来合并"
   ]
  },
  {
   "cell_type": "code",
   "execution_count": 137,
   "id": "cb792219-d18d-418d-90a3-ab8cd9cbc5c0",
   "metadata": {
    "tags": []
   },
   "outputs": [
    {
     "data": {
      "text/html": [
       "<div>\n",
       "<style scoped>\n",
       "    .dataframe tbody tr th:only-of-type {\n",
       "        vertical-align: middle;\n",
       "    }\n",
       "\n",
       "    .dataframe tbody tr th {\n",
       "        vertical-align: top;\n",
       "    }\n",
       "\n",
       "    .dataframe thead th {\n",
       "        text-align: right;\n",
       "    }\n",
       "</style>\n",
       "<table border=\"1\" class=\"dataframe\">\n",
       "  <thead>\n",
       "    <tr style=\"text-align: right;\">\n",
       "      <th></th>\n",
       "      <th>age</th>\n",
       "      <th>pdays</th>\n",
       "      <th>previous</th>\n",
       "      <th>target</th>\n",
       "      <th>age</th>\n",
       "      <th>money</th>\n",
       "    </tr>\n",
       "  </thead>\n",
       "  <tbody>\n",
       "    <tr>\n",
       "      <th>0</th>\n",
       "      <td>56</td>\n",
       "      <td>999</td>\n",
       "      <td>0</td>\n",
       "      <td>no</td>\n",
       "      <td>56.0</td>\n",
       "      <td>100.0</td>\n",
       "    </tr>\n",
       "    <tr>\n",
       "      <th>1</th>\n",
       "      <td>57</td>\n",
       "      <td>999</td>\n",
       "      <td>0</td>\n",
       "      <td>no</td>\n",
       "      <td>57.0</td>\n",
       "      <td>90.0</td>\n",
       "    </tr>\n",
       "    <tr>\n",
       "      <th>2</th>\n",
       "      <td>37</td>\n",
       "      <td>999</td>\n",
       "      <td>0</td>\n",
       "      <td>no</td>\n",
       "      <td>37.0</td>\n",
       "      <td>50.0</td>\n",
       "    </tr>\n",
       "    <tr>\n",
       "      <th>3</th>\n",
       "      <td>40</td>\n",
       "      <td>999</td>\n",
       "      <td>0</td>\n",
       "      <td>no</td>\n",
       "      <td>NaN</td>\n",
       "      <td>NaN</td>\n",
       "    </tr>\n",
       "    <tr>\n",
       "      <th>4</th>\n",
       "      <td>56</td>\n",
       "      <td>999</td>\n",
       "      <td>0</td>\n",
       "      <td>no</td>\n",
       "      <td>NaN</td>\n",
       "      <td>NaN</td>\n",
       "    </tr>\n",
       "    <tr>\n",
       "      <th>5</th>\n",
       "      <td>45</td>\n",
       "      <td>999</td>\n",
       "      <td>0</td>\n",
       "      <td>no</td>\n",
       "      <td>NaN</td>\n",
       "      <td>NaN</td>\n",
       "    </tr>\n",
       "    <tr>\n",
       "      <th>6</th>\n",
       "      <td>59</td>\n",
       "      <td>999</td>\n",
       "      <td>0</td>\n",
       "      <td>no</td>\n",
       "      <td>NaN</td>\n",
       "      <td>NaN</td>\n",
       "    </tr>\n",
       "    <tr>\n",
       "      <th>7</th>\n",
       "      <td>41</td>\n",
       "      <td>999</td>\n",
       "      <td>0</td>\n",
       "      <td>no</td>\n",
       "      <td>NaN</td>\n",
       "      <td>NaN</td>\n",
       "    </tr>\n",
       "    <tr>\n",
       "      <th>8</th>\n",
       "      <td>24</td>\n",
       "      <td>999</td>\n",
       "      <td>0</td>\n",
       "      <td>no</td>\n",
       "      <td>NaN</td>\n",
       "      <td>NaN</td>\n",
       "    </tr>\n",
       "    <tr>\n",
       "      <th>9</th>\n",
       "      <td>25</td>\n",
       "      <td>999</td>\n",
       "      <td>0</td>\n",
       "      <td>no</td>\n",
       "      <td>NaN</td>\n",
       "      <td>NaN</td>\n",
       "    </tr>\n",
       "  </tbody>\n",
       "</table>\n",
       "</div>"
      ],
      "text/plain": [
       "   age  pdays  previous target   age  money\n",
       "0   56    999         0     no  56.0  100.0\n",
       "1   57    999         0     no  57.0   90.0\n",
       "2   37    999         0     no  37.0   50.0\n",
       "3   40    999         0     no   NaN    NaN\n",
       "4   56    999         0     no   NaN    NaN\n",
       "5   45    999         0     no   NaN    NaN\n",
       "6   59    999         0     no   NaN    NaN\n",
       "7   41    999         0     no   NaN    NaN\n",
       "8   24    999         0     no   NaN    NaN\n",
       "9   25    999         0     no   NaN    NaN"
      ]
     },
     "execution_count": 137,
     "metadata": {},
     "output_type": "execute_result"
    }
   ],
   "source": [
    "pd.concat([df, data[['age', 'money']]], axis=1) # 硬生生的合并！"
   ]
  },
  {
   "cell_type": "markdown",
   "id": "7042e6e2-8b32-41c4-8c59-f19e97625391",
   "metadata": {},
   "source": [
    "用 merge 方法来合并。这里思考一个问题：为什么合并后的结果中会有四行数据？"
   ]
  },
  {
   "cell_type": "code",
   "execution_count": 138,
   "id": "d244d276-31b9-4cba-9fb1-4fabc7c6ceef",
   "metadata": {
    "tags": []
   },
   "outputs": [
    {
     "data": {
      "text/html": [
       "<div>\n",
       "<style scoped>\n",
       "    .dataframe tbody tr th:only-of-type {\n",
       "        vertical-align: middle;\n",
       "    }\n",
       "\n",
       "    .dataframe tbody tr th {\n",
       "        vertical-align: top;\n",
       "    }\n",
       "\n",
       "    .dataframe thead th {\n",
       "        text-align: right;\n",
       "    }\n",
       "</style>\n",
       "<table border=\"1\" class=\"dataframe\">\n",
       "  <thead>\n",
       "    <tr style=\"text-align: right;\">\n",
       "      <th></th>\n",
       "      <th>age</th>\n",
       "      <th>pdays</th>\n",
       "      <th>previous</th>\n",
       "      <th>target</th>\n",
       "      <th>money</th>\n",
       "    </tr>\n",
       "  </thead>\n",
       "  <tbody>\n",
       "    <tr>\n",
       "      <th>0</th>\n",
       "      <td>56</td>\n",
       "      <td>999</td>\n",
       "      <td>0</td>\n",
       "      <td>no</td>\n",
       "      <td>100.0</td>\n",
       "    </tr>\n",
       "    <tr>\n",
       "      <th>1</th>\n",
       "      <td>56</td>\n",
       "      <td>999</td>\n",
       "      <td>0</td>\n",
       "      <td>no</td>\n",
       "      <td>100.0</td>\n",
       "    </tr>\n",
       "    <tr>\n",
       "      <th>2</th>\n",
       "      <td>57</td>\n",
       "      <td>999</td>\n",
       "      <td>0</td>\n",
       "      <td>no</td>\n",
       "      <td>90.0</td>\n",
       "    </tr>\n",
       "    <tr>\n",
       "      <th>3</th>\n",
       "      <td>37</td>\n",
       "      <td>999</td>\n",
       "      <td>0</td>\n",
       "      <td>no</td>\n",
       "      <td>50.0</td>\n",
       "    </tr>\n",
       "    <tr>\n",
       "      <th>4</th>\n",
       "      <td>40</td>\n",
       "      <td>999</td>\n",
       "      <td>0</td>\n",
       "      <td>no</td>\n",
       "      <td>NaN</td>\n",
       "    </tr>\n",
       "    <tr>\n",
       "      <th>5</th>\n",
       "      <td>45</td>\n",
       "      <td>999</td>\n",
       "      <td>0</td>\n",
       "      <td>no</td>\n",
       "      <td>NaN</td>\n",
       "    </tr>\n",
       "    <tr>\n",
       "      <th>6</th>\n",
       "      <td>59</td>\n",
       "      <td>999</td>\n",
       "      <td>0</td>\n",
       "      <td>no</td>\n",
       "      <td>NaN</td>\n",
       "    </tr>\n",
       "    <tr>\n",
       "      <th>7</th>\n",
       "      <td>41</td>\n",
       "      <td>999</td>\n",
       "      <td>0</td>\n",
       "      <td>no</td>\n",
       "      <td>NaN</td>\n",
       "    </tr>\n",
       "    <tr>\n",
       "      <th>8</th>\n",
       "      <td>24</td>\n",
       "      <td>999</td>\n",
       "      <td>0</td>\n",
       "      <td>no</td>\n",
       "      <td>NaN</td>\n",
       "    </tr>\n",
       "    <tr>\n",
       "      <th>9</th>\n",
       "      <td>25</td>\n",
       "      <td>999</td>\n",
       "      <td>0</td>\n",
       "      <td>no</td>\n",
       "      <td>NaN</td>\n",
       "    </tr>\n",
       "  </tbody>\n",
       "</table>\n",
       "</div>"
      ],
      "text/plain": [
       "   age  pdays  previous target  money\n",
       "0   56    999         0     no  100.0\n",
       "1   56    999         0     no  100.0\n",
       "2   57    999         0     no   90.0\n",
       "3   37    999         0     no   50.0\n",
       "4   40    999         0     no    NaN\n",
       "5   45    999         0     no    NaN\n",
       "6   59    999         0     no    NaN\n",
       "7   41    999         0     no    NaN\n",
       "8   24    999         0     no    NaN\n",
       "9   25    999         0     no    NaN"
      ]
     },
     "execution_count": 138,
     "metadata": {},
     "output_type": "execute_result"
    }
   ],
   "source": [
    "pd.merge(df, data[['age', 'money']], on = 'age', how = 'outer') # 聪明的合并！"
   ]
  },
  {
   "cell_type": "markdown",
   "id": "c45ca6c6-434e-43b9-b1dc-fa9dbd054446",
   "metadata": {},
   "source": [
    "#### `DataFrame` 常用的属性与方法"
   ]
  },
  {
   "cell_type": "markdown",
   "id": "594002b4-61d9-44c6-9c31-f48296934a5b",
   "metadata": {},
   "source": [
    "- 查看信息"
   ]
  },
  {
   "cell_type": "code",
   "execution_count": 139,
   "id": "daf0076b-1355-44f2-ac88-44c9bc8e6aa4",
   "metadata": {
    "tags": []
   },
   "outputs": [
    {
     "data": {
      "text/plain": [
       "(10, 4)"
      ]
     },
     "execution_count": 139,
     "metadata": {},
     "output_type": "execute_result"
    }
   ],
   "source": [
    "df.shape"
   ]
  },
  {
   "cell_type": "code",
   "execution_count": 140,
   "id": "ae15530a-c051-4e1c-9266-4d94c0b5efa0",
   "metadata": {
    "tags": []
   },
   "outputs": [
    {
     "data": {
      "text/html": [
       "<div>\n",
       "<style scoped>\n",
       "    .dataframe tbody tr th:only-of-type {\n",
       "        vertical-align: middle;\n",
       "    }\n",
       "\n",
       "    .dataframe tbody tr th {\n",
       "        vertical-align: top;\n",
       "    }\n",
       "\n",
       "    .dataframe thead th {\n",
       "        text-align: right;\n",
       "    }\n",
       "</style>\n",
       "<table border=\"1\" class=\"dataframe\">\n",
       "  <thead>\n",
       "    <tr style=\"text-align: right;\">\n",
       "      <th></th>\n",
       "      <th>age</th>\n",
       "      <th>pdays</th>\n",
       "      <th>previous</th>\n",
       "      <th>target</th>\n",
       "    </tr>\n",
       "  </thead>\n",
       "  <tbody>\n",
       "    <tr>\n",
       "      <th>0</th>\n",
       "      <td>56</td>\n",
       "      <td>999</td>\n",
       "      <td>0</td>\n",
       "      <td>no</td>\n",
       "    </tr>\n",
       "    <tr>\n",
       "      <th>1</th>\n",
       "      <td>57</td>\n",
       "      <td>999</td>\n",
       "      <td>0</td>\n",
       "      <td>no</td>\n",
       "    </tr>\n",
       "    <tr>\n",
       "      <th>2</th>\n",
       "      <td>37</td>\n",
       "      <td>999</td>\n",
       "      <td>0</td>\n",
       "      <td>no</td>\n",
       "    </tr>\n",
       "    <tr>\n",
       "      <th>3</th>\n",
       "      <td>40</td>\n",
       "      <td>999</td>\n",
       "      <td>0</td>\n",
       "      <td>no</td>\n",
       "    </tr>\n",
       "    <tr>\n",
       "      <th>4</th>\n",
       "      <td>56</td>\n",
       "      <td>999</td>\n",
       "      <td>0</td>\n",
       "      <td>no</td>\n",
       "    </tr>\n",
       "  </tbody>\n",
       "</table>\n",
       "</div>"
      ],
      "text/plain": [
       "   age  pdays  previous target\n",
       "0   56    999         0     no\n",
       "1   57    999         0     no\n",
       "2   37    999         0     no\n",
       "3   40    999         0     no\n",
       "4   56    999         0     no"
      ]
     },
     "execution_count": 140,
     "metadata": {},
     "output_type": "execute_result"
    }
   ],
   "source": [
    "df.head()"
   ]
  },
  {
   "cell_type": "code",
   "execution_count": 141,
   "id": "f9711fb9-2e32-4274-8b78-0f046aa1296e",
   "metadata": {
    "tags": []
   },
   "outputs": [
    {
     "data": {
      "text/html": [
       "<div>\n",
       "<style scoped>\n",
       "    .dataframe tbody tr th:only-of-type {\n",
       "        vertical-align: middle;\n",
       "    }\n",
       "\n",
       "    .dataframe tbody tr th {\n",
       "        vertical-align: top;\n",
       "    }\n",
       "\n",
       "    .dataframe thead th {\n",
       "        text-align: right;\n",
       "    }\n",
       "</style>\n",
       "<table border=\"1\" class=\"dataframe\">\n",
       "  <thead>\n",
       "    <tr style=\"text-align: right;\">\n",
       "      <th></th>\n",
       "      <th>age</th>\n",
       "      <th>pdays</th>\n",
       "      <th>previous</th>\n",
       "    </tr>\n",
       "  </thead>\n",
       "  <tbody>\n",
       "    <tr>\n",
       "      <th>count</th>\n",
       "      <td>10.000000</td>\n",
       "      <td>10.0</td>\n",
       "      <td>10.0</td>\n",
       "    </tr>\n",
       "    <tr>\n",
       "      <th>mean</th>\n",
       "      <td>44.000000</td>\n",
       "      <td>999.0</td>\n",
       "      <td>0.0</td>\n",
       "    </tr>\n",
       "    <tr>\n",
       "      <th>std</th>\n",
       "      <td>12.987173</td>\n",
       "      <td>0.0</td>\n",
       "      <td>0.0</td>\n",
       "    </tr>\n",
       "    <tr>\n",
       "      <th>min</th>\n",
       "      <td>24.000000</td>\n",
       "      <td>999.0</td>\n",
       "      <td>0.0</td>\n",
       "    </tr>\n",
       "    <tr>\n",
       "      <th>25%</th>\n",
       "      <td>37.750000</td>\n",
       "      <td>999.0</td>\n",
       "      <td>0.0</td>\n",
       "    </tr>\n",
       "    <tr>\n",
       "      <th>50%</th>\n",
       "      <td>43.000000</td>\n",
       "      <td>999.0</td>\n",
       "      <td>0.0</td>\n",
       "    </tr>\n",
       "    <tr>\n",
       "      <th>75%</th>\n",
       "      <td>56.000000</td>\n",
       "      <td>999.0</td>\n",
       "      <td>0.0</td>\n",
       "    </tr>\n",
       "    <tr>\n",
       "      <th>max</th>\n",
       "      <td>59.000000</td>\n",
       "      <td>999.0</td>\n",
       "      <td>0.0</td>\n",
       "    </tr>\n",
       "  </tbody>\n",
       "</table>\n",
       "</div>"
      ],
      "text/plain": [
       "             age  pdays  previous\n",
       "count  10.000000   10.0      10.0\n",
       "mean   44.000000  999.0       0.0\n",
       "std    12.987173    0.0       0.0\n",
       "min    24.000000  999.0       0.0\n",
       "25%    37.750000  999.0       0.0\n",
       "50%    43.000000  999.0       0.0\n",
       "75%    56.000000  999.0       0.0\n",
       "max    59.000000  999.0       0.0"
      ]
     },
     "execution_count": 141,
     "metadata": {},
     "output_type": "execute_result"
    }
   ],
   "source": [
    "df.describe()"
   ]
  },
  {
   "cell_type": "code",
   "execution_count": 142,
   "id": "aac914a4-2b76-4ebe-a14d-eb7a6310be4c",
   "metadata": {
    "tags": []
   },
   "outputs": [
    {
     "name": "stdout",
     "output_type": "stream",
     "text": [
      "<class 'pandas.core.frame.DataFrame'>\n",
      "RangeIndex: 10 entries, 0 to 9\n",
      "Data columns (total 4 columns):\n",
      " #   Column    Non-Null Count  Dtype \n",
      "---  ------    --------------  ----- \n",
      " 0   age       10 non-null     int64 \n",
      " 1   pdays     10 non-null     int64 \n",
      " 2   previous  10 non-null     int64 \n",
      " 3   target    10 non-null     object\n",
      "dtypes: int64(3), object(1)\n",
      "memory usage: 448.0+ bytes\n"
     ]
    }
   ],
   "source": [
    "df.info()"
   ]
  },
  {
   "cell_type": "code",
   "execution_count": 143,
   "id": "feef63c5-2bc1-4db8-82c1-f23f6052d4bc",
   "metadata": {
    "tags": []
   },
   "outputs": [
    {
     "data": {
      "text/plain": [
       "array([[56, 999, 0, 'no'],\n",
       "       [57, 999, 0, 'no'],\n",
       "       [37, 999, 0, 'no'],\n",
       "       [40, 999, 0, 'no'],\n",
       "       [56, 999, 0, 'no'],\n",
       "       [45, 999, 0, 'no'],\n",
       "       [59, 999, 0, 'no'],\n",
       "       [41, 999, 0, 'no'],\n",
       "       [24, 999, 0, 'no'],\n",
       "       [25, 999, 0, 'no']], dtype=object)"
      ]
     },
     "execution_count": 143,
     "metadata": {},
     "output_type": "execute_result"
    }
   ],
   "source": [
    "df.values"
   ]
  },
  {
   "cell_type": "markdown",
   "id": "0a14fd43-bff6-4ed4-b5a1-709c17c591f8",
   "metadata": {},
   "source": [
    "因为基于 numpy，所以统计计算函数也适用"
   ]
  },
  {
   "cell_type": "code",
   "execution_count": 144,
   "id": "a2769708-9d91-4ba9-a29d-d990076ba38b",
   "metadata": {
    "tags": []
   },
   "outputs": [
    {
     "data": {
      "text/plain": [
       "age          59\n",
       "pdays       999\n",
       "previous      0\n",
       "target       no\n",
       "dtype: object"
      ]
     },
     "execution_count": 144,
     "metadata": {},
     "output_type": "execute_result"
    }
   ],
   "source": [
    "df.max()"
   ]
  },
  {
   "cell_type": "code",
   "execution_count": 145,
   "id": "a0a93e25-b0df-4524-9076-b99184cd8dd5",
   "metadata": {
    "tags": []
   },
   "outputs": [
    {
     "data": {
      "text/html": [
       "<div>\n",
       "<style scoped>\n",
       "    .dataframe tbody tr th:only-of-type {\n",
       "        vertical-align: middle;\n",
       "    }\n",
       "\n",
       "    .dataframe tbody tr th {\n",
       "        vertical-align: top;\n",
       "    }\n",
       "\n",
       "    .dataframe thead th {\n",
       "        text-align: right;\n",
       "    }\n",
       "</style>\n",
       "<table border=\"1\" class=\"dataframe\">\n",
       "  <thead>\n",
       "    <tr style=\"text-align: right;\">\n",
       "      <th></th>\n",
       "      <th>age</th>\n",
       "      <th>pdays</th>\n",
       "      <th>previous</th>\n",
       "      <th>target</th>\n",
       "    </tr>\n",
       "  </thead>\n",
       "  <tbody>\n",
       "    <tr>\n",
       "      <th>0</th>\n",
       "      <td>56</td>\n",
       "      <td>999</td>\n",
       "      <td>0</td>\n",
       "      <td>no</td>\n",
       "    </tr>\n",
       "    <tr>\n",
       "      <th>1</th>\n",
       "      <td>57</td>\n",
       "      <td>999</td>\n",
       "      <td>0</td>\n",
       "      <td>no</td>\n",
       "    </tr>\n",
       "    <tr>\n",
       "      <th>2</th>\n",
       "      <td>37</td>\n",
       "      <td>999</td>\n",
       "      <td>0</td>\n",
       "      <td>no</td>\n",
       "    </tr>\n",
       "    <tr>\n",
       "      <th>3</th>\n",
       "      <td>40</td>\n",
       "      <td>999</td>\n",
       "      <td>0</td>\n",
       "      <td>no</td>\n",
       "    </tr>\n",
       "    <tr>\n",
       "      <th>4</th>\n",
       "      <td>56</td>\n",
       "      <td>999</td>\n",
       "      <td>0</td>\n",
       "      <td>no</td>\n",
       "    </tr>\n",
       "    <tr>\n",
       "      <th>5</th>\n",
       "      <td>45</td>\n",
       "      <td>999</td>\n",
       "      <td>0</td>\n",
       "      <td>no</td>\n",
       "    </tr>\n",
       "    <tr>\n",
       "      <th>6</th>\n",
       "      <td>59</td>\n",
       "      <td>999</td>\n",
       "      <td>0</td>\n",
       "      <td>no</td>\n",
       "    </tr>\n",
       "    <tr>\n",
       "      <th>7</th>\n",
       "      <td>41</td>\n",
       "      <td>999</td>\n",
       "      <td>0</td>\n",
       "      <td>no</td>\n",
       "    </tr>\n",
       "    <tr>\n",
       "      <th>8</th>\n",
       "      <td>24</td>\n",
       "      <td>999</td>\n",
       "      <td>0</td>\n",
       "      <td>no</td>\n",
       "    </tr>\n",
       "    <tr>\n",
       "      <th>9</th>\n",
       "      <td>25</td>\n",
       "      <td>999</td>\n",
       "      <td>0</td>\n",
       "      <td>no</td>\n",
       "    </tr>\n",
       "  </tbody>\n",
       "</table>\n",
       "</div>"
      ],
      "text/plain": [
       "   age  pdays  previous target\n",
       "0   56    999         0     no\n",
       "1   57    999         0     no\n",
       "2   37    999         0     no\n",
       "3   40    999         0     no\n",
       "4   56    999         0     no\n",
       "5   45    999         0     no\n",
       "6   59    999         0     no\n",
       "7   41    999         0     no\n",
       "8   24    999         0     no\n",
       "9   25    999         0     no"
      ]
     },
     "execution_count": 145,
     "metadata": {},
     "output_type": "execute_result"
    }
   ],
   "source": [
    "df"
   ]
  },
  {
   "cell_type": "code",
   "execution_count": 149,
   "id": "4e2bdc1d-e9e2-4d6e-a2b8-9de6f5e477e7",
   "metadata": {
    "tags": []
   },
   "outputs": [
    {
     "data": {
      "text/plain": [
       "age          44.0\n",
       "pdays       999.0\n",
       "previous      0.0\n",
       "dtype: float64"
      ]
     },
     "execution_count": 149,
     "metadata": {},
     "output_type": "execute_result"
    }
   ],
   "source": [
    "df.mean(numeric_only=True)"
   ]
  },
  {
   "cell_type": "code",
   "execution_count": 147,
   "id": "78233fe1-5df9-4fa7-9594-512a35ec4048",
   "metadata": {
    "tags": []
   },
   "outputs": [
    {
     "data": {
      "text/plain": [
       "age         12.987173\n",
       "pdays        0.000000\n",
       "previous     0.000000\n",
       "dtype: float64"
      ]
     },
     "execution_count": 147,
     "metadata": {},
     "output_type": "execute_result"
    }
   ],
   "source": [
    "df.std(numeric_only=True)"
   ]
  },
  {
   "cell_type": "code",
   "execution_count": 151,
   "id": "d6cbcc04-5423-4f81-8cd9-e294922daaaf",
   "metadata": {
    "tags": []
   },
   "outputs": [
    {
     "data": {
      "text/html": [
       "<div>\n",
       "<style scoped>\n",
       "    .dataframe tbody tr th:only-of-type {\n",
       "        vertical-align: middle;\n",
       "    }\n",
       "\n",
       "    .dataframe tbody tr th {\n",
       "        vertical-align: top;\n",
       "    }\n",
       "\n",
       "    .dataframe thead th {\n",
       "        text-align: right;\n",
       "    }\n",
       "</style>\n",
       "<table border=\"1\" class=\"dataframe\">\n",
       "  <thead>\n",
       "    <tr style=\"text-align: right;\">\n",
       "      <th></th>\n",
       "      <th>age</th>\n",
       "      <th>pdays</th>\n",
       "      <th>previous</th>\n",
       "      <th>target</th>\n",
       "    </tr>\n",
       "  </thead>\n",
       "  <tbody>\n",
       "    <tr>\n",
       "      <th>0</th>\n",
       "      <td>56</td>\n",
       "      <td>999</td>\n",
       "      <td>0</td>\n",
       "      <td>no</td>\n",
       "    </tr>\n",
       "    <tr>\n",
       "      <th>1</th>\n",
       "      <td>57</td>\n",
       "      <td>999</td>\n",
       "      <td>0</td>\n",
       "      <td>no</td>\n",
       "    </tr>\n",
       "    <tr>\n",
       "      <th>2</th>\n",
       "      <td>37</td>\n",
       "      <td>999</td>\n",
       "      <td>0</td>\n",
       "      <td>no</td>\n",
       "    </tr>\n",
       "    <tr>\n",
       "      <th>3</th>\n",
       "      <td>40</td>\n",
       "      <td>999</td>\n",
       "      <td>0</td>\n",
       "      <td>no</td>\n",
       "    </tr>\n",
       "    <tr>\n",
       "      <th>4</th>\n",
       "      <td>56</td>\n",
       "      <td>999</td>\n",
       "      <td>0</td>\n",
       "      <td>no</td>\n",
       "    </tr>\n",
       "    <tr>\n",
       "      <th>5</th>\n",
       "      <td>45</td>\n",
       "      <td>999</td>\n",
       "      <td>0</td>\n",
       "      <td>no</td>\n",
       "    </tr>\n",
       "    <tr>\n",
       "      <th>6</th>\n",
       "      <td>59</td>\n",
       "      <td>999</td>\n",
       "      <td>0</td>\n",
       "      <td>no</td>\n",
       "    </tr>\n",
       "    <tr>\n",
       "      <th>7</th>\n",
       "      <td>41</td>\n",
       "      <td>999</td>\n",
       "      <td>0</td>\n",
       "      <td>no</td>\n",
       "    </tr>\n",
       "    <tr>\n",
       "      <th>8</th>\n",
       "      <td>24</td>\n",
       "      <td>999</td>\n",
       "      <td>0</td>\n",
       "      <td>no</td>\n",
       "    </tr>\n",
       "    <tr>\n",
       "      <th>9</th>\n",
       "      <td>25</td>\n",
       "      <td>999</td>\n",
       "      <td>0</td>\n",
       "      <td>no</td>\n",
       "    </tr>\n",
       "  </tbody>\n",
       "</table>\n",
       "</div>"
      ],
      "text/plain": [
       "   age  pdays  previous target\n",
       "0   56    999         0     no\n",
       "1   57    999         0     no\n",
       "2   37    999         0     no\n",
       "3   40    999         0     no\n",
       "4   56    999         0     no\n",
       "5   45    999         0     no\n",
       "6   59    999         0     no\n",
       "7   41    999         0     no\n",
       "8   24    999         0     no\n",
       "9   25    999         0     no"
      ]
     },
     "execution_count": 151,
     "metadata": {},
     "output_type": "execute_result"
    }
   ],
   "source": [
    "df"
   ]
  },
  {
   "cell_type": "code",
   "execution_count": 154,
   "id": "6896f033-fa07-4d67-bf77-73fa2f24b077",
   "metadata": {
    "tags": []
   },
   "outputs": [
    {
     "data": {
      "text/plain": [
       "age\n",
       "56    2\n",
       "57    1\n",
       "37    1\n",
       "40    1\n",
       "45    1\n",
       "59    1\n",
       "41    1\n",
       "24    1\n",
       "25    1\n",
       "Name: count, dtype: int64"
      ]
     },
     "execution_count": 154,
     "metadata": {},
     "output_type": "execute_result"
    }
   ],
   "source": [
    "df.age.value_counts()"
   ]
  },
  {
   "cell_type": "markdown",
   "id": "84a17683-664c-4e2d-a1bb-c815134d2126",
   "metadata": {},
   "source": [
    "---"
   ]
  },
  {
   "cell_type": "code",
   "execution_count": 150,
   "id": "9fe5eeda-1008-4236-a2d7-4da54530dc44",
   "metadata": {
    "tags": []
   },
   "outputs": [
    {
     "data": {
      "text/html": [
       "\n",
       "        <iframe\n",
       "            width=\"1800\"\n",
       "            height=\"1450\"\n",
       "            src=\"Pandas_Cheat_Sheet.pdf\"\n",
       "            frameborder=\"0\"\n",
       "            allowfullscreen\n",
       "            \n",
       "        ></iframe>\n",
       "        "
      ],
      "text/plain": [
       "<IPython.lib.display.IFrame at 0x7fd62c8296f0>"
      ]
     },
     "execution_count": 150,
     "metadata": {},
     "output_type": "execute_result"
    }
   ],
   "source": [
    "from IPython.display import IFrame\n",
    "IFrame('Pandas_Cheat_Sheet.pdf', width=1800, height=1450)"
   ]
  },
  {
   "cell_type": "code",
   "execution_count": null,
   "id": "6ca24da5-2413-43f1-a150-aad5712f6b57",
   "metadata": {},
   "outputs": [],
   "source": []
  }
 ],
 "metadata": {
  "kernelspec": {
   "display_name": "ICTP-AP",
   "language": "python",
   "name": "ictp-ap"
  },
  "language_info": {
   "codemirror_mode": {
    "name": "ipython",
    "version": 3
   },
   "file_extension": ".py",
   "mimetype": "text/x-python",
   "name": "python",
   "nbconvert_exporter": "python",
   "pygments_lexer": "ipython3",
   "version": "3.10.13"
  },
  "toc-autonumbering": true
 },
 "nbformat": 4,
 "nbformat_minor": 5
}
