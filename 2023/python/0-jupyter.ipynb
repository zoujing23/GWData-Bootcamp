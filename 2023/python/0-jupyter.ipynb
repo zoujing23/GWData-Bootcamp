{
 "cells": [
  {
   "cell_type": "markdown",
   "id": "f6c102a1-788a-4145-b11e-ede5f6fcc551",
   "metadata": {},
   "source": [
    "# Jupyter 使用技巧\n",
    "\n",
    "\n",
    "Jupyter Notebook是一个开源的Web应用程序，非常方便开发者创建和共享代码文档。它提供了一个非常友好的环境，用户可以在里面写代码、运行代码、查看结果，并在其中可视化展示数据。集这些优点于一身的它成为了数据科学家眼里人见人爱的工具，它能帮助我们便捷地执行各种任务，如数据清洗、统计建模、构建/训练机器学习模型等。\n",
    "\n",
    "对于初学者，Jupyter Notebook也非常友好。它的一个特点是允许把代码写入独立的cell（代码块）中，然后单独执行。这样做意味着用户可以在测试项目时单独测试特定代码块，无需从头开始执行代码。\n",
    "\n",
    "## 编辑模式与命令模式\n",
    "\n",
    "在 jupyter notebook 中，分为编辑与命令两种模式。实际上就是代码编辑模式与非代码编辑模式：\n",
    "\n",
    "- 编辑模式：选中编辑框（Enter键/鼠标点击输入框），(旧版本jupyter下框线为绿色）\n",
    "\n",
    "    ![](https://vip2.loli.io/2023/11/24/HzUbWLlBvoAuweP.jpg)\n",
    "\n",
    "- 命令模式：不选中编辑框（Esc键/鼠标点击输入框外的空白处），（旧版本jupyter下框线为蓝色）\n",
    "\n",
    "    ![](https://vip2.loli.io/2023/11/24/NKShXFfCwZz8JaV.jpg)\n",
    "\n",
    "注意：在编辑状态下，可以在当前 cell 中写代码，但进行有些 jupyter 的快捷键操作就不管用。在命令模式下，可以进行 jupyter 相关的快捷操作。注意：仅对当前编辑框有效。"
   ]
  },
  {
   "cell_type": "markdown",
   "id": "db7284ec-6df4-44dd-b77d-23f346d01432",
   "metadata": {},
   "source": [
    "## 编辑模式快捷键\n",
    "\n",
    "1. 运行代码(命令模式也可用)\n",
    "\n",
    "| 快捷键 | 作用 |\n",
    "| :--- | :--- |\n",
    "| `Ctrl + Enter` | 运行本代码块 |\n",
    "| `Shift + Enter` | 运行本代码块，选中下一代码块 |\n",
    "| `Alt + Enter` | 运行本代码块，在下面插入一新代码块 |\n",
    "\n",
    "2. 光标跳转\n",
    "\n",
    "| 快捷键 | 作用 |\n",
    "| :--- | :--- |\n",
    "| `Ctrl + Home` | 跳到代码块开头 |\n",
    "| `Ctrl + End` | 跳到代码块结尾 |\n",
    "| `Ctrl + ← 或 →` | 跳到行首/行尾 |\n",
    "\n",
    "3. 提示和格式\n",
    "\n",
    "| 快捷键 | 作用 |\n",
    "| :--- | :--- |\n",
    "| `Tab / Shift + Tab` | (光标所在的函数)查看提示详情/帮助详情 |\n",
    "| `Ctrl + /` | (光标所在的行)注释或取消注释 |\n",
    "| `Tab / Shift+Tab` | (有阴影选中的行)添加/取消缩进 |\n",
    "\n",
    "在输入参数时按 Tab 提示输入（而Shift+Tab是查看提示详情）：\n",
    "\n",
    "![](https://vip2.loli.io/2023/11/24/NDK9Mm7lZaEUBVR.jpg)\n",
    "\n",
    "4. 代码块内的操作\n",
    "\n",
    "| 快捷键 | 作用 |\n",
    "| :--- | :--- |\n",
    "| `Ctrl + A` | 全选代码块内的内容 |\n",
    "| `Ctrl + S` | 保存 |\n",
    "| `Ctrl + Shift +‘-’` | 将代码从光标处分割为两个代码块 |\n",
    "| `Ctrl + U` | 撤销操作 |\n",
    "| `Ctrl + Z` | 撤销操作 | \n",
    "\n",
    "\n",
    "## 命令模式快捷键\n",
    "\n",
    "1. 切换\n",
    "\n",
    "| 快捷键 | 作用 |\n",
    "| :--- | :--- |\n",
    "| `Y` | 把当前 cell 内容转换为代码形式 ]\n",
    "| `M` | 把当前 cell 内容转换为 markdown 形式 |\n",
    "| `R` | 把当前 cell 转入raw状态 |\n",
    "| `H` | 显示快捷键帮助 |\n",
    "| `I` | 中断Notebook内核 |\n",
    "| `0 + 0` | 重启Notebook内核 |\n",
    "\n",
    "2. 单元格选择\n",
    "\n",
    "| 快捷键 | 作用 |\n",
    "| :--- | :--- |\n",
    "| `Shift + L` | 显示/隐藏行号 |\n",
    "| `↑ / K` | 选中上方代码块 |\n",
    "| `↓ / J` | 选中下方代码块 |\n",
    "| `Shift + ↑/↓` | 扩大选中上/下方代码块 |\n",
    "\n",
    "3. 代码块操作\n",
    "\n",
    "| 快捷键 | 作用 |\n",
    "| :--- | :--- |\n",
    "| `A` | 在上方插入新代码块 |\n",
    "| `B` | 在下方插入代码块 |\n",
    "| `X` | 剪切选中的代码块 |\n",
    "| `C` | 复制选中的代码块 |\n",
    "| `Shift + V` | 粘贴到上方代码块 |\n",
    "| `V` | 粘贴到下方代码块 |\n",
    "| `D + D` | 删除选中的代码块 |\n",
    "| `Shift + M` | 合并选中的代码块 |\n"
   ]
  },
  {
   "cell_type": "markdown",
   "id": "cc564372-6abb-49b9-84b5-f4e0f12c4bf3",
   "metadata": {},
   "source": [
    "## Jupyter魔法函数（编辑模式）\n",
    "\n",
    "\n",
    "See more: https://ipython.readthedocs.io/en/stable/interactive/magics.html\n",
    "\n",
    "\n",
    "- `%reset` 删除当前 Jupyter 环境中的所有变量或名称。\n",
    "- `%%timeit` 计算当前 cell 的代码运行时长。\n",
    "- `%time` 计算当前代码行的运行时长。\n",
    "- `%timeit` 计算当前代码行的平均运行时长（即在执行一个语句100000次(默认情况下)后，再给出运行最快3次的平均值。\n",
    "- `%run` 用于运行本地或网络中的 Python 文件，例如本地脚本文件的运行：`%run ex.py`。\n",
    "- `%pwd` 显示 Jupyter 当前的工作空间。\n",
    "- `%matplotlib` 显示绘图结果的风格，默认为 `%matplotlib inline`，是直接将图片显示在浏览器中，如果希望图片单独生成，可以使用 `%matplotlib`。\n",
    "- `%load` 文件加载，例如本地脚本文件的加载：`%load ex.py`。\n",
    "- `%hist` 显示当前 Jupyter 中，所有运行过的历史代码。\n",
    "- `%who` 显示当前 Jupyter 环境中的所有变量或名称。\n",
    "\n",
    "## 运行CMD/Shell命令\n",
    "\n",
    "Jupyter notebook中使用 `!` 命令前的前缀可以运行操作系统的命令。例如，要列出当前目录下的文件，可以使用 `ls` 命令. 你也可以通过在命令后面添加参数来传递参数。例如，要列出特定目录下的文件，可以使用 `-l` 选项以长格式显示文件，并将目录路径指定为参数:"
   ]
  },
  {
   "cell_type": "code",
   "execution_count": 1,
   "id": "8d0261c4-5036-499d-b345-e3edff580231",
   "metadata": {
    "tags": []
   },
   "outputs": [
    {
     "name": "stdout",
     "output_type": "stream",
     "text": [
      "total 2352\n",
      "-rw-r--r-- 1 root root    6959 Nov 29 14:04 0-jupyter.ipynb\n",
      "-rw-r--r-- 1 root root  146829 Nov 29 14:00 1-python.ipynb\n",
      "-rw-r--r-- 1 root root     768 Nov 29 06:39 2-numpy_pandas.ipynb\n",
      "-rw-r--r-- 1 root root    5349 Nov 29 10:00 ShangHai.txt\n",
      "-rw-r--r-- 1 root root 1162059 Nov 29 10:00 python-cheatsheet1.png\n",
      "-rw-r--r-- 1 root root 1075965 Nov 29 10:00 python-cheatsheet2.png\n"
     ]
    }
   ],
   "source": [
    "!ls -l"
   ]
  },
  {
   "cell_type": "markdown",
   "id": "bc02588e-430f-49bf-be22-fbfb3faccfef",
   "metadata": {},
   "source": [
    "你可以使用这种技术在Jupyter notebook中运行任何shell命令，只要该命令在运行notebook的系统中可用。"
   ]
  },
  {
   "cell_type": "code",
   "execution_count": null,
   "id": "a524950d-410e-4deb-876e-4727da2028f5",
   "metadata": {},
   "outputs": [],
   "source": []
  }
 ],
 "metadata": {
  "kernelspec": {
   "display_name": "Python 3 (ipykernel)",
   "language": "python",
   "name": "python3"
  },
  "language_info": {
   "codemirror_mode": {
    "name": "ipython",
    "version": 3
   },
   "file_extension": ".py",
   "mimetype": "text/x-python",
   "name": "python",
   "nbconvert_exporter": "python",
   "pygments_lexer": "ipython3",
   "version": "3.10.13"
  },
  "toc-autonumbering": true,
  "toc-showcode": false
 },
 "nbformat": 4,
 "nbformat_minor": 5
}
